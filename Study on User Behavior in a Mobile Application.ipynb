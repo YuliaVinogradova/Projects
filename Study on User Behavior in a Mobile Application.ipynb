{
 "cells": [
  {
   "cell_type": "markdown",
   "metadata": {},
   "source": [
    "# Иследование поведения пользователей мобильного приложения\n",
    " \n",
    "На данных стартапа, который продаёт продукты питания, разобраться, как ведут себя пользователи вашего мобильного приложения. \n",
    "\n",
    "**Цель исследования**:\n",
    "1. Узнать, как пользователи доходят до покупки. Сколько пользователей доходит до покупки, а сколько — «застревает» на предыдущих шагах? На каких именно?\n",
    "2. Выяснить, какой шрифт лучше: старый или новый.\n",
    "\n",
    "**Ход исследования**\n",
    "\n",
    "Данные находятся в файле `/datasets/logs_exp.csv`. О качестве данных ничего не известно. Поэтому понадобится обзор и подготовка данных. \n",
    "\n",
    "Ход исследования далее заключается в следующем. Изучить воронку продаж. Узнать, как пользователи доходят до покупки. Сколько пользователей доходит до покупки, а сколько — «застревает» на предыдущих шагах? На каких именно?\n",
    "\n",
    "Иследовать результаты A/A/B-эксперимента. Дизайнеры захотели поменять шрифты во всём приложении, а менеджеры испугались, что пользователям будет непривычно. Договорились принять решение по результатам A/A/B-теста. Пользователей разбили на 3 группы: 2 контрольные со старыми шрифтами и одну экспериментальную — с новыми. Выяснить, какой шрифт лучше. Сравнение контрольных групп позволит также понять, сколько времени и данных потребуется для дальнейших тестов.\n",
    "\n",
    "Таким образом, исследование пройдёт в три этапа:\n",
    " 1. Обзор данных.\n",
    " 2. Подготовка данных.\n",
    " 3. Изучение и проверка данных.\n",
    " 4. Изучение воронки событий.\n",
    " 5. Изучение результатов эксперимента.\n",
    "\n",
    "**Описание данных**\n",
    "\n",
    "Каждая запись в логе — это действие пользователя, или событие.\n",
    "\n",
    "* *EventName* — название события;\n",
    "* *DeviceIDHash* — уникальный идентификатор пользователя;\n",
    "* *EventTimestamp* — время события;\n",
    "* *ExpId* — номер эксперимента: 246 и 247 — контрольные группы, а 248 — экспериментальная."
   ]
  },
  {
   "cell_type": "markdown",
   "metadata": {},
   "source": [
    "### шаг. Изучение общей информации"
   ]
  },
  {
   "cell_type": "code",
   "execution_count": 118,
   "metadata": {},
   "outputs": [],
   "source": [
    "import pandas as pd\n",
    "import matplotlib.pyplot as plt\n",
    "import plotly.express as px\n",
    "import numpy as np\n",
    "from scipy import stats as st\n",
    "import math as mth"
   ]
  },
  {
   "cell_type": "code",
   "execution_count": 119,
   "metadata": {},
   "outputs": [
    {
     "data": {
      "text/html": [
       "<div>\n",
       "<style scoped>\n",
       "    .dataframe tbody tr th:only-of-type {\n",
       "        vertical-align: middle;\n",
       "    }\n",
       "\n",
       "    .dataframe tbody tr th {\n",
       "        vertical-align: top;\n",
       "    }\n",
       "\n",
       "    .dataframe thead th {\n",
       "        text-align: right;\n",
       "    }\n",
       "</style>\n",
       "<table border=\"1\" class=\"dataframe\">\n",
       "  <thead>\n",
       "    <tr style=\"text-align: right;\">\n",
       "      <th></th>\n",
       "      <th>EventName</th>\n",
       "      <th>DeviceIDHash</th>\n",
       "      <th>EventTimestamp</th>\n",
       "      <th>ExpId</th>\n",
       "    </tr>\n",
       "  </thead>\n",
       "  <tbody>\n",
       "    <tr>\n",
       "      <th>0</th>\n",
       "      <td>MainScreenAppear</td>\n",
       "      <td>4575588528974610257</td>\n",
       "      <td>1564029816</td>\n",
       "      <td>246</td>\n",
       "    </tr>\n",
       "    <tr>\n",
       "      <th>1</th>\n",
       "      <td>MainScreenAppear</td>\n",
       "      <td>7416695313311560658</td>\n",
       "      <td>1564053102</td>\n",
       "      <td>246</td>\n",
       "    </tr>\n",
       "    <tr>\n",
       "      <th>2</th>\n",
       "      <td>PaymentScreenSuccessful</td>\n",
       "      <td>3518123091307005509</td>\n",
       "      <td>1564054127</td>\n",
       "      <td>248</td>\n",
       "    </tr>\n",
       "    <tr>\n",
       "      <th>3</th>\n",
       "      <td>CartScreenAppear</td>\n",
       "      <td>3518123091307005509</td>\n",
       "      <td>1564054127</td>\n",
       "      <td>248</td>\n",
       "    </tr>\n",
       "    <tr>\n",
       "      <th>4</th>\n",
       "      <td>PaymentScreenSuccessful</td>\n",
       "      <td>6217807653094995999</td>\n",
       "      <td>1564055322</td>\n",
       "      <td>248</td>\n",
       "    </tr>\n",
       "  </tbody>\n",
       "</table>\n",
       "</div>"
      ],
      "text/plain": [
       "                 EventName         DeviceIDHash  EventTimestamp  ExpId\n",
       "0         MainScreenAppear  4575588528974610257      1564029816    246\n",
       "1         MainScreenAppear  7416695313311560658      1564053102    246\n",
       "2  PaymentScreenSuccessful  3518123091307005509      1564054127    248\n",
       "3         CartScreenAppear  3518123091307005509      1564054127    248\n",
       "4  PaymentScreenSuccessful  6217807653094995999      1564055322    248"
      ]
     },
     "execution_count": 119,
     "metadata": {},
     "output_type": "execute_result"
    }
   ],
   "source": [
    "# чтение файла\n",
    "path = 'C:\\\\Users\\\\Kirill\\\\Documents\\\\GitHub\\\\Projects\\\\'\n",
    "data = pd.read_csv(path + 'logs_exp.csv', sep='\\t')\n",
    "data.head()"
   ]
  },
  {
   "cell_type": "markdown",
   "metadata": {},
   "source": [
    "### шаг.  Подготовка данных"
   ]
  },
  {
   "cell_type": "code",
   "execution_count": 120,
   "metadata": {},
   "outputs": [],
   "source": [
    "# меняем названия столбцов\n",
    "data.columns = ['event_name', 'device_id', 'datetime', 'exp_id']"
   ]
  },
  {
   "cell_type": "code",
   "execution_count": 121,
   "metadata": {},
   "outputs": [
    {
     "name": "stdout",
     "output_type": "stream",
     "text": [
      "<class 'pandas.core.frame.DataFrame'>\n",
      "RangeIndex: 244126 entries, 0 to 244125\n",
      "Data columns (total 4 columns):\n",
      " #   Column      Non-Null Count   Dtype \n",
      "---  ------      --------------   ----- \n",
      " 0   event_name  244126 non-null  object\n",
      " 1   device_id   244126 non-null  int64 \n",
      " 2   datetime    244126 non-null  int64 \n",
      " 3   exp_id      244126 non-null  int64 \n",
      "dtypes: int64(3), object(1)\n",
      "memory usage: 7.5+ MB\n"
     ]
    }
   ],
   "source": [
    "data.info()"
   ]
  },
  {
   "cell_type": "code",
   "execution_count": 122,
   "metadata": {},
   "outputs": [],
   "source": [
    "# меняем тип данных на нужный\n",
    "data['datetime'] = pd.to_datetime(data['datetime'], unit='s')\n",
    "data['device_id'] = data['device_id'].astype(str)\n",
    "data['exp_id'] = data['exp_id'].astype(str)\n",
    "\n",
    "# добавляем столбец дат\n",
    "data['date'] = data['datetime'].dt.date"
   ]
  },
  {
   "cell_type": "code",
   "execution_count": 123,
   "metadata": {
    "scrolled": true
   },
   "outputs": [
    {
     "name": "stdout",
     "output_type": "stream",
     "text": [
      "413\n",
      "0.16917493425526162\n"
     ]
    }
   ],
   "source": [
    "# Проверим на наличие дубликатов\n",
    "print(data.duplicated().sum())\n",
    "# Считаем долю дубликатов\n",
    "print(data.duplicated().sum()/data.shape[0]*100)"
   ]
  },
  {
   "cell_type": "markdown",
   "metadata": {},
   "source": [
    "Меньше 1 % дубликатов. Удалим их"
   ]
  },
  {
   "cell_type": "code",
   "execution_count": 124,
   "metadata": {},
   "outputs": [
    {
     "data": {
      "text/plain": [
       "0"
      ]
     },
     "execution_count": 124,
     "metadata": {},
     "output_type": "execute_result"
    }
   ],
   "source": [
    "# Удаляем дубликаты\n",
    "data = data.drop_duplicates()\n",
    "# Проверка\n",
    "data.duplicated().sum()"
   ]
  },
  {
   "cell_type": "code",
   "execution_count": 125,
   "metadata": {
    "scrolled": true
   },
   "outputs": [
    {
     "data": {
      "text/plain": [
       "exp_id\n",
       "1         7551\n",
       "Name: count, dtype: int64"
      ]
     },
     "execution_count": 125,
     "metadata": {},
     "output_type": "execute_result"
    }
   ],
   "source": [
    "# Проверим пересечения пользователей в группах \n",
    "data.groupby('device_id').agg({'exp_id': 'nunique'}).value_counts()"
   ]
  },
  {
   "cell_type": "markdown",
   "metadata": {},
   "source": [
    "Пересечений нет."
   ]
  },
  {
   "cell_type": "markdown",
   "metadata": {},
   "source": [
    "### шаг.  Изучение и проврка данных"
   ]
  },
  {
   "cell_type": "markdown",
   "metadata": {},
   "source": [
    "#### Сколько всего событий в логе?"
   ]
  },
  {
   "cell_type": "code",
   "execution_count": 126,
   "metadata": {},
   "outputs": [
    {
     "name": "stdout",
     "output_type": "stream",
     "text": [
      "Всего 243713 событий в логе\n",
      "Всего 5 уникалных событий в логе\n"
     ]
    },
    {
     "data": {
      "text/plain": [
       "event_name\n",
       "MainScreenAppear           119101\n",
       "OffersScreenAppear          46808\n",
       "CartScreenAppear            42668\n",
       "PaymentScreenSuccessful     34118\n",
       "Tutorial                     1018\n",
       "Name: count, dtype: int64"
      ]
     },
     "execution_count": 126,
     "metadata": {},
     "output_type": "execute_result"
    }
   ],
   "source": [
    "print('Всего {} событий в логе'.format(data['event_name'].count()))\n",
    "\n",
    "print('Всего {} уникалных событий в логе'.format(len(data['event_name'].value_counts()))) \n",
    "data['event_name'].value_counts()"
   ]
  },
  {
   "cell_type": "markdown",
   "metadata": {},
   "source": [
    "#### Сколько всего пользователей в логе?"
   ]
  },
  {
   "cell_type": "code",
   "execution_count": 127,
   "metadata": {},
   "outputs": [
    {
     "data": {
      "text/plain": [
       "'Всего 7551 пользователь в логе'"
      ]
     },
     "execution_count": 127,
     "metadata": {},
     "output_type": "execute_result"
    }
   ],
   "source": [
    "'Всего {} пользователь в логе'.format(len(data['device_id'].value_counts())) "
   ]
  },
  {
   "cell_type": "markdown",
   "metadata": {},
   "source": [
    "#### Сколько в среднем событий приходится на пользователя?"
   ]
  },
  {
   "cell_type": "code",
   "execution_count": 128,
   "metadata": {},
   "outputs": [
    {
     "data": {
      "text/plain": [
       "'В среднем 32 события приходится на одного пользователя'"
      ]
     },
     "execution_count": 128,
     "metadata": {},
     "output_type": "execute_result"
    }
   ],
   "source": [
    "'В среднем {} события приходится на одного пользователя'.format(round(data.groupby('device_id', as_index=False).agg({'event_name': 'count'})['event_name'].mean()))"
   ]
  },
  {
   "cell_type": "code",
   "execution_count": 129,
   "metadata": {},
   "outputs": [
    {
     "data": {
      "text/plain": [
       "'Медиана - 20 событий'"
      ]
     },
     "execution_count": 129,
     "metadata": {},
     "output_type": "execute_result"
    }
   ],
   "source": [
    "'Медиана - {} событий'.format(round(data.groupby('device_id', as_index=False).agg({'event_name': 'count'})['event_name'].median()))"
   ]
  },
  {
   "cell_type": "markdown",
   "metadata": {},
   "source": [
    "Вывод: имеются аномально большие значения количества событий у некоторых пользователей"
   ]
  },
  {
   "cell_type": "markdown",
   "metadata": {},
   "source": [
    "#### Данными за какой период мы располагаем? "
   ]
  },
  {
   "cell_type": "code",
   "execution_count": 130,
   "metadata": {},
   "outputs": [
    {
     "name": "stdout",
     "output_type": "stream",
     "text": [
      "Минимальная и максимальная даты 2019-07-25 и 2019-08-07 соответственно\n"
     ]
    }
   ],
   "source": [
    "# смотрим период \n",
    "print('Минимальная и максимальная даты {} и {} соответственно'.format(data['date'].min(), data['date'].max()))"
   ]
  },
  {
   "cell_type": "code",
   "execution_count": 131,
   "metadata": {},
   "outputs": [
    {
     "data": {
      "text/plain": [
       "datetime.timedelta(days=13)"
      ]
     },
     "execution_count": 131,
     "metadata": {},
     "output_type": "execute_result"
    }
   ],
   "source": [
    "data['date'].max() - data['date'].min() "
   ]
  },
  {
   "cell_type": "code",
   "execution_count": 132,
   "metadata": {
    "scrolled": false
   },
   "outputs": [
    {
     "data": {
      "image/png": "[encoded data removed]",
      "text/plain": [
       "<Figure size 700x500 with 1 Axes>"
      ]
     },
     "metadata": {},
     "output_type": "display_data"
    }
   ],
   "source": [
    "# Создаем объект Figure и добавляем график\n",
    "fig = plt.figure()\n",
    "ax = fig.add_subplot(111)\n",
    "\n",
    "data['datetime'].hist(bins = 13)\n",
    "\n",
    "# Добавляем названия осей\n",
    "plt.title('Гистограмма по дате и времени')\n",
    "plt.xlabel('Дата и время')\n",
    "plt.ylabel('Количество')\n",
    "plt.xticks(rotation=45) \n",
    "# Отображаем гистограмму\n",
    "\n",
    "# Изменяем размер фигуры\n",
    "fig.set_size_inches(7, 5)\n",
    "\n",
    "# Отображаем гистограмму\n",
    "plt.show()"
   ]
  },
  {
   "cell_type": "markdown",
   "metadata": {},
   "source": [
    "По графику видим, что основная часть событий была совершена с 1 по 7 августа 2019 года. Посмотрим график именно за этот период."
   ]
  },
  {
   "cell_type": "code",
   "execution_count": 133,
   "metadata": {},
   "outputs": [
    {
     "data": {
      "image/png": "[encoded data removed]",
      "text/plain": [
       "<Figure size 700x500 with 1 Axes>"
      ]
     },
     "metadata": {},
     "output_type": "display_data"
    }
   ],
   "source": [
    "# Создаем объект Figure и добавляем график\n",
    "fig = plt.figure()\n",
    "ax = fig.add_subplot(111)\n",
    "\n",
    "data_new = data[data['datetime']>='2019-08-01']\n",
    "data_new['datetime'].hist(bins = 7)\n",
    "plt.ylim (0, 40000)\n",
    "\n",
    "# Добавляем названия осей\n",
    "plt.title('Гистограмма по дате и времени')\n",
    "plt.xlabel('Дата и время')\n",
    "plt.ylabel('Количество')\n",
    "plt.xticks(rotation=45) \n",
    "# Отображаем гистограмму\n",
    "\n",
    "# Изменяем размер фигуры\n",
    "fig.set_size_inches(7, 5)\n",
    "\n",
    "# Отображаем гистограмму\n",
    "plt.show()"
   ]
  },
  {
   "cell_type": "markdown",
   "metadata": {},
   "source": [
    "С 1 августа данные полные. Мы отбросили более старые данные и будем дальше работать с датафреймом data_new."
   ]
  },
  {
   "cell_type": "markdown",
   "metadata": {},
   "source": [
    "#### Смотрим много ли событий и пользователей мы потеряли, отбросив старые данные."
   ]
  },
  {
   "cell_type": "code",
   "execution_count": 134,
   "metadata": {
    "scrolled": true
   },
   "outputs": [
    {
     "name": "stdout",
     "output_type": "stream",
     "text": [
      "Отбросив старые данные, мы потеряли 2826 событий\n",
      "Это составляет 1.16% от всех данных\n"
     ]
    }
   ],
   "source": [
    "print('Отбросив старые данные, мы потеряли {} событий'.format(data['event_name'].count() - data_new['event_name'].count()))\n",
    "print('Это составляет {}% от всех данных'.format(round((data['event_name'].count() - data_new['event_name'].count())/data['event_name'].count()*100, 3)))"
   ]
  },
  {
   "cell_type": "code",
   "execution_count": 135,
   "metadata": {},
   "outputs": [
    {
     "name": "stdout",
     "output_type": "stream",
     "text": [
      "Отбросив старые данные, мы потеряли 17 пользователей\n",
      "Это составляет 0.225% от всех данных\n"
     ]
    }
   ],
   "source": [
    "print('Отбросив старые данные, мы потеряли {} пользователей'.format(len(data['device_id'].value_counts()) - len(data_new['device_id'].value_counts())))\n",
    "print('Это составляет {}% от всех данных'.format(round((len(data['device_id'].value_counts()) - len(data_new['device_id'].value_counts()))/len(data['device_id'].value_counts())*100, 3)))"
   ]
  },
  {
   "cell_type": "markdown",
   "metadata": {},
   "source": [
    "#### Проверяем,  есть ли у нас  пользователи из всех трёх экспериментальных групп."
   ]
  },
  {
   "cell_type": "code",
   "execution_count": 136,
   "metadata": {},
   "outputs": [
    {
     "name": "stdout",
     "output_type": "stream",
     "text": [
      "exp_id\n",
      "248    85582\n",
      "246    80181\n",
      "247    77950\n",
      "Name: count, dtype: int64\n"
     ]
    },
    {
     "data": {
      "text/plain": [
       "exp_id\n",
       "248    84563\n",
       "246    79302\n",
       "247    77022\n",
       "Name: count, dtype: int64"
      ]
     },
     "execution_count": 136,
     "metadata": {},
     "output_type": "execute_result"
    }
   ],
   "source": [
    "print(data['exp_id'].value_counts())\n",
    "data_new['exp_id'].value_counts()"
   ]
  },
  {
   "cell_type": "markdown",
   "metadata": {},
   "source": [
    "Количество пользователей в каждой группе уменьшилось, но у нас есть пользователи из всех трёх экспериментальных групп."
   ]
  },
  {
   "cell_type": "markdown",
   "metadata": {},
   "source": [
    "**Выводы 3 шага**:\n",
    "\n",
    "* Всего в логе 243713 событий, уникалных событий - 5. Всего в логе 7551 пользователь.\n",
    "* В среднем 32 события приходится на одного пользователя. Но медиана - 20 событий. Это говорит, что в данных имеются аномально большие значения количества событий у некоторых пользователей.\n",
    "* Располагаем данными за период с 2019-07-25 по 2019-08-07.\n",
    "* Основная часть событий была совершена с 1 по 7 августа 2019 года, поэтому мы отбросили более старые данные и решили, что будем дальше работать с датафреймом data_new. Отбросив старые данные, мы потеряли 2826 событий. Это составляет 1.16% от всех данных. Отбросив старые данные, мы потеряли 17 пользователей. Это составляет 0.225% от всех данных.\n",
    "* После количество пользователей в каждой группе уменьшилось, но у нас есть пользователи из всех трёх экспериментальных групп."
   ]
  },
  {
   "cell_type": "markdown",
   "metadata": {},
   "source": [
    "### шаг.  Изучаем воронку событий"
   ]
  },
  {
   "cell_type": "markdown",
   "metadata": {},
   "source": [
    "#### Смотрим, какие события есть в логах, как часто они встречаются. Отсортируйте события по частоте."
   ]
  },
  {
   "cell_type": "code",
   "execution_count": 137,
   "metadata": {},
   "outputs": [
    {
     "data": {
      "text/plain": [
       "event_name\n",
       "MainScreenAppear           117328\n",
       "OffersScreenAppear          46333\n",
       "CartScreenAppear            42303\n",
       "PaymentScreenSuccessful     33918\n",
       "Tutorial                     1005\n",
       "Name: count, dtype: int64"
      ]
     },
     "execution_count": 137,
     "metadata": {},
     "output_type": "execute_result"
    }
   ],
   "source": [
    "data_new['event_name'].value_counts()"
   ]
  },
  {
   "cell_type": "markdown",
   "metadata": {},
   "source": [
    "Чаще в логах встречется событие MainScreenAppear, т.е. появление главного экрана, реже всего - руководство использования. \n",
    "\n",
    "Переведем на русский:\n",
    "\n",
    "Появление главного экрана -> Появление экрана предложений -> Появление экрана корзины -> Экран оплаты успешно -> Руководство"
   ]
  },
  {
   "cell_type": "markdown",
   "metadata": {},
   "source": [
    "#### Считаем, сколько пользователей совершали каждое из этих событий. Считаем долю пользователей, которые хоть раз совершали событие."
   ]
  },
  {
   "cell_type": "code",
   "execution_count": 138,
   "metadata": {},
   "outputs": [
    {
     "data": {
      "text/html": [
       "<div>\n",
       "<style scoped>\n",
       "    .dataframe tbody tr th:only-of-type {\n",
       "        vertical-align: middle;\n",
       "    }\n",
       "\n",
       "    .dataframe tbody tr th {\n",
       "        vertical-align: top;\n",
       "    }\n",
       "\n",
       "    .dataframe thead th {\n",
       "        text-align: right;\n",
       "    }\n",
       "</style>\n",
       "<table border=\"1\" class=\"dataframe\">\n",
       "  <thead>\n",
       "    <tr style=\"text-align: right;\">\n",
       "      <th></th>\n",
       "      <th>event_name</th>\n",
       "      <th>device_count</th>\n",
       "    </tr>\n",
       "  </thead>\n",
       "  <tbody>\n",
       "    <tr>\n",
       "      <th>1</th>\n",
       "      <td>MainScreenAppear</td>\n",
       "      <td>7419</td>\n",
       "    </tr>\n",
       "    <tr>\n",
       "      <th>2</th>\n",
       "      <td>OffersScreenAppear</td>\n",
       "      <td>4593</td>\n",
       "    </tr>\n",
       "    <tr>\n",
       "      <th>0</th>\n",
       "      <td>CartScreenAppear</td>\n",
       "      <td>3734</td>\n",
       "    </tr>\n",
       "    <tr>\n",
       "      <th>3</th>\n",
       "      <td>PaymentScreenSuccessful</td>\n",
       "      <td>3539</td>\n",
       "    </tr>\n",
       "    <tr>\n",
       "      <th>4</th>\n",
       "      <td>Tutorial</td>\n",
       "      <td>840</td>\n",
       "    </tr>\n",
       "  </tbody>\n",
       "</table>\n",
       "</div>"
      ],
      "text/plain": [
       "                event_name  device_count\n",
       "1         MainScreenAppear          7419\n",
       "2       OffersScreenAppear          4593\n",
       "0         CartScreenAppear          3734\n",
       "3  PaymentScreenSuccessful          3539\n",
       "4                 Tutorial           840"
      ]
     },
     "execution_count": 138,
     "metadata": {},
     "output_type": "execute_result"
    }
   ],
   "source": [
    "event = data_new.groupby('event_name', as_index=False).agg({'device_id': 'nunique'}).sort_values(by='device_id', ascending=False)\n",
    "event = event.rename(columns = {'device_id':'device_count'})\n",
    "event"
   ]
  },
  {
   "cell_type": "code",
   "execution_count": 139,
   "metadata": {},
   "outputs": [
    {
     "data": {
      "text/html": [
       "<div>\n",
       "<style scoped>\n",
       "    .dataframe tbody tr th:only-of-type {\n",
       "        vertical-align: middle;\n",
       "    }\n",
       "\n",
       "    .dataframe tbody tr th {\n",
       "        vertical-align: top;\n",
       "    }\n",
       "\n",
       "    .dataframe thead th {\n",
       "        text-align: right;\n",
       "    }\n",
       "</style>\n",
       "<table border=\"1\" class=\"dataframe\">\n",
       "  <thead>\n",
       "    <tr style=\"text-align: right;\">\n",
       "      <th></th>\n",
       "      <th>event_name</th>\n",
       "      <th>device_count</th>\n",
       "      <th>share</th>\n",
       "    </tr>\n",
       "  </thead>\n",
       "  <tbody>\n",
       "    <tr>\n",
       "      <th>1</th>\n",
       "      <td>MainScreenAppear</td>\n",
       "      <td>7419</td>\n",
       "      <td>98.47</td>\n",
       "    </tr>\n",
       "    <tr>\n",
       "      <th>2</th>\n",
       "      <td>OffersScreenAppear</td>\n",
       "      <td>4593</td>\n",
       "      <td>60.96</td>\n",
       "    </tr>\n",
       "    <tr>\n",
       "      <th>0</th>\n",
       "      <td>CartScreenAppear</td>\n",
       "      <td>3734</td>\n",
       "      <td>49.56</td>\n",
       "    </tr>\n",
       "    <tr>\n",
       "      <th>3</th>\n",
       "      <td>PaymentScreenSuccessful</td>\n",
       "      <td>3539</td>\n",
       "      <td>46.97</td>\n",
       "    </tr>\n",
       "    <tr>\n",
       "      <th>4</th>\n",
       "      <td>Tutorial</td>\n",
       "      <td>840</td>\n",
       "      <td>11.15</td>\n",
       "    </tr>\n",
       "  </tbody>\n",
       "</table>\n",
       "</div>"
      ],
      "text/plain": [
       "                event_name  device_count  share\n",
       "1         MainScreenAppear          7419  98.47\n",
       "2       OffersScreenAppear          4593  60.96\n",
       "0         CartScreenAppear          3734  49.56\n",
       "3  PaymentScreenSuccessful          3539  46.97\n",
       "4                 Tutorial           840  11.15"
      ]
     },
     "execution_count": 139,
     "metadata": {},
     "output_type": "execute_result"
    }
   ],
   "source": [
    "# считаем долю пользователей, которые хоть раз совершали событие\n",
    "event['share'] = round(event['device_count']/data_new['device_id'].nunique()*100, 2)\n",
    "event"
   ]
  },
  {
   "cell_type": "markdown",
   "metadata": {},
   "source": [
    "#### Предпологаем, в каком порядке происходят события. "
   ]
  },
  {
   "cell_type": "markdown",
   "metadata": {},
   "source": [
    "Исходя из полученных данных, Tutorial или Обучение пользователя не являются обязательными для всех пользователей (кто хочет, тот проходит). Уберем Tutorial из воронки\n",
    "\n",
    "Скорее всего порядок событий следующий:\n",
    "\n",
    "`Появление главного экрана -> Появление экрана предложений -> Появление экрана корзины -> Экран оплаты успешно`"
   ]
  },
  {
   "cell_type": "code",
   "execution_count": 140,
   "metadata": {
    "scrolled": true
   },
   "outputs": [
    {
     "data": {
      "text/html": [
       "<div>\n",
       "<style scoped>\n",
       "    .dataframe tbody tr th:only-of-type {\n",
       "        vertical-align: middle;\n",
       "    }\n",
       "\n",
       "    .dataframe tbody tr th {\n",
       "        vertical-align: top;\n",
       "    }\n",
       "\n",
       "    .dataframe thead th {\n",
       "        text-align: right;\n",
       "    }\n",
       "</style>\n",
       "<table border=\"1\" class=\"dataframe\">\n",
       "  <thead>\n",
       "    <tr style=\"text-align: right;\">\n",
       "      <th></th>\n",
       "      <th>event_name</th>\n",
       "      <th>device_count</th>\n",
       "      <th>share</th>\n",
       "    </tr>\n",
       "  </thead>\n",
       "  <tbody>\n",
       "    <tr>\n",
       "      <th>1</th>\n",
       "      <td>MainScreenAppear</td>\n",
       "      <td>7419</td>\n",
       "      <td>98.47</td>\n",
       "    </tr>\n",
       "    <tr>\n",
       "      <th>2</th>\n",
       "      <td>OffersScreenAppear</td>\n",
       "      <td>4593</td>\n",
       "      <td>60.96</td>\n",
       "    </tr>\n",
       "    <tr>\n",
       "      <th>0</th>\n",
       "      <td>CartScreenAppear</td>\n",
       "      <td>3734</td>\n",
       "      <td>49.56</td>\n",
       "    </tr>\n",
       "    <tr>\n",
       "      <th>3</th>\n",
       "      <td>PaymentScreenSuccessful</td>\n",
       "      <td>3539</td>\n",
       "      <td>46.97</td>\n",
       "    </tr>\n",
       "  </tbody>\n",
       "</table>\n",
       "</div>"
      ],
      "text/plain": [
       "                event_name  device_count  share\n",
       "1         MainScreenAppear          7419  98.47\n",
       "2       OffersScreenAppear          4593  60.96\n",
       "0         CartScreenAppear          3734  49.56\n",
       "3  PaymentScreenSuccessful          3539  46.97"
      ]
     },
     "execution_count": 140,
     "metadata": {},
     "output_type": "execute_result"
    }
   ],
   "source": [
    "# Убераем Tutorial из воронки\n",
    "event = event.query(\"event_name != 'Tutorial'\") \n",
    "event"
   ]
  },
  {
   "cell_type": "markdown",
   "metadata": {},
   "source": [
    "#### По воронке событий считаем, какая доля пользователей проходит на следующий шаг воронки (от числа пользователей на предыдущем). "
   ]
  },
  {
   "cell_type": "code",
   "execution_count": 141,
   "metadata": {},
   "outputs": [
    {
     "name": "stderr",
     "output_type": "stream",
     "text": [
      "C:\\Users\\Kirill\\AppData\\Local\\Temp\\ipykernel_1484\\2653577998.py:3: SettingWithCopyWarning:\n",
      "\n",
      "\n",
      "A value is trying to be set on a copy of a slice from a DataFrame.\n",
      "Try using .loc[row_indexer,col_indexer] = value instead\n",
      "\n",
      "See the caveats in the documentation: https://pandas.pydata.org/pandas-docs/stable/user_guide/indexing.html#returning-a-view-versus-a-copy\n",
      "\n"
     ]
    },
    {
     "data": {
      "text/html": [
       "<div>\n",
       "<style scoped>\n",
       "    .dataframe tbody tr th:only-of-type {\n",
       "        vertical-align: middle;\n",
       "    }\n",
       "\n",
       "    .dataframe tbody tr th {\n",
       "        vertical-align: top;\n",
       "    }\n",
       "\n",
       "    .dataframe thead th {\n",
       "        text-align: right;\n",
       "    }\n",
       "</style>\n",
       "<table border=\"1\" class=\"dataframe\">\n",
       "  <thead>\n",
       "    <tr style=\"text-align: right;\">\n",
       "      <th></th>\n",
       "      <th>event_name</th>\n",
       "      <th>device_count</th>\n",
       "      <th>share</th>\n",
       "      <th>share_next_step</th>\n",
       "    </tr>\n",
       "  </thead>\n",
       "  <tbody>\n",
       "    <tr>\n",
       "      <th>0</th>\n",
       "      <td>MainScreenAppear</td>\n",
       "      <td>7419</td>\n",
       "      <td>98.47</td>\n",
       "      <td>NaN</td>\n",
       "    </tr>\n",
       "    <tr>\n",
       "      <th>1</th>\n",
       "      <td>OffersScreenAppear</td>\n",
       "      <td>4593</td>\n",
       "      <td>60.96</td>\n",
       "      <td>61.91</td>\n",
       "    </tr>\n",
       "    <tr>\n",
       "      <th>2</th>\n",
       "      <td>CartScreenAppear</td>\n",
       "      <td>3734</td>\n",
       "      <td>49.56</td>\n",
       "      <td>81.30</td>\n",
       "    </tr>\n",
       "    <tr>\n",
       "      <th>3</th>\n",
       "      <td>PaymentScreenSuccessful</td>\n",
       "      <td>3539</td>\n",
       "      <td>46.97</td>\n",
       "      <td>94.78</td>\n",
       "    </tr>\n",
       "  </tbody>\n",
       "</table>\n",
       "</div>"
      ],
      "text/plain": [
       "                event_name  device_count  share  share_next_step\n",
       "0         MainScreenAppear          7419  98.47              NaN\n",
       "1       OffersScreenAppear          4593  60.96            61.91\n",
       "2         CartScreenAppear          3734  49.56            81.30\n",
       "3  PaymentScreenSuccessful          3539  46.97            94.78"
      ]
     },
     "execution_count": 141,
     "metadata": {},
     "output_type": "execute_result"
    }
   ],
   "source": [
    "# находим долю\n",
    "\n",
    "event.loc[:, 'share_next_step'] = round(event['device_count'] / event['device_count'].shift(1) * 100, 2)\n",
    "\n",
    "event = event.sort_values(by='device_count', ascending=False).reset_index(drop=True)\n",
    "event"
   ]
  },
  {
   "cell_type": "code",
   "execution_count": 142,
   "metadata": {},
   "outputs": [
    {
     "data": {
      "application/vnd.plotly.v1+json": {
       "config": {
        "plotlyServerURL": "https://plot.ly"
       },
       "data": [
        {
         "hovertemplate": "event_name=%{x}<br>device_count=%{y}<extra></extra>",
         "legendgroup": "",
         "marker": {
          "color": "#636efa"
         },
         "name": "",
         "orientation": "v",
         "showlegend": false,
         "type": "funnel",
         "x": [
          "MainScreenAppear",
          "OffersScreenAppear",
          "CartScreenAppear",
          "PaymentScreenSuccessful"
         ],
         "xaxis": "x",
         "y": [
          7419,
          4593,
          3734,
          3539
         ],
         "yaxis": "y"
        }
       ],
       "layout": {
        "legend": {
         "tracegroupgap": 0
        },
        "margin": {
         "t": 60
        },
        "template": {
         "data": {
          "bar": [
           {
            "error_x": {
             "color": "#2a3f5f"
            },
            "error_y": {
             "color": "#2a3f5f"
            },
            "marker": {
             "line": {
              "color": "#E5ECF6",
              "width": 0.5
             },
             "pattern": {
              "fillmode": "overlay",
              "size": 10,
              "solidity": 0.2
             }
            },
            "type": "bar"
           }
          ],
          "barpolar": [
           {
            "marker": {
             "line": {
              "color": "#E5ECF6",
              "width": 0.5
             },
             "pattern": {
              "fillmode": "overlay",
              "size": 10,
              "solidity": 0.2
             }
            },
            "type": "barpolar"
           }
          ],
          "carpet": [
           {
            "aaxis": {
             "endlinecolor": "#2a3f5f",
             "gridcolor": "white",
             "linecolor": "white",
             "minorgridcolor": "white",
             "startlinecolor": "#2a3f5f"
            },
            "baxis": {
             "endlinecolor": "#2a3f5f",
             "gridcolor": "white",
             "linecolor": "white",
             "minorgridcolor": "white",
             "startlinecolor": "#2a3f5f"
            },
            "type": "carpet"
           }
          ],
          "choropleth": [
           {
            "colorbar": {
             "outlinewidth": 0,
             "ticks": ""
            },
            "type": "choropleth"
           }
          ],
          "contour": [
           {
            "colorbar": {
             "outlinewidth": 0,
             "ticks": ""
            },
            "colorscale": [
             [
              0,
              "#0d0887"
             ],
             [
              0.1111111111111111,
              "#46039f"
             ],
             [
              0.2222222222222222,
              "#7201a8"
             ],
             [
              0.3333333333333333,
              "#9c179e"
             ],
             [
              0.4444444444444444,
              "#bd3786"
             ],
             [
              0.5555555555555556,
              "#d8576b"
             ],
             [
              0.6666666666666666,
              "#ed7953"
             ],
             [
              0.7777777777777778,
              "#fb9f3a"
             ],
             [
              0.8888888888888888,
              "#fdca26"
             ],
             [
              1,
              "#f0f921"
             ]
            ],
            "type": "contour"
           }
          ],
          "contourcarpet": [
           {
            "colorbar": {
             "outlinewidth": 0,
             "ticks": ""
            },
            "type": "contourcarpet"
           }
          ],
          "heatmap": [
           {
            "colorbar": {
             "outlinewidth": 0,
             "ticks": ""
            },
            "colorscale": [
             [
              0,
              "#0d0887"
             ],
             [
              0.1111111111111111,
              "#46039f"
             ],
             [
              0.2222222222222222,
              "#7201a8"
             ],
             [
              0.3333333333333333,
              "#9c179e"
             ],
             [
              0.4444444444444444,
              "#bd3786"
             ],
             [
              0.5555555555555556,
              "#d8576b"
             ],
             [
              0.6666666666666666,
              "#ed7953"
             ],
             [
              0.7777777777777778,
              "#fb9f3a"
             ],
             [
              0.8888888888888888,
              "#fdca26"
             ],
             [
              1,
              "#f0f921"
             ]
            ],
            "type": "heatmap"
           }
          ],
          "heatmapgl": [
           {
            "colorbar": {
             "outlinewidth": 0,
             "ticks": ""
            },
            "colorscale": [
             [
              0,
              "#0d0887"
             ],
             [
              0.1111111111111111,
              "#46039f"
             ],
             [
              0.2222222222222222,
              "#7201a8"
             ],
             [
              0.3333333333333333,
              "#9c179e"
             ],
             [
              0.4444444444444444,
              "#bd3786"
             ],
             [
              0.5555555555555556,
              "#d8576b"
             ],
             [
              0.6666666666666666,
              "#ed7953"
             ],
             [
              0.7777777777777778,
              "#fb9f3a"
             ],
             [
              0.8888888888888888,
              "#fdca26"
             ],
             [
              1,
              "#f0f921"
             ]
            ],
            "type": "heatmapgl"
           }
          ],
          "histogram": [
           {
            "marker": {
             "pattern": {
              "fillmode": "overlay",
              "size": 10,
              "solidity": 0.2
             }
            },
            "type": "histogram"
           }
          ],
          "histogram2d": [
           {
            "colorbar": {
             "outlinewidth": 0,
             "ticks": ""
            },
            "colorscale": [
             [
              0,
              "#0d0887"
             ],
             [
              0.1111111111111111,
              "#46039f"
             ],
             [
              0.2222222222222222,
              "#7201a8"
             ],
             [
              0.3333333333333333,
              "#9c179e"
             ],
             [
              0.4444444444444444,
              "#bd3786"
             ],
             [
              0.5555555555555556,
              "#d8576b"
             ],
             [
              0.6666666666666666,
              "#ed7953"
             ],
             [
              0.7777777777777778,
              "#fb9f3a"
             ],
             [
              0.8888888888888888,
              "#fdca26"
             ],
             [
              1,
              "#f0f921"
             ]
            ],
            "type": "histogram2d"
           }
          ],
          "histogram2dcontour": [
           {
            "colorbar": {
             "outlinewidth": 0,
             "ticks": ""
            },
            "colorscale": [
             [
              0,
              "#0d0887"
             ],
             [
              0.1111111111111111,
              "#46039f"
             ],
             [
              0.2222222222222222,
              "#7201a8"
             ],
             [
              0.3333333333333333,
              "#9c179e"
             ],
             [
              0.4444444444444444,
              "#bd3786"
             ],
             [
              0.5555555555555556,
              "#d8576b"
             ],
             [
              0.6666666666666666,
              "#ed7953"
             ],
             [
              0.7777777777777778,
              "#fb9f3a"
             ],
             [
              0.8888888888888888,
              "#fdca26"
             ],
             [
              1,
              "#f0f921"
             ]
            ],
            "type": "histogram2dcontour"
           }
          ],
          "mesh3d": [
           {
            "colorbar": {
             "outlinewidth": 0,
             "ticks": ""
            },
            "type": "mesh3d"
           }
          ],
          "parcoords": [
           {
            "line": {
             "colorbar": {
              "outlinewidth": 0,
              "ticks": ""
             }
            },
            "type": "parcoords"
           }
          ],
          "pie": [
           {
            "automargin": true,
            "type": "pie"
           }
          ],
          "scatter": [
           {
            "fillpattern": {
             "fillmode": "overlay",
             "size": 10,
             "solidity": 0.2
            },
            "type": "scatter"
           }
          ],
          "scatter3d": [
           {
            "line": {
             "colorbar": {
              "outlinewidth": 0,
              "ticks": ""
             }
            },
            "marker": {
             "colorbar": {
              "outlinewidth": 0,
              "ticks": ""
             }
            },
            "type": "scatter3d"
           }
          ],
          "scattercarpet": [
           {
            "marker": {
             "colorbar": {
              "outlinewidth": 0,
              "ticks": ""
             }
            },
            "type": "scattercarpet"
           }
          ],
          "scattergeo": [
           {
            "marker": {
             "colorbar": {
              "outlinewidth": 0,
              "ticks": ""
             }
            },
            "type": "scattergeo"
           }
          ],
          "scattergl": [
           {
            "marker": {
             "colorbar": {
              "outlinewidth": 0,
              "ticks": ""
             }
            },
            "type": "scattergl"
           }
          ],
          "scattermapbox": [
           {
            "marker": {
             "colorbar": {
              "outlinewidth": 0,
              "ticks": ""
             }
            },
            "type": "scattermapbox"
           }
          ],
          "scatterpolar": [
           {
            "marker": {
             "colorbar": {
              "outlinewidth": 0,
              "ticks": ""
             }
            },
            "type": "scatterpolar"
           }
          ],
          "scatterpolargl": [
           {
            "marker": {
             "colorbar": {
              "outlinewidth": 0,
              "ticks": ""
             }
            },
            "type": "scatterpolargl"
           }
          ],
          "scatterternary": [
           {
            "marker": {
             "colorbar": {
              "outlinewidth": 0,
              "ticks": ""
             }
            },
            "type": "scatterternary"
           }
          ],
          "surface": [
           {
            "colorbar": {
             "outlinewidth": 0,
             "ticks": ""
            },
            "colorscale": [
             [
              0,
              "#0d0887"
             ],
             [
              0.1111111111111111,
              "#46039f"
             ],
             [
              0.2222222222222222,
              "#7201a8"
             ],
             [
              0.3333333333333333,
              "#9c179e"
             ],
             [
              0.4444444444444444,
              "#bd3786"
             ],
             [
              0.5555555555555556,
              "#d8576b"
             ],
             [
              0.6666666666666666,
              "#ed7953"
             ],
             [
              0.7777777777777778,
              "#fb9f3a"
             ],
             [
              0.8888888888888888,
              "#fdca26"
             ],
             [
              1,
              "#f0f921"
             ]
            ],
            "type": "surface"
           }
          ],
          "table": [
           {
            "cells": {
             "fill": {
              "color": "#EBF0F8"
             },
             "line": {
              "color": "white"
             }
            },
            "header": {
             "fill": {
              "color": "#C8D4E3"
             },
             "line": {
              "color": "white"
             }
            },
            "type": "table"
           }
          ]
         },
         "layout": {
          "annotationdefaults": {
           "arrowcolor": "#2a3f5f",
           "arrowhead": 0,
           "arrowwidth": 1
          },
          "autotypenumbers": "strict",
          "coloraxis": {
           "colorbar": {
            "outlinewidth": 0,
            "ticks": ""
           }
          },
          "colorscale": {
           "diverging": [
            [
             0,
             "#8e0152"
            ],
            [
             0.1,
             "#c51b7d"
            ],
            [
             0.2,
             "#de77ae"
            ],
            [
             0.3,
             "#f1b6da"
            ],
            [
             0.4,
             "#fde0ef"
            ],
            [
             0.5,
             "#f7f7f7"
            ],
            [
             0.6,
             "#e6f5d0"
            ],
            [
             0.7,
             "#b8e186"
            ],
            [
             0.8,
             "#7fbc41"
            ],
            [
             0.9,
             "#4d9221"
            ],
            [
             1,
             "#276419"
            ]
           ],
           "sequential": [
            [
             0,
             "#0d0887"
            ],
            [
             0.1111111111111111,
             "#46039f"
            ],
            [
             0.2222222222222222,
             "#7201a8"
            ],
            [
             0.3333333333333333,
             "#9c179e"
            ],
            [
             0.4444444444444444,
             "#bd3786"
            ],
            [
             0.5555555555555556,
             "#d8576b"
            ],
            [
             0.6666666666666666,
             "#ed7953"
            ],
            [
             0.7777777777777778,
             "#fb9f3a"
            ],
            [
             0.8888888888888888,
             "#fdca26"
            ],
            [
             1,
             "#f0f921"
            ]
           ],
           "sequentialminus": [
            [
             0,
             "#0d0887"
            ],
            [
             0.1111111111111111,
             "#46039f"
            ],
            [
             0.2222222222222222,
             "#7201a8"
            ],
            [
             0.3333333333333333,
             "#9c179e"
            ],
            [
             0.4444444444444444,
             "#bd3786"
            ],
            [
             0.5555555555555556,
             "#d8576b"
            ],
            [
             0.6666666666666666,
             "#ed7953"
            ],
            [
             0.7777777777777778,
             "#fb9f3a"
            ],
            [
             0.8888888888888888,
             "#fdca26"
            ],
            [
             1,
             "#f0f921"
            ]
           ]
          },
          "colorway": [
           "#636efa",
           "#EF553B",
           "#00cc96",
           "#ab63fa",
           "#FFA15A",
           "#19d3f3",
           "#FF6692",
           "#B6E880",
           "#FF97FF",
           "#FECB52"
          ],
          "font": {
           "color": "#2a3f5f"
          },
          "geo": {
           "bgcolor": "white",
           "lakecolor": "white",
           "landcolor": "#E5ECF6",
           "showlakes": true,
           "showland": true,
           "subunitcolor": "white"
          },
          "hoverlabel": {
           "align": "left"
          },
          "hovermode": "closest",
          "mapbox": {
           "style": "light"
          },
          "paper_bgcolor": "white",
          "plot_bgcolor": "#E5ECF6",
          "polar": {
           "angularaxis": {
            "gridcolor": "white",
            "linecolor": "white",
            "ticks": ""
           },
           "bgcolor": "#E5ECF6",
           "radialaxis": {
            "gridcolor": "white",
            "linecolor": "white",
            "ticks": ""
           }
          },
          "scene": {
           "xaxis": {
            "backgroundcolor": "#E5ECF6",
            "gridcolor": "white",
            "gridwidth": 2,
            "linecolor": "white",
            "showbackground": true,
            "ticks": "",
            "zerolinecolor": "white"
           },
           "yaxis": {
            "backgroundcolor": "#E5ECF6",
            "gridcolor": "white",
            "gridwidth": 2,
            "linecolor": "white",
            "showbackground": true,
            "ticks": "",
            "zerolinecolor": "white"
           },
           "zaxis": {
            "backgroundcolor": "#E5ECF6",
            "gridcolor": "white",
            "gridwidth": 2,
            "linecolor": "white",
            "showbackground": true,
            "ticks": "",
            "zerolinecolor": "white"
           }
          },
          "shapedefaults": {
           "line": {
            "color": "#2a3f5f"
           }
          },
          "ternary": {
           "aaxis": {
            "gridcolor": "white",
            "linecolor": "white",
            "ticks": ""
           },
           "baxis": {
            "gridcolor": "white",
            "linecolor": "white",
            "ticks": ""
           },
           "bgcolor": "#E5ECF6",
           "caxis": {
            "gridcolor": "white",
            "linecolor": "white",
            "ticks": ""
           }
          },
          "title": {
           "x": 0.05
          },
          "xaxis": {
           "automargin": true,
           "gridcolor": "white",
           "linecolor": "white",
           "ticks": "",
           "title": {
            "standoff": 15
           },
           "zerolinecolor": "white",
           "zerolinewidth": 2
          },
          "yaxis": {
           "automargin": true,
           "gridcolor": "white",
           "linecolor": "white",
           "ticks": "",
           "title": {
            "standoff": 15
           },
           "zerolinecolor": "white",
           "zerolinewidth": 2
          }
         }
        },
        "title": {
         "text": "Воронка",
         "x": 0.5
        },
        "xaxis": {
         "anchor": "y",
         "domain": [
          0,
          1
         ],
         "title": {
          "text": "event_name"
         }
        },
        "yaxis": {
         "anchor": "x",
         "domain": [
          0,
          1
         ],
         "title": {
          "text": "device_count"
         }
        }
       }
      },
      "text/html": [
       "<div>                            <div id=\"6d1bd362-3053-4999-b437-da46d7831293\" class=\"plotly-graph-div\" style=\"height:525px; width:100%;\"></div>            <script type=\"text/javascript\">                require([\"plotly\"], function(Plotly) {                    window.PLOTLYENV=window.PLOTLYENV || {};                                    if (document.getElementById(\"6d1bd362-3053-4999-b437-da46d7831293\")) {                    Plotly.newPlot(                        \"6d1bd362-3053-4999-b437-da46d7831293\",                        [{\"hovertemplate\":\"event_name=%{x}<br>device_count=%{y}<extra></extra>\",\"legendgroup\":\"\",\"marker\":{\"color\":\"#636efa\"},\"name\":\"\",\"orientation\":\"v\",\"showlegend\":false,\"x\":[\"MainScreenAppear\",\"OffersScreenAppear\",\"CartScreenAppear\",\"PaymentScreenSuccessful\"],\"xaxis\":\"x\",\"y\":[7419,4593,3734,3539],\"yaxis\":\"y\",\"type\":\"funnel\"}],                        {\"template\":{\"data\":{\"histogram2dcontour\":[{\"type\":\"histogram2dcontour\",\"colorbar\":{\"outlinewidth\":0,\"ticks\":\"\"},\"colorscale\":[[0.0,\"#0d0887\"],[0.1111111111111111,\"#46039f\"],[0.2222222222222222,\"#7201a8\"],[0.3333333333333333,\"#9c179e\"],[0.4444444444444444,\"#bd3786\"],[0.5555555555555556,\"#d8576b\"],[0.6666666666666666,\"#ed7953\"],[0.7777777777777778,\"#fb9f3a\"],[0.8888888888888888,\"#fdca26\"],[1.0,\"#f0f921\"]]}],\"choropleth\":[{\"type\":\"choropleth\",\"colorbar\":{\"outlinewidth\":0,\"ticks\":\"\"}}],\"histogram2d\":[{\"type\":\"histogram2d\",\"colorbar\":{\"outlinewidth\":0,\"ticks\":\"\"},\"colorscale\":[[0.0,\"#0d0887\"],[0.1111111111111111,\"#46039f\"],[0.2222222222222222,\"#7201a8\"],[0.3333333333333333,\"#9c179e\"],[0.4444444444444444,\"#bd3786\"],[0.5555555555555556,\"#d8576b\"],[0.6666666666666666,\"#ed7953\"],[0.7777777777777778,\"#fb9f3a\"],[0.8888888888888888,\"#fdca26\"],[1.0,\"#f0f921\"]]}],\"heatmap\":[{\"type\":\"heatmap\",\"colorbar\":{\"outlinewidth\":0,\"ticks\":\"\"},\"colorscale\":[[0.0,\"#0d0887\"],[0.1111111111111111,\"#46039f\"],[0.2222222222222222,\"#7201a8\"],[0.3333333333333333,\"#9c179e\"],[0.4444444444444444,\"#bd3786\"],[0.5555555555555556,\"#d8576b\"],[0.6666666666666666,\"#ed7953\"],[0.7777777777777778,\"#fb9f3a\"],[0.8888888888888888,\"#fdca26\"],[1.0,\"#f0f921\"]]}],\"heatmapgl\":[{\"type\":\"heatmapgl\",\"colorbar\":{\"outlinewidth\":0,\"ticks\":\"\"},\"colorscale\":[[0.0,\"#0d0887\"],[0.1111111111111111,\"#46039f\"],[0.2222222222222222,\"#7201a8\"],[0.3333333333333333,\"#9c179e\"],[0.4444444444444444,\"#bd3786\"],[0.5555555555555556,\"#d8576b\"],[0.6666666666666666,\"#ed7953\"],[0.7777777777777778,\"#fb9f3a\"],[0.8888888888888888,\"#fdca26\"],[1.0,\"#f0f921\"]]}],\"contourcarpet\":[{\"type\":\"contourcarpet\",\"colorbar\":{\"outlinewidth\":0,\"ticks\":\"\"}}],\"contour\":[{\"type\":\"contour\",\"colorbar\":{\"outlinewidth\":0,\"ticks\":\"\"},\"colorscale\":[[0.0,\"#0d0887\"],[0.1111111111111111,\"#46039f\"],[0.2222222222222222,\"#7201a8\"],[0.3333333333333333,\"#9c179e\"],[0.4444444444444444,\"#bd3786\"],[0.5555555555555556,\"#d8576b\"],[0.6666666666666666,\"#ed7953\"],[0.7777777777777778,\"#fb9f3a\"],[0.8888888888888888,\"#fdca26\"],[1.0,\"#f0f921\"]]}],\"surface\":[{\"type\":\"surface\",\"colorbar\":{\"outlinewidth\":0,\"ticks\":\"\"},\"colorscale\":[[0.0,\"#0d0887\"],[0.1111111111111111,\"#46039f\"],[0.2222222222222222,\"#7201a8\"],[0.3333333333333333,\"#9c179e\"],[0.4444444444444444,\"#bd3786\"],[0.5555555555555556,\"#d8576b\"],[0.6666666666666666,\"#ed7953\"],[0.7777777777777778,\"#fb9f3a\"],[0.8888888888888888,\"#fdca26\"],[1.0,\"#f0f921\"]]}],\"mesh3d\":[{\"type\":\"mesh3d\",\"colorbar\":{\"outlinewidth\":0,\"ticks\":\"\"}}],\"scatter\":[{\"fillpattern\":{\"fillmode\":\"overlay\",\"size\":10,\"solidity\":0.2},\"type\":\"scatter\"}],\"parcoords\":[{\"type\":\"parcoords\",\"line\":{\"colorbar\":{\"outlinewidth\":0,\"ticks\":\"\"}}}],\"scatterpolargl\":[{\"type\":\"scatterpolargl\",\"marker\":{\"colorbar\":{\"outlinewidth\":0,\"ticks\":\"\"}}}],\"bar\":[{\"error_x\":{\"color\":\"#2a3f5f\"},\"error_y\":{\"color\":\"#2a3f5f\"},\"marker\":{\"line\":{\"color\":\"#E5ECF6\",\"width\":0.5},\"pattern\":{\"fillmode\":\"overlay\",\"size\":10,\"solidity\":0.2}},\"type\":\"bar\"}],\"scattergeo\":[{\"type\":\"scattergeo\",\"marker\":{\"colorbar\":{\"outlinewidth\":0,\"ticks\":\"\"}}}],\"scatterpolar\":[{\"type\":\"scatterpolar\",\"marker\":{\"colorbar\":{\"outlinewidth\":0,\"ticks\":\"\"}}}],\"histogram\":[{\"marker\":{\"pattern\":{\"fillmode\":\"overlay\",\"size\":10,\"solidity\":0.2}},\"type\":\"histogram\"}],\"scattergl\":[{\"type\":\"scattergl\",\"marker\":{\"colorbar\":{\"outlinewidth\":0,\"ticks\":\"\"}}}],\"scatter3d\":[{\"type\":\"scatter3d\",\"line\":{\"colorbar\":{\"outlinewidth\":0,\"ticks\":\"\"}},\"marker\":{\"colorbar\":{\"outlinewidth\":0,\"ticks\":\"\"}}}],\"scattermapbox\":[{\"type\":\"scattermapbox\",\"marker\":{\"colorbar\":{\"outlinewidth\":0,\"ticks\":\"\"}}}],\"scatterternary\":[{\"type\":\"scatterternary\",\"marker\":{\"colorbar\":{\"outlinewidth\":0,\"ticks\":\"\"}}}],\"scattercarpet\":[{\"type\":\"scattercarpet\",\"marker\":{\"colorbar\":{\"outlinewidth\":0,\"ticks\":\"\"}}}],\"carpet\":[{\"aaxis\":{\"endlinecolor\":\"#2a3f5f\",\"gridcolor\":\"white\",\"linecolor\":\"white\",\"minorgridcolor\":\"white\",\"startlinecolor\":\"#2a3f5f\"},\"baxis\":{\"endlinecolor\":\"#2a3f5f\",\"gridcolor\":\"white\",\"linecolor\":\"white\",\"minorgridcolor\":\"white\",\"startlinecolor\":\"#2a3f5f\"},\"type\":\"carpet\"}],\"table\":[{\"cells\":{\"fill\":{\"color\":\"#EBF0F8\"},\"line\":{\"color\":\"white\"}},\"header\":{\"fill\":{\"color\":\"#C8D4E3\"},\"line\":{\"color\":\"white\"}},\"type\":\"table\"}],\"barpolar\":[{\"marker\":{\"line\":{\"color\":\"#E5ECF6\",\"width\":0.5},\"pattern\":{\"fillmode\":\"overlay\",\"size\":10,\"solidity\":0.2}},\"type\":\"barpolar\"}],\"pie\":[{\"automargin\":true,\"type\":\"pie\"}]},\"layout\":{\"autotypenumbers\":\"strict\",\"colorway\":[\"#636efa\",\"#EF553B\",\"#00cc96\",\"#ab63fa\",\"#FFA15A\",\"#19d3f3\",\"#FF6692\",\"#B6E880\",\"#FF97FF\",\"#FECB52\"],\"font\":{\"color\":\"#2a3f5f\"},\"hovermode\":\"closest\",\"hoverlabel\":{\"align\":\"left\"},\"paper_bgcolor\":\"white\",\"plot_bgcolor\":\"#E5ECF6\",\"polar\":{\"bgcolor\":\"#E5ECF6\",\"angularaxis\":{\"gridcolor\":\"white\",\"linecolor\":\"white\",\"ticks\":\"\"},\"radialaxis\":{\"gridcolor\":\"white\",\"linecolor\":\"white\",\"ticks\":\"\"}},\"ternary\":{\"bgcolor\":\"#E5ECF6\",\"aaxis\":{\"gridcolor\":\"white\",\"linecolor\":\"white\",\"ticks\":\"\"},\"baxis\":{\"gridcolor\":\"white\",\"linecolor\":\"white\",\"ticks\":\"\"},\"caxis\":{\"gridcolor\":\"white\",\"linecolor\":\"white\",\"ticks\":\"\"}},\"coloraxis\":{\"colorbar\":{\"outlinewidth\":0,\"ticks\":\"\"}},\"colorscale\":{\"sequential\":[[0.0,\"#0d0887\"],[0.1111111111111111,\"#46039f\"],[0.2222222222222222,\"#7201a8\"],[0.3333333333333333,\"#9c179e\"],[0.4444444444444444,\"#bd3786\"],[0.5555555555555556,\"#d8576b\"],[0.6666666666666666,\"#ed7953\"],[0.7777777777777778,\"#fb9f3a\"],[0.8888888888888888,\"#fdca26\"],[1.0,\"#f0f921\"]],\"sequentialminus\":[[0.0,\"#0d0887\"],[0.1111111111111111,\"#46039f\"],[0.2222222222222222,\"#7201a8\"],[0.3333333333333333,\"#9c179e\"],[0.4444444444444444,\"#bd3786\"],[0.5555555555555556,\"#d8576b\"],[0.6666666666666666,\"#ed7953\"],[0.7777777777777778,\"#fb9f3a\"],[0.8888888888888888,\"#fdca26\"],[1.0,\"#f0f921\"]],\"diverging\":[[0,\"#8e0152\"],[0.1,\"#c51b7d\"],[0.2,\"#de77ae\"],[0.3,\"#f1b6da\"],[0.4,\"#fde0ef\"],[0.5,\"#f7f7f7\"],[0.6,\"#e6f5d0\"],[0.7,\"#b8e186\"],[0.8,\"#7fbc41\"],[0.9,\"#4d9221\"],[1,\"#276419\"]]},\"xaxis\":{\"gridcolor\":\"white\",\"linecolor\":\"white\",\"ticks\":\"\",\"title\":{\"standoff\":15},\"zerolinecolor\":\"white\",\"automargin\":true,\"zerolinewidth\":2},\"yaxis\":{\"gridcolor\":\"white\",\"linecolor\":\"white\",\"ticks\":\"\",\"title\":{\"standoff\":15},\"zerolinecolor\":\"white\",\"automargin\":true,\"zerolinewidth\":2},\"scene\":{\"xaxis\":{\"backgroundcolor\":\"#E5ECF6\",\"gridcolor\":\"white\",\"linecolor\":\"white\",\"showbackground\":true,\"ticks\":\"\",\"zerolinecolor\":\"white\",\"gridwidth\":2},\"yaxis\":{\"backgroundcolor\":\"#E5ECF6\",\"gridcolor\":\"white\",\"linecolor\":\"white\",\"showbackground\":true,\"ticks\":\"\",\"zerolinecolor\":\"white\",\"gridwidth\":2},\"zaxis\":{\"backgroundcolor\":\"#E5ECF6\",\"gridcolor\":\"white\",\"linecolor\":\"white\",\"showbackground\":true,\"ticks\":\"\",\"zerolinecolor\":\"white\",\"gridwidth\":2}},\"shapedefaults\":{\"line\":{\"color\":\"#2a3f5f\"}},\"annotationdefaults\":{\"arrowcolor\":\"#2a3f5f\",\"arrowhead\":0,\"arrowwidth\":1},\"geo\":{\"bgcolor\":\"white\",\"landcolor\":\"#E5ECF6\",\"subunitcolor\":\"white\",\"showland\":true,\"showlakes\":true,\"lakecolor\":\"white\"},\"title\":{\"x\":0.05},\"mapbox\":{\"style\":\"light\"}}},\"xaxis\":{\"anchor\":\"y\",\"domain\":[0.0,1.0],\"title\":{\"text\":\"event_name\"}},\"yaxis\":{\"anchor\":\"x\",\"domain\":[0.0,1.0],\"title\":{\"text\":\"device_count\"}},\"legend\":{\"tracegroupgap\":0},\"margin\":{\"t\":60},\"title\":{\"text\":\"\\u0412\\u043e\\u0440\\u043e\\u043d\\u043a\\u0430\",\"x\":0.5}},                        {\"responsive\": true}                    ).then(function(){\n",
       "                            \n",
       "var gd = document.getElementById('6d1bd362-3053-4999-b437-da46d7831293');\n",
       "var x = new MutationObserver(function (mutations, observer) {{\n",
       "        var display = window.getComputedStyle(gd).display;\n",
       "        if (!display || display === 'none') {{\n",
       "            console.log([gd, 'removed!']);\n",
       "            Plotly.purge(gd);\n",
       "            observer.disconnect();\n",
       "        }}\n",
       "}});\n",
       "\n",
       "// Listen for the removal of the full notebook cells\n",
       "var notebookContainer = gd.closest('#notebook-container');\n",
       "if (notebookContainer) {{\n",
       "    x.observe(notebookContainer, {childList: true});\n",
       "}}\n",
       "\n",
       "// Listen for the clearing of the current output cell\n",
       "var outputEl = gd.closest('.output');\n",
       "if (outputEl) {{\n",
       "    x.observe(outputEl, {childList: true});\n",
       "}}\n",
       "\n",
       "                        })                };                });            </script>        </div>"
      ]
     },
     "metadata": {},
     "output_type": "display_data"
    }
   ],
   "source": [
    "fig = px.funnel(event, y='device_count', x='event_name')\n",
    "fig.update_layout(title_text='Воронка', title_x=0.5)\n",
    "fig.show()"
   ]
  },
  {
   "cell_type": "markdown",
   "metadata": {},
   "source": [
    "Доля пользователей, которая проходит на следующий шаг воронки: \n",
    "\n",
    "* MainScreenAppear -> OffersScreenAppear - 61.91%\n",
    "* OffersScreenAppear -> CartScreenAppear - 81.3%\t\n",
    "* CartScreenAppear ->\tPaymentScreenSuccessful\t- 94.78%\n",
    "\n",
    "То есть процент перехода с события на следующее событие в воронке увеличивается."
   ]
  },
  {
   "cell_type": "markdown",
   "metadata": {},
   "source": [
    "#### На каком шаге теряете больше всего пользователей?"
   ]
  },
  {
   "cell_type": "markdown",
   "metadata": {},
   "source": [
    "Больше всего пользователей теряется при переходе с шага `Появление главного экрана` на `Появление экрана предложений`. Возможно дизайн главной страницы не совсем интутивный, и поэтому не все пользователи разобрались куда же дальше нажимать."
   ]
  },
  {
   "cell_type": "markdown",
   "metadata": {},
   "source": [
    "#### Какая доля пользователей доходит от первого события до оплаты?"
   ]
  },
  {
   "cell_type": "code",
   "execution_count": 143,
   "metadata": {},
   "outputs": [
    {
     "data": {
      "text/plain": [
       "'От первого события до оплаты доходит 47.7% пользователей'"
      ]
     },
     "execution_count": 143,
     "metadata": {},
     "output_type": "execute_result"
    }
   ],
   "source": [
    "f\"От первого события до оплаты доходит {(event['device_count'].iloc[3]/event['device_count'].iloc[0]*100):.1f}% пользователей\""
   ]
  },
  {
   "cell_type": "markdown",
   "metadata": {},
   "source": [
    "**Выводы 4 шага**:\n",
    "\n",
    "Чаще в логах встречется событие MainScreenAppear, т.е. появление главного экрана, реже всего - руководство использования.\n",
    "\n",
    "Было выявлено, что Tutorial или Обучение пользователя не является обязательным шагом для пользователей (кто хочет, тот проходит). Поэтому мы убрали Tutorial из воронки.\n",
    "\n",
    "Был сформирован порядок событий: Появление главного экрана -> Появление экрана предложений -> Появление экрана корзины -> Экран оплаты успешно \n",
    "\n",
    "Также мы расчитали долю пользователей, которая проходит на следующий шаг воронки:\n",
    "\n",
    "* MainScreenAppear -> OffersScreenAppear - 61.91%\n",
    "* OffersScreenAppear -> CartScreenAppear - 81.3%\n",
    "* CartScreenAppear -> PaymentScreenSuccessful - 94.78%\n",
    "\n",
    "Больше всего пользователей теряется при переходе с шага Появление главного экрана на Появление экрана предложений. Возможно дизайн главной страницы не совсем интутивный, и поэтому не все пользователи разобрались куда же дальше нажимать.\n",
    "\n",
    "От первого события до оплаты доходит 47.7% пользователей."
   ]
  },
  {
   "cell_type": "markdown",
   "metadata": {},
   "source": [
    "### шаг.  Изучение результатов эксперимента"
   ]
  },
  {
   "cell_type": "markdown",
   "metadata": {},
   "source": [
    "#### Сколько пользователей в каждой экспериментальной группе?"
   ]
  },
  {
   "cell_type": "code",
   "execution_count": 144,
   "metadata": {},
   "outputs": [
    {
     "data": {
      "text/html": [
       "<div>\n",
       "<style scoped>\n",
       "    .dataframe tbody tr th:only-of-type {\n",
       "        vertical-align: middle;\n",
       "    }\n",
       "\n",
       "    .dataframe tbody tr th {\n",
       "        vertical-align: top;\n",
       "    }\n",
       "\n",
       "    .dataframe thead th {\n",
       "        text-align: right;\n",
       "    }\n",
       "</style>\n",
       "<table border=\"1\" class=\"dataframe\">\n",
       "  <thead>\n",
       "    <tr style=\"text-align: right;\">\n",
       "      <th></th>\n",
       "      <th>device_id</th>\n",
       "    </tr>\n",
       "    <tr>\n",
       "      <th>exp_id</th>\n",
       "      <th></th>\n",
       "    </tr>\n",
       "  </thead>\n",
       "  <tbody>\n",
       "    <tr>\n",
       "      <th>246</th>\n",
       "      <td>2484</td>\n",
       "    </tr>\n",
       "    <tr>\n",
       "      <th>247</th>\n",
       "      <td>2513</td>\n",
       "    </tr>\n",
       "    <tr>\n",
       "      <th>248</th>\n",
       "      <td>2537</td>\n",
       "    </tr>\n",
       "  </tbody>\n",
       "</table>\n",
       "</div>"
      ],
      "text/plain": [
       "        device_id\n",
       "exp_id           \n",
       "246          2484\n",
       "247          2513\n",
       "248          2537"
      ]
     },
     "execution_count": 144,
     "metadata": {},
     "output_type": "execute_result"
    }
   ],
   "source": [
    "data_groupby = data_new.groupby('exp_id').agg({'device_id': 'nunique'})\n",
    "data_groupby"
   ]
  },
  {
   "cell_type": "markdown",
   "metadata": {},
   "source": [
    "В группах 246 и 247 (A/A тест) 2484 и 2513 пользователей."
   ]
  },
  {
   "cell_type": "markdown",
   "metadata": {},
   "source": [
    "#### Есть 2 контрольные группы для А/А-эксперимента, чтобы проверить корректность всех механизмов и расчётов. Проверим, находят ли статистические критерии разницу между выборками 246 и 247. Выберем самое популярное событие.  Проверим, будет ли отличие между группами статистически достоверным."
   ]
  },
  {
   "cell_type": "code",
   "execution_count": 145,
   "metadata": {},
   "outputs": [
    {
     "data": {
      "text/html": [
       "<div>\n",
       "<style scoped>\n",
       "    .dataframe tbody tr th:only-of-type {\n",
       "        vertical-align: middle;\n",
       "    }\n",
       "\n",
       "    .dataframe tbody tr th {\n",
       "        vertical-align: top;\n",
       "    }\n",
       "\n",
       "    .dataframe thead th {\n",
       "        text-align: right;\n",
       "    }\n",
       "</style>\n",
       "<table border=\"1\" class=\"dataframe\">\n",
       "  <thead>\n",
       "    <tr style=\"text-align: right;\">\n",
       "      <th></th>\n",
       "      <th>total_devices</th>\n",
       "      <th>CartScreenAppear</th>\n",
       "      <th>MainScreenAppear</th>\n",
       "      <th>OffersScreenAppear</th>\n",
       "      <th>PaymentScreenSuccessful</th>\n",
       "    </tr>\n",
       "    <tr>\n",
       "      <th>exp_id</th>\n",
       "      <th></th>\n",
       "      <th></th>\n",
       "      <th></th>\n",
       "      <th></th>\n",
       "      <th></th>\n",
       "    </tr>\n",
       "  </thead>\n",
       "  <tbody>\n",
       "    <tr>\n",
       "      <th>246</th>\n",
       "      <td>2484</td>\n",
       "      <td>1266</td>\n",
       "      <td>2450</td>\n",
       "      <td>1542</td>\n",
       "      <td>1200</td>\n",
       "    </tr>\n",
       "    <tr>\n",
       "      <th>247</th>\n",
       "      <td>2513</td>\n",
       "      <td>1238</td>\n",
       "      <td>2476</td>\n",
       "      <td>1520</td>\n",
       "      <td>1158</td>\n",
       "    </tr>\n",
       "    <tr>\n",
       "      <th>248</th>\n",
       "      <td>2537</td>\n",
       "      <td>1230</td>\n",
       "      <td>2493</td>\n",
       "      <td>1531</td>\n",
       "      <td>1181</td>\n",
       "    </tr>\n",
       "  </tbody>\n",
       "</table>\n",
       "</div>"
      ],
      "text/plain": [
       "        total_devices  CartScreenAppear  MainScreenAppear  OffersScreenAppear  \\\n",
       "exp_id                                                                          \n",
       "246              2484              1266              2450                1542   \n",
       "247              2513              1238              2476                1520   \n",
       "248              2537              1230              2493                1531   \n",
       "\n",
       "        PaymentScreenSuccessful  \n",
       "exp_id                           \n",
       "246                        1200  \n",
       "247                        1158  \n",
       "248                        1181  "
      ]
     },
     "execution_count": 145,
     "metadata": {},
     "output_type": "execute_result"
    }
   ],
   "source": [
    "# строим сводную таблицу\n",
    "data_pivot = data_new.pivot_table(index='exp_id', columns = 'event_name', values='device_id',aggfunc='nunique')#.reset_index(drop=True)\n",
    "# удаляем этап воронки Tutorial\n",
    "data_pivot = data_pivot.drop('Tutorial', axis=1)\n",
    "# объединим data_groupby и data_pivot\n",
    "data_merged = pd.merge(data_groupby, data_pivot, on='exp_id')\n",
    "data_merged = data_merged.rename(columns = {'device_id':'total_devices'})\n",
    "data_merged"
   ]
  },
  {
   "cell_type": "markdown",
   "metadata": {},
   "source": [
    "Самое популярное событие - MainScreenAppear.\n",
    "\n",
    "Теперь надо выбрать уровень значимости. Чтобы снизить групповую вероятность ошибки первого рода и скорректировать требуемые уровни значимости,  применим метод  Шидака:\n",
    "\n",
    "Мы будем иметь 16 гипотез, которые мы тестируем одновременно, поэтому при ɑ = 0.05 и при 16 сравнениях требуемый уровень значимости будет расчитываться так: "
   ]
  },
  {
   "cell_type": "code",
   "execution_count": 146,
   "metadata": {
    "scrolled": true
   },
   "outputs": [
    {
     "data": {
      "text/plain": [
       "0.0032"
      ]
     },
     "execution_count": 146,
     "metadata": {},
     "output_type": "execute_result"
    }
   ],
   "source": [
    "alpha_shidak = round(1 - (1 - 0.05)**(1/16), 4)\n",
    "alpha_shidak"
   ]
  },
  {
   "cell_type": "code",
   "execution_count": 147,
   "metadata": {},
   "outputs": [],
   "source": [
    "def hypothesis_testing (success, trials, alpha):\n",
    "    # пропорция успехов в первой группе:\n",
    "    p1 = success[0] / trials[0]\n",
    "    \n",
    "    # пропорция успехов во второй группе:\n",
    "    p2 = success[1] / trials[1]\n",
    "    \n",
    "    # пропорция успехов в комбинированном датасете:\n",
    "    p_combined = (success[0] + success[1]) / (trials[0] + trials[1])\n",
    "    \n",
    "    # разница пропорций в датасетах\n",
    "    difference = p1 - p2\n",
    "    \n",
    "    # считаем статистику в ст.отклонениях стандартного нормального распределения\n",
    "    z_value = difference / mth.sqrt(p_combined * (1 - p_combined) * (1/trials[0] + 1/trials[1]))\n",
    "\n",
    "    # задаем стандартное нормальное распределение (среднее 0, ст.отклонение 1)\n",
    "    distr = st.norm(0, 1) \n",
    "\n",
    "    p_value = (1 - distr.cdf(abs(z_value))) * 2\n",
    "\n",
    "    print('p-значение: ', p_value)\n",
    "\n",
    "    if p_value < alpha:\n",
    "        print('Отвергаем нулевую гипотезу: между долями есть значимая разница')\n",
    "    else:\n",
    "        print(\n",
    "            'Не получилось отвергнуть нулевую гипотезу, нет оснований считать доли разными'\n",
    "        )"
   ]
  },
  {
   "cell_type": "markdown",
   "metadata": {},
   "source": [
    "Сформулируем гипотезы для четырех тестов.\n",
    "\n",
    "* H0 - различий между долями нет.\n",
    "* H1 - между долями есть значимая разница.\n",
    "\n",
    "Возьмем за уровень статистической значимости расчитанный нами alpha_shidak.\n",
    "\n",
    "Дальше лучше напишем функцию, которая возвратит результаты проверки гипотез для каждого этапа воронки выбранных групп."
   ]
  },
  {
   "cell_type": "code",
   "execution_count": 148,
   "metadata": {
    "scrolled": true
   },
   "outputs": [],
   "source": [
    "def hypothesis_result(group_one, group_two):\n",
    "    devices_count = ([data_merged['total_devices'][group_one], data_merged['total_devices'][group_two]])\n",
    "    MainScreenAppear_count = ([data_merged['MainScreenAppear'][group_one], data_merged['MainScreenAppear'][group_two]])\n",
    "    OffersScreenAppear_count = ([data_merged['OffersScreenAppear'][group_one], data_merged['OffersScreenAppear'][group_two]])\n",
    "    CartScreenAppear_count = ([data_merged['CartScreenAppear'][group_one], data_merged['CartScreenAppear'][group_two]])\n",
    "    PaymentScreenSuccessful_count = ([data_merged['PaymentScreenSuccessful'][group_one], data_merged['PaymentScreenSuccessful'][group_two]])\n",
    "\n",
    "    print('Рез-ты теста по долям общего кол-ва пользователей и кол-ва пользователей, перешедших на шаг MainScreenAppear')\n",
    "    hypothesis_testing(MainScreenAppear_count, devices_count, alpha_shidak)\n",
    "    print()\n",
    "    print('Рез-ты теста по долям общего кол-ва пользователей и кол-ва пользователей, перешедших на шаг OffersScreenAppear')\n",
    "    hypothesis_testing(OffersScreenAppear_count, devices_count, alpha_shidak)\n",
    "    print()\n",
    "    print('Рез-ты теста по долям общего кол-ва пользователей и кол-ва пользователей, перешедших на шаг CartScreenAppear')\n",
    "    hypothesis_testing(CartScreenAppear_count, devices_count, alpha_shidak)\n",
    "    print()\n",
    "    print('Рез-ты теста по долям общего кол-ва пользователей и кол-ва пользователей, перешедших на шаг PaymentScreenSuccessful')\n",
    "    hypothesis_testing(PaymentScreenSuccessful_count, devices_count, alpha_shidak)  "
   ]
  },
  {
   "cell_type": "code",
   "execution_count": 149,
   "metadata": {
    "scrolled": true
   },
   "outputs": [
    {
     "name": "stdout",
     "output_type": "stream",
     "text": [
      "Рез-ты теста по долям общего кол-ва пользователей и кол-ва пользователей, перешедших на шаг MainScreenAppear\n",
      "p-значение:  0.7570597232046099\n",
      "Не получилось отвергнуть нулевую гипотезу, нет оснований считать доли разными\n",
      "\n",
      "Рез-ты теста по долям общего кол-ва пользователей и кол-ва пользователей, перешедших на шаг OffersScreenAppear\n",
      "p-значение:  0.2480954578522181\n",
      "Не получилось отвергнуть нулевую гипотезу, нет оснований считать доли разными\n",
      "\n",
      "Рез-ты теста по долям общего кол-ва пользователей и кол-ва пользователей, перешедших на шаг CartScreenAppear\n",
      "p-значение:  0.22883372237997213\n",
      "Не получилось отвергнуть нулевую гипотезу, нет оснований считать доли разными\n",
      "\n",
      "Рез-ты теста по долям общего кол-ва пользователей и кол-ва пользователей, перешедших на шаг PaymentScreenSuccessful\n",
      "p-значение:  0.11456679313141849\n",
      "Не получилось отвергнуть нулевую гипотезу, нет оснований считать доли разными\n"
     ]
    }
   ],
   "source": [
    "# сравниваем контрольные группы\n",
    "hypothesis_result(0, 1)"
   ]
  },
  {
   "cell_type": "markdown",
   "metadata": {},
   "source": [
    "Нет оснований считать доли 246 и 247 групп разными, а значит мы можем проводить A/B-эксперимент."
   ]
  },
  {
   "cell_type": "markdown",
   "metadata": {},
   "source": [
    "#### Аналогично почтупаем с группой с изменённым шрифтом. Сравниваем результаты с каждой из контрольных групп в отдельности по каждому событию. Сравниваем результаты с объединённой контрольной группой. "
   ]
  },
  {
   "cell_type": "code",
   "execution_count": 150,
   "metadata": {},
   "outputs": [
    {
     "data": {
      "text/html": [
       "<div>\n",
       "<style scoped>\n",
       "    .dataframe tbody tr th:only-of-type {\n",
       "        vertical-align: middle;\n",
       "    }\n",
       "\n",
       "    .dataframe tbody tr th {\n",
       "        vertical-align: top;\n",
       "    }\n",
       "\n",
       "    .dataframe thead th {\n",
       "        text-align: right;\n",
       "    }\n",
       "</style>\n",
       "<table border=\"1\" class=\"dataframe\">\n",
       "  <thead>\n",
       "    <tr style=\"text-align: right;\">\n",
       "      <th></th>\n",
       "      <th>total_devices</th>\n",
       "      <th>CartScreenAppear</th>\n",
       "      <th>MainScreenAppear</th>\n",
       "      <th>OffersScreenAppear</th>\n",
       "      <th>PaymentScreenSuccessful</th>\n",
       "    </tr>\n",
       "    <tr>\n",
       "      <th>exp_id</th>\n",
       "      <th></th>\n",
       "      <th></th>\n",
       "      <th></th>\n",
       "      <th></th>\n",
       "      <th></th>\n",
       "    </tr>\n",
       "  </thead>\n",
       "  <tbody>\n",
       "    <tr>\n",
       "      <th>246</th>\n",
       "      <td>2484</td>\n",
       "      <td>1266</td>\n",
       "      <td>2450</td>\n",
       "      <td>1542</td>\n",
       "      <td>1200</td>\n",
       "    </tr>\n",
       "    <tr>\n",
       "      <th>247</th>\n",
       "      <td>2513</td>\n",
       "      <td>1238</td>\n",
       "      <td>2476</td>\n",
       "      <td>1520</td>\n",
       "      <td>1158</td>\n",
       "    </tr>\n",
       "    <tr>\n",
       "      <th>248</th>\n",
       "      <td>2537</td>\n",
       "      <td>1230</td>\n",
       "      <td>2493</td>\n",
       "      <td>1531</td>\n",
       "      <td>1181</td>\n",
       "    </tr>\n",
       "    <tr>\n",
       "      <th>249</th>\n",
       "      <td>4997</td>\n",
       "      <td>2504</td>\n",
       "      <td>4926</td>\n",
       "      <td>3062</td>\n",
       "      <td>2358</td>\n",
       "    </tr>\n",
       "  </tbody>\n",
       "</table>\n",
       "</div>"
      ],
      "text/plain": [
       "        total_devices  CartScreenAppear  MainScreenAppear  OffersScreenAppear  \\\n",
       "exp_id                                                                          \n",
       "246              2484              1266              2450                1542   \n",
       "247              2513              1238              2476                1520   \n",
       "248              2537              1230              2493                1531   \n",
       "249              4997              2504              4926                3062   \n",
       "\n",
       "        PaymentScreenSuccessful  \n",
       "exp_id                           \n",
       "246                        1200  \n",
       "247                        1158  \n",
       "248                        1181  \n",
       "249                        2358  "
      ]
     },
     "execution_count": 150,
     "metadata": {},
     "output_type": "execute_result"
    }
   ],
   "source": [
    "# суммируем значения контрольных групп\n",
    "data_merged.loc['249'] = [data_merged['total_devices'][0]+data_merged['total_devices'][1], data_merged['CartScreenAppear'][0]+data_merged['CartScreenAppear'][1], data_merged['MainScreenAppear'][0]+data_merged['MainScreenAppear'][1], data_merged['OffersScreenAppear'][0]+data_merged['OffersScreenAppear'][1], data_merged['PaymentScreenSuccessful'][0]+data_merged['PaymentScreenSuccessful'][1]]\n",
    "data_merged"
   ]
  },
  {
   "cell_type": "markdown",
   "metadata": {},
   "source": [
    "Сформулируем гипотезы тестов.\n",
    "\n",
    "* H0 - различий между долями нет.\n",
    "* H1 - между долями есть значимая разница.\n",
    "\n",
    "Возьмем за уровень статистической значимости также alpha_shidak."
   ]
  },
  {
   "cell_type": "code",
   "execution_count": 151,
   "metadata": {},
   "outputs": [
    {
     "name": "stdout",
     "output_type": "stream",
     "text": [
      "Рез-ты теста по долям общего кол-ва пользователей и кол-ва пользователей, перешедших на шаг MainScreenAppear\n",
      "p-значение:  0.2949721933554552\n",
      "Не получилось отвергнуть нулевую гипотезу, нет оснований считать доли разными\n",
      "\n",
      "Рез-ты теста по долям общего кол-ва пользователей и кол-ва пользователей, перешедших на шаг OffersScreenAppear\n",
      "p-значение:  0.20836205402738917\n",
      "Не получилось отвергнуть нулевую гипотезу, нет оснований считать доли разными\n",
      "\n",
      "Рез-ты теста по долям общего кол-ва пользователей и кол-ва пользователей, перешедших на шаг CartScreenAppear\n",
      "p-значение:  0.07842923237520116\n",
      "Не получилось отвергнуть нулевую гипотезу, нет оснований считать доли разными\n",
      "\n",
      "Рез-ты теста по долям общего кол-ва пользователей и кол-ва пользователей, перешедших на шаг PaymentScreenSuccessful\n",
      "p-значение:  0.2122553275697796\n",
      "Не получилось отвергнуть нулевую гипотезу, нет оснований считать доли разными\n"
     ]
    }
   ],
   "source": [
    "# сравниваем 246 и 248 группы\n",
    "hypothesis_result(0, 2)"
   ]
  },
  {
   "cell_type": "markdown",
   "metadata": {},
   "source": [
    "Между 246 и 248 группами статистически значимых различий нет."
   ]
  },
  {
   "cell_type": "code",
   "execution_count": 152,
   "metadata": {
    "scrolled": true
   },
   "outputs": [
    {
     "name": "stdout",
     "output_type": "stream",
     "text": [
      "Рез-ты теста по долям общего кол-ва пользователей и кол-ва пользователей, перешедших на шаг MainScreenAppear\n",
      "p-значение:  0.4587053616621515\n",
      "Не получилось отвергнуть нулевую гипотезу, нет оснований считать доли разными\n",
      "\n",
      "Рез-ты теста по долям общего кол-ва пользователей и кол-ва пользователей, перешедших на шаг OffersScreenAppear\n",
      "p-значение:  0.9197817830592261\n",
      "Не получилось отвергнуть нулевую гипотезу, нет оснований считать доли разными\n",
      "\n",
      "Рез-ты теста по долям общего кол-ва пользователей и кол-ва пользователей, перешедших на шаг CartScreenAppear\n",
      "p-значение:  0.5786197879539783\n",
      "Не получилось отвергнуть нулевую гипотезу, нет оснований считать доли разными\n",
      "\n",
      "Рез-ты теста по долям общего кол-ва пользователей и кол-ва пользователей, перешедших на шаг PaymentScreenSuccessful\n",
      "p-значение:  0.7373415053803964\n",
      "Не получилось отвергнуть нулевую гипотезу, нет оснований считать доли разными\n"
     ]
    }
   ],
   "source": [
    "# сравниваем 247 и 248 группы\n",
    "hypothesis_result(1, 2)"
   ]
  },
  {
   "cell_type": "markdown",
   "metadata": {},
   "source": [
    "Между 247 и 248 группами статистически значимых различий нет. Это и логично, поскольку раннее мы увидели, что между контрольными группами также не наблюдается статистически значимых различий."
   ]
  },
  {
   "cell_type": "code",
   "execution_count": 153,
   "metadata": {},
   "outputs": [
    {
     "name": "stdout",
     "output_type": "stream",
     "text": [
      "Рез-ты теста по долям общего кол-ва пользователей и кол-ва пользователей, перешедших на шаг MainScreenAppear\n",
      "p-значение:  0.29424526837179577\n",
      "Не получилось отвергнуть нулевую гипотезу, нет оснований считать доли разными\n",
      "\n",
      "Рез-ты теста по долям общего кол-ва пользователей и кол-ва пользователей, перешедших на шаг OffersScreenAppear\n",
      "p-значение:  0.43425549655188256\n",
      "Не получилось отвергнуть нулевую гипотезу, нет оснований считать доли разными\n",
      "\n",
      "Рез-ты теста по долям общего кол-ва пользователей и кол-ва пользователей, перешедших на шаг CartScreenAppear\n",
      "p-значение:  0.18175875284404386\n",
      "Не получилось отвергнуть нулевую гипотезу, нет оснований считать доли разными\n",
      "\n",
      "Рез-ты теста по долям общего кол-ва пользователей и кол-ва пользователей, перешедших на шаг PaymentScreenSuccessful\n",
      "p-значение:  0.6004294282308704\n",
      "Не получилось отвергнуть нулевую гипотезу, нет оснований считать доли разными\n"
     ]
    }
   ],
   "source": [
    "# сравниваем 249 и 248 группы\n",
    "hypothesis_result(2, 3)"
   ]
  },
  {
   "cell_type": "markdown",
   "metadata": {},
   "source": [
    "Между 249 и 248 группами статистически значимых различий нет."
   ]
  },
  {
   "cell_type": "markdown",
   "metadata": {},
   "source": [
    "#### Какой уровень значимости вы выбрали при проверке статистических гипотез выше? Посчитаем, сколько проверок статистических гипотез вы сделали."
   ]
  },
  {
   "cell_type": "markdown",
   "metadata": {},
   "source": [
    "Всего мы провели 16 тестов, как и предположили перед расчетом альфа с помощью метода Шидака. \n",
    "Заметим, что, если бы мы взяли уровень значимости равный 10%, то при сравнении 246 и 248 групп, рез-ты теста по долям общего кол-ва пользователей и кол-ва пользователей, перешедших на шаг CartScreenAppear показали статистическое различие между группами."
   ]
  },
  {
   "cell_type": "markdown",
   "metadata": {},
   "source": [
    "### Итоги исследования"
   ]
  },
  {
   "cell_type": "markdown",
   "metadata": {},
   "source": [
    "Располагаем данными за период с 2019-07-25 по 2019-08-07. Чаще в логах встречется событие MainScreenAppear, т.е. появление главного экрана, реже всего - руководство использования.\n",
    "\n",
    "Было выявлено, что Tutorial или Обучение пользователя не является обязательным шагом для пользователей (кто хочет, тот проходит). Поэтому мы убрали Tutorial из воронки\n",
    "\n",
    "Был сформирован порядок событий:\n",
    "Появление главного экрана -> Появление экрана предложений -> Появление экрана корзины -> Экран оплаты успешно\n",
    "Также мы расчитали долю пользователей, которая проходит на следующий шаг воронки: \n",
    "\n",
    "* MainScreenAppear -> OffersScreenAppear - 61.91%\n",
    "* OffersScreenAppear -> CartScreenAppear - 81.3%\t\n",
    "* CartScreenAppear ->\tPaymentScreenSuccessful\t- 94.78%\n",
    "\n",
    "Больше всего пользователей теряется при переходе с шага \"Появление главного экрана\" на \"Появление экрана предложений\". Возможно дизайн главной страницы не совсем интутивный, и поэтому не все пользователи разобрались куда же дальше нажимать, или возникают ошибки при переходе. Рекомендуется более точно проанализировать причины, например, через обратную связь от клиентов или UX-исследования.\n",
    "\n",
    "На этапе выбора уровеня значимости мы решили использовать метод  Шидака, чтобы снизить групповую вероятность ошибки первого рода и скорректировать требуемые уровни значимости.\n",
    "Мы подсчитали, что будем иметь 16 гипотез, которые мы тестируем одновременно, поэтому при ɑ = 0.05 требуемый уровень значимости вышел равным 0.0032.\n",
    "\n",
    "После A/A теста мы сделали вывод, что нет оснований считать доли контрольных групп 246 и 247 разными. Также было выявлено, что между 246 и 248, 247 и 248 и объединённой контрольной группой и 248 группами статистически значимых различий нет. Результы A/A/B-теста говорят, что, если поменять шрифт на новый, то лучше результаты не станут. \n"
   ]
  },
  {
   "cell_type": "code",
   "execution_count": null,
   "metadata": {},
   "outputs": [],
   "source": []
  }
 ],
 "metadata": {
  "ExecuteTimeLog": [
   {
    "duration": 394,
    "start_time": "2023-04-27T09:59:21.073Z"
   },
   {
    "duration": 299,
    "start_time": "2023-04-27T10:00:11.590Z"
   },
   {
    "duration": 3,
    "start_time": "2023-04-27T10:00:15.017Z"
   },
   {
    "duration": 157,
    "start_time": "2023-04-27T10:00:16.016Z"
   },
   {
    "duration": 157,
    "start_time": "2023-04-27T10:00:22.581Z"
   },
   {
    "duration": 146,
    "start_time": "2023-04-27T10:00:28.415Z"
   },
   {
    "duration": 256,
    "start_time": "2023-04-27T10:00:38.793Z"
   },
   {
    "duration": 143,
    "start_time": "2023-04-27T10:00:42.227Z"
   },
   {
    "duration": 19,
    "start_time": "2023-04-27T10:01:53.075Z"
   },
   {
    "duration": 3,
    "start_time": "2023-04-27T10:39:35.772Z"
   },
   {
    "duration": 18,
    "start_time": "2023-04-27T10:39:36.922Z"
   },
   {
    "duration": 2,
    "start_time": "2023-04-27T10:39:57.422Z"
   },
   {
    "duration": 17,
    "start_time": "2023-04-27T10:40:01.299Z"
   },
   {
    "duration": 34,
    "start_time": "2023-04-27T10:41:31.403Z"
   },
   {
    "duration": 18,
    "start_time": "2023-04-27T10:41:36.929Z"
   },
   {
    "duration": 7,
    "start_time": "2023-04-27T10:41:49.403Z"
   },
   {
    "duration": 14,
    "start_time": "2023-04-27T10:41:58.949Z"
   },
   {
    "duration": 200,
    "start_time": "2023-04-27T10:41:58.965Z"
   },
   {
    "duration": 9,
    "start_time": "2023-04-27T10:41:59.167Z"
   },
   {
    "duration": 22,
    "start_time": "2023-04-27T10:41:59.177Z"
   },
   {
    "duration": 35,
    "start_time": "2023-04-27T10:41:59.201Z"
   },
   {
    "duration": 34,
    "start_time": "2023-04-27T10:41:59.237Z"
   },
   {
    "duration": 20,
    "start_time": "2023-04-27T10:43:45.044Z"
   },
   {
    "duration": 1601,
    "start_time": "2023-04-27T10:44:10.940Z"
   },
   {
    "duration": 195,
    "start_time": "2023-04-27T10:44:21.097Z"
   },
   {
    "duration": 8,
    "start_time": "2023-04-27T10:44:22.625Z"
   },
   {
    "duration": 10,
    "start_time": "2023-04-27T10:44:28.476Z"
   },
   {
    "duration": 208,
    "start_time": "2023-04-27T10:44:41.377Z"
   },
   {
    "duration": 3,
    "start_time": "2023-04-27T10:44:49.326Z"
   },
   {
    "duration": 217,
    "start_time": "2023-04-27T10:44:49.330Z"
   },
   {
    "duration": 22,
    "start_time": "2023-04-27T10:44:49.553Z"
   },
   {
    "duration": 25,
    "start_time": "2023-04-27T10:44:49.577Z"
   },
   {
    "duration": 391,
    "start_time": "2023-04-27T10:44:49.603Z"
   },
   {
    "duration": 8,
    "start_time": "2023-04-27T10:44:49.996Z"
   },
   {
    "duration": 99,
    "start_time": "2023-04-27T10:51:34.247Z"
   },
   {
    "duration": 9,
    "start_time": "2023-04-27T10:51:35.400Z"
   },
   {
    "duration": 108,
    "start_time": "2023-04-27T10:52:59.302Z"
   },
   {
    "duration": 110,
    "start_time": "2023-04-27T10:53:57.230Z"
   },
   {
    "duration": 235,
    "start_time": "2023-04-27T10:54:04.701Z"
   },
   {
    "duration": 323,
    "start_time": "2023-04-27T10:54:12.612Z"
   },
   {
    "duration": 2,
    "start_time": "2023-04-27T10:54:17.300Z"
   },
   {
    "duration": 161,
    "start_time": "2023-04-27T10:54:17.304Z"
   },
   {
    "duration": 2,
    "start_time": "2023-04-27T10:54:17.467Z"
   },
   {
    "duration": 20,
    "start_time": "2023-04-27T10:54:17.470Z"
   },
   {
    "duration": 405,
    "start_time": "2023-04-27T10:54:17.492Z"
   },
   {
    "duration": 390,
    "start_time": "2023-04-27T10:54:17.899Z"
   },
   {
    "duration": 305,
    "start_time": "2023-04-27T10:54:58.164Z"
   },
   {
    "duration": 11,
    "start_time": "2023-04-27T10:55:00.661Z"
   },
   {
    "duration": 8,
    "start_time": "2023-04-27T10:55:49.351Z"
   },
   {
    "duration": 3,
    "start_time": "2023-04-27T11:01:24.067Z"
   },
   {
    "duration": 166,
    "start_time": "2023-04-27T11:01:24.071Z"
   },
   {
    "duration": 3,
    "start_time": "2023-04-27T11:01:24.238Z"
   },
   {
    "duration": 39,
    "start_time": "2023-04-27T11:01:24.248Z"
   },
   {
    "duration": 445,
    "start_time": "2023-04-27T11:01:24.289Z"
   },
   {
    "duration": 337,
    "start_time": "2023-04-27T11:01:24.736Z"
   },
   {
    "duration": 9,
    "start_time": "2023-04-27T11:01:25.074Z"
   },
   {
    "duration": 3,
    "start_time": "2023-04-27T11:02:40.657Z"
   },
   {
    "duration": 160,
    "start_time": "2023-04-27T11:02:40.662Z"
   },
   {
    "duration": 3,
    "start_time": "2023-04-27T11:02:40.824Z"
   },
   {
    "duration": 28,
    "start_time": "2023-04-27T11:02:40.829Z"
   },
   {
    "duration": 408,
    "start_time": "2023-04-27T11:02:40.859Z"
   },
   {
    "duration": 348,
    "start_time": "2023-04-27T11:02:41.269Z"
   },
   {
    "duration": 8,
    "start_time": "2023-04-27T11:02:41.619Z"
   },
   {
    "duration": 6,
    "start_time": "2023-04-27T11:04:16.125Z"
   },
   {
    "duration": 29,
    "start_time": "2023-04-27T11:04:24.461Z"
   },
   {
    "duration": 321,
    "start_time": "2023-04-27T11:05:03.340Z"
   },
   {
    "duration": 43,
    "start_time": "2023-04-27T11:05:09.080Z"
   },
   {
    "duration": 21,
    "start_time": "2023-04-27T11:05:18.303Z"
   },
   {
    "duration": 35,
    "start_time": "2023-04-27T11:07:38.685Z"
   },
   {
    "duration": 38,
    "start_time": "2023-04-27T11:09:37.905Z"
   },
   {
    "duration": 38,
    "start_time": "2023-04-27T11:10:31.310Z"
   },
   {
    "duration": 37,
    "start_time": "2023-04-27T11:12:10.463Z"
   },
   {
    "duration": 51,
    "start_time": "2023-04-27T11:12:49.672Z"
   },
   {
    "duration": 60,
    "start_time": "2023-04-27T11:12:57.821Z"
   },
   {
    "duration": 47,
    "start_time": "2023-04-27T11:13:12.791Z"
   },
   {
    "duration": 50,
    "start_time": "2023-04-27T11:13:18.337Z"
   },
   {
    "duration": 30,
    "start_time": "2023-04-27T11:13:49.604Z"
   },
   {
    "duration": 7,
    "start_time": "2023-04-27T11:15:35.125Z"
   },
   {
    "duration": 8,
    "start_time": "2023-04-27T11:15:44.419Z"
   },
   {
    "duration": 51,
    "start_time": "2023-04-27T11:16:40.076Z"
   },
   {
    "duration": 45,
    "start_time": "2023-04-27T11:17:07.885Z"
   },
   {
    "duration": 56,
    "start_time": "2023-04-27T11:17:14.618Z"
   },
   {
    "duration": 43,
    "start_time": "2023-04-27T11:17:54.482Z"
   },
   {
    "duration": 25,
    "start_time": "2023-04-27T11:28:42.459Z"
   },
   {
    "duration": 68,
    "start_time": "2023-04-27T11:29:26.609Z"
   },
   {
    "duration": 43,
    "start_time": "2023-04-27T11:30:27.908Z"
   },
   {
    "duration": 43,
    "start_time": "2023-04-27T11:31:44.259Z"
   },
   {
    "duration": 44,
    "start_time": "2023-04-27T11:32:15.102Z"
   },
   {
    "duration": 8,
    "start_time": "2023-04-27T11:36:40.553Z"
   },
   {
    "duration": 399,
    "start_time": "2023-04-27T11:36:46.771Z"
   },
   {
    "duration": 159,
    "start_time": "2023-04-27T11:36:47.172Z"
   },
   {
    "duration": 3,
    "start_time": "2023-04-27T11:36:47.332Z"
   },
   {
    "duration": 78,
    "start_time": "2023-04-27T11:36:47.336Z"
   },
   {
    "duration": 395,
    "start_time": "2023-04-27T11:36:47.416Z"
   },
   {
    "duration": 337,
    "start_time": "2023-04-27T11:36:47.812Z"
   },
   {
    "duration": 9,
    "start_time": "2023-04-27T11:36:48.151Z"
   },
   {
    "duration": 54,
    "start_time": "2023-04-27T11:36:48.161Z"
   },
   {
    "duration": 51,
    "start_time": "2023-04-27T11:36:48.217Z"
   },
   {
    "duration": 52,
    "start_time": "2023-04-27T11:36:48.270Z"
   },
   {
    "duration": 52,
    "start_time": "2023-04-27T11:36:48.323Z"
   },
   {
    "duration": 25,
    "start_time": "2023-04-27T11:36:48.376Z"
   },
   {
    "duration": 248,
    "start_time": "2023-04-27T11:39:00.228Z"
   },
   {
    "duration": 173,
    "start_time": "2023-04-27T11:39:36.041Z"
   },
   {
    "duration": 160,
    "start_time": "2023-04-27T11:40:28.685Z"
   },
   {
    "duration": 171,
    "start_time": "2023-04-27T11:41:12.366Z"
   },
   {
    "duration": 182,
    "start_time": "2023-04-27T11:42:55.470Z"
   },
   {
    "duration": 205,
    "start_time": "2023-04-27T11:43:04.611Z"
   },
   {
    "duration": 182,
    "start_time": "2023-04-27T11:43:12.401Z"
   },
   {
    "duration": 182,
    "start_time": "2023-04-27T11:43:18.668Z"
   },
   {
    "duration": 261,
    "start_time": "2023-04-27T11:43:47.003Z"
   },
   {
    "duration": 199,
    "start_time": "2023-04-27T11:44:05.241Z"
   },
   {
    "duration": 248,
    "start_time": "2023-04-27T11:44:09.873Z"
   },
   {
    "duration": 196,
    "start_time": "2023-04-27T11:44:14.337Z"
   },
   {
    "duration": 194,
    "start_time": "2023-04-27T11:46:11.310Z"
   },
   {
    "duration": 191,
    "start_time": "2023-04-27T11:53:48.621Z"
   },
   {
    "duration": 189,
    "start_time": "2023-04-27T11:56:03.116Z"
   },
   {
    "duration": 238,
    "start_time": "2023-04-27T11:56:34.597Z"
   },
   {
    "duration": 186,
    "start_time": "2023-04-27T11:56:55.970Z"
   },
   {
    "duration": 174,
    "start_time": "2023-04-27T11:57:28.911Z"
   },
   {
    "duration": 183,
    "start_time": "2023-04-27T11:57:40.498Z"
   },
   {
    "duration": 205,
    "start_time": "2023-04-27T11:58:44.649Z"
   },
   {
    "duration": 197,
    "start_time": "2023-04-27T11:58:54.784Z"
   },
   {
    "duration": 45,
    "start_time": "2023-04-27T11:59:34.080Z"
   },
   {
    "duration": 33,
    "start_time": "2023-04-27T11:59:45.832Z"
   },
   {
    "duration": 260,
    "start_time": "2023-04-27T12:00:04.610Z"
   },
   {
    "duration": 183,
    "start_time": "2023-04-27T12:02:21.206Z"
   },
   {
    "duration": 206,
    "start_time": "2023-04-27T12:02:39.744Z"
   },
   {
    "duration": 180,
    "start_time": "2023-04-27T12:03:08.258Z"
   },
   {
    "duration": 212,
    "start_time": "2023-04-27T12:04:40.074Z"
   },
   {
    "duration": 194,
    "start_time": "2023-04-27T12:05:52.797Z"
   },
   {
    "duration": 201,
    "start_time": "2023-04-27T12:06:03.330Z"
   },
   {
    "duration": 13,
    "start_time": "2023-04-27T12:08:22.708Z"
   },
   {
    "duration": 69,
    "start_time": "2023-04-27T12:11:07.303Z"
   },
   {
    "duration": 60,
    "start_time": "2023-04-27T12:11:32.034Z"
   },
   {
    "duration": 32,
    "start_time": "2023-04-27T12:12:03.394Z"
   },
   {
    "duration": 212,
    "start_time": "2023-04-27T12:12:11.428Z"
   },
   {
    "duration": 19,
    "start_time": "2023-04-27T12:12:12.818Z"
   },
   {
    "duration": 37,
    "start_time": "2023-04-27T12:12:50.940Z"
   },
   {
    "duration": 36,
    "start_time": "2023-04-27T12:13:29.005Z"
   },
   {
    "duration": 35,
    "start_time": "2023-04-27T12:13:33.236Z"
   },
   {
    "duration": 3,
    "start_time": "2023-04-27T12:13:47.232Z"
   },
   {
    "duration": 181,
    "start_time": "2023-04-27T12:13:47.244Z"
   },
   {
    "duration": 3,
    "start_time": "2023-04-27T12:13:47.428Z"
   },
   {
    "duration": 34,
    "start_time": "2023-04-27T12:13:47.432Z"
   },
   {
    "duration": 405,
    "start_time": "2023-04-27T12:13:47.468Z"
   },
   {
    "duration": 350,
    "start_time": "2023-04-27T12:13:47.874Z"
   },
   {
    "duration": 9,
    "start_time": "2023-04-27T12:13:48.225Z"
   },
   {
    "duration": 71,
    "start_time": "2023-04-27T12:13:48.235Z"
   },
   {
    "duration": 51,
    "start_time": "2023-04-27T12:13:48.308Z"
   },
   {
    "duration": 46,
    "start_time": "2023-04-27T12:13:48.360Z"
   },
   {
    "duration": 63,
    "start_time": "2023-04-27T12:13:48.408Z"
   },
   {
    "duration": 25,
    "start_time": "2023-04-27T12:13:48.473Z"
   },
   {
    "duration": 31,
    "start_time": "2023-04-27T12:13:48.500Z"
   },
   {
    "duration": 227,
    "start_time": "2023-04-27T12:13:48.532Z"
   },
   {
    "duration": 204,
    "start_time": "2023-04-27T12:13:48.768Z"
   },
   {
    "duration": 36,
    "start_time": "2023-04-27T12:13:48.974Z"
   },
   {
    "duration": 10,
    "start_time": "2023-04-27T12:17:43.864Z"
   },
   {
    "duration": 57,
    "start_time": "2023-04-27T12:17:59.573Z"
   },
   {
    "duration": 60,
    "start_time": "2023-04-27T12:18:05.642Z"
   },
   {
    "duration": 40,
    "start_time": "2023-04-27T12:18:27.883Z"
   },
   {
    "duration": 56,
    "start_time": "2023-04-27T12:18:33.464Z"
   },
   {
    "duration": 53,
    "start_time": "2023-04-27T12:18:40.431Z"
   },
   {
    "duration": 59,
    "start_time": "2023-04-27T12:19:57.913Z"
   },
   {
    "duration": 43,
    "start_time": "2023-04-27T12:20:11.297Z"
   },
   {
    "duration": 52,
    "start_time": "2023-04-27T12:20:16.750Z"
   },
   {
    "duration": 80,
    "start_time": "2023-04-27T12:20:40.100Z"
   },
   {
    "duration": 66,
    "start_time": "2023-04-27T12:20:48.161Z"
   },
   {
    "duration": 55,
    "start_time": "2023-04-27T12:21:58.419Z"
   },
   {
    "duration": 72,
    "start_time": "2023-04-27T12:22:13.568Z"
   },
   {
    "duration": 39,
    "start_time": "2023-04-27T12:22:36.178Z"
   },
   {
    "duration": 63,
    "start_time": "2023-04-27T12:23:45.906Z"
   },
   {
    "duration": 53,
    "start_time": "2023-04-27T12:23:56.780Z"
   },
   {
    "duration": 30,
    "start_time": "2023-04-27T12:24:54.115Z"
   },
   {
    "duration": 89,
    "start_time": "2023-04-27T12:29:00.615Z"
   },
   {
    "duration": 121,
    "start_time": "2023-04-27T12:29:10.252Z"
   },
   {
    "duration": 78,
    "start_time": "2023-04-27T12:29:17.727Z"
   },
   {
    "duration": 113,
    "start_time": "2023-04-27T12:29:22.059Z"
   },
   {
    "duration": 61,
    "start_time": "2023-04-27T12:29:42.429Z"
   },
   {
    "duration": 2,
    "start_time": "2023-04-27T12:30:08.272Z"
   },
   {
    "duration": 166,
    "start_time": "2023-04-27T12:30:08.277Z"
   },
   {
    "duration": 18,
    "start_time": "2023-04-27T12:30:08.445Z"
   },
   {
    "duration": 36,
    "start_time": "2023-04-27T12:30:08.466Z"
   },
   {
    "duration": 410,
    "start_time": "2023-04-27T12:30:08.504Z"
   },
   {
    "duration": 396,
    "start_time": "2023-04-27T12:30:08.916Z"
   },
   {
    "duration": 9,
    "start_time": "2023-04-27T12:30:09.313Z"
   },
   {
    "duration": 71,
    "start_time": "2023-04-27T12:30:09.324Z"
   },
   {
    "duration": 37,
    "start_time": "2023-04-27T12:30:09.397Z"
   },
   {
    "duration": 82,
    "start_time": "2023-04-27T12:30:09.436Z"
   },
   {
    "duration": 83,
    "start_time": "2023-04-27T12:30:09.519Z"
   },
   {
    "duration": 27,
    "start_time": "2023-04-27T12:30:09.604Z"
   },
   {
    "duration": 67,
    "start_time": "2023-04-27T12:30:09.633Z"
   },
   {
    "duration": 266,
    "start_time": "2023-04-27T12:30:09.701Z"
   },
   {
    "duration": 269,
    "start_time": "2023-04-27T12:30:09.970Z"
   },
   {
    "duration": 55,
    "start_time": "2023-04-27T12:30:10.241Z"
   },
   {
    "duration": 73,
    "start_time": "2023-04-27T12:30:10.298Z"
   },
   {
    "duration": 65,
    "start_time": "2023-04-27T12:30:10.372Z"
   },
   {
    "duration": 124,
    "start_time": "2023-04-27T12:31:15.275Z"
   },
   {
    "duration": 120,
    "start_time": "2023-04-27T12:32:10.004Z"
   },
   {
    "duration": 28,
    "start_time": "2023-04-27T12:33:38.733Z"
   },
   {
    "duration": 48,
    "start_time": "2023-04-27T12:35:59.378Z"
   },
   {
    "duration": 40,
    "start_time": "2023-04-27T12:38:05.603Z"
   },
   {
    "duration": 51,
    "start_time": "2023-04-27T12:38:32.910Z"
   },
   {
    "duration": 41,
    "start_time": "2023-04-27T12:38:38.946Z"
   },
   {
    "duration": 53,
    "start_time": "2023-04-27T12:38:56.239Z"
   },
   {
    "duration": 59,
    "start_time": "2023-04-27T12:39:07.037Z"
   },
   {
    "duration": 44,
    "start_time": "2023-04-27T12:39:24.408Z"
   },
   {
    "duration": 34,
    "start_time": "2023-04-27T12:42:02.537Z"
   },
   {
    "duration": 20,
    "start_time": "2023-04-27T12:43:28.701Z"
   },
   {
    "duration": 32,
    "start_time": "2023-04-27T12:52:22.183Z"
   },
   {
    "duration": 73,
    "start_time": "2023-04-27T12:53:44.052Z"
   },
   {
    "duration": 73,
    "start_time": "2023-04-27T12:55:14.015Z"
   },
   {
    "duration": 70,
    "start_time": "2023-04-27T12:55:26.058Z"
   },
   {
    "duration": 73,
    "start_time": "2023-04-27T12:55:44.052Z"
   },
   {
    "duration": 72,
    "start_time": "2023-04-27T12:55:49.909Z"
   },
   {
    "duration": 75,
    "start_time": "2023-04-27T12:57:47.640Z"
   },
   {
    "duration": 70,
    "start_time": "2023-04-27T13:09:58.235Z"
   },
   {
    "duration": 77,
    "start_time": "2023-04-27T13:10:05.774Z"
   },
   {
    "duration": 72,
    "start_time": "2023-04-27T13:10:14.406Z"
   },
   {
    "duration": 73,
    "start_time": "2023-04-27T13:10:32.527Z"
   },
   {
    "duration": 9,
    "start_time": "2023-04-27T13:27:46.856Z"
   },
   {
    "duration": 107,
    "start_time": "2023-04-27T13:27:53.952Z"
   },
   {
    "duration": 148,
    "start_time": "2023-04-27T13:27:54.062Z"
   },
   {
    "duration": 3,
    "start_time": "2023-04-27T13:27:54.212Z"
   },
   {
    "duration": 22,
    "start_time": "2023-04-27T13:27:54.218Z"
   },
   {
    "duration": 419,
    "start_time": "2023-04-27T13:27:54.249Z"
   },
   {
    "duration": 385,
    "start_time": "2023-04-27T13:27:54.671Z"
   },
   {
    "duration": 9,
    "start_time": "2023-04-27T13:27:55.058Z"
   },
   {
    "duration": 72,
    "start_time": "2023-04-27T13:27:55.068Z"
   },
   {
    "duration": 39,
    "start_time": "2023-04-27T13:27:55.142Z"
   },
   {
    "duration": 54,
    "start_time": "2023-04-27T13:27:55.183Z"
   },
   {
    "duration": 46,
    "start_time": "2023-04-27T13:27:55.239Z"
   },
   {
    "duration": 26,
    "start_time": "2023-04-27T13:27:55.286Z"
   },
   {
    "duration": 44,
    "start_time": "2023-04-27T13:27:55.313Z"
   },
   {
    "duration": 187,
    "start_time": "2023-04-27T13:27:55.358Z"
   },
   {
    "duration": 200,
    "start_time": "2023-04-27T13:27:55.549Z"
   },
   {
    "duration": 41,
    "start_time": "2023-04-27T13:27:55.751Z"
   },
   {
    "duration": 71,
    "start_time": "2023-04-27T13:27:55.793Z"
   },
   {
    "duration": 128,
    "start_time": "2023-04-27T13:27:55.865Z"
   },
   {
    "duration": 58,
    "start_time": "2023-04-27T13:27:55.995Z"
   },
   {
    "duration": 21,
    "start_time": "2023-04-27T13:27:56.054Z"
   },
   {
    "duration": 85,
    "start_time": "2023-04-27T13:27:56.077Z"
   },
   {
    "duration": 363,
    "start_time": "2023-04-27T13:27:56.164Z"
   },
   {
    "duration": 12,
    "start_time": "2023-04-27T13:27:56.529Z"
   },
   {
    "duration": 136,
    "start_time": "2023-04-27T13:29:30.182Z"
   },
   {
    "duration": 106,
    "start_time": "2023-04-27T13:29:47.123Z"
   },
   {
    "duration": 45,
    "start_time": "2023-04-27T13:30:28.028Z"
   },
   {
    "duration": 44,
    "start_time": "2023-04-27T13:30:38.848Z"
   },
   {
    "duration": 9,
    "start_time": "2023-04-27T13:31:08.200Z"
   },
   {
    "duration": 9,
    "start_time": "2023-04-27T13:47:00.698Z"
   },
   {
    "duration": 3,
    "start_time": "2023-04-27T13:47:13.265Z"
   },
   {
    "duration": 77,
    "start_time": "2023-04-27T15:21:17.600Z"
   },
   {
    "duration": 45,
    "start_time": "2023-04-27T15:21:24.174Z"
   },
   {
    "duration": 14,
    "start_time": "2023-04-27T15:21:48.849Z"
   },
   {
    "duration": 4,
    "start_time": "2023-04-27T15:22:12.164Z"
   },
   {
    "duration": 11,
    "start_time": "2023-04-27T15:22:24.863Z"
   },
   {
    "duration": 44,
    "start_time": "2023-04-27T15:28:52.603Z"
   },
   {
    "duration": 64,
    "start_time": "2023-04-27T15:29:01.220Z"
   },
   {
    "duration": 56,
    "start_time": "2023-04-27T15:29:08.627Z"
   },
   {
    "duration": 4,
    "start_time": "2023-04-27T15:29:29.909Z"
   },
   {
    "duration": 15,
    "start_time": "2023-04-27T15:29:37.763Z"
   },
   {
    "duration": 15,
    "start_time": "2023-04-27T15:30:19.815Z"
   },
   {
    "duration": 5,
    "start_time": "2023-04-27T15:30:46.772Z"
   },
   {
    "duration": 16,
    "start_time": "2023-04-27T15:30:48.775Z"
   },
   {
    "duration": 3,
    "start_time": "2023-04-27T15:31:31.903Z"
   },
   {
    "duration": 191,
    "start_time": "2023-04-27T15:31:31.909Z"
   },
   {
    "duration": 3,
    "start_time": "2023-04-27T15:31:32.102Z"
   },
   {
    "duration": 87,
    "start_time": "2023-04-27T15:31:32.107Z"
   },
   {
    "duration": 411,
    "start_time": "2023-04-27T15:31:32.196Z"
   },
   {
    "duration": 383,
    "start_time": "2023-04-27T15:31:32.609Z"
   },
   {
    "duration": 8,
    "start_time": "2023-04-27T15:31:32.993Z"
   },
   {
    "duration": 69,
    "start_time": "2023-04-27T15:31:33.003Z"
   },
   {
    "duration": 38,
    "start_time": "2023-04-27T15:31:33.075Z"
   },
   {
    "duration": 63,
    "start_time": "2023-04-27T15:31:33.115Z"
   },
   {
    "duration": 47,
    "start_time": "2023-04-27T15:31:33.179Z"
   },
   {
    "duration": 66,
    "start_time": "2023-04-27T15:31:33.227Z"
   },
   {
    "duration": 28,
    "start_time": "2023-04-27T15:31:33.294Z"
   },
   {
    "duration": 210,
    "start_time": "2023-04-27T15:31:33.323Z"
   },
   {
    "duration": 212,
    "start_time": "2023-04-27T15:31:33.534Z"
   },
   {
    "duration": 41,
    "start_time": "2023-04-27T15:31:33.762Z"
   },
   {
    "duration": 64,
    "start_time": "2023-04-27T15:31:33.805Z"
   },
   {
    "duration": 145,
    "start_time": "2023-04-27T15:31:33.871Z"
   },
   {
    "duration": 60,
    "start_time": "2023-04-27T15:31:34.018Z"
   },
   {
    "duration": 22,
    "start_time": "2023-04-27T15:31:34.080Z"
   },
   {
    "duration": 118,
    "start_time": "2023-04-27T15:31:34.104Z"
   },
   {
    "duration": 55,
    "start_time": "2023-04-27T15:31:34.224Z"
   },
   {
    "duration": 9,
    "start_time": "2023-04-27T15:31:34.280Z"
   },
   {
    "duration": 4,
    "start_time": "2023-04-27T15:31:34.291Z"
   },
   {
    "duration": 16,
    "start_time": "2023-04-27T15:31:34.296Z"
   },
   {
    "duration": 10,
    "start_time": "2023-04-27T15:32:07.231Z"
   },
   {
    "duration": 2,
    "start_time": "2023-04-27T15:34:14.295Z"
   },
   {
    "duration": 11,
    "start_time": "2023-04-27T15:34:15.933Z"
   },
   {
    "duration": 2,
    "start_time": "2023-04-27T15:34:26.405Z"
   },
   {
    "duration": 160,
    "start_time": "2023-04-27T15:34:26.409Z"
   },
   {
    "duration": 2,
    "start_time": "2023-04-27T15:34:26.571Z"
   },
   {
    "duration": 20,
    "start_time": "2023-04-27T15:34:26.575Z"
   },
   {
    "duration": 407,
    "start_time": "2023-04-27T15:34:26.597Z"
   },
   {
    "duration": 363,
    "start_time": "2023-04-27T15:34:27.005Z"
   },
   {
    "duration": 9,
    "start_time": "2023-04-27T15:34:27.369Z"
   },
   {
    "duration": 46,
    "start_time": "2023-04-27T15:34:27.379Z"
   },
   {
    "duration": 44,
    "start_time": "2023-04-27T15:34:27.426Z"
   },
   {
    "duration": 44,
    "start_time": "2023-04-27T15:34:27.472Z"
   },
   {
    "duration": 66,
    "start_time": "2023-04-27T15:34:27.518Z"
   },
   {
    "duration": 25,
    "start_time": "2023-04-27T15:34:27.585Z"
   },
   {
    "duration": 52,
    "start_time": "2023-04-27T15:34:27.612Z"
   },
   {
    "duration": 202,
    "start_time": "2023-04-27T15:34:27.667Z"
   },
   {
    "duration": 200,
    "start_time": "2023-04-27T15:34:27.871Z"
   },
   {
    "duration": 39,
    "start_time": "2023-04-27T15:34:28.073Z"
   },
   {
    "duration": 78,
    "start_time": "2023-04-27T15:34:28.113Z"
   },
   {
    "duration": 134,
    "start_time": "2023-04-27T15:34:28.192Z"
   },
   {
    "duration": 54,
    "start_time": "2023-04-27T15:34:28.327Z"
   },
   {
    "duration": 21,
    "start_time": "2023-04-27T15:34:28.384Z"
   },
   {
    "duration": 101,
    "start_time": "2023-04-27T15:34:28.407Z"
   },
   {
    "duration": 61,
    "start_time": "2023-04-27T15:34:28.510Z"
   },
   {
    "duration": 15,
    "start_time": "2023-04-27T15:34:28.573Z"
   },
   {
    "duration": 9,
    "start_time": "2023-04-27T15:34:28.589Z"
   },
   {
    "duration": 13,
    "start_time": "2023-04-27T15:34:28.599Z"
   },
   {
    "duration": 12,
    "start_time": "2023-04-27T15:37:36.093Z"
   },
   {
    "duration": 12,
    "start_time": "2023-04-27T15:37:42.228Z"
   },
   {
    "duration": 11,
    "start_time": "2023-04-27T15:39:23.874Z"
   },
   {
    "duration": 16,
    "start_time": "2023-04-27T15:39:44.194Z"
   },
   {
    "duration": 13,
    "start_time": "2023-04-27T15:39:51.576Z"
   },
   {
    "duration": 14,
    "start_time": "2023-04-27T15:41:22.716Z"
   },
   {
    "duration": 16,
    "start_time": "2023-04-27T15:41:44.566Z"
   },
   {
    "duration": 4,
    "start_time": "2023-04-27T15:48:50.494Z"
   },
   {
    "duration": 11,
    "start_time": "2023-04-27T15:48:55.648Z"
   },
   {
    "duration": 3,
    "start_time": "2023-04-27T15:49:11.145Z"
   },
   {
    "duration": 155,
    "start_time": "2023-04-27T15:49:11.150Z"
   },
   {
    "duration": 3,
    "start_time": "2023-04-27T15:49:11.307Z"
   },
   {
    "duration": 24,
    "start_time": "2023-04-27T15:49:11.311Z"
   },
   {
    "duration": 391,
    "start_time": "2023-04-27T15:49:11.337Z"
   },
   {
    "duration": 329,
    "start_time": "2023-04-27T15:49:11.729Z"
   },
   {
    "duration": 8,
    "start_time": "2023-04-27T15:49:12.060Z"
   },
   {
    "duration": 45,
    "start_time": "2023-04-27T15:49:12.070Z"
   },
   {
    "duration": 50,
    "start_time": "2023-04-27T15:49:12.117Z"
   },
   {
    "duration": 43,
    "start_time": "2023-04-27T15:49:12.168Z"
   },
   {
    "duration": 67,
    "start_time": "2023-04-27T15:49:12.213Z"
   },
   {
    "duration": 27,
    "start_time": "2023-04-27T15:49:12.282Z"
   },
   {
    "duration": 43,
    "start_time": "2023-04-27T15:49:12.311Z"
   },
   {
    "duration": 196,
    "start_time": "2023-04-27T15:49:12.356Z"
   },
   {
    "duration": 209,
    "start_time": "2023-04-27T15:49:12.553Z"
   },
   {
    "duration": 41,
    "start_time": "2023-04-27T15:49:12.763Z"
   },
   {
    "duration": 62,
    "start_time": "2023-04-27T15:49:12.806Z"
   },
   {
    "duration": 144,
    "start_time": "2023-04-27T15:49:12.869Z"
   },
   {
    "duration": 63,
    "start_time": "2023-04-27T15:49:13.015Z"
   },
   {
    "duration": 32,
    "start_time": "2023-04-27T15:49:13.080Z"
   },
   {
    "duration": 87,
    "start_time": "2023-04-27T15:49:13.114Z"
   },
   {
    "duration": 51,
    "start_time": "2023-04-27T15:49:13.202Z"
   },
   {
    "duration": 10,
    "start_time": "2023-04-27T15:49:13.254Z"
   },
   {
    "duration": 14,
    "start_time": "2023-04-27T15:49:13.265Z"
   },
   {
    "duration": 17,
    "start_time": "2023-04-27T15:49:13.280Z"
   },
   {
    "duration": 15,
    "start_time": "2023-04-27T15:49:13.299Z"
   },
   {
    "duration": 13,
    "start_time": "2023-04-27T15:49:44.967Z"
   },
   {
    "duration": 15,
    "start_time": "2023-04-27T15:49:51.198Z"
   },
   {
    "duration": 16,
    "start_time": "2023-04-27T15:54:30.404Z"
   },
   {
    "duration": 12,
    "start_time": "2023-04-27T15:55:02.659Z"
   },
   {
    "duration": 11,
    "start_time": "2023-04-27T15:55:27.579Z"
   },
   {
    "duration": 11,
    "start_time": "2023-04-27T15:55:41.154Z"
   },
   {
    "duration": 9,
    "start_time": "2023-04-27T15:56:32.434Z"
   },
   {
    "duration": 10,
    "start_time": "2023-04-27T15:56:36.066Z"
   },
   {
    "duration": 3,
    "start_time": "2023-04-27T15:56:42.407Z"
   },
   {
    "duration": 150,
    "start_time": "2023-04-27T15:56:42.412Z"
   },
   {
    "duration": 3,
    "start_time": "2023-04-27T15:56:42.563Z"
   },
   {
    "duration": 22,
    "start_time": "2023-04-27T15:56:42.567Z"
   },
   {
    "duration": 375,
    "start_time": "2023-04-27T15:56:42.591Z"
   },
   {
    "duration": 319,
    "start_time": "2023-04-27T15:56:42.968Z"
   },
   {
    "duration": 9,
    "start_time": "2023-04-27T15:56:43.288Z"
   },
   {
    "duration": 61,
    "start_time": "2023-04-27T15:56:43.298Z"
   },
   {
    "duration": 38,
    "start_time": "2023-04-27T15:56:43.361Z"
   },
   {
    "duration": 62,
    "start_time": "2023-04-27T15:56:43.400Z"
   },
   {
    "duration": 43,
    "start_time": "2023-04-27T15:56:43.464Z"
   },
   {
    "duration": 25,
    "start_time": "2023-04-27T15:56:43.508Z"
   },
   {
    "duration": 26,
    "start_time": "2023-04-27T15:56:43.549Z"
   },
   {
    "duration": 195,
    "start_time": "2023-04-27T15:56:43.577Z"
   },
   {
    "duration": 196,
    "start_time": "2023-04-27T15:56:43.774Z"
   },
   {
    "duration": 39,
    "start_time": "2023-04-27T15:56:43.971Z"
   },
   {
    "duration": 64,
    "start_time": "2023-04-27T15:56:44.012Z"
   },
   {
    "duration": 123,
    "start_time": "2023-04-27T15:56:44.077Z"
   },
   {
    "duration": 51,
    "start_time": "2023-04-27T15:56:44.201Z"
   },
   {
    "duration": 19,
    "start_time": "2023-04-27T15:56:44.253Z"
   },
   {
    "duration": 86,
    "start_time": "2023-04-27T15:56:44.273Z"
   },
   {
    "duration": 133,
    "start_time": "2023-04-27T15:56:44.360Z"
   },
   {
    "duration": 11,
    "start_time": "2023-04-27T15:56:44.494Z"
   },
   {
    "duration": 32,
    "start_time": "2023-04-27T15:56:44.507Z"
   },
   {
    "duration": 21,
    "start_time": "2023-04-27T15:56:44.541Z"
   },
   {
    "duration": 12,
    "start_time": "2023-04-27T15:56:44.564Z"
   },
   {
    "duration": 14,
    "start_time": "2023-04-27T16:03:47.196Z"
   },
   {
    "duration": 11,
    "start_time": "2023-04-27T16:03:55.695Z"
   },
   {
    "duration": 3,
    "start_time": "2023-04-27T16:04:07.819Z"
   },
   {
    "duration": 148,
    "start_time": "2023-04-27T16:04:07.825Z"
   },
   {
    "duration": 3,
    "start_time": "2023-04-27T16:04:07.974Z"
   },
   {
    "duration": 28,
    "start_time": "2023-04-27T16:04:07.979Z"
   },
   {
    "duration": 381,
    "start_time": "2023-04-27T16:04:08.008Z"
   },
   {
    "duration": 331,
    "start_time": "2023-04-27T16:04:08.391Z"
   },
   {
    "duration": 8,
    "start_time": "2023-04-27T16:04:08.723Z"
   },
   {
    "duration": 59,
    "start_time": "2023-04-27T16:04:08.733Z"
   },
   {
    "duration": 38,
    "start_time": "2023-04-27T16:04:08.794Z"
   },
   {
    "duration": 54,
    "start_time": "2023-04-27T16:04:08.833Z"
   },
   {
    "duration": 42,
    "start_time": "2023-04-27T16:04:08.889Z"
   },
   {
    "duration": 38,
    "start_time": "2023-04-27T16:04:08.933Z"
   },
   {
    "duration": 29,
    "start_time": "2023-04-27T16:04:08.973Z"
   },
   {
    "duration": 198,
    "start_time": "2023-04-27T16:04:09.004Z"
   },
   {
    "duration": 198,
    "start_time": "2023-04-27T16:04:09.203Z"
   },
   {
    "duration": 49,
    "start_time": "2023-04-27T16:04:09.403Z"
   },
   {
    "duration": 54,
    "start_time": "2023-04-27T16:04:09.454Z"
   },
   {
    "duration": 140,
    "start_time": "2023-04-27T16:04:09.510Z"
   },
   {
    "duration": 53,
    "start_time": "2023-04-27T16:04:09.651Z"
   },
   {
    "duration": 34,
    "start_time": "2023-04-27T16:04:09.705Z"
   },
   {
    "duration": 100,
    "start_time": "2023-04-27T16:04:09.749Z"
   },
   {
    "duration": 44,
    "start_time": "2023-04-27T16:04:09.851Z"
   },
   {
    "duration": 10,
    "start_time": "2023-04-27T16:04:09.897Z"
   },
   {
    "duration": 24,
    "start_time": "2023-04-27T16:04:09.909Z"
   },
   {
    "duration": 24,
    "start_time": "2023-04-27T16:04:09.934Z"
   },
   {
    "duration": 20,
    "start_time": "2023-04-27T16:04:09.959Z"
   },
   {
    "duration": 5,
    "start_time": "2023-04-27T16:19:00.542Z"
   },
   {
    "duration": 65,
    "start_time": "2023-04-27T16:19:11.123Z"
   },
   {
    "duration": 91,
    "start_time": "2023-04-27T16:20:51.866Z"
   },
   {
    "duration": 298,
    "start_time": "2023-04-27T16:21:36.286Z"
   },
   {
    "duration": 308,
    "start_time": "2023-04-27T16:21:45.214Z"
   },
   {
    "duration": 62,
    "start_time": "2023-04-27T16:22:04.743Z"
   },
   {
    "duration": 4,
    "start_time": "2023-04-27T16:23:33.673Z"
   },
   {
    "duration": 3,
    "start_time": "2023-04-27T16:24:42.341Z"
   },
   {
    "duration": 5,
    "start_time": "2023-04-27T16:24:59.892Z"
   },
   {
    "duration": 3,
    "start_time": "2023-04-27T16:25:19.680Z"
   },
   {
    "duration": 4,
    "start_time": "2023-04-27T16:25:43.332Z"
   },
   {
    "duration": 5,
    "start_time": "2023-04-27T16:26:40.967Z"
   },
   {
    "duration": 3,
    "start_time": "2023-04-27T16:26:44.340Z"
   },
   {
    "duration": 149,
    "start_time": "2023-04-27T16:26:44.345Z"
   },
   {
    "duration": 2,
    "start_time": "2023-04-27T16:26:44.496Z"
   },
   {
    "duration": 25,
    "start_time": "2023-04-27T16:26:44.500Z"
   },
   {
    "duration": 418,
    "start_time": "2023-04-27T16:26:44.527Z"
   },
   {
    "duration": 352,
    "start_time": "2023-04-27T16:26:44.946Z"
   },
   {
    "duration": 8,
    "start_time": "2023-04-27T16:26:45.300Z"
   },
   {
    "duration": 51,
    "start_time": "2023-04-27T16:26:45.309Z"
   },
   {
    "duration": 36,
    "start_time": "2023-04-27T16:26:45.361Z"
   },
   {
    "duration": 57,
    "start_time": "2023-04-27T16:26:45.398Z"
   },
   {
    "duration": 43,
    "start_time": "2023-04-27T16:26:45.457Z"
   },
   {
    "duration": 25,
    "start_time": "2023-04-27T16:26:45.501Z"
   },
   {
    "duration": 43,
    "start_time": "2023-04-27T16:26:45.527Z"
   },
   {
    "duration": 193,
    "start_time": "2023-04-27T16:26:45.571Z"
   },
   {
    "duration": 215,
    "start_time": "2023-04-27T16:26:45.766Z"
   },
   {
    "duration": 42,
    "start_time": "2023-04-27T16:26:45.982Z"
   },
   {
    "duration": 70,
    "start_time": "2023-04-27T16:26:46.027Z"
   },
   {
    "duration": 135,
    "start_time": "2023-04-27T16:26:46.099Z"
   },
   {
    "duration": 55,
    "start_time": "2023-04-27T16:26:46.236Z"
   },
   {
    "duration": 21,
    "start_time": "2023-04-27T16:26:46.293Z"
   },
   {
    "duration": 94,
    "start_time": "2023-04-27T16:26:46.316Z"
   },
   {
    "duration": 51,
    "start_time": "2023-04-27T16:26:46.412Z"
   },
   {
    "duration": 9,
    "start_time": "2023-04-27T16:26:46.464Z"
   },
   {
    "duration": 11,
    "start_time": "2023-04-27T16:26:46.474Z"
   },
   {
    "duration": 11,
    "start_time": "2023-04-27T16:26:46.487Z"
   },
   {
    "duration": 5,
    "start_time": "2023-04-27T16:26:46.499Z"
   },
   {
    "duration": 3,
    "start_time": "2023-04-27T16:26:58.563Z"
   },
   {
    "duration": 4,
    "start_time": "2023-04-27T16:27:06.515Z"
   },
   {
    "duration": 9,
    "start_time": "2023-04-27T16:30:17.098Z"
   },
   {
    "duration": 4,
    "start_time": "2023-04-27T16:30:28.061Z"
   },
   {
    "duration": 62,
    "start_time": "2023-04-27T16:31:48.411Z"
   },
   {
    "duration": 3,
    "start_time": "2023-04-27T17:46:20.252Z"
   },
   {
    "duration": 3,
    "start_time": "2023-04-27T17:48:26.111Z"
   },
   {
    "duration": 160,
    "start_time": "2023-04-27T17:48:26.116Z"
   },
   {
    "duration": 2,
    "start_time": "2023-04-27T17:48:26.278Z"
   },
   {
    "duration": 20,
    "start_time": "2023-04-27T17:48:26.282Z"
   },
   {
    "duration": 392,
    "start_time": "2023-04-27T17:48:26.304Z"
   },
   {
    "duration": 352,
    "start_time": "2023-04-27T17:48:26.697Z"
   },
   {
    "duration": 10,
    "start_time": "2023-04-27T17:48:27.051Z"
   },
   {
    "duration": 51,
    "start_time": "2023-04-27T17:48:27.063Z"
   },
   {
    "duration": 46,
    "start_time": "2023-04-27T17:48:27.115Z"
   },
   {
    "duration": 50,
    "start_time": "2023-04-27T17:48:27.163Z"
   },
   {
    "duration": 64,
    "start_time": "2023-04-27T17:48:27.216Z"
   },
   {
    "duration": 25,
    "start_time": "2023-04-27T17:48:27.282Z"
   },
   {
    "duration": 25,
    "start_time": "2023-04-27T17:48:27.308Z"
   },
   {
    "duration": 205,
    "start_time": "2023-04-27T17:48:27.349Z"
   },
   {
    "duration": 197,
    "start_time": "2023-04-27T17:48:27.556Z"
   },
   {
    "duration": 40,
    "start_time": "2023-04-27T17:48:27.755Z"
   },
   {
    "duration": 66,
    "start_time": "2023-04-27T17:48:27.797Z"
   },
   {
    "duration": 128,
    "start_time": "2023-04-27T17:48:27.865Z"
   },
   {
    "duration": 55,
    "start_time": "2023-04-27T17:48:27.995Z"
   },
   {
    "duration": 25,
    "start_time": "2023-04-27T17:48:28.052Z"
   },
   {
    "duration": 84,
    "start_time": "2023-04-27T17:48:28.079Z"
   },
   {
    "duration": 43,
    "start_time": "2023-04-27T17:48:28.165Z"
   },
   {
    "duration": 39,
    "start_time": "2023-04-27T17:48:28.209Z"
   },
   {
    "duration": 17,
    "start_time": "2023-04-27T17:48:28.250Z"
   },
   {
    "duration": 17,
    "start_time": "2023-04-27T17:48:28.268Z"
   },
   {
    "duration": 15,
    "start_time": "2023-04-27T17:48:28.286Z"
   },
   {
    "duration": 71,
    "start_time": "2023-04-27T17:48:28.302Z"
   },
   {
    "duration": 59,
    "start_time": "2023-04-28T10:41:51.676Z"
   },
   {
    "duration": 1017,
    "start_time": "2023-04-28T10:41:55.509Z"
   },
   {
    "duration": 1324,
    "start_time": "2023-04-28T10:41:56.529Z"
   },
   {
    "duration": 3,
    "start_time": "2023-04-28T10:41:57.855Z"
   },
   {
    "duration": 39,
    "start_time": "2023-04-28T10:41:57.869Z"
   },
   {
    "duration": 438,
    "start_time": "2023-04-28T10:41:57.909Z"
   },
   {
    "duration": 453,
    "start_time": "2023-04-28T10:41:58.348Z"
   },
   {
    "duration": 10,
    "start_time": "2023-04-28T10:41:58.803Z"
   },
   {
    "duration": 94,
    "start_time": "2023-04-28T10:41:58.814Z"
   },
   {
    "duration": 38,
    "start_time": "2023-04-28T10:41:58.909Z"
   },
   {
    "duration": 78,
    "start_time": "2023-04-28T10:41:58.949Z"
   },
   {
    "duration": 68,
    "start_time": "2023-04-28T10:41:59.029Z"
   },
   {
    "duration": 30,
    "start_time": "2023-04-28T10:41:59.102Z"
   },
   {
    "duration": 69,
    "start_time": "2023-04-28T10:41:59.134Z"
   },
   {
    "duration": 334,
    "start_time": "2023-04-28T10:41:59.205Z"
   },
   {
    "duration": 293,
    "start_time": "2023-04-28T10:41:59.541Z"
   },
   {
    "duration": 84,
    "start_time": "2023-04-28T10:41:59.836Z"
   },
   {
    "duration": 95,
    "start_time": "2023-04-28T10:41:59.922Z"
   },
   {
    "duration": 216,
    "start_time": "2023-04-28T10:42:00.019Z"
   },
   {
    "duration": 75,
    "start_time": "2023-04-28T10:42:00.236Z"
   },
   {
    "duration": 24,
    "start_time": "2023-04-28T10:42:00.313Z"
   },
   {
    "duration": 129,
    "start_time": "2023-04-28T10:42:00.338Z"
   },
   {
    "duration": 587,
    "start_time": "2023-04-28T10:42:00.469Z"
   },
   {
    "duration": 17,
    "start_time": "2023-04-28T10:42:01.059Z"
   },
   {
    "duration": 52,
    "start_time": "2023-04-28T10:42:01.078Z"
   },
   {
    "duration": 76,
    "start_time": "2023-04-28T10:42:01.132Z"
   },
   {
    "duration": 46,
    "start_time": "2023-04-28T10:42:01.210Z"
   },
   {
    "duration": 3,
    "start_time": "2023-04-28T10:42:51.096Z"
   },
   {
    "duration": 204,
    "start_time": "2023-04-28T10:42:51.101Z"
   },
   {
    "duration": 3,
    "start_time": "2023-04-28T10:42:51.307Z"
   },
   {
    "duration": 20,
    "start_time": "2023-04-28T10:42:51.313Z"
   },
   {
    "duration": 481,
    "start_time": "2023-04-28T10:42:51.335Z"
   },
   {
    "duration": 412,
    "start_time": "2023-04-28T10:42:51.818Z"
   },
   {
    "duration": 10,
    "start_time": "2023-04-28T10:42:52.232Z"
   },
   {
    "duration": 93,
    "start_time": "2023-04-28T10:42:52.244Z"
   },
   {
    "duration": 66,
    "start_time": "2023-04-28T10:42:52.339Z"
   },
   {
    "duration": 46,
    "start_time": "2023-04-28T10:42:52.407Z"
   },
   {
    "duration": 67,
    "start_time": "2023-04-28T10:42:52.455Z"
   },
   {
    "duration": 49,
    "start_time": "2023-04-28T10:42:52.524Z"
   },
   {
    "duration": 61,
    "start_time": "2023-04-28T10:42:52.576Z"
   },
   {
    "duration": 268,
    "start_time": "2023-04-28T10:42:52.638Z"
   },
   {
    "duration": 260,
    "start_time": "2023-04-28T10:42:52.908Z"
   },
   {
    "duration": 63,
    "start_time": "2023-04-28T10:42:53.171Z"
   },
   {
    "duration": 86,
    "start_time": "2023-04-28T10:42:53.236Z"
   },
   {
    "duration": 194,
    "start_time": "2023-04-28T10:42:53.324Z"
   },
   {
    "duration": 77,
    "start_time": "2023-04-28T10:42:53.520Z"
   },
   {
    "duration": 28,
    "start_time": "2023-04-28T10:42:53.599Z"
   },
   {
    "duration": 97,
    "start_time": "2023-04-28T10:42:53.629Z"
   },
   {
    "duration": 62,
    "start_time": "2023-04-28T10:42:53.729Z"
   },
   {
    "duration": 12,
    "start_time": "2023-04-28T10:42:53.806Z"
   },
   {
    "duration": 9,
    "start_time": "2023-04-28T10:42:53.821Z"
   },
   {
    "duration": 27,
    "start_time": "2023-04-28T10:42:53.832Z"
   },
   {
    "duration": 9,
    "start_time": "2023-04-28T10:42:53.865Z"
   },
   {
    "duration": 79,
    "start_time": "2023-04-28T10:42:53.876Z"
   },
   {
    "duration": 54,
    "start_time": "2023-04-28T10:42:53.959Z"
   },
   {
    "duration": 13,
    "start_time": "2023-04-28T10:44:13.738Z"
   },
   {
    "duration": 128,
    "start_time": "2023-04-28T10:44:27.009Z"
   },
   {
    "duration": 118,
    "start_time": "2023-04-28T10:50:45.282Z"
   },
   {
    "duration": 135,
    "start_time": "2023-04-28T10:51:05.641Z"
   },
   {
    "duration": 281,
    "start_time": "2023-04-28T10:55:19.541Z"
   },
   {
    "duration": 91,
    "start_time": "2023-04-28T10:55:29.691Z"
   },
   {
    "duration": 13,
    "start_time": "2023-04-28T10:55:30.344Z"
   },
   {
    "duration": 131,
    "start_time": "2023-04-28T10:55:31.414Z"
   },
   {
    "duration": 140,
    "start_time": "2023-04-28T10:57:25.984Z"
   },
   {
    "duration": 535,
    "start_time": "2023-04-28T13:06:01.876Z"
   },
   {
    "duration": 198,
    "start_time": "2023-04-28T13:06:02.414Z"
   },
   {
    "duration": 3,
    "start_time": "2023-04-28T13:06:02.614Z"
   },
   {
    "duration": 57,
    "start_time": "2023-04-28T13:06:02.619Z"
   },
   {
    "duration": 476,
    "start_time": "2023-04-28T13:06:02.684Z"
   },
   {
    "duration": 460,
    "start_time": "2023-04-28T13:06:03.170Z"
   },
   {
    "duration": 11,
    "start_time": "2023-04-28T13:06:03.632Z"
   },
   {
    "duration": 79,
    "start_time": "2023-04-28T13:06:03.644Z"
   },
   {
    "duration": 77,
    "start_time": "2023-04-28T13:06:03.724Z"
   },
   {
    "duration": 60,
    "start_time": "2023-04-28T13:06:03.803Z"
   },
   {
    "duration": 66,
    "start_time": "2023-04-28T13:06:03.865Z"
   },
   {
    "duration": 67,
    "start_time": "2023-04-28T13:06:03.933Z"
   },
   {
    "duration": 32,
    "start_time": "2023-04-28T13:06:04.002Z"
   },
   {
    "duration": 278,
    "start_time": "2023-04-28T13:06:04.037Z"
   },
   {
    "duration": 282,
    "start_time": "2023-04-28T13:06:04.316Z"
   },
   {
    "duration": 52,
    "start_time": "2023-04-28T13:06:04.600Z"
   },
   {
    "duration": 84,
    "start_time": "2023-04-28T13:06:04.660Z"
   },
   {
    "duration": 227,
    "start_time": "2023-04-28T13:06:04.747Z"
   },
   {
    "duration": 73,
    "start_time": "2023-04-28T13:06:04.976Z"
   },
   {
    "duration": 48,
    "start_time": "2023-04-28T13:06:05.065Z"
   },
   {
    "duration": 140,
    "start_time": "2023-04-28T13:06:05.116Z"
   },
   {
    "duration": 76,
    "start_time": "2023-04-28T13:06:05.258Z"
   },
   {
    "duration": 12,
    "start_time": "2023-04-28T13:06:05.336Z"
   },
   {
    "duration": 35,
    "start_time": "2023-04-28T13:06:05.350Z"
   },
   {
    "duration": 16,
    "start_time": "2023-04-28T13:06:05.387Z"
   },
   {
    "duration": 36,
    "start_time": "2023-04-28T13:06:05.405Z"
   },
   {
    "duration": 111,
    "start_time": "2023-04-28T13:06:05.443Z"
   },
   {
    "duration": 33,
    "start_time": "2023-04-28T13:06:05.556Z"
   },
   {
    "duration": 142,
    "start_time": "2023-04-28T13:06:05.596Z"
   },
   {
    "duration": 6,
    "start_time": "2023-04-28T13:12:56.369Z"
   },
   {
    "duration": 43,
    "start_time": "2023-04-28T13:30:51.540Z"
   },
   {
    "duration": 5,
    "start_time": "2023-04-28T13:30:53.434Z"
   },
   {
    "duration": 11,
    "start_time": "2023-04-28T13:30:54.778Z"
   },
   {
    "duration": 5,
    "start_time": "2023-04-28T13:31:07.023Z"
   },
   {
    "duration": 5,
    "start_time": "2023-04-28T14:47:22.133Z"
   },
   {
    "duration": 10,
    "start_time": "2023-04-28T14:47:33.177Z"
   },
   {
    "duration": 7,
    "start_time": "2023-04-28T14:47:36.886Z"
   },
   {
    "duration": 7,
    "start_time": "2023-04-28T14:47:44.280Z"
   },
   {
    "duration": 5,
    "start_time": "2023-04-28T14:47:44.795Z"
   },
   {
    "duration": 7,
    "start_time": "2023-04-28T14:48:39.381Z"
   },
   {
    "duration": 5,
    "start_time": "2023-04-28T14:51:22.920Z"
   },
   {
    "duration": 6,
    "start_time": "2023-04-28T14:51:24.498Z"
   },
   {
    "duration": 6,
    "start_time": "2023-04-28T14:51:25.886Z"
   },
   {
    "duration": 7,
    "start_time": "2023-04-28T14:51:27.794Z"
   },
   {
    "duration": 16,
    "start_time": "2023-04-28T18:34:21.577Z"
   },
   {
    "duration": 5,
    "start_time": "2023-04-28T18:34:27.471Z"
   },
   {
    "duration": 5,
    "start_time": "2023-04-28T18:35:02.568Z"
   },
   {
    "duration": 5,
    "start_time": "2023-04-28T18:50:19.968Z"
   },
   {
    "duration": 10,
    "start_time": "2023-04-28T18:52:06.968Z"
   },
   {
    "duration": 3,
    "start_time": "2023-04-28T18:52:30.308Z"
   },
   {
    "duration": 5,
    "start_time": "2023-04-28T18:52:31.229Z"
   },
   {
    "duration": 8,
    "start_time": "2023-04-28T18:52:32.300Z"
   },
   {
    "duration": 9,
    "start_time": "2023-04-28T18:52:33.041Z"
   },
   {
    "duration": 2,
    "start_time": "2023-04-28T18:53:10.507Z"
   },
   {
    "duration": 4,
    "start_time": "2023-04-28T18:53:16.331Z"
   },
   {
    "duration": 5,
    "start_time": "2023-04-28T18:57:33.053Z"
   },
   {
    "duration": 5,
    "start_time": "2023-04-28T18:57:36.708Z"
   },
   {
    "duration": 7,
    "start_time": "2023-04-28T18:59:01.718Z"
   },
   {
    "duration": 5,
    "start_time": "2023-04-28T18:59:07.319Z"
   },
   {
    "duration": 200,
    "start_time": "2023-04-28T18:59:07.326Z"
   },
   {
    "duration": 3,
    "start_time": "2023-04-28T18:59:07.528Z"
   },
   {
    "duration": 41,
    "start_time": "2023-04-28T18:59:07.534Z"
   },
   {
    "duration": 419,
    "start_time": "2023-04-28T18:59:07.577Z"
   },
   {
    "duration": 377,
    "start_time": "2023-04-28T18:59:07.998Z"
   },
   {
    "duration": 9,
    "start_time": "2023-04-28T18:59:08.377Z"
   },
   {
    "duration": 52,
    "start_time": "2023-04-28T18:59:08.388Z"
   },
   {
    "duration": 43,
    "start_time": "2023-04-28T18:59:08.458Z"
   },
   {
    "duration": 63,
    "start_time": "2023-04-28T18:59:08.505Z"
   },
   {
    "duration": 47,
    "start_time": "2023-04-28T18:59:08.569Z"
   },
   {
    "duration": 48,
    "start_time": "2023-04-28T18:59:08.618Z"
   },
   {
    "duration": 33,
    "start_time": "2023-04-28T18:59:08.667Z"
   },
   {
    "duration": 229,
    "start_time": "2023-04-28T18:59:08.701Z"
   },
   {
    "duration": 238,
    "start_time": "2023-04-28T18:59:08.932Z"
   },
   {
    "duration": 50,
    "start_time": "2023-04-28T18:59:09.172Z"
   },
   {
    "duration": 78,
    "start_time": "2023-04-28T18:59:09.224Z"
   },
   {
    "duration": 157,
    "start_time": "2023-04-28T18:59:09.304Z"
   },
   {
    "duration": 55,
    "start_time": "2023-04-28T18:59:09.463Z"
   },
   {
    "duration": 23,
    "start_time": "2023-04-28T18:59:09.519Z"
   },
   {
    "duration": 106,
    "start_time": "2023-04-28T18:59:09.560Z"
   },
   {
    "duration": 45,
    "start_time": "2023-04-28T18:59:09.668Z"
   },
   {
    "duration": 10,
    "start_time": "2023-04-28T18:59:09.714Z"
   },
   {
    "duration": 34,
    "start_time": "2023-04-28T18:59:09.726Z"
   },
   {
    "duration": 15,
    "start_time": "2023-04-28T18:59:09.762Z"
   },
   {
    "duration": 4,
    "start_time": "2023-04-28T18:59:09.778Z"
   },
   {
    "duration": 96,
    "start_time": "2023-04-28T18:59:09.783Z"
   },
   {
    "duration": 12,
    "start_time": "2023-04-28T18:59:09.882Z"
   },
   {
    "duration": 144,
    "start_time": "2023-04-28T18:59:09.895Z"
   },
   {
    "duration": 4,
    "start_time": "2023-04-28T18:59:10.040Z"
   },
   {
    "duration": 14,
    "start_time": "2023-04-28T18:59:10.046Z"
   },
   {
    "duration": 13,
    "start_time": "2023-04-28T18:59:10.062Z"
   },
   {
    "duration": 22,
    "start_time": "2023-04-28T18:59:10.077Z"
   },
   {
    "duration": 6,
    "start_time": "2023-04-28T19:00:17.329Z"
   },
   {
    "duration": 5,
    "start_time": "2023-04-28T19:00:50.879Z"
   },
   {
    "duration": 4,
    "start_time": "2023-04-28T19:00:55.276Z"
   },
   {
    "duration": 178,
    "start_time": "2023-04-28T19:00:55.282Z"
   },
   {
    "duration": 4,
    "start_time": "2023-04-28T19:00:55.462Z"
   },
   {
    "duration": 25,
    "start_time": "2023-04-28T19:00:55.467Z"
   },
   {
    "duration": 393,
    "start_time": "2023-04-28T19:00:55.494Z"
   },
   {
    "duration": 392,
    "start_time": "2023-04-28T19:00:55.889Z"
   },
   {
    "duration": 11,
    "start_time": "2023-04-28T19:00:56.283Z"
   },
   {
    "duration": 72,
    "start_time": "2023-04-28T19:00:56.296Z"
   },
   {
    "duration": 45,
    "start_time": "2023-04-28T19:00:56.369Z"
   },
   {
    "duration": 62,
    "start_time": "2023-04-28T19:00:56.416Z"
   },
   {
    "duration": 46,
    "start_time": "2023-04-28T19:00:56.481Z"
   },
   {
    "duration": 45,
    "start_time": "2023-04-28T19:00:56.528Z"
   },
   {
    "duration": 32,
    "start_time": "2023-04-28T19:00:56.575Z"
   },
   {
    "duration": 231,
    "start_time": "2023-04-28T19:00:56.609Z"
   },
   {
    "duration": 225,
    "start_time": "2023-04-28T19:00:56.842Z"
   },
   {
    "duration": 47,
    "start_time": "2023-04-28T19:00:57.069Z"
   },
   {
    "duration": 73,
    "start_time": "2023-04-28T19:00:57.118Z"
   },
   {
    "duration": 149,
    "start_time": "2023-04-28T19:00:57.193Z"
   },
   {
    "duration": 54,
    "start_time": "2023-04-28T19:00:57.344Z"
   },
   {
    "duration": 30,
    "start_time": "2023-04-28T19:00:57.400Z"
   },
   {
    "duration": 96,
    "start_time": "2023-04-28T19:00:57.431Z"
   },
   {
    "duration": 142,
    "start_time": "2023-04-28T19:00:57.529Z"
   },
   {
    "duration": 10,
    "start_time": "2023-04-28T19:00:57.673Z"
   },
   {
    "duration": 18,
    "start_time": "2023-04-28T19:00:57.684Z"
   },
   {
    "duration": 18,
    "start_time": "2023-04-28T19:00:57.704Z"
   },
   {
    "duration": 10,
    "start_time": "2023-04-28T19:00:57.724Z"
   },
   {
    "duration": 88,
    "start_time": "2023-04-28T19:00:57.735Z"
   },
   {
    "duration": 12,
    "start_time": "2023-04-28T19:00:57.825Z"
   },
   {
    "duration": 144,
    "start_time": "2023-04-28T19:00:57.841Z"
   },
   {
    "duration": 4,
    "start_time": "2023-04-28T19:00:57.986Z"
   },
   {
    "duration": 17,
    "start_time": "2023-04-28T19:00:57.992Z"
   },
   {
    "duration": 24,
    "start_time": "2023-04-28T19:00:58.011Z"
   },
   {
    "duration": 33,
    "start_time": "2023-04-28T19:00:58.037Z"
   },
   {
    "duration": 5,
    "start_time": "2023-04-28T19:07:03.239Z"
   },
   {
    "duration": 3,
    "start_time": "2023-04-28T19:07:07.601Z"
   },
   {
    "duration": 178,
    "start_time": "2023-04-28T19:07:07.607Z"
   },
   {
    "duration": 3,
    "start_time": "2023-04-28T19:07:07.787Z"
   },
   {
    "duration": 25,
    "start_time": "2023-04-28T19:07:07.792Z"
   },
   {
    "duration": 385,
    "start_time": "2023-04-28T19:07:07.820Z"
   },
   {
    "duration": 382,
    "start_time": "2023-04-28T19:07:08.207Z"
   },
   {
    "duration": 9,
    "start_time": "2023-04-28T19:07:08.591Z"
   },
   {
    "duration": 63,
    "start_time": "2023-04-28T19:07:08.602Z"
   },
   {
    "duration": 40,
    "start_time": "2023-04-28T19:07:08.667Z"
   },
   {
    "duration": 69,
    "start_time": "2023-04-28T19:07:08.709Z"
   },
   {
    "duration": 51,
    "start_time": "2023-04-28T19:07:08.780Z"
   },
   {
    "duration": 44,
    "start_time": "2023-04-28T19:07:08.833Z"
   },
   {
    "duration": 32,
    "start_time": "2023-04-28T19:07:08.881Z"
   },
   {
    "duration": 246,
    "start_time": "2023-04-28T19:07:08.915Z"
   },
   {
    "duration": 232,
    "start_time": "2023-04-28T19:07:09.163Z"
   },
   {
    "duration": 50,
    "start_time": "2023-04-28T19:07:09.397Z"
   },
   {
    "duration": 67,
    "start_time": "2023-04-28T19:07:09.459Z"
   },
   {
    "duration": 196,
    "start_time": "2023-04-28T19:07:09.528Z"
   },
   {
    "duration": 63,
    "start_time": "2023-04-28T19:07:09.726Z"
   },
   {
    "duration": 30,
    "start_time": "2023-04-28T19:07:09.791Z"
   },
   {
    "duration": 93,
    "start_time": "2023-04-28T19:07:09.823Z"
   },
   {
    "duration": 51,
    "start_time": "2023-04-28T19:07:09.917Z"
   },
   {
    "duration": 10,
    "start_time": "2023-04-28T19:07:09.970Z"
   },
   {
    "duration": 17,
    "start_time": "2023-04-28T19:07:09.982Z"
   },
   {
    "duration": 30,
    "start_time": "2023-04-28T19:07:10.001Z"
   },
   {
    "duration": 15,
    "start_time": "2023-04-28T19:07:10.033Z"
   },
   {
    "duration": 79,
    "start_time": "2023-04-28T19:07:10.050Z"
   },
   {
    "duration": 13,
    "start_time": "2023-04-28T19:07:10.131Z"
   },
   {
    "duration": 143,
    "start_time": "2023-04-28T19:07:10.145Z"
   },
   {
    "duration": 5,
    "start_time": "2023-04-28T19:07:10.289Z"
   },
   {
    "duration": 6,
    "start_time": "2023-04-28T19:07:10.295Z"
   },
   {
    "duration": 6,
    "start_time": "2023-04-28T19:07:10.303Z"
   },
   {
    "duration": 16,
    "start_time": "2023-04-28T19:07:10.311Z"
   },
   {
    "duration": 8,
    "start_time": "2023-04-28T19:10:37.315Z"
   },
   {
    "duration": 15,
    "start_time": "2023-04-28T19:14:32.634Z"
   },
   {
    "duration": 16,
    "start_time": "2023-04-28T19:15:33.667Z"
   },
   {
    "duration": 4,
    "start_time": "2023-04-28T19:17:03.693Z"
   },
   {
    "duration": 200,
    "start_time": "2023-04-28T19:17:03.700Z"
   },
   {
    "duration": 2,
    "start_time": "2023-04-28T19:17:03.902Z"
   },
   {
    "duration": 22,
    "start_time": "2023-04-28T19:17:03.906Z"
   },
   {
    "duration": 393,
    "start_time": "2023-04-28T19:17:03.930Z"
   },
   {
    "duration": 378,
    "start_time": "2023-04-28T19:17:04.325Z"
   },
   {
    "duration": 9,
    "start_time": "2023-04-28T19:17:04.705Z"
   },
   {
    "duration": 72,
    "start_time": "2023-04-28T19:17:04.715Z"
   },
   {
    "duration": 41,
    "start_time": "2023-04-28T19:17:04.788Z"
   },
   {
    "duration": 67,
    "start_time": "2023-04-28T19:17:04.833Z"
   },
   {
    "duration": 57,
    "start_time": "2023-04-28T19:17:04.902Z"
   },
   {
    "duration": 28,
    "start_time": "2023-04-28T19:17:04.961Z"
   },
   {
    "duration": 30,
    "start_time": "2023-04-28T19:17:04.991Z"
   },
   {
    "duration": 238,
    "start_time": "2023-04-28T19:17:05.023Z"
   },
   {
    "duration": 221,
    "start_time": "2023-04-28T19:17:05.263Z"
   },
   {
    "duration": 49,
    "start_time": "2023-04-28T19:17:05.486Z"
   },
   {
    "duration": 73,
    "start_time": "2023-04-28T19:17:05.537Z"
   },
   {
    "duration": 164,
    "start_time": "2023-04-28T19:17:05.612Z"
   },
   {
    "duration": 52,
    "start_time": "2023-04-28T19:17:05.778Z"
   },
   {
    "duration": 40,
    "start_time": "2023-04-28T19:17:05.831Z"
   },
   {
    "duration": 77,
    "start_time": "2023-04-28T19:17:05.872Z"
   },
   {
    "duration": 42,
    "start_time": "2023-04-28T19:17:05.961Z"
   },
   {
    "duration": 108,
    "start_time": "2023-04-28T19:17:06.005Z"
   },
   {
    "duration": 59,
    "start_time": "2023-04-28T19:17:06.114Z"
   },
   {
    "duration": 12,
    "start_time": "2023-04-28T19:17:06.175Z"
   },
   {
    "duration": 7,
    "start_time": "2023-04-28T19:17:06.188Z"
   },
   {
    "duration": 87,
    "start_time": "2023-04-28T19:17:06.196Z"
   },
   {
    "duration": 16,
    "start_time": "2023-04-28T19:17:06.287Z"
   },
   {
    "duration": 148,
    "start_time": "2023-04-28T19:17:06.305Z"
   },
   {
    "duration": 7,
    "start_time": "2023-04-28T19:17:06.454Z"
   },
   {
    "duration": 5,
    "start_time": "2023-04-28T19:17:06.463Z"
   },
   {
    "duration": 8,
    "start_time": "2023-04-28T19:17:06.470Z"
   },
   {
    "duration": 19,
    "start_time": "2023-04-28T19:17:06.480Z"
   },
   {
    "duration": 24,
    "start_time": "2023-04-28T19:17:06.502Z"
   },
   {
    "duration": 16,
    "start_time": "2023-04-28T19:17:55.468Z"
   },
   {
    "duration": 12,
    "start_time": "2023-04-28T19:19:00.062Z"
   },
   {
    "duration": 8,
    "start_time": "2023-04-28T19:20:21.843Z"
   },
   {
    "duration": 5,
    "start_time": "2023-04-28T19:20:58.676Z"
   },
   {
    "duration": 7,
    "start_time": "2023-04-28T19:21:05.471Z"
   },
   {
    "duration": 8,
    "start_time": "2023-04-28T19:21:53.209Z"
   },
   {
    "duration": 5,
    "start_time": "2023-04-28T19:22:32.515Z"
   },
   {
    "duration": 9,
    "start_time": "2023-04-28T19:22:37.173Z"
   },
   {
    "duration": 11,
    "start_time": "2023-04-28T19:22:56.261Z"
   },
   {
    "duration": 10,
    "start_time": "2023-04-28T19:23:08.997Z"
   },
   {
    "duration": 13,
    "start_time": "2023-04-28T19:23:27.201Z"
   },
   {
    "duration": 10,
    "start_time": "2023-04-28T19:23:51.007Z"
   },
   {
    "duration": 19,
    "start_time": "2023-04-28T19:27:23.276Z"
   },
   {
    "duration": 18,
    "start_time": "2023-04-28T19:27:52.508Z"
   },
   {
    "duration": 16,
    "start_time": "2023-04-28T19:28:18.464Z"
   },
   {
    "duration": 17,
    "start_time": "2023-04-28T19:28:48.198Z"
   },
   {
    "duration": 21,
    "start_time": "2023-04-28T19:29:06.198Z"
   },
   {
    "duration": 17,
    "start_time": "2023-04-28T19:29:25.441Z"
   },
   {
    "duration": 16,
    "start_time": "2023-04-28T19:29:29.057Z"
   },
   {
    "duration": 21,
    "start_time": "2023-04-28T19:29:42.395Z"
   },
   {
    "duration": 12,
    "start_time": "2023-04-28T19:30:33.968Z"
   },
   {
    "duration": 12,
    "start_time": "2023-04-28T19:31:31.239Z"
   },
   {
    "duration": 12,
    "start_time": "2023-04-28T19:31:37.781Z"
   },
   {
    "duration": 4,
    "start_time": "2023-04-28T19:31:42.300Z"
   },
   {
    "duration": 170,
    "start_time": "2023-04-28T19:31:42.305Z"
   },
   {
    "duration": 4,
    "start_time": "2023-04-28T19:31:42.477Z"
   },
   {
    "duration": 21,
    "start_time": "2023-04-28T19:31:42.483Z"
   },
   {
    "duration": 385,
    "start_time": "2023-04-28T19:31:42.506Z"
   },
   {
    "duration": 388,
    "start_time": "2023-04-28T19:31:42.893Z"
   },
   {
    "duration": 10,
    "start_time": "2023-04-28T19:31:43.283Z"
   },
   {
    "duration": 68,
    "start_time": "2023-04-28T19:31:43.294Z"
   },
   {
    "duration": 43,
    "start_time": "2023-04-28T19:31:43.365Z"
   },
   {
    "duration": 70,
    "start_time": "2023-04-28T19:31:43.409Z"
   },
   {
    "duration": 51,
    "start_time": "2023-04-28T19:31:43.481Z"
   },
   {
    "duration": 51,
    "start_time": "2023-04-28T19:31:43.533Z"
   },
   {
    "duration": 32,
    "start_time": "2023-04-28T19:31:43.586Z"
   },
   {
    "duration": 242,
    "start_time": "2023-04-28T19:31:43.619Z"
   },
   {
    "duration": 232,
    "start_time": "2023-04-28T19:31:43.863Z"
   },
   {
    "duration": 50,
    "start_time": "2023-04-28T19:31:44.097Z"
   },
   {
    "duration": 61,
    "start_time": "2023-04-28T19:31:44.160Z"
   },
   {
    "duration": 165,
    "start_time": "2023-04-28T19:31:44.223Z"
   },
   {
    "duration": 53,
    "start_time": "2023-04-28T19:31:44.390Z"
   },
   {
    "duration": 35,
    "start_time": "2023-04-28T19:31:44.445Z"
   },
   {
    "duration": 92,
    "start_time": "2023-04-28T19:31:44.481Z"
   },
   {
    "duration": 47,
    "start_time": "2023-04-28T19:31:44.575Z"
   },
   {
    "duration": 11,
    "start_time": "2023-04-28T19:31:44.624Z"
   },
   {
    "duration": 10,
    "start_time": "2023-04-28T19:31:44.663Z"
   },
   {
    "duration": 15,
    "start_time": "2023-04-28T19:31:44.674Z"
   },
   {
    "duration": 16,
    "start_time": "2023-04-28T19:31:44.690Z"
   },
   {
    "duration": 92,
    "start_time": "2023-04-28T19:31:44.707Z"
   },
   {
    "duration": 14,
    "start_time": "2023-04-28T19:31:44.801Z"
   },
   {
    "duration": 146,
    "start_time": "2023-04-28T19:31:44.817Z"
   },
   {
    "duration": 4,
    "start_time": "2023-04-28T19:31:44.965Z"
   },
   {
    "duration": 6,
    "start_time": "2023-04-28T19:31:44.970Z"
   },
   {
    "duration": 6,
    "start_time": "2023-04-28T19:31:44.978Z"
   },
   {
    "duration": 31,
    "start_time": "2023-04-28T19:31:44.986Z"
   },
   {
    "duration": 26,
    "start_time": "2023-04-28T19:31:45.018Z"
   },
   {
    "duration": 15,
    "start_time": "2023-04-28T19:32:31.912Z"
   },
   {
    "duration": 12,
    "start_time": "2023-04-28T19:32:37.248Z"
   },
   {
    "duration": 11,
    "start_time": "2023-04-28T19:33:13.094Z"
   },
   {
    "duration": 10,
    "start_time": "2023-04-28T19:34:12.178Z"
   },
   {
    "duration": 11,
    "start_time": "2023-04-28T19:41:09.870Z"
   },
   {
    "duration": 16,
    "start_time": "2023-04-28T19:42:42.069Z"
   },
   {
    "duration": 16,
    "start_time": "2023-04-28T19:44:08.936Z"
   },
   {
    "duration": 15,
    "start_time": "2023-04-28T19:44:21.512Z"
   },
   {
    "duration": 15,
    "start_time": "2023-04-28T19:44:26.709Z"
   },
   {
    "duration": 15,
    "start_time": "2023-04-28T19:44:35.621Z"
   },
   {
    "duration": 5,
    "start_time": "2023-04-28T19:44:39.644Z"
   },
   {
    "duration": 185,
    "start_time": "2023-04-28T19:44:39.651Z"
   },
   {
    "duration": 3,
    "start_time": "2023-04-28T19:44:39.838Z"
   },
   {
    "duration": 36,
    "start_time": "2023-04-28T19:44:39.843Z"
   },
   {
    "duration": 386,
    "start_time": "2023-04-28T19:44:39.882Z"
   },
   {
    "duration": 407,
    "start_time": "2023-04-28T19:44:40.271Z"
   },
   {
    "duration": 11,
    "start_time": "2023-04-28T19:44:40.680Z"
   },
   {
    "duration": 68,
    "start_time": "2023-04-28T19:44:40.692Z"
   },
   {
    "duration": 40,
    "start_time": "2023-04-28T19:44:40.762Z"
   },
   {
    "duration": 66,
    "start_time": "2023-04-28T19:44:40.803Z"
   },
   {
    "duration": 46,
    "start_time": "2023-04-28T19:44:40.872Z"
   },
   {
    "duration": 48,
    "start_time": "2023-04-28T19:44:40.920Z"
   },
   {
    "duration": 30,
    "start_time": "2023-04-28T19:44:40.970Z"
   },
   {
    "duration": 241,
    "start_time": "2023-04-28T19:44:41.002Z"
   },
   {
    "duration": 236,
    "start_time": "2023-04-28T19:44:41.245Z"
   },
   {
    "duration": 48,
    "start_time": "2023-04-28T19:44:41.483Z"
   },
   {
    "duration": 73,
    "start_time": "2023-04-28T19:44:41.533Z"
   },
   {
    "duration": 163,
    "start_time": "2023-04-28T19:44:41.608Z"
   },
   {
    "duration": 51,
    "start_time": "2023-04-28T19:44:41.773Z"
   },
   {
    "duration": 37,
    "start_time": "2023-04-28T19:44:41.826Z"
   },
   {
    "duration": 75,
    "start_time": "2023-04-28T19:44:41.864Z"
   },
   {
    "duration": 58,
    "start_time": "2023-04-28T19:44:41.941Z"
   },
   {
    "duration": 9,
    "start_time": "2023-04-28T19:44:42.001Z"
   },
   {
    "duration": 14,
    "start_time": "2023-04-28T19:44:42.011Z"
   },
   {
    "duration": 36,
    "start_time": "2023-04-28T19:44:42.026Z"
   },
   {
    "duration": 4,
    "start_time": "2023-04-28T19:44:42.064Z"
   },
   {
    "duration": 68,
    "start_time": "2023-04-28T19:44:42.070Z"
   },
   {
    "duration": 31,
    "start_time": "2023-04-28T19:44:42.139Z"
   },
   {
    "duration": 134,
    "start_time": "2023-04-28T19:44:42.173Z"
   },
   {
    "duration": 5,
    "start_time": "2023-04-28T19:44:42.309Z"
   },
   {
    "duration": 5,
    "start_time": "2023-04-28T19:44:42.316Z"
   },
   {
    "duration": 9,
    "start_time": "2023-04-28T19:44:42.323Z"
   },
   {
    "duration": 32,
    "start_time": "2023-04-28T19:44:42.334Z"
   },
   {
    "duration": 16,
    "start_time": "2023-04-28T19:44:42.368Z"
   },
   {
    "duration": 71,
    "start_time": "2023-04-28T19:45:49.017Z"
   },
   {
    "duration": 16,
    "start_time": "2023-04-28T19:45:59.812Z"
   },
   {
    "duration": 3,
    "start_time": "2023-04-28T19:51:39.554Z"
   },
   {
    "duration": 210,
    "start_time": "2023-04-28T19:51:39.559Z"
   },
   {
    "duration": 4,
    "start_time": "2023-04-28T19:51:39.771Z"
   },
   {
    "duration": 26,
    "start_time": "2023-04-28T19:51:39.777Z"
   },
   {
    "duration": 388,
    "start_time": "2023-04-28T19:51:39.805Z"
   },
   {
    "duration": 394,
    "start_time": "2023-04-28T19:51:40.195Z"
   },
   {
    "duration": 11,
    "start_time": "2023-04-28T19:51:40.591Z"
   },
   {
    "duration": 70,
    "start_time": "2023-04-28T19:51:40.603Z"
   },
   {
    "duration": 42,
    "start_time": "2023-04-28T19:51:40.675Z"
   },
   {
    "duration": 68,
    "start_time": "2023-04-28T19:51:40.719Z"
   },
   {
    "duration": 48,
    "start_time": "2023-04-28T19:51:40.790Z"
   },
   {
    "duration": 46,
    "start_time": "2023-04-28T19:51:40.840Z"
   },
   {
    "duration": 29,
    "start_time": "2023-04-28T19:51:40.888Z"
   },
   {
    "duration": 234,
    "start_time": "2023-04-28T19:51:40.919Z"
   },
   {
    "duration": 325,
    "start_time": "2023-04-28T19:51:41.155Z"
   },
   {
    "duration": 50,
    "start_time": "2023-04-28T19:51:41.482Z"
   },
   {
    "duration": 73,
    "start_time": "2023-04-28T19:51:41.534Z"
   },
   {
    "duration": 163,
    "start_time": "2023-04-28T19:51:41.610Z"
   },
   {
    "duration": 51,
    "start_time": "2023-04-28T19:51:41.775Z"
   },
   {
    "duration": 43,
    "start_time": "2023-04-28T19:51:41.828Z"
   },
   {
    "duration": 86,
    "start_time": "2023-04-28T19:51:41.873Z"
   },
   {
    "duration": 42,
    "start_time": "2023-04-28T19:51:41.961Z"
   },
   {
    "duration": 10,
    "start_time": "2023-04-28T19:51:42.005Z"
   },
   {
    "duration": 21,
    "start_time": "2023-04-28T19:51:42.016Z"
   },
   {
    "duration": 26,
    "start_time": "2023-04-28T19:51:42.039Z"
   },
   {
    "duration": 7,
    "start_time": "2023-04-28T19:51:42.067Z"
   },
   {
    "duration": 66,
    "start_time": "2023-04-28T19:51:42.075Z"
   },
   {
    "duration": 29,
    "start_time": "2023-04-28T19:51:42.142Z"
   },
   {
    "duration": 145,
    "start_time": "2023-04-28T19:51:42.174Z"
   },
   {
    "duration": 4,
    "start_time": "2023-04-28T19:51:42.321Z"
   },
   {
    "duration": 5,
    "start_time": "2023-04-28T19:51:42.327Z"
   },
   {
    "duration": 7,
    "start_time": "2023-04-28T19:51:42.333Z"
   },
   {
    "duration": 10,
    "start_time": "2023-04-28T19:51:42.359Z"
   },
   {
    "duration": 16,
    "start_time": "2023-04-28T19:51:42.371Z"
   },
   {
    "duration": 1353,
    "start_time": "2023-04-29T10:56:03.479Z"
   },
   {
    "duration": 922,
    "start_time": "2023-04-29T10:56:04.833Z"
   },
   {
    "duration": 3,
    "start_time": "2023-04-29T10:56:05.757Z"
   },
   {
    "duration": 28,
    "start_time": "2023-04-29T10:56:05.761Z"
   },
   {
    "duration": 334,
    "start_time": "2023-04-29T10:56:05.790Z"
   },
   {
    "duration": 361,
    "start_time": "2023-04-29T10:56:06.126Z"
   },
   {
    "duration": 12,
    "start_time": "2023-04-29T10:56:06.488Z"
   },
   {
    "duration": 47,
    "start_time": "2023-04-29T10:56:06.502Z"
   },
   {
    "duration": 45,
    "start_time": "2023-04-29T10:56:06.550Z"
   },
   {
    "duration": 42,
    "start_time": "2023-04-29T10:56:06.597Z"
   },
   {
    "duration": 56,
    "start_time": "2023-04-29T10:56:06.641Z"
   },
   {
    "duration": 22,
    "start_time": "2023-04-29T10:56:06.699Z"
   },
   {
    "duration": 24,
    "start_time": "2023-04-29T10:56:06.722Z"
   },
   {
    "duration": 281,
    "start_time": "2023-04-29T10:56:06.747Z"
   },
   {
    "duration": 208,
    "start_time": "2023-04-29T10:56:07.030Z"
   },
   {
    "duration": 39,
    "start_time": "2023-04-29T10:56:07.239Z"
   },
   {
    "duration": 61,
    "start_time": "2023-04-29T10:56:07.280Z"
   },
   {
    "duration": 166,
    "start_time": "2023-04-29T10:56:07.343Z"
   },
   {
    "duration": 40,
    "start_time": "2023-04-29T10:56:07.511Z"
   },
   {
    "duration": 18,
    "start_time": "2023-04-29T10:56:07.553Z"
   },
   {
    "duration": 87,
    "start_time": "2023-04-29T10:56:07.573Z"
   },
   {
    "duration": 458,
    "start_time": "2023-04-29T10:56:07.661Z"
   },
   {
    "duration": 9,
    "start_time": "2023-04-29T10:56:08.121Z"
   },
   {
    "duration": 9,
    "start_time": "2023-04-29T10:56:08.131Z"
   },
   {
    "duration": 10,
    "start_time": "2023-04-29T10:56:08.141Z"
   },
   {
    "duration": 41,
    "start_time": "2023-04-29T10:56:08.153Z"
   },
   {
    "duration": 115,
    "start_time": "2023-04-29T10:56:08.196Z"
   },
   {
    "duration": 129,
    "start_time": "2023-04-29T10:56:08.314Z"
   },
   {
    "duration": 4,
    "start_time": "2023-04-29T10:56:08.445Z"
   },
   {
    "duration": 7,
    "start_time": "2023-04-29T10:56:08.451Z"
   },
   {
    "duration": 5,
    "start_time": "2023-04-29T10:56:08.460Z"
   },
   {
    "duration": 158,
    "start_time": "2023-04-29T10:56:08.466Z"
   },
   {
    "duration": 0,
    "start_time": "2023-04-29T10:56:08.625Z"
   },
   {
    "duration": 9,
    "start_time": "2023-04-29T10:56:44.907Z"
   },
   {
    "duration": 2,
    "start_time": "2023-04-29T10:56:50.197Z"
   },
   {
    "duration": 145,
    "start_time": "2023-04-29T10:56:50.201Z"
   },
   {
    "duration": 3,
    "start_time": "2023-04-29T10:56:50.348Z"
   },
   {
    "duration": 32,
    "start_time": "2023-04-29T10:56:50.352Z"
   },
   {
    "duration": 337,
    "start_time": "2023-04-29T10:56:50.394Z"
   },
   {
    "duration": 343,
    "start_time": "2023-04-29T10:56:50.733Z"
   },
   {
    "duration": 18,
    "start_time": "2023-04-29T10:56:51.077Z"
   },
   {
    "duration": 54,
    "start_time": "2023-04-29T10:56:51.097Z"
   },
   {
    "duration": 57,
    "start_time": "2023-04-29T10:56:51.152Z"
   },
   {
    "duration": 49,
    "start_time": "2023-04-29T10:56:51.211Z"
   },
   {
    "duration": 74,
    "start_time": "2023-04-29T10:56:51.264Z"
   },
   {
    "duration": 23,
    "start_time": "2023-04-29T10:56:51.340Z"
   },
   {
    "duration": 44,
    "start_time": "2023-04-29T10:56:51.364Z"
   },
   {
    "duration": 263,
    "start_time": "2023-04-29T10:56:51.411Z"
   },
   {
    "duration": 203,
    "start_time": "2023-04-29T10:56:51.676Z"
   },
   {
    "duration": 41,
    "start_time": "2023-04-29T10:56:51.881Z"
   },
   {
    "duration": 55,
    "start_time": "2023-04-29T10:56:51.923Z"
   },
   {
    "duration": 121,
    "start_time": "2023-04-29T10:56:51.994Z"
   },
   {
    "duration": 41,
    "start_time": "2023-04-29T10:56:52.117Z"
   },
   {
    "duration": 35,
    "start_time": "2023-04-29T10:56:52.160Z"
   },
   {
    "duration": 69,
    "start_time": "2023-04-29T10:56:52.197Z"
   },
   {
    "duration": 52,
    "start_time": "2023-04-29T10:56:52.267Z"
   },
   {
    "duration": 9,
    "start_time": "2023-04-29T10:56:52.320Z"
   },
   {
    "duration": 33,
    "start_time": "2023-04-29T10:56:52.331Z"
   },
   {
    "duration": 19,
    "start_time": "2023-04-29T10:56:52.366Z"
   },
   {
    "duration": 5,
    "start_time": "2023-04-29T10:56:52.387Z"
   },
   {
    "duration": 70,
    "start_time": "2023-04-29T10:56:52.395Z"
   },
   {
    "duration": 116,
    "start_time": "2023-04-29T10:56:52.467Z"
   },
   {
    "duration": 12,
    "start_time": "2023-04-29T10:56:52.585Z"
   },
   {
    "duration": 5,
    "start_time": "2023-04-29T10:56:52.599Z"
   },
   {
    "duration": 5,
    "start_time": "2023-04-29T10:56:52.605Z"
   },
   {
    "duration": 18,
    "start_time": "2023-04-29T10:56:52.612Z"
   },
   {
    "duration": 1119,
    "start_time": "2023-04-29T10:56:52.631Z"
   },
   {
    "duration": 7,
    "start_time": "2023-04-29T11:00:13.154Z"
   },
   {
    "duration": 1157,
    "start_time": "2023-04-29T11:01:46.921Z"
   },
   {
    "duration": 111,
    "start_time": "2023-04-29T11:03:57.735Z"
   },
   {
    "duration": 3,
    "start_time": "2023-04-29T11:04:07.892Z"
   },
   {
    "duration": 133,
    "start_time": "2023-04-29T11:04:07.898Z"
   },
   {
    "duration": 3,
    "start_time": "2023-04-29T11:04:08.033Z"
   },
   {
    "duration": 19,
    "start_time": "2023-04-29T11:04:08.037Z"
   },
   {
    "duration": 336,
    "start_time": "2023-04-29T11:04:08.058Z"
   },
   {
    "duration": 331,
    "start_time": "2023-04-29T11:04:08.396Z"
   },
   {
    "duration": 8,
    "start_time": "2023-04-29T11:04:08.729Z"
   },
   {
    "duration": 56,
    "start_time": "2023-04-29T11:04:08.739Z"
   },
   {
    "duration": 35,
    "start_time": "2023-04-29T11:04:08.796Z"
   },
   {
    "duration": 87,
    "start_time": "2023-04-29T11:04:08.834Z"
   },
   {
    "duration": 39,
    "start_time": "2023-04-29T11:04:08.925Z"
   },
   {
    "duration": 36,
    "start_time": "2023-04-29T11:04:08.966Z"
   },
   {
    "duration": 34,
    "start_time": "2023-04-29T11:04:09.004Z"
   },
   {
    "duration": 258,
    "start_time": "2023-04-29T11:04:09.040Z"
   },
   {
    "duration": 214,
    "start_time": "2023-04-29T11:04:09.300Z"
   },
   {
    "duration": 36,
    "start_time": "2023-04-29T11:04:09.515Z"
   },
   {
    "duration": 68,
    "start_time": "2023-04-29T11:04:09.553Z"
   },
   {
    "duration": 131,
    "start_time": "2023-04-29T11:04:09.623Z"
   },
   {
    "duration": 54,
    "start_time": "2023-04-29T11:04:09.756Z"
   },
   {
    "duration": 19,
    "start_time": "2023-04-29T11:04:09.812Z"
   },
   {
    "duration": 78,
    "start_time": "2023-04-29T11:04:09.832Z"
   },
   {
    "duration": 40,
    "start_time": "2023-04-29T11:04:09.912Z"
   },
   {
    "duration": 9,
    "start_time": "2023-04-29T11:04:09.954Z"
   },
   {
    "duration": 33,
    "start_time": "2023-04-29T11:04:09.965Z"
   },
   {
    "duration": 17,
    "start_time": "2023-04-29T11:04:09.999Z"
   },
   {
    "duration": 15,
    "start_time": "2023-04-29T11:04:10.018Z"
   },
   {
    "duration": 66,
    "start_time": "2023-04-29T11:04:10.035Z"
   },
   {
    "duration": 121,
    "start_time": "2023-04-29T11:04:10.103Z"
   },
   {
    "duration": 107,
    "start_time": "2023-04-29T11:04:29.224Z"
   },
   {
    "duration": 7,
    "start_time": "2023-04-29T11:04:59.589Z"
   },
   {
    "duration": 3,
    "start_time": "2023-04-29T11:05:05.336Z"
   },
   {
    "duration": 172,
    "start_time": "2023-04-29T11:05:05.341Z"
   },
   {
    "duration": 3,
    "start_time": "2023-04-29T11:05:05.514Z"
   },
   {
    "duration": 26,
    "start_time": "2023-04-29T11:05:05.518Z"
   },
   {
    "duration": 331,
    "start_time": "2023-04-29T11:05:05.546Z"
   },
   {
    "duration": 341,
    "start_time": "2023-04-29T11:05:05.879Z"
   },
   {
    "duration": 9,
    "start_time": "2023-04-29T11:05:06.221Z"
   },
   {
    "duration": 57,
    "start_time": "2023-04-29T11:05:06.231Z"
   },
   {
    "duration": 37,
    "start_time": "2023-04-29T11:05:06.289Z"
   },
   {
    "duration": 42,
    "start_time": "2023-04-29T11:05:06.328Z"
   },
   {
    "duration": 57,
    "start_time": "2023-04-29T11:05:06.374Z"
   },
   {
    "duration": 23,
    "start_time": "2023-04-29T11:05:06.433Z"
   },
   {
    "duration": 43,
    "start_time": "2023-04-29T11:05:06.457Z"
   },
   {
    "duration": 196,
    "start_time": "2023-04-29T11:05:06.502Z"
   },
   {
    "duration": 206,
    "start_time": "2023-04-29T11:05:06.700Z"
   },
   {
    "duration": 36,
    "start_time": "2023-04-29T11:05:06.908Z"
   },
   {
    "duration": 63,
    "start_time": "2023-04-29T11:05:06.946Z"
   },
   {
    "duration": 127,
    "start_time": "2023-04-29T11:05:07.011Z"
   },
   {
    "duration": 61,
    "start_time": "2023-04-29T11:05:07.140Z"
   },
   {
    "duration": 23,
    "start_time": "2023-04-29T11:05:07.203Z"
   },
   {
    "duration": 88,
    "start_time": "2023-04-29T11:05:07.227Z"
   },
   {
    "duration": 41,
    "start_time": "2023-04-29T11:05:07.316Z"
   },
   {
    "duration": 10,
    "start_time": "2023-04-29T11:05:07.358Z"
   },
   {
    "duration": 33,
    "start_time": "2023-04-29T11:05:07.370Z"
   },
   {
    "duration": 17,
    "start_time": "2023-04-29T11:05:07.404Z"
   },
   {
    "duration": 7,
    "start_time": "2023-04-29T11:05:07.422Z"
   },
   {
    "duration": 80,
    "start_time": "2023-04-29T11:05:07.431Z"
   },
   {
    "duration": 115,
    "start_time": "2023-04-29T11:05:07.513Z"
   },
   {
    "duration": 4,
    "start_time": "2023-04-29T11:05:07.632Z"
   },
   {
    "duration": 6,
    "start_time": "2023-04-29T11:05:07.637Z"
   },
   {
    "duration": 5,
    "start_time": "2023-04-29T11:05:07.645Z"
   },
   {
    "duration": 12,
    "start_time": "2023-04-29T11:05:07.651Z"
   },
   {
    "duration": 32,
    "start_time": "2023-04-29T11:05:07.664Z"
   },
   {
    "duration": 1175,
    "start_time": "2023-04-29T11:05:07.697Z"
   },
   {
    "duration": 7,
    "start_time": "2023-04-29T11:05:35.334Z"
   },
   {
    "duration": 13,
    "start_time": "2023-04-29T11:05:56.887Z"
   },
   {
    "duration": 6,
    "start_time": "2023-04-29T11:07:32.100Z"
   },
   {
    "duration": 9,
    "start_time": "2023-04-29T11:07:41.846Z"
   },
   {
    "duration": 8,
    "start_time": "2023-04-29T11:14:51.309Z"
   },
   {
    "duration": 9,
    "start_time": "2023-04-29T11:15:08.405Z"
   },
   {
    "duration": 9,
    "start_time": "2023-04-29T11:16:19.214Z"
   },
   {
    "duration": 4,
    "start_time": "2023-04-29T11:16:24.085Z"
   },
   {
    "duration": 188,
    "start_time": "2023-04-29T11:16:24.134Z"
   },
   {
    "duration": 3,
    "start_time": "2023-04-29T11:16:24.324Z"
   },
   {
    "duration": 24,
    "start_time": "2023-04-29T11:16:24.328Z"
   },
   {
    "duration": 352,
    "start_time": "2023-04-29T11:16:24.353Z"
   },
   {
    "duration": 343,
    "start_time": "2023-04-29T11:16:24.708Z"
   },
   {
    "duration": 10,
    "start_time": "2023-04-29T11:16:25.052Z"
   },
   {
    "duration": 59,
    "start_time": "2023-04-29T11:16:25.064Z"
   },
   {
    "duration": 38,
    "start_time": "2023-04-29T11:16:25.125Z"
   },
   {
    "duration": 63,
    "start_time": "2023-04-29T11:16:25.165Z"
   },
   {
    "duration": 44,
    "start_time": "2023-04-29T11:16:25.229Z"
   },
   {
    "duration": 40,
    "start_time": "2023-04-29T11:16:25.275Z"
   },
   {
    "duration": 35,
    "start_time": "2023-04-29T11:16:25.316Z"
   },
   {
    "duration": 212,
    "start_time": "2023-04-29T11:16:25.353Z"
   },
   {
    "duration": 220,
    "start_time": "2023-04-29T11:16:25.570Z"
   },
   {
    "duration": 36,
    "start_time": "2023-04-29T11:16:25.794Z"
   },
   {
    "duration": 73,
    "start_time": "2023-04-29T11:16:25.832Z"
   },
   {
    "duration": 125,
    "start_time": "2023-04-29T11:16:25.907Z"
   },
   {
    "duration": 41,
    "start_time": "2023-04-29T11:16:26.034Z"
   },
   {
    "duration": 18,
    "start_time": "2023-04-29T11:16:26.094Z"
   },
   {
    "duration": 68,
    "start_time": "2023-04-29T11:16:26.113Z"
   },
   {
    "duration": 153,
    "start_time": "2023-04-29T11:16:26.193Z"
   },
   {
    "duration": 16,
    "start_time": "2023-04-29T11:16:26.348Z"
   },
   {
    "duration": 12,
    "start_time": "2023-04-29T11:16:26.366Z"
   },
   {
    "duration": 21,
    "start_time": "2023-04-29T11:16:26.379Z"
   },
   {
    "duration": 10,
    "start_time": "2023-04-29T11:16:26.402Z"
   },
   {
    "duration": 81,
    "start_time": "2023-04-29T11:16:26.413Z"
   },
   {
    "duration": 128,
    "start_time": "2023-04-29T11:16:26.496Z"
   },
   {
    "duration": 4,
    "start_time": "2023-04-29T11:16:26.625Z"
   },
   {
    "duration": 6,
    "start_time": "2023-04-29T11:16:26.630Z"
   },
   {
    "duration": 7,
    "start_time": "2023-04-29T11:16:26.637Z"
   },
   {
    "duration": 17,
    "start_time": "2023-04-29T11:16:26.645Z"
   },
   {
    "duration": 35,
    "start_time": "2023-04-29T11:16:26.664Z"
   },
   {
    "duration": 12,
    "start_time": "2023-04-29T11:16:26.700Z"
   },
   {
    "duration": 9,
    "start_time": "2023-04-29T11:16:26.713Z"
   },
   {
    "duration": 9,
    "start_time": "2023-04-29T11:16:26.723Z"
   },
   {
    "duration": 8,
    "start_time": "2023-04-29T11:16:40.744Z"
   },
   {
    "duration": 11,
    "start_time": "2023-04-29T11:16:44.126Z"
   },
   {
    "duration": 1087,
    "start_time": "2023-04-29T11:17:02.436Z"
   },
   {
    "duration": 146,
    "start_time": "2023-04-29T11:17:03.524Z"
   },
   {
    "duration": 3,
    "start_time": "2023-04-29T11:17:03.671Z"
   },
   {
    "duration": 22,
    "start_time": "2023-04-29T11:17:03.676Z"
   },
   {
    "duration": 341,
    "start_time": "2023-04-29T11:17:03.699Z"
   },
   {
    "duration": 396,
    "start_time": "2023-04-29T11:17:04.042Z"
   },
   {
    "duration": 9,
    "start_time": "2023-04-29T11:17:04.439Z"
   },
   {
    "duration": 49,
    "start_time": "2023-04-29T11:17:04.450Z"
   },
   {
    "duration": 35,
    "start_time": "2023-04-29T11:17:04.500Z"
   },
   {
    "duration": 58,
    "start_time": "2023-04-29T11:17:04.537Z"
   },
   {
    "duration": 41,
    "start_time": "2023-04-29T11:17:04.596Z"
   },
   {
    "duration": 22,
    "start_time": "2023-04-29T11:17:04.638Z"
   },
   {
    "duration": 46,
    "start_time": "2023-04-29T11:17:04.662Z"
   },
   {
    "duration": 268,
    "start_time": "2023-04-29T11:17:04.710Z"
   },
   {
    "duration": 192,
    "start_time": "2023-04-29T11:17:04.980Z"
   },
   {
    "duration": 42,
    "start_time": "2023-04-29T11:17:05.174Z"
   },
   {
    "duration": 52,
    "start_time": "2023-04-29T11:17:05.217Z"
   },
   {
    "duration": 145,
    "start_time": "2023-04-29T11:17:05.270Z"
   },
   {
    "duration": 47,
    "start_time": "2023-04-29T11:17:05.417Z"
   },
   {
    "duration": 29,
    "start_time": "2023-04-29T11:17:05.466Z"
   },
   {
    "duration": 72,
    "start_time": "2023-04-29T11:17:05.496Z"
   },
   {
    "duration": 411,
    "start_time": "2023-04-29T11:17:05.569Z"
   },
   {
    "duration": 10,
    "start_time": "2023-04-29T11:17:05.982Z"
   },
   {
    "duration": 21,
    "start_time": "2023-04-29T11:17:05.994Z"
   },
   {
    "duration": 49,
    "start_time": "2023-04-29T11:17:06.017Z"
   },
   {
    "duration": 46,
    "start_time": "2023-04-29T11:17:06.068Z"
   },
   {
    "duration": 92,
    "start_time": "2023-04-29T11:17:06.115Z"
   },
   {
    "duration": 118,
    "start_time": "2023-04-29T11:17:06.210Z"
   },
   {
    "duration": 4,
    "start_time": "2023-04-29T11:17:06.330Z"
   },
   {
    "duration": 4,
    "start_time": "2023-04-29T11:17:06.335Z"
   },
   {
    "duration": 7,
    "start_time": "2023-04-29T11:17:06.341Z"
   },
   {
    "duration": 14,
    "start_time": "2023-04-29T11:17:06.349Z"
   },
   {
    "duration": 31,
    "start_time": "2023-04-29T11:17:06.364Z"
   },
   {
    "duration": 14,
    "start_time": "2023-04-29T11:17:06.397Z"
   },
   {
    "duration": 11,
    "start_time": "2023-04-29T11:17:06.412Z"
   },
   {
    "duration": 15,
    "start_time": "2023-04-29T11:17:06.425Z"
   },
   {
    "duration": 3,
    "start_time": "2023-04-29T11:19:27.809Z"
   },
   {
    "duration": 146,
    "start_time": "2023-04-29T11:19:27.816Z"
   },
   {
    "duration": 3,
    "start_time": "2023-04-29T11:19:27.963Z"
   },
   {
    "duration": 27,
    "start_time": "2023-04-29T11:19:27.968Z"
   },
   {
    "duration": 356,
    "start_time": "2023-04-29T11:19:27.997Z"
   },
   {
    "duration": 340,
    "start_time": "2023-04-29T11:19:28.355Z"
   },
   {
    "duration": 10,
    "start_time": "2023-04-29T11:19:28.696Z"
   },
   {
    "duration": 55,
    "start_time": "2023-04-29T11:19:28.708Z"
   },
   {
    "duration": 48,
    "start_time": "2023-04-29T11:19:28.764Z"
   },
   {
    "duration": 40,
    "start_time": "2023-04-29T11:19:28.814Z"
   },
   {
    "duration": 62,
    "start_time": "2023-04-29T11:19:28.855Z"
   },
   {
    "duration": 24,
    "start_time": "2023-04-29T11:19:28.918Z"
   },
   {
    "duration": 25,
    "start_time": "2023-04-29T11:19:28.943Z"
   },
   {
    "duration": 217,
    "start_time": "2023-04-29T11:19:28.969Z"
   },
   {
    "duration": 206,
    "start_time": "2023-04-29T11:19:29.193Z"
   },
   {
    "duration": 42,
    "start_time": "2023-04-29T11:19:29.402Z"
   },
   {
    "duration": 71,
    "start_time": "2023-04-29T11:19:29.445Z"
   },
   {
    "duration": 129,
    "start_time": "2023-04-29T11:19:29.518Z"
   },
   {
    "duration": 49,
    "start_time": "2023-04-29T11:19:29.648Z"
   },
   {
    "duration": 23,
    "start_time": "2023-04-29T11:19:29.698Z"
   },
   {
    "duration": 80,
    "start_time": "2023-04-29T11:19:29.722Z"
   },
   {
    "duration": 40,
    "start_time": "2023-04-29T11:19:29.804Z"
   },
   {
    "duration": 8,
    "start_time": "2023-04-29T11:19:29.846Z"
   },
   {
    "duration": 14,
    "start_time": "2023-04-29T11:19:29.855Z"
   },
   {
    "duration": 30,
    "start_time": "2023-04-29T11:19:29.871Z"
   },
   {
    "duration": 4,
    "start_time": "2023-04-29T11:19:29.902Z"
   },
   {
    "duration": 61,
    "start_time": "2023-04-29T11:19:29.908Z"
   },
   {
    "duration": 131,
    "start_time": "2023-04-29T11:19:29.970Z"
   },
   {
    "duration": 3,
    "start_time": "2023-04-29T11:19:30.103Z"
   },
   {
    "duration": 7,
    "start_time": "2023-04-29T11:19:30.107Z"
   },
   {
    "duration": 33,
    "start_time": "2023-04-29T11:19:30.115Z"
   },
   {
    "duration": 45,
    "start_time": "2023-04-29T11:19:30.149Z"
   },
   {
    "duration": 19,
    "start_time": "2023-04-29T11:19:30.195Z"
   },
   {
    "duration": 44,
    "start_time": "2023-04-29T11:19:30.216Z"
   },
   {
    "duration": 32,
    "start_time": "2023-04-29T11:19:30.261Z"
   },
   {
    "duration": 19,
    "start_time": "2023-04-29T11:19:30.295Z"
   },
   {
    "duration": 3,
    "start_time": "2023-04-29T11:27:08.577Z"
   },
   {
    "duration": 191,
    "start_time": "2023-04-29T11:27:08.582Z"
   },
   {
    "duration": 3,
    "start_time": "2023-04-29T11:27:08.775Z"
   },
   {
    "duration": 17,
    "start_time": "2023-04-29T11:27:09.083Z"
   },
   {
    "duration": 372,
    "start_time": "2023-04-29T11:27:09.101Z"
   },
   {
    "duration": 376,
    "start_time": "2023-04-29T11:27:09.476Z"
   },
   {
    "duration": 10,
    "start_time": "2023-04-29T11:27:09.854Z"
   },
   {
    "duration": 55,
    "start_time": "2023-04-29T11:27:09.867Z"
   },
   {
    "duration": 37,
    "start_time": "2023-04-29T11:27:09.924Z"
   },
   {
    "duration": 64,
    "start_time": "2023-04-29T11:27:09.963Z"
   },
   {
    "duration": 41,
    "start_time": "2023-04-29T11:27:10.029Z"
   },
   {
    "duration": 33,
    "start_time": "2023-04-29T11:27:10.072Z"
   },
   {
    "duration": 23,
    "start_time": "2023-04-29T11:27:10.107Z"
   },
   {
    "duration": 207,
    "start_time": "2023-04-29T11:27:10.133Z"
   },
   {
    "duration": 195,
    "start_time": "2023-04-29T11:27:10.341Z"
   },
   {
    "duration": 34,
    "start_time": "2023-04-29T11:27:10.538Z"
   },
   {
    "duration": 59,
    "start_time": "2023-04-29T11:27:10.573Z"
   },
   {
    "duration": 128,
    "start_time": "2023-04-29T11:27:10.633Z"
   },
   {
    "duration": 50,
    "start_time": "2023-04-29T11:27:10.763Z"
   },
   {
    "duration": 20,
    "start_time": "2023-04-29T11:27:10.814Z"
   },
   {
    "duration": 79,
    "start_time": "2023-04-29T11:27:10.835Z"
   },
   {
    "duration": 39,
    "start_time": "2023-04-29T11:27:10.916Z"
   },
   {
    "duration": 8,
    "start_time": "2023-04-29T11:27:10.957Z"
   },
   {
    "duration": 29,
    "start_time": "2023-04-29T11:27:10.967Z"
   },
   {
    "duration": 14,
    "start_time": "2023-04-29T11:27:10.998Z"
   },
   {
    "duration": 3,
    "start_time": "2023-04-29T11:27:11.014Z"
   },
   {
    "duration": 77,
    "start_time": "2023-04-29T11:27:11.019Z"
   },
   {
    "duration": 117,
    "start_time": "2023-04-29T11:27:11.097Z"
   },
   {
    "duration": 2,
    "start_time": "2023-04-29T11:27:11.216Z"
   },
   {
    "duration": 8,
    "start_time": "2023-04-29T11:27:11.219Z"
   },
   {
    "duration": 9,
    "start_time": "2023-04-29T11:27:11.228Z"
   },
   {
    "duration": 11,
    "start_time": "2023-04-29T11:27:11.239Z"
   },
   {
    "duration": 10,
    "start_time": "2023-04-29T11:27:11.252Z"
   },
   {
    "duration": 12,
    "start_time": "2023-04-29T11:27:11.264Z"
   },
   {
    "duration": 8,
    "start_time": "2023-04-29T11:27:11.295Z"
   },
   {
    "duration": 10,
    "start_time": "2023-04-29T11:27:11.304Z"
   },
   {
    "duration": 7,
    "start_time": "2023-04-29T11:29:30.140Z"
   },
   {
    "duration": 4,
    "start_time": "2023-04-29T11:29:32.382Z"
   },
   {
    "duration": 207,
    "start_time": "2023-04-29T11:29:32.388Z"
   },
   {
    "duration": 3,
    "start_time": "2023-04-29T11:29:32.598Z"
   },
   {
    "duration": 23,
    "start_time": "2023-04-29T11:29:32.603Z"
   },
   {
    "duration": 378,
    "start_time": "2023-04-29T11:29:32.628Z"
   },
   {
    "duration": 336,
    "start_time": "2023-04-29T11:29:33.008Z"
   },
   {
    "duration": 12,
    "start_time": "2023-04-29T11:29:33.346Z"
   },
   {
    "duration": 62,
    "start_time": "2023-04-29T11:29:33.360Z"
   },
   {
    "duration": 47,
    "start_time": "2023-04-29T11:29:33.424Z"
   },
   {
    "duration": 58,
    "start_time": "2023-04-29T11:29:33.473Z"
   },
   {
    "duration": 41,
    "start_time": "2023-04-29T11:29:33.533Z"
   },
   {
    "duration": 22,
    "start_time": "2023-04-29T11:29:33.595Z"
   },
   {
    "duration": 22,
    "start_time": "2023-04-29T11:29:33.619Z"
   },
   {
    "duration": 209,
    "start_time": "2023-04-29T11:29:33.643Z"
   },
   {
    "duration": 214,
    "start_time": "2023-04-29T11:29:33.853Z"
   },
   {
    "duration": 56,
    "start_time": "2023-04-29T11:29:34.069Z"
   },
   {
    "duration": 94,
    "start_time": "2023-04-29T11:29:34.128Z"
   },
   {
    "duration": 150,
    "start_time": "2023-04-29T11:29:34.224Z"
   },
   {
    "duration": 49,
    "start_time": "2023-04-29T11:29:34.376Z"
   },
   {
    "duration": 22,
    "start_time": "2023-04-29T11:29:34.426Z"
   },
   {
    "duration": 106,
    "start_time": "2023-04-29T11:29:34.450Z"
   },
   {
    "duration": 59,
    "start_time": "2023-04-29T11:29:34.559Z"
   },
   {
    "duration": 11,
    "start_time": "2023-04-29T11:29:34.620Z"
   },
   {
    "duration": 25,
    "start_time": "2023-04-29T11:29:34.632Z"
   },
   {
    "duration": 24,
    "start_time": "2023-04-29T11:29:34.659Z"
   },
   {
    "duration": 12,
    "start_time": "2023-04-29T11:29:34.684Z"
   },
   {
    "duration": 66,
    "start_time": "2023-04-29T11:29:34.698Z"
   },
   {
    "duration": 116,
    "start_time": "2023-04-29T11:29:34.766Z"
   },
   {
    "duration": 12,
    "start_time": "2023-04-29T11:29:34.886Z"
   },
   {
    "duration": 5,
    "start_time": "2023-04-29T11:29:34.900Z"
   },
   {
    "duration": 22,
    "start_time": "2023-04-29T11:29:34.907Z"
   },
   {
    "duration": 140,
    "start_time": "2023-04-29T11:29:34.930Z"
   },
   {
    "duration": 0,
    "start_time": "2023-04-29T11:29:35.072Z"
   },
   {
    "duration": 0,
    "start_time": "2023-04-29T11:29:35.073Z"
   },
   {
    "duration": 0,
    "start_time": "2023-04-29T11:29:35.075Z"
   },
   {
    "duration": 0,
    "start_time": "2023-04-29T11:29:35.076Z"
   },
   {
    "duration": 11,
    "start_time": "2023-04-29T11:30:04.116Z"
   },
   {
    "duration": 8,
    "start_time": "2023-04-29T11:30:11.803Z"
   },
   {
    "duration": 4,
    "start_time": "2023-04-29T11:30:25.979Z"
   },
   {
    "duration": 174,
    "start_time": "2023-04-29T11:30:25.985Z"
   },
   {
    "duration": 3,
    "start_time": "2023-04-29T11:30:26.161Z"
   },
   {
    "duration": 33,
    "start_time": "2023-04-29T11:30:26.165Z"
   },
   {
    "duration": 368,
    "start_time": "2023-04-29T11:30:26.200Z"
   },
   {
    "duration": 365,
    "start_time": "2023-04-29T11:30:26.569Z"
   },
   {
    "duration": 10,
    "start_time": "2023-04-29T11:30:26.936Z"
   },
   {
    "duration": 58,
    "start_time": "2023-04-29T11:30:26.947Z"
   },
   {
    "duration": 35,
    "start_time": "2023-04-29T11:30:27.006Z"
   },
   {
    "duration": 64,
    "start_time": "2023-04-29T11:30:27.043Z"
   },
   {
    "duration": 42,
    "start_time": "2023-04-29T11:30:27.109Z"
   },
   {
    "duration": 43,
    "start_time": "2023-04-29T11:30:27.153Z"
   },
   {
    "duration": 23,
    "start_time": "2023-04-29T11:30:27.198Z"
   },
   {
    "duration": 233,
    "start_time": "2023-04-29T11:30:27.225Z"
   },
   {
    "duration": 227,
    "start_time": "2023-04-29T11:30:27.460Z"
   },
   {
    "duration": 53,
    "start_time": "2023-04-29T11:30:27.688Z"
   },
   {
    "duration": 79,
    "start_time": "2023-04-29T11:30:27.743Z"
   },
   {
    "duration": 142,
    "start_time": "2023-04-29T11:30:27.824Z"
   },
   {
    "duration": 54,
    "start_time": "2023-04-29T11:30:27.968Z"
   },
   {
    "duration": 20,
    "start_time": "2023-04-29T11:30:28.024Z"
   },
   {
    "duration": 96,
    "start_time": "2023-04-29T11:30:28.045Z"
   },
   {
    "duration": 155,
    "start_time": "2023-04-29T11:30:28.144Z"
   },
   {
    "duration": 11,
    "start_time": "2023-04-29T11:30:28.301Z"
   },
   {
    "duration": 15,
    "start_time": "2023-04-29T11:30:28.315Z"
   },
   {
    "duration": 21,
    "start_time": "2023-04-29T11:30:28.332Z"
   },
   {
    "duration": 40,
    "start_time": "2023-04-29T11:30:28.355Z"
   },
   {
    "duration": 91,
    "start_time": "2023-04-29T11:30:28.397Z"
   },
   {
    "duration": 129,
    "start_time": "2023-04-29T11:30:28.490Z"
   },
   {
    "duration": 4,
    "start_time": "2023-04-29T11:30:28.621Z"
   },
   {
    "duration": 5,
    "start_time": "2023-04-29T11:30:28.627Z"
   },
   {
    "duration": 9,
    "start_time": "2023-04-29T11:30:28.634Z"
   },
   {
    "duration": 12,
    "start_time": "2023-04-29T11:30:28.646Z"
   },
   {
    "duration": 35,
    "start_time": "2023-04-29T11:30:28.660Z"
   },
   {
    "duration": 9,
    "start_time": "2023-04-29T11:30:28.697Z"
   },
   {
    "duration": 11,
    "start_time": "2023-04-29T11:30:28.708Z"
   },
   {
    "duration": 0,
    "start_time": "2023-04-29T11:30:28.720Z"
   },
   {
    "duration": 4,
    "start_time": "2023-04-29T12:05:41.025Z"
   },
   {
    "duration": 152,
    "start_time": "2023-04-29T12:05:41.031Z"
   },
   {
    "duration": 3,
    "start_time": "2023-04-29T12:05:41.185Z"
   },
   {
    "duration": 32,
    "start_time": "2023-04-29T12:05:41.189Z"
   },
   {
    "duration": 384,
    "start_time": "2023-04-29T12:05:41.942Z"
   },
   {
    "duration": 411,
    "start_time": "2023-04-29T12:05:42.328Z"
   },
   {
    "duration": 10,
    "start_time": "2023-04-29T12:05:42.741Z"
   },
   {
    "duration": 68,
    "start_time": "2023-04-29T12:05:42.752Z"
   },
   {
    "duration": 42,
    "start_time": "2023-04-29T12:05:42.823Z"
   },
   {
    "duration": 79,
    "start_time": "2023-04-29T12:05:42.867Z"
   },
   {
    "duration": 61,
    "start_time": "2023-04-29T12:05:42.948Z"
   },
   {
    "duration": 28,
    "start_time": "2023-04-29T12:05:43.011Z"
   },
   {
    "duration": 27,
    "start_time": "2023-04-29T12:05:43.040Z"
   },
   {
    "duration": 245,
    "start_time": "2023-04-29T12:05:43.068Z"
   },
   {
    "duration": 232,
    "start_time": "2023-04-29T12:05:43.315Z"
   },
   {
    "duration": 53,
    "start_time": "2023-04-29T12:05:43.549Z"
   },
   {
    "duration": 75,
    "start_time": "2023-04-29T12:05:43.608Z"
   },
   {
    "duration": 146,
    "start_time": "2023-04-29T12:05:43.687Z"
   },
   {
    "duration": 45,
    "start_time": "2023-04-29T12:05:43.835Z"
   },
   {
    "duration": 35,
    "start_time": "2023-04-29T12:05:43.881Z"
   },
   {
    "duration": 94,
    "start_time": "2023-04-29T12:05:43.917Z"
   },
   {
    "duration": 51,
    "start_time": "2023-04-29T12:05:44.013Z"
   },
   {
    "duration": 17,
    "start_time": "2023-04-29T12:05:44.066Z"
   },
   {
    "duration": 24,
    "start_time": "2023-04-29T12:05:44.085Z"
   },
   {
    "duration": 19,
    "start_time": "2023-04-29T12:05:44.110Z"
   },
   {
    "duration": 7,
    "start_time": "2023-04-29T12:05:44.131Z"
   },
   {
    "duration": 94,
    "start_time": "2023-04-29T12:05:44.141Z"
   },
   {
    "duration": 159,
    "start_time": "2023-04-29T12:05:44.237Z"
   },
   {
    "duration": 11,
    "start_time": "2023-04-29T12:05:44.400Z"
   },
   {
    "duration": 5,
    "start_time": "2023-04-29T12:05:44.412Z"
   },
   {
    "duration": 7,
    "start_time": "2023-04-29T12:05:44.419Z"
   },
   {
    "duration": 13,
    "start_time": "2023-04-29T12:05:44.427Z"
   },
   {
    "duration": 12,
    "start_time": "2023-04-29T12:05:44.441Z"
   },
   {
    "duration": 17,
    "start_time": "2023-04-29T12:05:44.455Z"
   },
   {
    "duration": 31,
    "start_time": "2023-04-29T12:05:44.473Z"
   },
   {
    "duration": 0,
    "start_time": "2023-04-29T12:05:44.509Z"
   },
   {
    "duration": 3,
    "start_time": "2023-04-29T12:06:30.347Z"
   },
   {
    "duration": 177,
    "start_time": "2023-04-29T12:06:30.352Z"
   },
   {
    "duration": 3,
    "start_time": "2023-04-29T12:06:30.531Z"
   },
   {
    "duration": 53,
    "start_time": "2023-04-29T12:06:30.536Z"
   },
   {
    "duration": 393,
    "start_time": "2023-04-29T12:06:30.591Z"
   },
   {
    "duration": 367,
    "start_time": "2023-04-29T12:06:30.986Z"
   },
   {
    "duration": 10,
    "start_time": "2023-04-29T12:06:31.354Z"
   },
   {
    "duration": 116,
    "start_time": "2023-04-29T12:06:31.366Z"
   },
   {
    "duration": 46,
    "start_time": "2023-04-29T12:06:31.485Z"
   },
   {
    "duration": 58,
    "start_time": "2023-04-29T12:06:31.533Z"
   },
   {
    "duration": 50,
    "start_time": "2023-04-29T12:06:31.593Z"
   },
   {
    "duration": 24,
    "start_time": "2023-04-29T12:06:31.644Z"
   },
   {
    "duration": 50,
    "start_time": "2023-04-29T12:06:31.670Z"
   },
   {
    "duration": 221,
    "start_time": "2023-04-29T12:06:31.721Z"
   },
   {
    "duration": 218,
    "start_time": "2023-04-29T12:06:31.944Z"
   },
   {
    "duration": 52,
    "start_time": "2023-04-29T12:06:32.163Z"
   },
   {
    "duration": 55,
    "start_time": "2023-04-29T12:06:32.217Z"
   },
   {
    "duration": 150,
    "start_time": "2023-04-29T12:06:32.273Z"
   },
   {
    "duration": 48,
    "start_time": "2023-04-29T12:06:32.425Z"
   },
   {
    "duration": 41,
    "start_time": "2023-04-29T12:06:32.475Z"
   },
   {
    "duration": 94,
    "start_time": "2023-04-29T12:06:32.518Z"
   },
   {
    "duration": 41,
    "start_time": "2023-04-29T12:06:32.614Z"
   },
   {
    "duration": 9,
    "start_time": "2023-04-29T12:06:32.657Z"
   },
   {
    "duration": 20,
    "start_time": "2023-04-29T12:06:32.668Z"
   },
   {
    "duration": 33,
    "start_time": "2023-04-29T12:06:32.690Z"
   },
   {
    "duration": 21,
    "start_time": "2023-04-29T12:06:32.725Z"
   },
   {
    "duration": 87,
    "start_time": "2023-04-29T12:06:32.747Z"
   },
   {
    "duration": 123,
    "start_time": "2023-04-29T12:06:32.836Z"
   },
   {
    "duration": 3,
    "start_time": "2023-04-29T12:06:32.961Z"
   },
   {
    "duration": 25,
    "start_time": "2023-04-29T12:06:32.966Z"
   },
   {
    "duration": 30,
    "start_time": "2023-04-29T12:06:32.993Z"
   },
   {
    "duration": 40,
    "start_time": "2023-04-29T12:06:33.024Z"
   },
   {
    "duration": 48,
    "start_time": "2023-04-29T12:06:33.066Z"
   },
   {
    "duration": 31,
    "start_time": "2023-04-29T12:06:33.116Z"
   },
   {
    "duration": 43,
    "start_time": "2023-04-29T12:06:33.149Z"
   },
   {
    "duration": 13,
    "start_time": "2023-04-29T12:06:33.193Z"
   },
   {
    "duration": 3,
    "start_time": "2023-04-29T12:28:14.417Z"
   },
   {
    "duration": 156,
    "start_time": "2023-04-29T12:28:14.423Z"
   },
   {
    "duration": 2,
    "start_time": "2023-04-29T12:28:14.581Z"
   },
   {
    "duration": 22,
    "start_time": "2023-04-29T12:28:14.598Z"
   },
   {
    "duration": 400,
    "start_time": "2023-04-29T12:28:14.622Z"
   },
   {
    "duration": 483,
    "start_time": "2023-04-29T12:28:15.024Z"
   },
   {
    "duration": 10,
    "start_time": "2023-04-29T12:28:15.509Z"
   },
   {
    "duration": 51,
    "start_time": "2023-04-29T12:28:15.520Z"
   },
   {
    "duration": 51,
    "start_time": "2023-04-29T12:28:15.573Z"
   },
   {
    "duration": 47,
    "start_time": "2023-04-29T12:28:15.625Z"
   },
   {
    "duration": 53,
    "start_time": "2023-04-29T12:28:15.673Z"
   },
   {
    "duration": 27,
    "start_time": "2023-04-29T12:28:15.728Z"
   },
   {
    "duration": 63,
    "start_time": "2023-04-29T12:28:15.756Z"
   },
   {
    "duration": 229,
    "start_time": "2023-04-29T12:28:15.822Z"
   },
   {
    "duration": 226,
    "start_time": "2023-04-29T12:28:16.053Z"
   },
   {
    "duration": 49,
    "start_time": "2023-04-29T12:28:16.281Z"
   },
   {
    "duration": 72,
    "start_time": "2023-04-29T12:28:16.332Z"
   },
   {
    "duration": 129,
    "start_time": "2023-04-29T12:28:16.411Z"
   },
   {
    "duration": 55,
    "start_time": "2023-04-29T12:28:16.542Z"
   },
   {
    "duration": 27,
    "start_time": "2023-04-29T12:28:16.598Z"
   },
   {
    "duration": 87,
    "start_time": "2023-04-29T12:28:16.627Z"
   },
   {
    "duration": 45,
    "start_time": "2023-04-29T12:28:16.716Z"
   },
   {
    "duration": 9,
    "start_time": "2023-04-29T12:28:16.763Z"
   },
   {
    "duration": 36,
    "start_time": "2023-04-29T12:28:16.774Z"
   },
   {
    "duration": 16,
    "start_time": "2023-04-29T12:28:16.811Z"
   },
   {
    "duration": 6,
    "start_time": "2023-04-29T12:28:16.830Z"
   },
   {
    "duration": 88,
    "start_time": "2023-04-29T12:28:16.839Z"
   },
   {
    "duration": 121,
    "start_time": "2023-04-29T12:28:16.929Z"
   },
   {
    "duration": 4,
    "start_time": "2023-04-29T12:28:17.051Z"
   },
   {
    "duration": 9,
    "start_time": "2023-04-29T12:28:17.056Z"
   },
   {
    "duration": 6,
    "start_time": "2023-04-29T12:28:17.067Z"
   },
   {
    "duration": 27,
    "start_time": "2023-04-29T12:28:17.074Z"
   },
   {
    "duration": 14,
    "start_time": "2023-04-29T12:28:17.103Z"
   },
   {
    "duration": 10,
    "start_time": "2023-04-29T12:28:17.119Z"
   },
   {
    "duration": 17,
    "start_time": "2023-04-29T12:28:17.131Z"
   },
   {
    "duration": 14,
    "start_time": "2023-04-29T12:28:17.150Z"
   },
   {
    "duration": 11,
    "start_time": "2023-04-29T13:54:01.629Z"
   },
   {
    "duration": 1199,
    "start_time": "2023-04-29T13:54:32.780Z"
   },
   {
    "duration": 13,
    "start_time": "2023-04-29T13:55:01.341Z"
   },
   {
    "duration": 40,
    "start_time": "2023-04-29T13:55:12.043Z"
   },
   {
    "duration": 83,
    "start_time": "2023-04-29T13:55:27.933Z"
   },
   {
    "duration": 39,
    "start_time": "2023-04-29T13:56:33.725Z"
   },
   {
    "duration": 3,
    "start_time": "2023-04-29T13:58:15.033Z"
   },
   {
    "duration": 170,
    "start_time": "2023-04-29T13:58:15.038Z"
   },
   {
    "duration": 2,
    "start_time": "2023-04-29T13:58:15.210Z"
   },
   {
    "duration": 22,
    "start_time": "2023-04-29T13:58:15.214Z"
   },
   {
    "duration": 367,
    "start_time": "2023-04-29T13:58:15.239Z"
   },
   {
    "duration": 368,
    "start_time": "2023-04-29T13:58:15.608Z"
   },
   {
    "duration": 17,
    "start_time": "2023-04-29T13:58:15.978Z"
   },
   {
    "duration": 42,
    "start_time": "2023-04-29T13:58:15.997Z"
   },
   {
    "duration": 57,
    "start_time": "2023-04-29T13:58:16.041Z"
   },
   {
    "duration": 46,
    "start_time": "2023-04-29T13:58:16.100Z"
   },
   {
    "duration": 62,
    "start_time": "2023-04-29T13:58:16.148Z"
   },
   {
    "duration": 24,
    "start_time": "2023-04-29T13:58:16.211Z"
   },
   {
    "duration": 29,
    "start_time": "2023-04-29T13:58:16.237Z"
   },
   {
    "duration": 211,
    "start_time": "2023-04-29T13:58:16.268Z"
   },
   {
    "duration": 205,
    "start_time": "2023-04-29T13:58:16.480Z"
   },
   {
    "duration": 36,
    "start_time": "2023-04-29T13:58:16.694Z"
   },
   {
    "duration": 64,
    "start_time": "2023-04-29T13:58:16.732Z"
   },
   {
    "duration": 146,
    "start_time": "2023-04-29T13:58:16.798Z"
   },
   {
    "duration": 53,
    "start_time": "2023-04-29T13:58:16.945Z"
   },
   {
    "duration": 24,
    "start_time": "2023-04-29T13:58:17.000Z"
   },
   {
    "duration": 86,
    "start_time": "2023-04-29T13:58:17.026Z"
   },
   {
    "duration": 47,
    "start_time": "2023-04-29T13:58:17.113Z"
   },
   {
    "duration": 53,
    "start_time": "2023-04-29T13:58:17.162Z"
   },
   {
    "duration": 12,
    "start_time": "2023-04-29T13:58:17.217Z"
   },
   {
    "duration": 14,
    "start_time": "2023-04-29T13:58:17.230Z"
   },
   {
    "duration": 4,
    "start_time": "2023-04-29T13:58:17.246Z"
   },
   {
    "duration": 89,
    "start_time": "2023-04-29T13:58:17.251Z"
   },
   {
    "duration": 129,
    "start_time": "2023-04-29T13:58:17.342Z"
   },
   {
    "duration": 3,
    "start_time": "2023-04-29T13:58:17.474Z"
   },
   {
    "duration": 15,
    "start_time": "2023-04-29T13:58:17.479Z"
   },
   {
    "duration": 4,
    "start_time": "2023-04-29T13:58:17.496Z"
   },
   {
    "duration": 13,
    "start_time": "2023-04-29T13:58:17.502Z"
   },
   {
    "duration": 30,
    "start_time": "2023-04-29T13:58:17.516Z"
   },
   {
    "duration": 24,
    "start_time": "2023-04-29T13:58:17.548Z"
   },
   {
    "duration": 23,
    "start_time": "2023-04-29T13:58:17.573Z"
   },
   {
    "duration": 15,
    "start_time": "2023-04-29T13:58:17.598Z"
   },
   {
    "duration": 3,
    "start_time": "2023-04-29T14:12:08.915Z"
   },
   {
    "duration": 148,
    "start_time": "2023-04-29T14:12:08.921Z"
   },
   {
    "duration": 3,
    "start_time": "2023-04-29T14:12:09.070Z"
   },
   {
    "duration": 18,
    "start_time": "2023-04-29T14:12:09.094Z"
   },
   {
    "duration": 407,
    "start_time": "2023-04-29T14:12:09.114Z"
   },
   {
    "duration": 345,
    "start_time": "2023-04-29T14:12:09.523Z"
   },
   {
    "duration": 25,
    "start_time": "2023-04-29T14:12:09.869Z"
   },
   {
    "duration": 47,
    "start_time": "2023-04-29T14:12:09.896Z"
   },
   {
    "duration": 52,
    "start_time": "2023-04-29T14:12:09.946Z"
   },
   {
    "duration": 48,
    "start_time": "2023-04-29T14:12:10.000Z"
   },
   {
    "duration": 65,
    "start_time": "2023-04-29T14:12:10.049Z"
   },
   {
    "duration": 22,
    "start_time": "2023-04-29T14:12:10.115Z"
   },
   {
    "duration": 23,
    "start_time": "2023-04-29T14:12:10.139Z"
   },
   {
    "duration": 211,
    "start_time": "2023-04-29T14:12:10.164Z"
   },
   {
    "duration": 308,
    "start_time": "2023-04-29T14:12:10.377Z"
   },
   {
    "duration": 40,
    "start_time": "2023-04-29T14:12:10.687Z"
   },
   {
    "duration": 67,
    "start_time": "2023-04-29T14:12:10.728Z"
   },
   {
    "duration": 131,
    "start_time": "2023-04-29T14:12:10.797Z"
   },
   {
    "duration": 42,
    "start_time": "2023-04-29T14:12:10.929Z"
   },
   {
    "duration": 34,
    "start_time": "2023-04-29T14:12:10.973Z"
   },
   {
    "duration": 70,
    "start_time": "2023-04-29T14:12:11.009Z"
   },
   {
    "duration": 41,
    "start_time": "2023-04-29T14:12:11.095Z"
   },
   {
    "duration": 10,
    "start_time": "2023-04-29T14:12:11.138Z"
   },
   {
    "duration": 12,
    "start_time": "2023-04-29T14:12:11.150Z"
   },
   {
    "duration": 68,
    "start_time": "2023-04-29T14:12:11.164Z"
   },
   {
    "duration": 5,
    "start_time": "2023-04-29T14:12:11.234Z"
   },
   {
    "duration": 104,
    "start_time": "2023-04-29T14:12:11.241Z"
   },
   {
    "duration": 170,
    "start_time": "2023-04-29T14:12:11.347Z"
   },
   {
    "duration": 5,
    "start_time": "2023-04-29T14:12:11.519Z"
   },
   {
    "duration": 9,
    "start_time": "2023-04-29T14:12:11.526Z"
   },
   {
    "duration": 6,
    "start_time": "2023-04-29T14:12:11.538Z"
   },
   {
    "duration": 18,
    "start_time": "2023-04-29T14:12:11.546Z"
   },
   {
    "duration": 37,
    "start_time": "2023-04-29T14:12:11.566Z"
   },
   {
    "duration": 13,
    "start_time": "2023-04-29T14:12:11.604Z"
   },
   {
    "duration": 8,
    "start_time": "2023-04-29T14:12:11.619Z"
   },
   {
    "duration": 8,
    "start_time": "2023-04-29T14:12:11.629Z"
   },
   {
    "duration": 4,
    "start_time": "2023-04-29T14:17:03.132Z"
   },
   {
    "duration": 162,
    "start_time": "2023-04-29T14:17:03.138Z"
   },
   {
    "duration": 8,
    "start_time": "2023-04-29T14:17:03.301Z"
   },
   {
    "duration": 24,
    "start_time": "2023-04-29T14:17:03.313Z"
   },
   {
    "duration": 423,
    "start_time": "2023-04-29T14:17:03.339Z"
   },
   {
    "duration": 389,
    "start_time": "2023-04-29T14:17:03.764Z"
   },
   {
    "duration": 11,
    "start_time": "2023-04-29T14:17:04.155Z"
   },
   {
    "duration": 74,
    "start_time": "2023-04-29T14:17:04.168Z"
   },
   {
    "duration": 64,
    "start_time": "2023-04-29T14:17:04.245Z"
   },
   {
    "duration": 51,
    "start_time": "2023-04-29T14:17:04.312Z"
   },
   {
    "duration": 68,
    "start_time": "2023-04-29T14:17:04.365Z"
   },
   {
    "duration": 40,
    "start_time": "2023-04-29T14:17:04.435Z"
   },
   {
    "duration": 32,
    "start_time": "2023-04-29T14:17:04.495Z"
   },
   {
    "duration": 224,
    "start_time": "2023-04-29T14:17:04.529Z"
   },
   {
    "duration": 242,
    "start_time": "2023-04-29T14:17:04.754Z"
   },
   {
    "duration": 54,
    "start_time": "2023-04-29T14:17:05.003Z"
   },
   {
    "duration": 66,
    "start_time": "2023-04-29T14:17:05.059Z"
   },
   {
    "duration": 137,
    "start_time": "2023-04-29T14:17:05.127Z"
   },
   {
    "duration": 62,
    "start_time": "2023-04-29T14:17:05.265Z"
   },
   {
    "duration": 19,
    "start_time": "2023-04-29T14:17:05.330Z"
   },
   {
    "duration": 100,
    "start_time": "2023-04-29T14:17:05.350Z"
   },
   {
    "duration": 56,
    "start_time": "2023-04-29T14:17:05.453Z"
   },
   {
    "duration": 13,
    "start_time": "2023-04-29T14:17:05.511Z"
   },
   {
    "duration": 14,
    "start_time": "2023-04-29T14:17:05.526Z"
   },
   {
    "duration": 79,
    "start_time": "2023-04-29T14:17:05.541Z"
   },
   {
    "duration": 5,
    "start_time": "2023-04-29T14:17:05.622Z"
   },
   {
    "duration": 86,
    "start_time": "2023-04-29T14:17:05.629Z"
   },
   {
    "duration": 141,
    "start_time": "2023-04-29T14:17:05.716Z"
   },
   {
    "duration": 4,
    "start_time": "2023-04-29T14:17:05.859Z"
   },
   {
    "duration": 24,
    "start_time": "2023-04-29T14:17:05.864Z"
   },
   {
    "duration": 29,
    "start_time": "2023-04-29T14:17:05.890Z"
   },
   {
    "duration": 20,
    "start_time": "2023-04-29T14:17:05.921Z"
   },
   {
    "duration": 16,
    "start_time": "2023-04-29T14:17:05.943Z"
   },
   {
    "duration": 47,
    "start_time": "2023-04-29T14:17:05.961Z"
   },
   {
    "duration": 10,
    "start_time": "2023-04-29T14:17:06.015Z"
   },
   {
    "duration": 27,
    "start_time": "2023-04-29T14:17:06.027Z"
   },
   {
    "duration": 1216,
    "start_time": "2023-04-29T19:15:13.896Z"
   },
   {
    "duration": 151,
    "start_time": "2023-04-29T19:15:15.114Z"
   },
   {
    "duration": 3,
    "start_time": "2023-04-29T19:15:15.266Z"
   },
   {
    "duration": 28,
    "start_time": "2023-04-29T19:15:15.270Z"
   },
   {
    "duration": 335,
    "start_time": "2023-04-29T19:15:15.300Z"
   },
   {
    "duration": 358,
    "start_time": "2023-04-29T19:15:15.637Z"
   },
   {
    "duration": 10,
    "start_time": "2023-04-29T19:15:15.997Z"
   },
   {
    "duration": 44,
    "start_time": "2023-04-29T19:15:16.008Z"
   },
   {
    "duration": 53,
    "start_time": "2023-04-29T19:15:16.053Z"
   },
   {
    "duration": 42,
    "start_time": "2023-04-29T19:15:16.108Z"
   },
   {
    "duration": 55,
    "start_time": "2023-04-29T19:15:16.151Z"
   },
   {
    "duration": 23,
    "start_time": "2023-04-29T19:15:16.207Z"
   },
   {
    "duration": 24,
    "start_time": "2023-04-29T19:15:16.232Z"
   },
   {
    "duration": 274,
    "start_time": "2023-04-29T19:15:16.259Z"
   },
   {
    "duration": 185,
    "start_time": "2023-04-29T19:15:16.534Z"
   },
   {
    "duration": 36,
    "start_time": "2023-04-29T19:15:16.721Z"
   },
   {
    "duration": 61,
    "start_time": "2023-04-29T19:15:16.759Z"
   },
   {
    "duration": 122,
    "start_time": "2023-04-29T19:15:16.821Z"
   },
   {
    "duration": 51,
    "start_time": "2023-04-29T19:15:16.945Z"
   },
   {
    "duration": 18,
    "start_time": "2023-04-29T19:15:16.997Z"
   },
   {
    "duration": 86,
    "start_time": "2023-04-29T19:15:17.017Z"
   },
   {
    "duration": 41,
    "start_time": "2023-04-29T19:15:17.104Z"
   },
   {
    "duration": 12,
    "start_time": "2023-04-29T19:15:17.146Z"
   },
   {
    "duration": 35,
    "start_time": "2023-04-29T19:15:17.159Z"
   },
   {
    "duration": 514,
    "start_time": "2023-04-29T19:15:17.196Z"
   },
   {
    "duration": 4,
    "start_time": "2023-04-29T19:15:17.712Z"
   },
   {
    "duration": 113,
    "start_time": "2023-04-29T19:15:17.717Z"
   },
   {
    "duration": 139,
    "start_time": "2023-04-29T19:15:17.832Z"
   },
   {
    "duration": 5,
    "start_time": "2023-04-29T19:15:17.972Z"
   },
   {
    "duration": 16,
    "start_time": "2023-04-29T19:15:17.978Z"
   },
   {
    "duration": 23,
    "start_time": "2023-04-29T19:15:17.995Z"
   },
   {
    "duration": 14,
    "start_time": "2023-04-29T19:15:18.019Z"
   },
   {
    "duration": 22,
    "start_time": "2023-04-29T19:15:18.034Z"
   },
   {
    "duration": 21,
    "start_time": "2023-04-29T19:15:18.057Z"
   },
   {
    "duration": 10,
    "start_time": "2023-04-29T19:15:18.079Z"
   },
   {
    "duration": 21,
    "start_time": "2023-04-29T19:15:18.091Z"
   },
   {
    "duration": 45,
    "start_time": "2023-04-30T18:01:39.349Z"
   },
   {
    "duration": 1288,
    "start_time": "2023-04-30T18:01:44.724Z"
   },
   {
    "duration": 558,
    "start_time": "2023-04-30T18:01:46.014Z"
   },
   {
    "duration": 3,
    "start_time": "2023-04-30T18:01:46.574Z"
   },
   {
    "duration": 38,
    "start_time": "2023-04-30T18:01:46.578Z"
   },
   {
    "duration": 22,
    "start_time": "2023-04-30T18:01:46.618Z"
   },
   {
    "duration": 58,
    "start_time": "2023-04-30T18:03:09.550Z"
   },
   {
    "duration": 5,
    "start_time": "2023-04-30T18:03:13.050Z"
   },
   {
    "duration": 268,
    "start_time": "2023-04-30T18:03:34.894Z"
   },
   {
    "duration": 258,
    "start_time": "2023-04-30T18:03:42.523Z"
   },
   {
    "duration": 239,
    "start_time": "2023-04-30T18:03:51.725Z"
   },
   {
    "duration": 222,
    "start_time": "2023-04-30T18:03:57.825Z"
   },
   {
    "duration": 7,
    "start_time": "2023-04-30T18:04:06.933Z"
   },
   {
    "duration": 223,
    "start_time": "2023-04-30T18:04:06.941Z"
   },
   {
    "duration": 4,
    "start_time": "2023-04-30T18:04:07.166Z"
   },
   {
    "duration": 74,
    "start_time": "2023-04-30T18:04:07.174Z"
   },
   {
    "duration": 443,
    "start_time": "2023-04-30T18:04:07.251Z"
   },
   {
    "duration": 500,
    "start_time": "2023-04-30T18:04:07.696Z"
   },
   {
    "duration": 423,
    "start_time": "2023-04-30T18:04:14.169Z"
   },
   {
    "duration": 8,
    "start_time": "2023-04-30T18:04:16.830Z"
   },
   {
    "duration": 191,
    "start_time": "2023-04-30T18:04:16.840Z"
   },
   {
    "duration": 10,
    "start_time": "2023-04-30T18:04:17.033Z"
   },
   {
    "duration": 38,
    "start_time": "2023-04-30T18:04:17.047Z"
   },
   {
    "duration": 361,
    "start_time": "2023-04-30T18:04:17.087Z"
   },
   {
    "duration": 416,
    "start_time": "2023-04-30T18:04:17.450Z"
   },
   {
    "duration": 208,
    "start_time": "2023-04-30T18:04:35.720Z"
   },
   {
    "duration": 219,
    "start_time": "2023-04-30T18:05:20.230Z"
   },
   {
    "duration": 70,
    "start_time": "2023-04-30T18:21:05.959Z"
   },
   {
    "duration": 79,
    "start_time": "2023-04-30T18:21:09.315Z"
   },
   {
    "duration": 2,
    "start_time": "2023-04-30T18:21:11.609Z"
   },
   {
    "duration": 178,
    "start_time": "2023-04-30T18:21:11.614Z"
   },
   {
    "duration": 3,
    "start_time": "2023-04-30T18:21:11.793Z"
   },
   {
    "duration": 57,
    "start_time": "2023-04-30T18:21:11.797Z"
   },
   {
    "duration": 343,
    "start_time": "2023-04-30T18:21:11.861Z"
   },
   {
    "duration": 203,
    "start_time": "2023-04-30T18:21:12.206Z"
   },
   {
    "duration": 242,
    "start_time": "2023-04-30T18:21:12.410Z"
   },
   {
    "duration": 11,
    "start_time": "2023-04-30T18:21:12.654Z"
   },
   {
    "duration": 88,
    "start_time": "2023-04-30T18:21:12.666Z"
   },
   {
    "duration": 41,
    "start_time": "2023-04-30T18:23:11.559Z"
   },
   {
    "duration": 4,
    "start_time": "2023-04-30T18:27:59.824Z"
   },
   {
    "duration": 181,
    "start_time": "2023-04-30T18:27:59.830Z"
   },
   {
    "duration": 2,
    "start_time": "2023-04-30T18:28:00.013Z"
   },
   {
    "duration": 64,
    "start_time": "2023-04-30T18:28:00.017Z"
   },
   {
    "duration": 376,
    "start_time": "2023-04-30T18:28:00.083Z"
   },
   {
    "duration": 215,
    "start_time": "2023-04-30T18:28:00.463Z"
   },
   {
    "duration": 266,
    "start_time": "2023-04-30T18:28:00.681Z"
   },
   {
    "duration": 11,
    "start_time": "2023-04-30T18:28:00.948Z"
   },
   {
    "duration": 113,
    "start_time": "2023-04-30T18:28:00.961Z"
   },
   {
    "duration": 47,
    "start_time": "2023-04-30T18:28:01.076Z"
   },
   {
    "duration": 52,
    "start_time": "2023-04-30T18:28:01.125Z"
   },
   {
    "duration": 74,
    "start_time": "2023-04-30T18:28:01.178Z"
   },
   {
    "duration": 47,
    "start_time": "2023-04-30T18:28:01.255Z"
   },
   {
    "duration": 26,
    "start_time": "2023-04-30T18:28:01.304Z"
   },
   {
    "duration": 62,
    "start_time": "2023-04-30T18:28:01.332Z"
   },
   {
    "duration": 291,
    "start_time": "2023-04-30T18:28:01.396Z"
   },
   {
    "duration": 204,
    "start_time": "2023-04-30T18:28:01.688Z"
   },
   {
    "duration": 59,
    "start_time": "2023-04-30T18:28:01.894Z"
   },
   {
    "duration": 53,
    "start_time": "2023-04-30T18:28:01.958Z"
   },
   {
    "duration": 169,
    "start_time": "2023-04-30T18:28:02.013Z"
   },
   {
    "duration": 62,
    "start_time": "2023-04-30T18:28:02.185Z"
   },
   {
    "duration": 4,
    "start_time": "2023-04-30T18:32:03.259Z"
   },
   {
    "duration": 239,
    "start_time": "2023-04-30T18:32:03.265Z"
   },
   {
    "duration": 3,
    "start_time": "2023-04-30T18:32:03.506Z"
   },
   {
    "duration": 45,
    "start_time": "2023-04-30T18:32:03.512Z"
   },
   {
    "duration": 469,
    "start_time": "2023-04-30T18:32:03.559Z"
   },
   {
    "duration": 288,
    "start_time": "2023-04-30T18:32:04.030Z"
   },
   {
    "duration": 309,
    "start_time": "2023-04-30T18:32:04.320Z"
   },
   {
    "duration": 16,
    "start_time": "2023-04-30T18:32:04.630Z"
   },
   {
    "duration": 152,
    "start_time": "2023-04-30T18:32:04.650Z"
   },
   {
    "duration": 68,
    "start_time": "2023-04-30T18:32:04.806Z"
   },
   {
    "duration": 46,
    "start_time": "2023-04-30T18:32:04.876Z"
   },
   {
    "duration": 68,
    "start_time": "2023-04-30T18:32:04.935Z"
   },
   {
    "duration": 72,
    "start_time": "2023-04-30T18:32:05.005Z"
   },
   {
    "duration": 31,
    "start_time": "2023-04-30T18:32:05.078Z"
   },
   {
    "duration": 95,
    "start_time": "2023-04-30T18:32:05.112Z"
   },
   {
    "duration": 213,
    "start_time": "2023-04-30T18:32:05.208Z"
   },
   {
    "duration": 279,
    "start_time": "2023-04-30T18:32:05.424Z"
   },
   {
    "duration": 73,
    "start_time": "2023-04-30T18:32:05.705Z"
   },
   {
    "duration": 184,
    "start_time": "2023-04-30T18:32:05.780Z"
   },
   {
    "duration": 47,
    "start_time": "2023-04-30T18:32:05.965Z"
   },
   {
    "duration": 58,
    "start_time": "2023-04-30T18:32:06.014Z"
   },
   {
    "duration": 103,
    "start_time": "2023-04-30T18:32:06.078Z"
   },
   {
    "duration": 60,
    "start_time": "2023-04-30T18:32:06.183Z"
   },
   {
    "duration": 12,
    "start_time": "2023-04-30T18:32:06.247Z"
   },
   {
    "duration": 29,
    "start_time": "2023-04-30T18:32:06.261Z"
   },
   {
    "duration": 537,
    "start_time": "2023-04-30T18:32:06.292Z"
   },
   {
    "duration": 6,
    "start_time": "2023-04-30T18:32:06.831Z"
   },
   {
    "duration": 155,
    "start_time": "2023-04-30T18:32:06.842Z"
   },
   {
    "duration": 166,
    "start_time": "2023-04-30T18:32:06.999Z"
   },
   {
    "duration": 3,
    "start_time": "2023-04-30T18:32:07.167Z"
   },
   {
    "duration": 11,
    "start_time": "2023-04-30T18:32:07.172Z"
   },
   {
    "duration": 18,
    "start_time": "2023-04-30T18:32:07.184Z"
   },
   {
    "duration": 20,
    "start_time": "2023-04-30T18:32:07.203Z"
   },
   {
    "duration": 30,
    "start_time": "2023-04-30T18:32:07.225Z"
   },
   {
    "duration": 19,
    "start_time": "2023-04-30T18:32:07.259Z"
   },
   {
    "duration": 15,
    "start_time": "2023-04-30T18:32:07.280Z"
   },
   {
    "duration": 11,
    "start_time": "2023-04-30T18:32:07.297Z"
   },
   {
    "duration": 4,
    "start_time": "2023-04-30T18:47:05.172Z"
   },
   {
    "duration": 199,
    "start_time": "2023-04-30T18:47:05.185Z"
   },
   {
    "duration": 5,
    "start_time": "2023-04-30T18:47:05.385Z"
   },
   {
    "duration": 21,
    "start_time": "2023-04-30T18:47:05.392Z"
   },
   {
    "duration": 460,
    "start_time": "2023-04-30T18:47:05.415Z"
   },
   {
    "duration": 274,
    "start_time": "2023-04-30T18:47:05.878Z"
   },
   {
    "duration": 325,
    "start_time": "2023-04-30T18:47:06.155Z"
   },
   {
    "duration": 9,
    "start_time": "2023-04-30T18:47:06.482Z"
   },
   {
    "duration": 105,
    "start_time": "2023-04-30T18:47:06.492Z"
   },
   {
    "duration": 78,
    "start_time": "2023-04-30T18:47:06.598Z"
   },
   {
    "duration": 40,
    "start_time": "2023-04-30T18:47:06.678Z"
   },
   {
    "duration": 79,
    "start_time": "2023-04-30T18:47:06.719Z"
   },
   {
    "duration": 84,
    "start_time": "2023-04-30T18:47:06.800Z"
   },
   {
    "duration": 49,
    "start_time": "2023-04-30T18:47:06.886Z"
   },
   {
    "duration": 79,
    "start_time": "2023-04-30T18:47:06.939Z"
   },
   {
    "duration": 278,
    "start_time": "2023-04-30T18:47:07.020Z"
   },
   {
    "duration": 261,
    "start_time": "2023-04-30T18:47:07.300Z"
   },
   {
    "duration": 49,
    "start_time": "2023-04-30T18:47:07.565Z"
   },
   {
    "duration": 191,
    "start_time": "2023-04-30T18:47:07.616Z"
   },
   {
    "duration": 69,
    "start_time": "2023-04-30T18:47:07.809Z"
   },
   {
    "duration": 22,
    "start_time": "2023-04-30T18:47:07.880Z"
   },
   {
    "duration": 130,
    "start_time": "2023-04-30T18:47:07.904Z"
   },
   {
    "duration": 65,
    "start_time": "2023-04-30T18:47:08.036Z"
   },
   {
    "duration": 10,
    "start_time": "2023-04-30T18:47:08.103Z"
   },
   {
    "duration": 31,
    "start_time": "2023-04-30T18:47:08.114Z"
   },
   {
    "duration": 72,
    "start_time": "2023-04-30T18:47:08.147Z"
   },
   {
    "duration": 4,
    "start_time": "2023-04-30T18:47:08.221Z"
   },
   {
    "duration": 126,
    "start_time": "2023-04-30T18:47:08.226Z"
   },
   {
    "duration": 145,
    "start_time": "2023-04-30T18:47:08.355Z"
   },
   {
    "duration": 6,
    "start_time": "2023-04-30T18:47:08.502Z"
   },
   {
    "duration": 8,
    "start_time": "2023-04-30T18:47:08.509Z"
   },
   {
    "duration": 53,
    "start_time": "2023-04-30T18:47:08.518Z"
   },
   {
    "duration": 17,
    "start_time": "2023-04-30T18:47:08.572Z"
   },
   {
    "duration": 29,
    "start_time": "2023-04-30T18:47:08.591Z"
   },
   {
    "duration": 34,
    "start_time": "2023-04-30T18:47:08.621Z"
   },
   {
    "duration": 19,
    "start_time": "2023-04-30T18:47:08.660Z"
   },
   {
    "duration": 9,
    "start_time": "2023-04-30T18:47:08.681Z"
   },
   {
    "duration": 1543,
    "start_time": "2023-04-30T21:28:46.834Z"
   },
   {
    "duration": 196,
    "start_time": "2023-04-30T21:28:48.380Z"
   },
   {
    "duration": 4,
    "start_time": "2023-04-30T21:28:48.578Z"
   },
   {
    "duration": 70,
    "start_time": "2023-04-30T21:28:48.584Z"
   },
   {
    "duration": 539,
    "start_time": "2023-04-30T21:28:48.657Z"
   },
   {
    "duration": 284,
    "start_time": "2023-04-30T21:28:49.198Z"
   },
   {
    "duration": 393,
    "start_time": "2023-04-30T21:28:49.484Z"
   },
   {
    "duration": 15,
    "start_time": "2023-04-30T21:28:49.880Z"
   },
   {
    "duration": 176,
    "start_time": "2023-04-30T21:28:49.897Z"
   },
   {
    "duration": 87,
    "start_time": "2023-04-30T21:28:50.079Z"
   },
   {
    "duration": 51,
    "start_time": "2023-04-30T21:28:50.168Z"
   },
   {
    "duration": 79,
    "start_time": "2023-04-30T21:28:50.222Z"
   },
   {
    "duration": 85,
    "start_time": "2023-04-30T21:28:50.304Z"
   },
   {
    "duration": 54,
    "start_time": "2023-04-30T21:28:50.392Z"
   },
   {
    "duration": 34,
    "start_time": "2023-04-30T21:28:50.450Z"
   },
   {
    "duration": 388,
    "start_time": "2023-04-30T21:28:50.487Z"
   },
   {
    "duration": 298,
    "start_time": "2023-04-30T21:28:50.877Z"
   },
   {
    "duration": 86,
    "start_time": "2023-04-30T21:28:51.177Z"
   },
   {
    "duration": 225,
    "start_time": "2023-04-30T21:28:51.266Z"
   },
   {
    "duration": 82,
    "start_time": "2023-04-30T21:28:51.493Z"
   },
   {
    "duration": 33,
    "start_time": "2023-04-30T21:28:51.577Z"
   },
   {
    "duration": 124,
    "start_time": "2023-04-30T21:28:51.613Z"
   },
   {
    "duration": 67,
    "start_time": "2023-04-30T21:28:51.742Z"
   },
   {
    "duration": 29,
    "start_time": "2023-04-30T21:28:51.814Z"
   },
   {
    "duration": 30,
    "start_time": "2023-04-30T21:28:51.845Z"
   },
   {
    "duration": 612,
    "start_time": "2023-04-30T21:28:51.877Z"
   },
   {
    "duration": 7,
    "start_time": "2023-04-30T21:28:52.491Z"
   },
   {
    "duration": 165,
    "start_time": "2023-04-30T21:28:52.507Z"
   },
   {
    "duration": 221,
    "start_time": "2023-04-30T21:28:52.674Z"
   },
   {
    "duration": 7,
    "start_time": "2023-04-30T21:28:52.897Z"
   },
   {
    "duration": 15,
    "start_time": "2023-04-30T21:28:52.907Z"
   },
   {
    "duration": 19,
    "start_time": "2023-04-30T21:28:52.925Z"
   },
   {
    "duration": 21,
    "start_time": "2023-04-30T21:28:52.946Z"
   },
   {
    "duration": 19,
    "start_time": "2023-04-30T21:28:52.970Z"
   },
   {
    "duration": 20,
    "start_time": "2023-04-30T21:28:52.992Z"
   },
   {
    "duration": 36,
    "start_time": "2023-04-30T21:28:53.015Z"
   },
   {
    "duration": 19,
    "start_time": "2023-04-30T21:28:53.054Z"
   },
   {
    "duration": 1349,
    "start_time": "2023-06-15T13:27:08.018Z"
   },
   {
    "duration": 717,
    "start_time": "2023-06-15T13:27:09.369Z"
   },
   {
    "duration": 3,
    "start_time": "2023-06-15T13:27:10.087Z"
   },
   {
    "duration": 22,
    "start_time": "2023-06-15T13:27:10.092Z"
   },
   {
    "duration": 359,
    "start_time": "2023-06-15T13:27:10.115Z"
   },
   {
    "duration": 222,
    "start_time": "2023-06-15T13:27:10.476Z"
   },
   {
    "duration": 275,
    "start_time": "2023-06-15T13:27:10.699Z"
   },
   {
    "duration": 10,
    "start_time": "2023-06-15T13:27:10.976Z"
   },
   {
    "duration": 92,
    "start_time": "2023-06-15T13:27:10.987Z"
   },
   {
    "duration": 50,
    "start_time": "2023-06-15T13:27:11.081Z"
   },
   {
    "duration": 51,
    "start_time": "2023-06-15T13:27:11.133Z"
   },
   {
    "duration": 46,
    "start_time": "2023-06-15T13:27:11.186Z"
   },
   {
    "duration": 61,
    "start_time": "2023-06-15T13:27:11.234Z"
   },
   {
    "duration": 28,
    "start_time": "2023-06-15T13:27:11.297Z"
   },
   {
    "duration": 52,
    "start_time": "2023-06-15T13:27:11.326Z"
   },
   {
    "duration": 295,
    "start_time": "2023-06-15T13:27:11.380Z"
   },
   {
    "duration": 235,
    "start_time": "2023-06-15T13:27:11.677Z"
   },
   {
    "duration": 58,
    "start_time": "2023-06-15T13:27:11.914Z"
   },
   {
    "duration": 142,
    "start_time": "2023-06-15T13:27:11.973Z"
   },
   {
    "duration": 53,
    "start_time": "2023-06-15T13:27:12.116Z"
   },
   {
    "duration": 25,
    "start_time": "2023-06-15T13:27:12.171Z"
   },
   {
    "duration": 98,
    "start_time": "2023-06-15T13:27:12.198Z"
   },
   {
    "duration": 42,
    "start_time": "2023-06-15T13:27:12.298Z"
   },
   {
    "duration": 10,
    "start_time": "2023-06-15T13:27:12.355Z"
   },
   {
    "duration": 17,
    "start_time": "2023-06-15T13:27:12.366Z"
   },
   {
    "duration": 458,
    "start_time": "2023-06-15T13:27:12.384Z"
   },
   {
    "duration": 5,
    "start_time": "2023-06-15T13:27:12.844Z"
   },
   {
    "duration": 115,
    "start_time": "2023-06-15T13:27:12.852Z"
   },
   {
    "duration": 167,
    "start_time": "2023-06-15T13:27:12.969Z"
   },
   {
    "duration": 4,
    "start_time": "2023-06-15T13:27:13.139Z"
   },
   {
    "duration": 17,
    "start_time": "2023-06-15T13:27:13.144Z"
   },
   {
    "duration": 14,
    "start_time": "2023-06-15T13:27:13.163Z"
   },
   {
    "duration": 14,
    "start_time": "2023-06-15T13:27:13.179Z"
   },
   {
    "duration": 12,
    "start_time": "2023-06-15T13:27:13.194Z"
   },
   {
    "duration": 19,
    "start_time": "2023-06-15T13:27:13.209Z"
   },
   {
    "duration": 31,
    "start_time": "2023-06-15T13:27:13.230Z"
   },
   {
    "duration": 11,
    "start_time": "2023-06-15T13:27:13.263Z"
   }
  ],
  "kernelspec": {
   "display_name": "Python 3 (ipykernel)",
   "language": "python",
   "name": "python3"
  },
  "language_info": {
   "codemirror_mode": {
    "name": "ipython",
    "version": 3
   },
   "file_extension": ".py",
   "mimetype": "text/x-python",
   "name": "python",
   "nbconvert_exporter": "python",
   "pygments_lexer": "ipython3",
   "version": "3.10.9"
  },
  "toc": {
   "base_numbering": 1,
   "nav_menu": {},
   "number_sections": true,
   "sideBar": true,
   "skip_h1_title": true,
   "title_cell": "Table of Contents",
   "title_sidebar": "Contents",
   "toc_cell": false,
   "toc_position": {
    "height": "calc(100% - 180px)",
    "left": "10px",
    "top": "150px",
    "width": "271.634px"
   },
   "toc_section_display": true,
   "toc_window_display": false
  }
 },
 "nbformat": 4,
 "nbformat_minor": 2
}
