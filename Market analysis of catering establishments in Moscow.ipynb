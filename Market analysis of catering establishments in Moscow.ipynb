{
 "cells": [
  {
   "cell_type": "markdown",
   "metadata": {},
   "source": [
    "# Анализ рынка заведений общественного питания Москвы"
   ]
  },
  {
   "cell_type": "markdown",
   "metadata": {},
   "source": [
    "Инвесторы из фонда \"Shut Up and Take My Money\" планируют открыть заведение общественного питания в Москве и ищут помощи в определении его типа, расположения, меню и цен. Задача - провести исследование рынка Москвы, выявить интересные особенности и представить полученные результаты, которые помогут инвесторам принять решение о выборе места. В нашем расположении датасет с информацией о заведениях общественного питания в Москве на основе данных от сервисов Яндекс Карты и Яндекс Бизнес, собранных летом 2022 года. Представленная информация имеет исключительно справочный характер и может быть добавлена пользователями или найдена в общедоступных источниках. \n",
    "\n",
    "**Описание данных**\n",
    "\n",
    "Файл moscow_places.csv:\n",
    "\n",
    "* name — название заведения;\n",
    "* address — адрес заведения;\n",
    "* category — категория заведения, например «кафе», «пиццерия» или «кофейня»;\n",
    "* hours — информация о днях и часах работы;\n",
    "* lat — широта географической точки, в которой находится заведение;\n",
    "* lng — долгота географической точки, в которой находится заведение;\n",
    "* rating — рейтинг заведения по оценкам пользователей в Яндекс Картах (высшая оценка — 5.0);\n",
    "* price — категория цен в заведении, например «средние», «ниже среднего», «выше среднего» и так далее;\n",
    "* avg_bill — строка, которая хранит среднюю стоимость заказа в виде диапазона;\n",
    "* middle_avg_bill — число с оценкой среднего чека, которое указано только для значений из столбца avg_bill, начинающихся с подстроки «Средний счёт»;\n",
    "* middle_coffee_cup — число с оценкой одной чашки капучино, которое указано только для значений из столбца avg_bill, начинающихся с подстроки «Цена одной чашки капучино»;\n",
    "* chain — число, выраженное 0 или 1, которое показывает, является ли заведение сетевым (для маленьких сетей могут встречаться ошибки): 0 — заведение не является сетевым, 1 — заведение является сетевым;\n",
    "* district — административный район, в котором находится заведение, например Центральный административный округ;\n",
    "* seats — количество посадочных мест."
   ]
  },
  {
   "cell_type": "markdown",
   "metadata": {},
   "source": [
    "### Загрузка данных и изучение общей информации"
   ]
  },
  {
   "cell_type": "code",
   "execution_count": 11,
   "metadata": {},
   "outputs": [
    {
     "name": "stdout",
     "output_type": "stream",
     "text": [
      "Requirement already satisfied: folium in c:\\users\\kirill\\anaconda3\\lib\\site-packages (0.14.0)\n",
      "Requirement already satisfied: requests in c:\\users\\kirill\\anaconda3\\lib\\site-packages (from folium) (2.28.1)\n",
      "Requirement already satisfied: branca>=0.6.0 in c:\\users\\kirill\\anaconda3\\lib\\site-packages (from folium) (0.6.0)\n",
      "Requirement already satisfied: numpy in c:\\users\\kirill\\appdata\\roaming\\python\\python310\\site-packages (from folium) (1.24.3)\n",
      "Requirement already satisfied: jinja2>=2.9 in c:\\users\\kirill\\anaconda3\\lib\\site-packages (from folium) (3.1.2)\n",
      "Requirement already satisfied: MarkupSafe>=2.0 in c:\\users\\kirill\\anaconda3\\lib\\site-packages (from jinja2>=2.9->folium) (2.1.1)\n",
      "Requirement already satisfied: idna<4,>=2.5 in c:\\users\\kirill\\anaconda3\\lib\\site-packages (from requests->folium) (3.4)\n",
      "Requirement already satisfied: certifi>=2017.4.17 in c:\\users\\kirill\\anaconda3\\lib\\site-packages (from requests->folium) (2022.12.7)\n",
      "Requirement already satisfied: charset-normalizer<3,>=2 in c:\\users\\kirill\\anaconda3\\lib\\site-packages (from requests->folium) (2.0.4)\n",
      "Requirement already satisfied: urllib3<1.27,>=1.21.1 in c:\\users\\kirill\\anaconda3\\lib\\site-packages (from requests->folium) (1.26.14)\n"
     ]
    }
   ],
   "source": [
    "!pip install folium"
   ]
  },
  {
   "cell_type": "code",
   "execution_count": 12,
   "metadata": {},
   "outputs": [],
   "source": [
    "# импорт библиотек\n",
    "import pandas as pd\n",
    "import seaborn as sns\n",
    "import matplotlib.pyplot as plt\n",
    "import numpy as np\n",
    "from plotly import graph_objects as go\n",
    "import plotly.express as px\n",
    "import json\n",
    "from folium import Map, Choropleth\n",
    "from folium import Map, Marker\n",
    "from folium.plugins import MarkerCluster\n",
    "from folium.features import GeoJsonTooltip\n",
    "import folium\n",
    "import plotly.subplots as sp\n",
    "from folium.features import CustomIcon"
   ]
  },
  {
   "cell_type": "code",
   "execution_count": 13,
   "metadata": {
    "scrolled": true
   },
   "outputs": [
    {
     "ename": "FileNotFoundError",
     "evalue": "[Errno 2] No such file or directory: '/datasets/moscow_places.csv'",
     "output_type": "error",
     "traceback": [
      "\u001b[1;31m---------------------------------------------------------------------------\u001b[0m",
      "\u001b[1;31mFileNotFoundError\u001b[0m                         Traceback (most recent call last)",
      "Cell \u001b[1;32mIn[13], line 3\u001b[0m\n\u001b[0;32m      1\u001b[0m \u001b[38;5;66;03m# чтение файла\u001b[39;00m\n\u001b[0;32m      2\u001b[0m path \u001b[38;5;241m=\u001b[39m \u001b[38;5;124m'\u001b[39m\u001b[38;5;124m/datasets/\u001b[39m\u001b[38;5;124m'\u001b[39m\n\u001b[1;32m----> 3\u001b[0m df \u001b[38;5;241m=\u001b[39m \u001b[43mpd\u001b[49m\u001b[38;5;241;43m.\u001b[39;49m\u001b[43mread_csv\u001b[49m\u001b[43m(\u001b[49m\u001b[43mpath\u001b[49m\u001b[43m \u001b[49m\u001b[38;5;241;43m+\u001b[39;49m\u001b[43m \u001b[49m\u001b[38;5;124;43m'\u001b[39;49m\u001b[38;5;124;43mmoscow_places.csv\u001b[39;49m\u001b[38;5;124;43m'\u001b[39;49m\u001b[43m)\u001b[49m\n\u001b[0;32m      4\u001b[0m df\u001b[38;5;241m.\u001b[39mhead(\u001b[38;5;241m4\u001b[39m)\n",
      "File \u001b[1;32m~\\AppData\\Roaming\\Python\\Python310\\site-packages\\pandas\\io\\parsers\\readers.py:912\u001b[0m, in \u001b[0;36mread_csv\u001b[1;34m(filepath_or_buffer, sep, delimiter, header, names, index_col, usecols, dtype, engine, converters, true_values, false_values, skipinitialspace, skiprows, skipfooter, nrows, na_values, keep_default_na, na_filter, verbose, skip_blank_lines, parse_dates, infer_datetime_format, keep_date_col, date_parser, date_format, dayfirst, cache_dates, iterator, chunksize, compression, thousands, decimal, lineterminator, quotechar, quoting, doublequote, escapechar, comment, encoding, encoding_errors, dialect, on_bad_lines, delim_whitespace, low_memory, memory_map, float_precision, storage_options, dtype_backend)\u001b[0m\n\u001b[0;32m    899\u001b[0m kwds_defaults \u001b[38;5;241m=\u001b[39m _refine_defaults_read(\n\u001b[0;32m    900\u001b[0m     dialect,\n\u001b[0;32m    901\u001b[0m     delimiter,\n\u001b[1;32m   (...)\u001b[0m\n\u001b[0;32m    908\u001b[0m     dtype_backend\u001b[38;5;241m=\u001b[39mdtype_backend,\n\u001b[0;32m    909\u001b[0m )\n\u001b[0;32m    910\u001b[0m kwds\u001b[38;5;241m.\u001b[39mupdate(kwds_defaults)\n\u001b[1;32m--> 912\u001b[0m \u001b[38;5;28;01mreturn\u001b[39;00m \u001b[43m_read\u001b[49m\u001b[43m(\u001b[49m\u001b[43mfilepath_or_buffer\u001b[49m\u001b[43m,\u001b[49m\u001b[43m \u001b[49m\u001b[43mkwds\u001b[49m\u001b[43m)\u001b[49m\n",
      "File \u001b[1;32m~\\AppData\\Roaming\\Python\\Python310\\site-packages\\pandas\\io\\parsers\\readers.py:577\u001b[0m, in \u001b[0;36m_read\u001b[1;34m(filepath_or_buffer, kwds)\u001b[0m\n\u001b[0;32m    574\u001b[0m _validate_names(kwds\u001b[38;5;241m.\u001b[39mget(\u001b[38;5;124m\"\u001b[39m\u001b[38;5;124mnames\u001b[39m\u001b[38;5;124m\"\u001b[39m, \u001b[38;5;28;01mNone\u001b[39;00m))\n\u001b[0;32m    576\u001b[0m \u001b[38;5;66;03m# Create the parser.\u001b[39;00m\n\u001b[1;32m--> 577\u001b[0m parser \u001b[38;5;241m=\u001b[39m TextFileReader(filepath_or_buffer, \u001b[38;5;241m*\u001b[39m\u001b[38;5;241m*\u001b[39mkwds)\n\u001b[0;32m    579\u001b[0m \u001b[38;5;28;01mif\u001b[39;00m chunksize \u001b[38;5;129;01mor\u001b[39;00m iterator:\n\u001b[0;32m    580\u001b[0m     \u001b[38;5;28;01mreturn\u001b[39;00m parser\n",
      "File \u001b[1;32m~\\AppData\\Roaming\\Python\\Python310\\site-packages\\pandas\\io\\parsers\\readers.py:1407\u001b[0m, in \u001b[0;36mTextFileReader.__init__\u001b[1;34m(self, f, engine, **kwds)\u001b[0m\n\u001b[0;32m   1404\u001b[0m     \u001b[38;5;28mself\u001b[39m\u001b[38;5;241m.\u001b[39moptions[\u001b[38;5;124m\"\u001b[39m\u001b[38;5;124mhas_index_names\u001b[39m\u001b[38;5;124m\"\u001b[39m] \u001b[38;5;241m=\u001b[39m kwds[\u001b[38;5;124m\"\u001b[39m\u001b[38;5;124mhas_index_names\u001b[39m\u001b[38;5;124m\"\u001b[39m]\n\u001b[0;32m   1406\u001b[0m \u001b[38;5;28mself\u001b[39m\u001b[38;5;241m.\u001b[39mhandles: IOHandles \u001b[38;5;241m|\u001b[39m \u001b[38;5;28;01mNone\u001b[39;00m \u001b[38;5;241m=\u001b[39m \u001b[38;5;28;01mNone\u001b[39;00m\n\u001b[1;32m-> 1407\u001b[0m \u001b[38;5;28mself\u001b[39m\u001b[38;5;241m.\u001b[39m_engine \u001b[38;5;241m=\u001b[39m \u001b[38;5;28;43mself\u001b[39;49m\u001b[38;5;241;43m.\u001b[39;49m\u001b[43m_make_engine\u001b[49m\u001b[43m(\u001b[49m\u001b[43mf\u001b[49m\u001b[43m,\u001b[49m\u001b[43m \u001b[49m\u001b[38;5;28;43mself\u001b[39;49m\u001b[38;5;241;43m.\u001b[39;49m\u001b[43mengine\u001b[49m\u001b[43m)\u001b[49m\n",
      "File \u001b[1;32m~\\AppData\\Roaming\\Python\\Python310\\site-packages\\pandas\\io\\parsers\\readers.py:1661\u001b[0m, in \u001b[0;36mTextFileReader._make_engine\u001b[1;34m(self, f, engine)\u001b[0m\n\u001b[0;32m   1659\u001b[0m     \u001b[38;5;28;01mif\u001b[39;00m \u001b[38;5;124m\"\u001b[39m\u001b[38;5;124mb\u001b[39m\u001b[38;5;124m\"\u001b[39m \u001b[38;5;129;01mnot\u001b[39;00m \u001b[38;5;129;01min\u001b[39;00m mode:\n\u001b[0;32m   1660\u001b[0m         mode \u001b[38;5;241m+\u001b[39m\u001b[38;5;241m=\u001b[39m \u001b[38;5;124m\"\u001b[39m\u001b[38;5;124mb\u001b[39m\u001b[38;5;124m\"\u001b[39m\n\u001b[1;32m-> 1661\u001b[0m \u001b[38;5;28mself\u001b[39m\u001b[38;5;241m.\u001b[39mhandles \u001b[38;5;241m=\u001b[39m \u001b[43mget_handle\u001b[49m\u001b[43m(\u001b[49m\n\u001b[0;32m   1662\u001b[0m \u001b[43m    \u001b[49m\u001b[43mf\u001b[49m\u001b[43m,\u001b[49m\n\u001b[0;32m   1663\u001b[0m \u001b[43m    \u001b[49m\u001b[43mmode\u001b[49m\u001b[43m,\u001b[49m\n\u001b[0;32m   1664\u001b[0m \u001b[43m    \u001b[49m\u001b[43mencoding\u001b[49m\u001b[38;5;241;43m=\u001b[39;49m\u001b[38;5;28;43mself\u001b[39;49m\u001b[38;5;241;43m.\u001b[39;49m\u001b[43moptions\u001b[49m\u001b[38;5;241;43m.\u001b[39;49m\u001b[43mget\u001b[49m\u001b[43m(\u001b[49m\u001b[38;5;124;43m\"\u001b[39;49m\u001b[38;5;124;43mencoding\u001b[39;49m\u001b[38;5;124;43m\"\u001b[39;49m\u001b[43m,\u001b[49m\u001b[43m \u001b[49m\u001b[38;5;28;43;01mNone\u001b[39;49;00m\u001b[43m)\u001b[49m\u001b[43m,\u001b[49m\n\u001b[0;32m   1665\u001b[0m \u001b[43m    \u001b[49m\u001b[43mcompression\u001b[49m\u001b[38;5;241;43m=\u001b[39;49m\u001b[38;5;28;43mself\u001b[39;49m\u001b[38;5;241;43m.\u001b[39;49m\u001b[43moptions\u001b[49m\u001b[38;5;241;43m.\u001b[39;49m\u001b[43mget\u001b[49m\u001b[43m(\u001b[49m\u001b[38;5;124;43m\"\u001b[39;49m\u001b[38;5;124;43mcompression\u001b[39;49m\u001b[38;5;124;43m\"\u001b[39;49m\u001b[43m,\u001b[49m\u001b[43m \u001b[49m\u001b[38;5;28;43;01mNone\u001b[39;49;00m\u001b[43m)\u001b[49m\u001b[43m,\u001b[49m\n\u001b[0;32m   1666\u001b[0m \u001b[43m    \u001b[49m\u001b[43mmemory_map\u001b[49m\u001b[38;5;241;43m=\u001b[39;49m\u001b[38;5;28;43mself\u001b[39;49m\u001b[38;5;241;43m.\u001b[39;49m\u001b[43moptions\u001b[49m\u001b[38;5;241;43m.\u001b[39;49m\u001b[43mget\u001b[49m\u001b[43m(\u001b[49m\u001b[38;5;124;43m\"\u001b[39;49m\u001b[38;5;124;43mmemory_map\u001b[39;49m\u001b[38;5;124;43m\"\u001b[39;49m\u001b[43m,\u001b[49m\u001b[43m \u001b[49m\u001b[38;5;28;43;01mFalse\u001b[39;49;00m\u001b[43m)\u001b[49m\u001b[43m,\u001b[49m\n\u001b[0;32m   1667\u001b[0m \u001b[43m    \u001b[49m\u001b[43mis_text\u001b[49m\u001b[38;5;241;43m=\u001b[39;49m\u001b[43mis_text\u001b[49m\u001b[43m,\u001b[49m\n\u001b[0;32m   1668\u001b[0m \u001b[43m    \u001b[49m\u001b[43merrors\u001b[49m\u001b[38;5;241;43m=\u001b[39;49m\u001b[38;5;28;43mself\u001b[39;49m\u001b[38;5;241;43m.\u001b[39;49m\u001b[43moptions\u001b[49m\u001b[38;5;241;43m.\u001b[39;49m\u001b[43mget\u001b[49m\u001b[43m(\u001b[49m\u001b[38;5;124;43m\"\u001b[39;49m\u001b[38;5;124;43mencoding_errors\u001b[39;49m\u001b[38;5;124;43m\"\u001b[39;49m\u001b[43m,\u001b[49m\u001b[43m \u001b[49m\u001b[38;5;124;43m\"\u001b[39;49m\u001b[38;5;124;43mstrict\u001b[39;49m\u001b[38;5;124;43m\"\u001b[39;49m\u001b[43m)\u001b[49m\u001b[43m,\u001b[49m\n\u001b[0;32m   1669\u001b[0m \u001b[43m    \u001b[49m\u001b[43mstorage_options\u001b[49m\u001b[38;5;241;43m=\u001b[39;49m\u001b[38;5;28;43mself\u001b[39;49m\u001b[38;5;241;43m.\u001b[39;49m\u001b[43moptions\u001b[49m\u001b[38;5;241;43m.\u001b[39;49m\u001b[43mget\u001b[49m\u001b[43m(\u001b[49m\u001b[38;5;124;43m\"\u001b[39;49m\u001b[38;5;124;43mstorage_options\u001b[39;49m\u001b[38;5;124;43m\"\u001b[39;49m\u001b[43m,\u001b[49m\u001b[43m \u001b[49m\u001b[38;5;28;43;01mNone\u001b[39;49;00m\u001b[43m)\u001b[49m\u001b[43m,\u001b[49m\n\u001b[0;32m   1670\u001b[0m \u001b[43m\u001b[49m\u001b[43m)\u001b[49m\n\u001b[0;32m   1671\u001b[0m \u001b[38;5;28;01massert\u001b[39;00m \u001b[38;5;28mself\u001b[39m\u001b[38;5;241m.\u001b[39mhandles \u001b[38;5;129;01mis\u001b[39;00m \u001b[38;5;129;01mnot\u001b[39;00m \u001b[38;5;28;01mNone\u001b[39;00m\n\u001b[0;32m   1672\u001b[0m f \u001b[38;5;241m=\u001b[39m \u001b[38;5;28mself\u001b[39m\u001b[38;5;241m.\u001b[39mhandles\u001b[38;5;241m.\u001b[39mhandle\n",
      "File \u001b[1;32m~\\AppData\\Roaming\\Python\\Python310\\site-packages\\pandas\\io\\common.py:859\u001b[0m, in \u001b[0;36mget_handle\u001b[1;34m(path_or_buf, mode, encoding, compression, memory_map, is_text, errors, storage_options)\u001b[0m\n\u001b[0;32m    854\u001b[0m \u001b[38;5;28;01melif\u001b[39;00m \u001b[38;5;28misinstance\u001b[39m(handle, \u001b[38;5;28mstr\u001b[39m):\n\u001b[0;32m    855\u001b[0m     \u001b[38;5;66;03m# Check whether the filename is to be opened in binary mode.\u001b[39;00m\n\u001b[0;32m    856\u001b[0m     \u001b[38;5;66;03m# Binary mode does not support 'encoding' and 'newline'.\u001b[39;00m\n\u001b[0;32m    857\u001b[0m     \u001b[38;5;28;01mif\u001b[39;00m ioargs\u001b[38;5;241m.\u001b[39mencoding \u001b[38;5;129;01mand\u001b[39;00m \u001b[38;5;124m\"\u001b[39m\u001b[38;5;124mb\u001b[39m\u001b[38;5;124m\"\u001b[39m \u001b[38;5;129;01mnot\u001b[39;00m \u001b[38;5;129;01min\u001b[39;00m ioargs\u001b[38;5;241m.\u001b[39mmode:\n\u001b[0;32m    858\u001b[0m         \u001b[38;5;66;03m# Encoding\u001b[39;00m\n\u001b[1;32m--> 859\u001b[0m         handle \u001b[38;5;241m=\u001b[39m \u001b[38;5;28;43mopen\u001b[39;49m\u001b[43m(\u001b[49m\n\u001b[0;32m    860\u001b[0m \u001b[43m            \u001b[49m\u001b[43mhandle\u001b[49m\u001b[43m,\u001b[49m\n\u001b[0;32m    861\u001b[0m \u001b[43m            \u001b[49m\u001b[43mioargs\u001b[49m\u001b[38;5;241;43m.\u001b[39;49m\u001b[43mmode\u001b[49m\u001b[43m,\u001b[49m\n\u001b[0;32m    862\u001b[0m \u001b[43m            \u001b[49m\u001b[43mencoding\u001b[49m\u001b[38;5;241;43m=\u001b[39;49m\u001b[43mioargs\u001b[49m\u001b[38;5;241;43m.\u001b[39;49m\u001b[43mencoding\u001b[49m\u001b[43m,\u001b[49m\n\u001b[0;32m    863\u001b[0m \u001b[43m            \u001b[49m\u001b[43merrors\u001b[49m\u001b[38;5;241;43m=\u001b[39;49m\u001b[43merrors\u001b[49m\u001b[43m,\u001b[49m\n\u001b[0;32m    864\u001b[0m \u001b[43m            \u001b[49m\u001b[43mnewline\u001b[49m\u001b[38;5;241;43m=\u001b[39;49m\u001b[38;5;124;43m\"\u001b[39;49m\u001b[38;5;124;43m\"\u001b[39;49m\u001b[43m,\u001b[49m\n\u001b[0;32m    865\u001b[0m \u001b[43m        \u001b[49m\u001b[43m)\u001b[49m\n\u001b[0;32m    866\u001b[0m     \u001b[38;5;28;01melse\u001b[39;00m:\n\u001b[0;32m    867\u001b[0m         \u001b[38;5;66;03m# Binary mode\u001b[39;00m\n\u001b[0;32m    868\u001b[0m         handle \u001b[38;5;241m=\u001b[39m \u001b[38;5;28mopen\u001b[39m(handle, ioargs\u001b[38;5;241m.\u001b[39mmode)\n",
      "\u001b[1;31mFileNotFoundError\u001b[0m: [Errno 2] No such file or directory: '/datasets/moscow_places.csv'"
     ]
    }
   ],
   "source": [
    "# чтение файла\n",
    "path = '/datasets/'\n",
    "df = pd.read_csv(path + 'moscow_places.csv')\n",
    "df.head(4)"
   ]
  },
  {
   "cell_type": "code",
   "execution_count": null,
   "metadata": {},
   "outputs": [],
   "source": [
    "df.info()"
   ]
  },
  {
   "cell_type": "markdown",
   "metadata": {},
   "source": [
    "В таблице 8406 строк, 14 столбцов. В шести столбцах присутствуют пропуски значений."
   ]
  },
  {
   "cell_type": "markdown",
   "metadata": {},
   "source": [
    "### Предобработка данных"
   ]
  },
  {
   "cell_type": "code",
   "execution_count": null,
   "metadata": {},
   "outputs": [],
   "source": [
    "# приводим столбец с названием заведения к нижнему регистру\n",
    "df['name'] = df['name'].str.lower()\n",
    "df['address'] = df['address'].str.lower()\n",
    "\n",
    "# ищем дубликаты в данных\n",
    "display(df[df.duplicated(subset=['name', 'address', 'lng'], keep=False)])\n",
    "\n",
    "# удаляем дубликаты\n",
    "df = df.drop_duplicates(subset=['name', 'address', 'lng'], keep=False)\n",
    "\n",
    "# проверка\n",
    "df[df.duplicated(subset=['name', 'address', 'lng'], keep=False)]"
   ]
  },
  {
   "cell_type": "code",
   "execution_count": null,
   "metadata": {
    "scrolled": true
   },
   "outputs": [],
   "source": [
    "# выводим процент пропущенных значений по каждому столбцу\n",
    "for col in df.columns:\n",
    "    pct_missing = np.mean(df[col].isnull())\n",
    "    print('{} - {}%'.format(col, round(pct_missing*100)))"
   ]
  },
  {
   "cell_type": "code",
   "execution_count": null,
   "metadata": {},
   "outputs": [],
   "source": [
    "# голубой - пропущенные данные, черный - не пропущенные\n",
    "colours = ['#00000f', '#abfff8'] \n",
    "plt.figure(figsize=(9, 6))  # Устанавливаем размер фигуры\n",
    "sns.set(font_scale=1.2)  # Устанавливаем размер шрифта\n",
    "sns.heatmap(df.isnull(), cmap=sns.color_palette(colours)) # строим heatmap"
   ]
  },
  {
   "cell_type": "markdown",
   "metadata": {},
   "source": [
    "Как мы видим, больше всего пропусков в столбце `middle_coffee_cup`, `middle_coffee_cup`, `price` и `avg_bill `. \n",
    "\n",
    "Пропуски в некоторых столбцах мы могли бы восполнить информацией из интернета или использовать среднее или медианное значение для того же типа заведения для заполнения пропусков. Но это может исказить результаты нашего исследования, поэтому оставим пропуски во всех столбцах нетронутыми."
   ]
  },
  {
   "cell_type": "code",
   "execution_count": null,
   "metadata": {
    "scrolled": true
   },
   "outputs": [],
   "source": [
    "# создаем столбец с названиями улиц из столбца с адресом\n",
    "df['street'] = df['address'].str.split(',').str[1].str.strip()\n",
    "df['street'].head()"
   ]
  },
  {
   "cell_type": "code",
   "execution_count": null,
   "metadata": {},
   "outputs": [],
   "source": [
    "# создаем столбец  с обозначением, что заведение работает ежедневно и круглосуточно (24/7):\n",
    "# логическое значение True — если заведение работает ежедневно и круглосуточно;\n",
    "# логическое значение False — в противоположном случае.\n",
    "df['is_24/7'] = df['hours'].str.contains('круглосуточно', case=False)\n",
    "df['is_24/7'].value_counts()"
   ]
  },
  {
   "cell_type": "markdown",
   "metadata": {},
   "source": [
    "### Исследовательский анализ данных"
   ]
  },
  {
   "cell_type": "markdown",
   "metadata": {},
   "source": [
    "#### Смотрим какие категории заведений представлены в данных? Исследуйте количество объектов общественного питания по категориям. Смотрим как распределяются заведения по категориям."
   ]
  },
  {
   "cell_type": "code",
   "execution_count": null,
   "metadata": {},
   "outputs": [],
   "source": [
    "categories = df['category'].value_counts().to_frame().reset_index()\n",
    "categories = categories.rename(columns={'index': 'category', 'category': 'quantity'})\n",
    "categories"
   ]
  },
  {
   "cell_type": "code",
   "execution_count": null,
   "metadata": {},
   "outputs": [],
   "source": [
    "# Настройка цветовой палитры\n",
    "color_palette = ['#3366CC', '#DC3912', '#FF9900', '#109618', '#990099', '#0099C6', '#DD4477', 'FFEA20']\n",
    "\n",
    "# Создание круговой диаграммы\n",
    "fig = go.Figure(data=[go.Pie(labels=categories['category'], values=categories['quantity'], textinfo='label+percent+value', marker=dict(colors=color_palette))])\n",
    "\n",
    "# Настройка внешнего вида диаграммы и добавление текстовой информации\n",
    "#fig.update_traces(hoverinfo='label+percent', textfont_size=12, hole=0.4)\n",
    "\n",
    "# Настройка заголовка диаграммы\n",
    "fig.update_layout(title='Распределение категорий заведений', title_font=dict(size=20), showlegend=False)\n",
    "fig.update_layout(title_x=0.453)\n",
    "\n",
    "# Отображение диаграммы\n",
    "fig.show()"
   ]
  },
  {
   "cell_type": "markdown",
   "metadata": {},
   "source": [
    "Всего в данных представлено 8 типов заведений общественного питания. Бар и паб объединены в одну категорию. Замечам, что больше всего у нас в данных встречаются кафе, рестораны и кофейни. Меньше всего конкуренции на рынке у владельцев столовых и булочных. Относительно небольшое количество столовых и булочных в Москве скорее всего связано с высоким уровенем доходов, что создает спрос на разнообразные рестораны и кафе.      "
   ]
  },
  {
   "cell_type": "markdown",
   "metadata": {},
   "source": [
    "#### Смотрим количество посадочных мест в местах по категориям.  Визуализируем результаты. "
   ]
  },
  {
   "cell_type": "code",
   "execution_count": null,
   "metadata": {},
   "outputs": [],
   "source": [
    "median_seats = df.groupby('category')['seats'].median()\n",
    "sorted_categories = median_seats.sort_values(ascending=False).index\n",
    "\n",
    "# Настройка размера графика\n",
    "fig, ax = plt.subplots(figsize=(13, 6))\n",
    "\n",
    "color_palette = ['#3366CC', '#DC3912', '#FF9900', '#109618', '#990099', '#0099C6', '#DD4477', '#FF00FF']\n",
    "\n",
    "# Построение диаграммы\n",
    "sns.boxplot(x='category', y='seats', data=df, palette=color_palette, order=sorted_categories)\n",
    "\n",
    "# Настройка осей и заголовка графика\n",
    "plt.xlabel('Категория')\n",
    "plt.ylabel('Количество мест')\n",
    "plt.title('Количество посадочных мест по категориям заведений, отсортированных по медианному значению')\n",
    "\n",
    "# Размещение графика по центру\n",
    "plt.tight_layout()\n",
    "\n",
    "# Отображение графика\n",
    "plt.show()"
   ]
  },
  {
   "cell_type": "code",
   "execution_count": null,
   "metadata": {},
   "outputs": [],
   "source": [
    "# Настройка размера графика\n",
    "fig, ax = plt.subplots(figsize=(13, 6))\n",
    "\n",
    "# Построение диаграммы без выбросов \n",
    "sns.boxplot(x='category', y='seats', data=df, order=sorted_categories, palette=color_palette, showfliers=False)\n",
    "\n",
    "# Настройка осей и заголовка графика\n",
    "plt.xlabel('Категория')\n",
    "plt.ylabel('Количество мест')\n",
    "plt.title('Количество посадочных мест по категориям заведений, отсортированных по медианному значению')\n",
    "\n",
    "# Размещение графика по центру\n",
    "plt.tight_layout()\n",
    "\n",
    "# Ограничение оси y\n",
    "plt.ylim(25, 100)\n",
    "\n",
    "# Отображение графика\n",
    "plt.show()"
   ]
  },
  {
   "cell_type": "markdown",
   "metadata": {},
   "source": [
    "Из графика мы видим, что больше всего посадочных мест у ресторанов, что и логично. Меньше всего - у пиццерий и булочных, что тоже предсказуемо.\n",
    "\n",
    "Стоит сказать, что большее количество посадочных мест позволяет одновременно обслуживать большее количество клиентов. Это особенно важно в заведениях с высокой проходимостью или в туристических районах, где может быть много посетителей одновременно. Также количество мест вслияет напрямую на рентабельность и доходы. Но количество посадочных мест несет за собой высокие затраты на аренду и обслуживание и увеличенные сложности в управлении."
   ]
  },
  {
   "cell_type": "markdown",
   "metadata": {},
   "source": [
    "#### Изображаем соотношение сетевых и несетевых заведений в датасете. Каких заведений больше?"
   ]
  },
  {
   "cell_type": "code",
   "execution_count": null,
   "metadata": {},
   "outputs": [],
   "source": [
    "character = df['chain'].value_counts().to_frame().reset_index()\n",
    "character = character.rename(columns={'index': 'type', 'chain': 'quantity'})\n",
    "\n",
    "# Замена значений в столбце для удобства\n",
    "character['type'] = character['type'].replace({0: 'Несетевые', 1: 'Сетевые'})\n",
    "\n",
    "# Настройка цветовой палитры\n",
    "color_palette = ['#005EFF', '#FF00CD']\n",
    "\n",
    "# Создание круговой диаграммы\n",
    "fig = go.Figure(data=[go.Pie(labels=character['type'], values=character['quantity'], textinfo='label+percent+value', marker=dict(colors=color_palette))])\n",
    "\n",
    "# Настройка заголовка диаграммы\n",
    "fig.update_layout(title='Соотношение сетевых и несетевых заведений', title_font=dict(size=20), showlegend=False)\n",
    "fig.update_layout(title_x=0.5)\n",
    "\n",
    "# Отображение диаграммы\n",
    "fig.show()"
   ]
  },
  {
   "cell_type": "markdown",
   "metadata": {},
   "source": [
    "Диаграмма показывает, что несетевых в 1,6 раз больше чем сетевых заведений.\n",
    "\n",
    "Стоит сказать, что сетевым заведениям в некоторой степени проще конкурировать, поскольку они оперируют  несколькими филиалами и могут обладать большими ресурсами для маркетинга, брендирования и привлечения клиентов. "
   ]
  },
  {
   "cell_type": "markdown",
   "metadata": {},
   "source": [
    "#### Сморим какие категории заведений чаще являются сетевыми? "
   ]
  },
  {
   "cell_type": "code",
   "execution_count": null,
   "metadata": {},
   "outputs": [],
   "source": [
    "chain_inst = df[df['chain']==1]['category'].value_counts().to_frame().reset_index() \\\n",
    "                .rename(columns={'index': 'category', 'category': 'quantity_chain'})\n",
    "\n",
    "total = df['category'].value_counts().to_frame().reset_index() \\\n",
    "                .rename(columns={'index': 'category', 'category': 'quantity_total'})\n",
    "\n",
    "merged_table = chain_inst.merge(total, on='category')\n",
    "\n",
    "# процент сетевых заведений\n",
    "merged_table['per_chains'] = round(merged_table['quantity_chain']/merged_table['quantity_total']*100, 2)\n",
    "\n",
    "display(merged_table.sort_values(by='per_chains', ascending=False))\n",
    "\n",
    "fig = px.bar(chain_inst, x='category', y='quantity_chain', title='Количество сетевых заведений, разделенных по категориям', text='quantity_chain', color_discrete_sequence=['#005EFF'])\n",
    "\n",
    "# Настройка осей\n",
    "fig.update_xaxes(title='Категория заведения')\n",
    "fig.update_yaxes(title='Количество заведений')\n",
    "\n",
    "fig.show() "
   ]
  },
  {
   "cell_type": "markdown",
   "metadata": {},
   "source": [
    "Среди сетевых заведений больше всего кафе, ресторанов и кофейеен, столовы - меньше всего.\n",
    "\n",
    "Посмотрим в процентном соотношении в каждой категории сколько сетевых и несетевых заведений."
   ]
  },
  {
   "cell_type": "code",
   "execution_count": null,
   "metadata": {},
   "outputs": [],
   "source": [
    "chain_df = df.groupby(['category', 'chain']).agg({'name': 'count'}).reset_index().rename(columns={'name': 'quantity'}).sort_values(by='quantity', ascending=False)\n",
    "chain_df['chain'] = chain_df['chain'].replace({0: 'Несетевые', 1: 'Сетевые'})\n",
    "\n",
    "# Расчет процентов от общей суммы\n",
    "chain_df['total_quantity'] = chain_df.groupby('category')['quantity'].transform('sum')\n",
    "chain_df['percentage'] = chain_df['quantity'] / chain_df['total_quantity'] * 100\n",
    "\n",
    "# Округление процентов до двух знаков после запятой\n",
    "chain_df['percentage'] = chain_df['percentage'].round(2)\n",
    "\n",
    "# Создание графика\n",
    "color_palette = ['#005EFF', '#FF00CD']\n",
    "fig = px.bar(chain_df, x='category', y='quantity', color='chain', barmode='stack', text='percentage', color_discrete_sequence=color_palette)\n",
    "\n",
    "# Настройка внешнего вида\n",
    "fig.update_layout(\n",
    "    title={\n",
    "        'text': 'Категории заведений, которые чаще являются сетевыми',\n",
    "        'xanchor': 'left',\n",
    "        'yanchor': 'top',\n",
    "        'x': 0\n",
    "    },\n",
    "    xaxis_title='Категория заведения',\n",
    "    yaxis_title='Количество заведений',\n",
    "    width=800,\n",
    "    height=600\n",
    ")\n",
    "\n",
    "fig.update_traces(texttemplate='%{text}%')\n",
    "\n",
    "fig.show()"
   ]
  },
  {
   "cell_type": "markdown",
   "metadata": {},
   "source": [
    "Из графика видно, что среди булочных и пиццерий больше сетевых, нежели несетевых. Напротив, у баров/пабов и столовых сетевых меньше, чем несетевых. У кофеен пропорции сетевых и несетевых заведений примерно одиннаковые."
   ]
  },
  {
   "cell_type": "markdown",
   "metadata": {},
   "source": [
    "#### Группируем данные по названиям заведений и находим топ-15 популярных сетей в Москве.  Смотрим к какой категории заведений они относятся."
   ]
  },
  {
   "cell_type": "code",
   "execution_count": null,
   "metadata": {},
   "outputs": [],
   "source": [
    "top_15_chains = df[df['chain']==1].groupby(['name', 'category']).agg({'category': 'count'}).rename(columns={'category': 'quantity'}) \\\n",
    "        .sort_values(by='quantity', ascending=False).reset_index().head(15)\n",
    "top_15_chains"
   ]
  },
  {
   "cell_type": "markdown",
   "metadata": {},
   "source": [
    "Все сети нам хорошо знакомы. "
   ]
  },
  {
   "cell_type": "code",
   "execution_count": null,
   "metadata": {
    "scrolled": false
   },
   "outputs": [],
   "source": [
    "color_palette = ['#3366CC', '#DC3912', '#FF9900', '#109618', '#990099', '#0099C6', '#DD4477', '#FF00FF']\n",
    "\n",
    "# Создаем столбчатую диаграмму\n",
    "fig = px.bar(top_15_chains, x='name', y='quantity', labels={'name': 'Название заведений', \\\n",
    "     'quantity': 'Количество заведений сети'}, title='Топ-15 популярных сетей в Москве', color='category', text='quantity', color_discrete_sequence=color_palette)\n",
    "\n",
    "# Отображаем график\n",
    "fig.show()"
   ]
  },
  {
   "cell_type": "markdown",
   "metadata": {},
   "source": [
    "Топ-15 популярных сетей чаще относятся к категории кофейня. Наверно это из-за того, что кофейни являются популярными местами для встреч. Многие кофейни также предлагают бесплатный Wi-Fi, что делает их привлекательными для людей, которым необходимо работать или общаться вне офиса или дома. Только одно заведение из топ-15 сетей явзяется булочной."
   ]
  },
  {
   "cell_type": "markdown",
   "metadata": {},
   "source": [
    "#### Какие административные районы Москвы присутствуют в датасете? "
   ]
  },
  {
   "cell_type": "code",
   "execution_count": null,
   "metadata": {},
   "outputs": [],
   "source": [
    "# Заменим в столбце district словосочетание \"административный округ\" на \"адм. округ\" для удобства отображения\n",
    "df_copy = df.copy()\n",
    "df_copy['district'] = df_copy['district'].str.replace('административный округ', 'АО')\n",
    "\n",
    "# Группировка данных по районам и категориям и получение суммы количества заведений\n",
    "adm_districts  = df_copy.groupby(['district', 'category']).agg({'address': 'count'}).reset_index().rename(columns={'address': 'quantity'})\n",
    "display(adm_districts)\n",
    "\n",
    "color_palette = ['#3366CC', '#DC3912', '#FF9900', '#109618', '#990099', '#0099C6', '#DD4477', '#FF00FF']\n",
    "\n",
    "# Создание графика\n",
    "fig = px.bar(adm_districts, x='district', y='quantity', color='category', barmode='stack', text='quantity', color_discrete_sequence=color_palette)\n",
    "\n",
    "# Настройка внешнего вида графика\n",
    "fig.update_layout(\n",
    "    title={\n",
    "        'text': 'Количество заведений по районам и категориям',\n",
    "        'xanchor': 'left',\n",
    "        'yanchor': 'top',\n",
    "        'x': 0\n",
    "    },\n",
    "    xaxis_title='Районы',\n",
    "    yaxis_title='Количество заведений',\n",
    "    width=800,\n",
    "    height=600\n",
    ")\n",
    "\n",
    "# Увеличение размера графика\n",
    "fig.update_layout(\n",
    "    width=1000,\n",
    "    height=800\n",
    ")\n",
    "\n",
    "fig.show()"
   ]
  },
  {
   "cell_type": "markdown",
   "metadata": {},
   "source": [
    "Всего в данных присутствуют 9 административных районов. По общему количеству заведений лидирует Центральный АО, а меньшее количество заведений находится в Северо-Западном АО. По всем категориям заведений («кафе», «пиццерия» или «кофейня») лидирует Центральный АО. Если смотреть распределение по категориям в целом, то оно выглядит более менее пропорциональным количеству заведений в районах: где больше общее количество заведений, там будет больше ресторанов."
   ]
  },
  {
   "cell_type": "markdown",
   "metadata": {},
   "source": [
    "#### Визуализируем распределение средних рейтингов по категориям заведений. "
   ]
  },
  {
   "cell_type": "markdown",
   "metadata": {},
   "source": [
    "Посмотрим есть ли аномальные рейтинги."
   ]
  },
  {
   "cell_type": "code",
   "execution_count": null,
   "metadata": {},
   "outputs": [],
   "source": [
    "# Настройка размера графика\n",
    "fig, ax = plt.subplots(figsize=(12, 6))\n",
    "\n",
    "color_palette = ['#3366CC', '#DC3912', '#FF9900', '#109618', '#990099', '#0099C6', '#DD4477', '#FF00FF']\n",
    "\n",
    "# Построение диаграммы\n",
    "sns.boxplot(x='category', y='rating', data=df, palette=color_palette)\n",
    "\n",
    "# Настройка осей и заголовка графика\n",
    "plt.xlabel('Категория')\n",
    "plt.ylabel('Средние рейтинги заведений')\n",
    "plt.title('Распределение средних рейтингов по категориям заведений')\n",
    "\n",
    "# Поворот названий оси x\n",
    "plt.xticks(rotation=45)\n",
    "\n",
    "# Размещение графика по центру\n",
    "plt.tight_layout()\n",
    "\n",
    "plt.show()"
   ]
  },
  {
   "cell_type": "markdown",
   "metadata": {},
   "source": [
    "Видим, что у всех категорий есть заведения с не привычно низкими оценками. Поэтому возьмем функцию median()."
   ]
  },
  {
   "cell_type": "code",
   "execution_count": null,
   "metadata": {
    "scrolled": false
   },
   "outputs": [],
   "source": [
    "mean_rat_category  = df.groupby('category').agg({'rating': 'median'}).reset_index().rename(columns={'rating': 'mean_rating'}).sort_values(by='mean_rating',ascending=False)\n",
    "\n",
    "# Создание графика \n",
    "fig = px.bar(mean_rat_category, x='category', y='mean_rating', color_discrete_sequence=['#005EFF'])\n",
    "\n",
    "# Настройка внешнего вида графика\n",
    "fig.update_layout(\n",
    "    title='Распределение средних рейтингов по категориям заведений',\n",
    "    xaxis_title='Категория',\n",
    "    yaxis_title='Средний рейтинг',\n",
    "    width=800,\n",
    "    height=500\n",
    ")\n",
    "\n",
    "# Добавление значений над каждым столбцом\n",
    "fig.update_traces(text=round(mean_rat_category['mean_rating'], 2), textposition='auto')\n",
    "\n",
    "# Отображение графика\n",
    "fig.show()"
   ]
  },
  {
   "cell_type": "markdown",
   "metadata": {},
   "source": [
    "Замечаем, что усреднённые рейтинги различаются  не сильно в разных типах общепита. Выше средний рейтинг у баров/пабов, ниже - у категории кафе."
   ]
  },
  {
   "cell_type": "markdown",
   "metadata": {},
   "source": [
    "#### Строим хороплет со средним рейтингом заведений каждого района. Границы районов Москвы хранятся в файле admin_level_geomap.geojson."
   ]
  },
  {
   "cell_type": "code",
   "execution_count": null,
   "metadata": {},
   "outputs": [],
   "source": [
    "rating = df_copy.pivot_table(values='rating', index=['district', 'name']).reset_index() "
   ]
  },
  {
   "cell_type": "code",
   "execution_count": null,
   "metadata": {},
   "outputs": [],
   "source": [
    "fig, ax = plt.subplots(figsize=(12, 6))\n",
    "\n",
    "color_palette = ['#3366CC', '#DC3912', '#FF9900', '#109618', '#990099', '#0099C6', '#DD4477', '#FF00FF']\n",
    "\n",
    "# Построение диаграммы\n",
    "sns.boxplot(x='district', y='rating', data=rating, palette=color_palette)\n",
    "\n",
    "# Настройка осей и заголовка графика\n",
    "plt.xlabel('Районы')\n",
    "plt.ylabel('Средние рейтинги заведений')\n",
    "plt.title('Распределение средних рейтингов по районам')\n",
    "\n",
    "# Поворот названий оси x\n",
    "plt.xticks(rotation=-45)\n",
    "plt.tight_layout()\n",
    "\n",
    "plt.show()"
   ]
  },
  {
   "cell_type": "markdown",
   "metadata": {},
   "source": [
    "Замечаем, что у рассматриваемых данных наблюдаются выбросы во всех  регионах. Стоит ли искать среднее?"
   ]
  },
  {
   "cell_type": "code",
   "execution_count": null,
   "metadata": {},
   "outputs": [],
   "source": [
    "# находим для каждого района медианный рейтинг заведений\n",
    "rating_df = df.groupby('district', as_index=False)['rating'].agg('median').sort_values(by='rating',ascending=False)\n",
    "rating_df"
   ]
  },
  {
   "cell_type": "code",
   "execution_count": null,
   "metadata": {
    "scrolled": false
   },
   "outputs": [],
   "source": [
    "# читаем файл и сохраняем в переменной\n",
    "with open('/datasets/admin_level_geomap.geojson', 'r') as f:\n",
    "    geo_json = json.load(f)\n",
    "\n",
    "#print(json.dumps(geo_json, indent=2, ensure_ascii=False, sort_keys=True))\n",
    "\n",
    "# загружаем JSON-файл с границами округов Москвы\n",
    "state_geo = '/datasets/admin_level_geomap.geojson'\n",
    "\n",
    "# moscow_lat - широта центра Москвы, moscow_lng - долгота центра Москвы\n",
    "moscow_lat, moscow_lng = 55.751244, 37.618423\n",
    "\n",
    "# создаём карту Москвы\n",
    "m = Map(location=[moscow_lat, moscow_lng], zoom_start=10)\n",
    "\n",
    "# создаём хороплет с помощью конструктора Choropleth и добавляем его на карту\n",
    "Choropleth(\n",
    "    geo_data=state_geo,\n",
    "    data=rating_df,\n",
    "    columns=['district', 'rating'],\n",
    "    key_on='feature.name',\n",
    "    fill_color='BuGn',\n",
    "    fill_opacity=0.8,\n",
    "    legend_name='Медианный рейтинг заведений по районам',\n",
    ").add_to(m)\n",
    "\n",
    "# выводим карту\n",
    "m"
   ]
  },
  {
   "cell_type": "markdown",
   "metadata": {},
   "source": [
    "Самый высокий медианный рейтинг имеют заведения в Центральном АО, что скорее всего связано с высокими стандартами качества. Самый низкий - в Северо-Восточном и Юго-Восточном АО. "
   ]
  },
  {
   "cell_type": "markdown",
   "metadata": {},
   "source": [
    "<div class=\"alert alert-success\">\n",
    "<b>Комментарий ревьюера: ✅</b>\n",
    "\n",
    "Рад, что получилось визуализировать данные на карте, ведь так быстрее разобраться какая ситуация в каком округе в зависимости от показателя.   \n",
    "</div>"
   ]
  },
  {
   "cell_type": "markdown",
   "metadata": {},
   "source": [
    "#### Отображаем все заведения датасета на карте с помощью кластеров."
   ]
  },
  {
   "cell_type": "code",
   "execution_count": null,
   "metadata": {
    "scrolled": false
   },
   "outputs": [],
   "source": [
    "# создаём карту Москвы\n",
    "m1 = Map(location=[moscow_lat, moscow_lng], zoom_start=10)\n",
    "\n",
    "# создаём пустой кластер, добавляем его на карту\n",
    "marker_cluster = MarkerCluster().add_to(m1)\n",
    "\n",
    "# пишем функцию, которая принимает строку датафрейма,\n",
    "# создаёт маркер в текущей точке и добавляет его в кластер marker_cluster\n",
    "def create_clusters(row):\n",
    "    Marker(\n",
    "        [row['lat'], row['lng']],\n",
    "        popup=f\"{row['name']} {row['rating']}\",\n",
    "    ).add_to(marker_cluster)\n",
    "\n",
    "# применяем функцию create_clusters() к каждой строке датафрейма\n",
    "df.apply(create_clusters, axis=1)\n",
    "\n",
    "# выводим карту\n",
    "m1"
   ]
  },
  {
   "cell_type": "markdown",
   "metadata": {},
   "source": [
    "Также убедились, что в центре Москвы заведеений значительно больше, чем в других районах."
   ]
  },
  {
   "cell_type": "markdown",
   "metadata": {},
   "source": [
    "#### Найдите топ-15 улиц по количеству заведений. Постройте график распределения количества заведений и их категорий по этим улицам. Попробуйте проиллюстрировать эту информацию одним графиком."
   ]
  },
  {
   "cell_type": "markdown",
   "metadata": {},
   "source": [
    "Сначала найдем топ-15 улиц по количеству заведений."
   ]
  },
  {
   "cell_type": "code",
   "execution_count": null,
   "metadata": {},
   "outputs": [],
   "source": [
    "# топ-15 улиц по количеству заведений\n",
    "list_top_15_street = df.groupby('street').agg({'name': 'count'}).reset_index().rename(columns={'name': 'quantity'}).sort_values(by='quantity', ascending=False).head(15)['street'].tolist()\n",
    "#display(top_15_street)\n",
    "\n",
    "top_15 = df[df['street'].isin(list_top_15_street)].groupby(['street', 'category']).agg({'name': 'count'}).reset_index().rename(columns={'name': 'quantity'})#.sort_values(by='quantity', ascending=False)\n",
    "#display(top_15)\n",
    "\n",
    "# считаем общее количество заведений по всем категориям по улице\n",
    "total_quant = top_15.groupby('street')['quantity'].sum().sort_values(ascending=False)\n",
    "#display(total_quant)\n",
    "\n",
    "# создаем новый столбец в оригинальном датафрейме, по которому отсортировываем значения\n",
    "top_15['total_count'] = top_15['street'].map(total_quant)\n",
    "\n",
    "# отсортировываем top_15 по total_count\n",
    "top_15 = top_15.sort_values(by='total_count')\n",
    "top_15"
   ]
  },
  {
   "cell_type": "code",
   "execution_count": null,
   "metadata": {},
   "outputs": [],
   "source": [
    "color_palette = ['#3366CC', '#DC3912', '#FF9900', '#109618', '#990099', '#0099C6', '#DD4477', '#66AA00']\n",
    "\n",
    "# Создание графика\n",
    "fig = px.bar(top_15, x='quantity', y='street', color='category', barmode='stack', text='quantity', color_discrete_sequence=color_palette)\n",
    "\n",
    "# Настройка внешнего вида графика\n",
    "fig.update_layout(\n",
    "    title={\n",
    "        'text': 'Распределение количества заведений по топ-15 улицам и категориям',\n",
    "        'xanchor': 'left',\n",
    "        'yanchor': 'top',\n",
    "        'x': 0\n",
    "    },\n",
    "    yaxis_title='Название улицы',\n",
    "    xaxis_title='Общее количество заведений и по категориям',\n",
    "    width=800,\n",
    "    height=600\n",
    ")\n",
    "\n",
    "# Увеличение размера графика\n",
    "fig.update_layout(\n",
    "    width=850,\n",
    "    height=600\n",
    ")\n",
    "\n",
    "fig.show() "
   ]
  },
  {
   "cell_type": "markdown",
   "metadata": {},
   "source": [
    "По построенному графику видно, что больше всего заведений находится на Проспекте Мира. Это скорее всего связано с тем, что проспект находится в центральной части Москвы и проходит через несколько районов города, а также является одной из главных магистралей города.\n",
    "\n",
    "Среди категорий по улицам в основном лидирут рестораны и кафе. Замечаем, что на Ленинском и Ленинградском проспектах относительно мало заведений с быстрым питанием, а на МКАДе относително много кафе, но отсутствуют булочные, что и не удивительно. Самые непопулярные заведения на всех  улицах - это булочные и столовые."
   ]
  },
  {
   "cell_type": "markdown",
   "metadata": {},
   "source": [
    "#### Найдим улицы, на которых находится только один объект общепита."
   ]
  },
  {
   "cell_type": "markdown",
   "metadata": {},
   "source": [
    "Рассмотрим эти заведения в разрезе категории заведений."
   ]
  },
  {
   "cell_type": "code",
   "execution_count": null,
   "metadata": {},
   "outputs": [],
   "source": [
    "# улицы, на которых находится только один объект общепита\n",
    "one_object = df.groupby('street').agg({'name': 'count'}).reset_index().rename(columns={'name': 'quantity'}).sort_values(by='quantity', ascending=False)\n",
    "one_object = one_object[one_object['quantity']==1]['street']\n",
    "display(one_object)\n",
    "\n",
    "# единственные заведения на улицах в разрезе категории заведений\n",
    "street_one_obj = df[df['street'].isin(one_object)].groupby(['street', 'category']).agg({'name': 'count'}).reset_index()['category'].value_counts().to_frame().reset_index().rename(columns={'index': 'category', 'category': 'count'})\n",
    "street_one_obj"
   ]
  },
  {
   "cell_type": "code",
   "execution_count": null,
   "metadata": {},
   "outputs": [],
   "source": [
    "#Создание графика\n",
    "fig = go.Figure(data=go.Bar(x=street_one_obj['category'], y=street_one_obj['count'], text=street_one_obj['count'], marker=dict(color='#005EFF')))\n",
    "\n",
    "# Добавление аннотаций с процентными значениями\n",
    "total_count = street_one_obj['count'].sum()\n",
    "for i in range(len(street_one_obj)):\n",
    "    percentage = street_one_obj['count'][i] / total_count * 100\n",
    "    fig.add_annotation(\n",
    "        x=street_one_obj['category'][i],\n",
    "        y=street_one_obj['count'][i],\n",
    "        text=f\"{percentage:.1f}%\",\n",
    "        showarrow=False,\n",
    "        font=dict(size=12),\n",
    "        yref='y',\n",
    "        yanchor='bottom',\n",
    "        ay=10\n",
    "    )\n",
    "\n",
    "# Настройка внешнего вида графика\n",
    "fig.update_layout(\n",
    "    title={\n",
    "        'text': 'Заведения, которые являются единственными на улице, в разрезе категорий ',\n",
    "        'x': 0.5,\n",
    "        'y': 0.9,\n",
    "        'xanchor': 'center',\n",
    "        'yanchor': 'top'\n",
    "    },\n",
    "    xaxis_title='Категория',\n",
    "    yaxis_title='Количество заведений',\n",
    "    width=700,\n",
    "    height=500\n",
    ")\n",
    "\n",
    "fig.show() "
   ]
  },
  {
   "cell_type": "markdown",
   "metadata": {},
   "source": [
    "Видим, что в основном заведения на улицах с одним объектом общепита являются кафе (34.9%), рестораном (20.3%) или кофейней (18.3%). Напротив, на данных улицах редко располагаются пиццерии (3.3%) и булочные (1.7%).\n",
    "\n",
    "Посмотрим сколько процентов среди заведений на этих улицах сетевые."
   ]
  },
  {
   "cell_type": "markdown",
   "metadata": {},
   "source": [
    "<div class=\"alert alert-success\">\n",
    "<b>Комментарий ревьюера: ✅</b>\n",
    "\n",
    "Здорово, что визуализируешь эту информацию. Обычно её обходят стороной 😅   \n",
    "</div>"
   ]
  },
  {
   "cell_type": "code",
   "execution_count": null,
   "metadata": {},
   "outputs": [],
   "source": [
    "street_one_chain = df[df['street'].isin(one_object)]['chain'].value_counts().to_frame().reset_index().rename(columns={'index': 'is_chain', 'chain': 'count'})\n",
    "street_one_chain['is_chain'] = street_one_chain['is_chain'].replace({0: 'Несетевые', 1: 'Сетевые'})\n",
    "#display(street_one_chain)\n",
    "\n",
    "# Настройка цветовой палитры\n",
    "color_palette = ['#005EFF', '#FF00CD']\n",
    "\n",
    "# Создание круговой диаграммы\n",
    "fig = go.Figure(data=[go.Pie(labels=street_one_chain['is_chain'], values=street_one_chain['count'], textinfo='label+percent+value', marker=dict(colors=color_palette))])\n",
    "\n",
    "# Настройка заголовка диаграммы\n",
    "fig.update_layout(title='Соотношение сетевых и несетевых заведений у улиц с одним объектом', title_font=dict(size=20), showlegend=False)\n",
    "fig.update_layout(title_x=0.5)\n",
    "\n",
    "fig.show()"
   ]
  },
  {
   "cell_type": "markdown",
   "metadata": {},
   "source": [
    "Замечаем, что у улиц с одним объектом общепита процент сетевых заведений ниже, чем в среднем по всем данным - 29% против 38.1%. Возможно, это связано с тем, что такие улицы могут быть маленькими или имеют низкий поток посетителей. Стоит учитывать этот факт при выборе размещения заведения."
   ]
  },
  {
   "cell_type": "markdown",
   "metadata": {},
   "source": [
    "<div class=\"alert alert-success\">\n",
    "<b>Комментарий ревьюера: ✅</b>\n",
    "\n",
    "Обрати внимание, что некоторые графики у нас повторяются.\n",
    "    \n",
    "Это говорит о том, что мы можем создать функцию для постоянного их построения. И с помощью этого повысить оптимизацию своего кода и презентабельность проекта в целом.\n",
    "    \n",
    "То есть мы можем создать \"обёртки\" с методами, и в функцию будем подавать нужные перменные: \n",
    "    \n",
    "- датасет\n",
    "- подписи графика и осей\n",
    "- и прочие любые настройки\n",
    "    \n",
    "</div>"
   ]
  },
  {
   "cell_type": "markdown",
   "metadata": {},
   "source": [
    "#### Считаем медиану  столбца middle_avg_bill для каждого района (показывает примерную стоимость заказа в рублях, которая чаще всего выражена диапазоном). Строим хороплет, используя это значение в качестве ценового индикатора района для каждого района. "
   ]
  },
  {
   "cell_type": "code",
   "execution_count": null,
   "metadata": {},
   "outputs": [],
   "source": [
    "# Группировка данных по районам и получение медианы столбца middle_avg_bill\n",
    "median_price_area  = df.groupby('district').agg({'middle_avg_bill': 'median'}).reset_index().rename(columns={'middle_avg_bill': 'median_bill'})\n",
    "median_price_area.sort_values(by='median_bill', ascending=False)"
   ]
  },
  {
   "cell_type": "code",
   "execution_count": null,
   "metadata": {
    "scrolled": false
   },
   "outputs": [],
   "source": [
    "# создаём карту Москвы\n",
    "m2 = Map(location=[moscow_lat, moscow_lng], zoom_start=10)\n",
    "\n",
    "# создаём хороплет с помощью конструктора Choropleth и добавляем его на карту\n",
    "Choropleth(\n",
    "    geo_data=state_geo,\n",
    "    data=median_price_area,\n",
    "    columns=['district', 'median_bill'],\n",
    "    #key_on='feature.name',\n",
    "    key_on='feature.properties.name',\n",
    "    fill_color='PuBu',\n",
    "    fill_opacity=0.8,\n",
    "    legend_name='Медианные значения средних чеков по районам',\n",
    ").add_to(m2)\n",
    "\n",
    "# выводим карту\n",
    "m2"
   ]
  },
  {
   "cell_type": "markdown",
   "metadata": {},
   "source": [
    "Замечаем, что Западный и Центральный АО имеют наибольший медианный (средний) чек по сравнению с другими районами. Напротив, Юго-Восточный, Южный и Северо-Восточный имеют наименьшие медианные (средние) чеки. Это можно объяснить потребительскими предпочтениями, а также тем, что районы с наименьшими медианными чеками могут иметь ниже уровень доходов, чем в Западном и Центральном АО, плюс они могут иметь более низкие арендные ставки для коммерческой недвижимости."
   ]
  },
  {
   "cell_type": "markdown",
   "metadata": {},
   "source": [
    "#### Исследуем особенности заведений с плохими рейтингами, средние чеки в таких местах и распределение по категориям заведений"
   ]
  },
  {
   "cell_type": "markdown",
   "metadata": {},
   "source": [
    "Установим правило: заведение считается плохим, если оно получает оценку меньше или равно 3.5 баллов. Эти оценки указывают на низкое качество обслуживания, плохое качество еды или напитков и другие негативные факторы, которые не удовлетворяют клиентов."
   ]
  },
  {
   "cell_type": "code",
   "execution_count": null,
   "metadata": {},
   "outputs": [],
   "source": [
    "# находим заведения с плохим рейтингом\n",
    "df_bad_rating = df[df['rating']<=3.5]\n",
    "print('Всего {} заведения с рейтингом ниже или равно 3.5. Это составляет {}% от общего количества заведений.'.format(df_bad_rating['name'].count(), round((df_bad_rating['name'].count()/df['name'].count()*100), 3)) )"
   ]
  },
  {
   "cell_type": "code",
   "execution_count": null,
   "metadata": {},
   "outputs": [],
   "source": [
    "median_price_area['district'] = median_price_area['district'].str.replace('административный округ', 'АО')\n",
    "\n",
    "# смотрим медианные чеки по заведениям с плохой оценкой\n",
    "median_df_bad  = df_bad_rating.groupby('district').agg({'middle_avg_bill': 'median'}).reset_index().rename(columns={'middle_avg_bill': 'median_bill_bad'})\n",
    "median_df_bad['district'] = median_df_bad['district'].str.replace('административный округ', 'АО')"
   ]
  },
  {
   "cell_type": "code",
   "execution_count": null,
   "metadata": {},
   "outputs": [],
   "source": [
    "merged_df = median_price_area.merge(median_df_bad, on='district')\n",
    "\n",
    "merged_df['per_loss'] = (merged_df['median_bill']-merged_df['median_bill_bad'])/merged_df['median_bill']*100\n",
    "display(merged_df)\n",
    "print('{}% - во столько раз средний чек по всем заведениям больше среднего чека заведений с плохой оценкой, за исключением Юго-Восточного АО (там идет увеличение).'.format(round(merged_df[merged_df['district']!='Юго-Восточный АО']['per_loss'].mean())))"
   ]
  },
  {
   "cell_type": "code",
   "execution_count": null,
   "metadata": {},
   "outputs": [],
   "source": [
    "bar_width = 0.4\n",
    "\n",
    "# Создание массива смещений для позиционирования столбцов\n",
    "bar_positions = np.arange(len(merged_df['district']))\n",
    "\n",
    "fig, ax = plt.subplots()\n",
    "\n",
    "# Построение столбцов для 'median_bill'\n",
    "ax.bar(bar_positions, merged_df['median_bill'], width=bar_width, label=merged_df['median_bill'], color='#005EFF')\n",
    "\n",
    "# Построение столбцов для 'median_bill_bad' смещенных вправо\n",
    "ax.bar(bar_positions + bar_width, merged_df['median_bill_bad'], width=bar_width, label=merged_df['median_bill_bad'], color='#FF00CD')\n",
    "\n",
    "# Настройка оси X\n",
    "plt.xticks(bar_positions + bar_width, merged_df['district'], rotation=-45)\n",
    "\n",
    "# Добавление значений над каждым столбцом 'median_bill'\n",
    "for i in range(len(bar_positions)):\n",
    "    ax.text(bar_positions[i] + bar_width / 2, merged_df['median_bill'][i], str(merged_df['median_bill'][i]), ha='center', va='bottom', fontsize=11)\n",
    "\n",
    "# Добавление значений над каждым столбцом 'median_bill_bad'\n",
    "for i in range(len(bar_positions)):\n",
    "    ax.text(bar_positions[i] + 3 * bar_width / 2, merged_df['median_bill_bad'][i], str(merged_df['median_bill_bad'][i]), ha='center', va='bottom', fontsize=11)\n",
    "\n",
    "# Настройка внешнего вида графика\n",
    "plt.xlabel('Районы')\n",
    "plt.ylabel('Средний (медианный) чек')\n",
    "plt.title('Медианные чеки по всем данным и по заведениям с плохой оценкой')\n",
    "\n",
    "plt.legend(['по всем заведениям', 'по заведениям с плохой оценкой'])\n",
    "\n",
    "# Увеличение размера графика\n",
    "fig.set_size_inches(10, 7)\n",
    "\n",
    "plt.show()"
   ]
  },
  {
   "cell_type": "markdown",
   "metadata": {},
   "source": [
    "У заведений с плохим рейтингом картина немного другая по сравнению с аналогичными действиями по всем данным. Центральный административный округ по среднему чеку по прежнему лидирует. Интересно, что у заведений с плохим рейтингом в Юго-Восточном АО средний чек выше, чем по другим категориям. В остальных округах средний чек у заведений с плохим рейтингом меньше в среднем на 39% по сравнению со средним рейтингом по всем заведениям.\n",
    "\n",
    "Эти выводы логичны, поскольку заведения с более высоким рейтингом предлагают более высокое качество услуг, и соответственно, получают лучшую оценку. Клиенты, которые ожидают лучшего качества и обслуживания, могут быть готовы заплатить больше за такой опыт."
   ]
  },
  {
   "cell_type": "markdown",
   "metadata": {},
   "source": [
    "Рассмотрим распределение по улицам и категориям в местах с плохим рейтингом.  \n",
    "Сначала найдем топ-15 улиц по количеству заведений."
   ]
  },
  {
   "cell_type": "code",
   "execution_count": null,
   "metadata": {
    "scrolled": false
   },
   "outputs": [],
   "source": [
    "# топ-15 улиц по количеству заведений\n",
    "list_top_15_street = df_bad_rating.groupby('street').agg({'name': 'count'}).reset_index().rename(columns={'name': 'quantity'}).sort_values(by='quantity', ascending=False).head(15)['street'].tolist()\n",
    "#display(top_15_street)\n",
    "\n",
    "top_15 = df_bad_rating[df_bad_rating['street'].isin(list_top_15_street)].groupby(['street', 'category']).agg({'name': 'count'}).reset_index().rename(columns={'name': 'quantity'})#.sort_values(by='quantity', ascending=False)\n",
    "#display(top_15)\n",
    "\n",
    "# считаем общее количество заведений по всем категориям по улице\n",
    "total_quant = top_15.groupby('street')['quantity'].sum().sort_values(ascending=False)\n",
    "#display(total_quant)\n",
    "\n",
    "# создаем новый столбец в оригинальном датафрейме, по которому отсортировываем значения\n",
    "top_15['total_count'] = top_15['street'].map(total_quant)\n",
    "\n",
    "# отсортировываем top_15 по total_count\n",
    "top_15 = top_15.sort_values(by='total_count')\n",
    "\n",
    "# настраиваем цвета графика\n",
    "color_palette = ['#3366CC', '#DC3912', '#FF9900', '#109618', '#990099', '#0099C6', '#DD4477', '#66AA00']\n",
    "\n",
    "# Создание графика\n",
    "fig = px.bar(top_15, x='quantity', y='street', color='category', barmode='stack', text='quantity', color_discrete_sequence=color_palette)\n",
    "\n",
    "# Настройка внешнего вида графика\n",
    "fig.update_layout(\n",
    "    title={\n",
    "        'text': 'Количество заведений с плохим рейтингом по улицам и категориям',\n",
    "        'xanchor': 'left',\n",
    "        'yanchor': 'top',\n",
    "        'x': 0\n",
    "    },\n",
    "    yaxis_title='Название улицы',\n",
    "    xaxis_title='Общее количество заведений  по категориям',\n",
    "    width=800,\n",
    "    height=600\n",
    ")\n",
    "\n",
    "# Отображение графика\n",
    "fig.show() "
   ]
  },
  {
   "cell_type": "markdown",
   "metadata": {},
   "source": [
    "По графику видно, что больше всего заведений с плохим рейтингом расположены на улицах Просперт Мира и Новоясеневский проспект. Среди категории у этих заведений преобладают кафе и быстрое питание.\n",
    "\n",
    "Как мы ранее выяснии, больше всего заведений находится на Проспекте Мира. На нем располагается широкий спектр заведений общественного питания. Среди них могут быть заведения с различными бюджетами, концепциями и уровнем обслуживания. В результате, среди такого разнообразия заведений, некоторые могут получать низкие рейтинги из-за недостаточного качества продуктов, обслуживания или других факторов.\n",
    "\n",
    "Новоясеневский проспект находится далеко от центра. Его расположение может быть привлекательным для определенной аудитории, например, студентов или молодых людей. Такие заведения могут привлекать клиентов, которые ищут более доступные цены или имеют ограниченные финансовые возможности. Это может создать спрос на такие заведения и в результате большее количество заведений с плохим рейтингом.??правда ли"
   ]
  },
  {
   "cell_type": "markdown",
   "metadata": {},
   "source": [
    "#### Промежуточный вывод"
   ]
  },
  {
   "cell_type": "markdown",
   "metadata": {},
   "source": [
    "Всего в данных представлено 8 типов заведений общественного питания. Замечам, что больше всего у нас в данных встречаются кафе, рестораны и кофейни. Меньше всего конкуренции на рынке у владельцев столовых и булочных. Относительно небольшое количество столовых и булочных в Москве скорее всего связано с высоким уровенем доходов, что создает спрос на разнообразные рестораны и кафе.\n",
    "\n",
    "Что касательно количества посадочных мест, то больше всего их у ресторанов, что и логично. Меньше всего - у пиццерий и булочных, что тоже предсказуемо. Большее количество посадочных мест позволяет одновременно обслуживать большее количество клиентов. Это особенно важно в заведениях с высокой проходимостью. Также количество мест влияет напрямую на рентабельность и доходы. Но количество посадочных мест несет за собой высокие затраты на аренду и обслуживание и увеличенные сложности в управлении.\n",
    "\n",
    "Несетевых в 1,6 раз больше чем сетевых заведений. Стоит сказать, что сетевым заведениям в некоторой степени проще конкурировать, поскольку они оперируют несколькими филиалами и могут обладать большими ресурсами для маркетинга, брендирования и привлечения клиентов. Мы выявили, что среди булочных и пиццерий больше сетевых, нежели несетевых. Напротив, у баров/пабов и столовых сетевых меньше, чем несетевых. У кофеен пропорции сетевых и несетевых заведений примерно одиннаковые.\n",
    "\n",
    "Топ-15 популярных сетей чаще относятся к категории кофейня. Наверно это из-за того, что кофейни являются популярными местами для встреч. Многие кофейни также предлагают бесплатный Wi-Fi, что делает их привлекательными для людей, которым необходимо работать или общаться вне офиса или дома. Только одно заведение из топ-15 сетей является булочной.\n",
    "\n",
    "Всего в данных присутствуют 9 административных районов. По общему количеству заведений лидирует Центральный АО, а меньшее количество заведений находится в Северо-Западном АО. По всем категориям заведений («кафе», «пиццерия» или «кофейня») лидирует Центральный АО. Если смотреть распределение по категориям в целом, то оно выглядит более менее пропорциональным количеству заведений в районах: где больше общее количество заведений, там будет больше, например, ресторанов.\n",
    "\n",
    "Замечаем, что усреднённые рейтинги различаются не сильно в разных типах общепита. Самый высокий медианный рейтинг имеют заведения в Центральном АО, что скорее всего связано с высокими стандартами качества. Самый низкий - в Северо-Восточном и Юго-Восточном АО.\n",
    "\n",
    "Было выявлено, что больше всего заведений находится на Проспекте Мира. Это скорее всего связано с тем, что проспект находится в центральной части Москвы и проходит через несколько районов города, а также является одной из главных магистралей города. Среди категорий по улицам в основном лидируют рестораны и кафе. Замечаем, что на Ленинском и Ленинградском проспектах относительно мало заведений с быстрым питанием, а на МКАДе относително много кафе, но отсутствуют булочные. Самые непопулярные заведения на всех улицах - это булочные и столовые.\n",
    "\n",
    "Заметили, что у улиц с одним объектом общепита процент сетевых заведений ниже, чем в среднем по всем данным - 29% против 38.1%. Возможно, это связано с тем, что такие улицы могут быть маленькими или имеют низкий поток посетителей. Стоит учитывать этот факт при выборе размещения заведения.\n",
    "\n",
    "Замечаем, что Западный и Центральный АО имеют наибольший медианный чек по сравнению с другими районами. Напротив, Юго-Восточный, Южный и Северо-Восточный имеют наименьшие медианные чеки. Это можно объяснить потребительскими предпочтениями, а также тем, что районы с наименьшими медианными чеками могут иметь ниже уровень доходов, чем в Западном и Центральном АО, плюс они могут иметь более низкие арендные ставки для коммерческой недвижимости (и наоборот).\n",
    "\n",
    "Мы установили, что заведение считается плохим, если оно получает оценку меньше или равно 3.5 баллов. Всего было найдено 506 заведений с рейтингом ниже или равно 3.5. Это составило 6.021% от общего количества заведений. Исследуя особенности заведений с плохими рейтингами, было замечено, что у заведений с плохим рейтингом картина немного другая по сравнению с аналогичными действиями по всем данным. Центральный административный округ по среднему чеку также лидирует. Но у заведений с плохим рейтингом в Юго-Восточном АО средний чек выше, чем по другим категориям. В остальных округах средний чек у заведений с плохим рейтингом меньше в среднем на 39% по сравнению со средним рейтингом по всем заведениям. Также было установлено, что больше всего заведений с плохим рейтингом расположены на улицах Просперт Мира и Новоясеневский проспект. Среди категории у этих заведений преобладают кафе и быстрое питание."
   ]
  },
  {
   "cell_type": "markdown",
   "metadata": {},
   "source": [
    "###  Детализация исследования: открытие кофейни"
   ]
  },
  {
   "cell_type": "markdown",
   "metadata": {},
   "source": [
    "#### Сколько всего кофеен в датасете? В каких районах их больше всего, каковы особенности их расположения?"
   ]
  },
  {
   "cell_type": "code",
   "execution_count": null,
   "metadata": {},
   "outputs": [],
   "source": [
    "# смотрим сколько всего кофеен\n",
    "df_coffee_house = df[df['category']=='кофейня']\n",
    "print('Всего в данных {} кофейни. Это составляет {}% от общего количества заведений.'.format(df_coffee_house.shape[0], round((df_coffee_house.shape[0]/df.shape[0]*100), 3)))"
   ]
  },
  {
   "cell_type": "code",
   "execution_count": null,
   "metadata": {},
   "outputs": [],
   "source": [
    "# смотрим в каких районах их больше всего\n",
    "coffee_house_region  = df_coffee_house.groupby('district').agg({'name': 'count'}).reset_index().rename(columns={'name': 'count'}).sort_values(by='count', ascending=False)\n",
    "coffee_house_region['district'] = coffee_house_region['district'].str.replace('административный округ', 'АО')\n",
    "#display(coffee_house_region)\n",
    "\n",
    "# Создание графика\n",
    "fig = go.Figure(data=go.Bar(x=coffee_house_region['district'], y=coffee_house_region['count'], text=coffee_house_region['count'], marker=dict(color='#005EFF')))\n",
    "\n",
    "# Добавление аннотаций с процентными значениями\n",
    "total_count = coffee_house_region['count'].sum()\n",
    "\n",
    "for i in range(len(coffee_house_region)):\n",
    "    percentage = coffee_house_region['count'][i] / total_count * 100\n",
    "    fig.add_annotation(\n",
    "        x=coffee_house_region['district'][i],\n",
    "        y=coffee_house_region['count'][i],\n",
    "        text=f\"{percentage:.1f}%\",\n",
    "        showarrow=False,\n",
    "        font=dict(size=12),\n",
    "        yref='y',\n",
    "        yanchor='bottom',\n",
    "        ay=10\n",
    "    )\n",
    "\n",
    "# Настройка внешнего вида графика\n",
    "fig.update_layout(\n",
    "    title={\n",
    "        'text': 'Количество кофеен по районам',\n",
    "        'x': 0.5,\n",
    "        'y': 0.9,\n",
    "        'xanchor': 'center',\n",
    "        'yanchor': 'top'\n",
    "    },\n",
    "    yaxis_title='Количество кофеен',\n",
    "    width=700,\n",
    "    height=400\n",
    ")\n",
    "\n",
    "fig.show() "
   ]
  },
  {
   "cell_type": "markdown",
   "metadata": {},
   "source": [
    "Больше всего кофеен находится в Центральном АО, что логично, поскольку там находится основные бизнес центры и университеты, а также там в основном обитают туристы. Меньше всего кофеен в Юго-Западном, Юго-Восточном и Северо-Западном административных округах.\n",
    "\n",
    "Отобразим на карте кофейни."
   ]
  },
  {
   "cell_type": "code",
   "execution_count": null,
   "metadata": {},
   "outputs": [],
   "source": [
    "# создаём карту Москвы\n",
    "m3 = Map(location=[moscow_lat, moscow_lng], zoom_start=10)\n",
    "\n",
    "# создаём пустой кластер, добавляем его на карту\n",
    "marker_cluster = MarkerCluster().add_to(m3)\n",
    "\n",
    "# пишем функцию, которая принимает строку датафрейма,\n",
    "# создаёт маркер в текущей точке и добавляет его в кластер marker_cluster\n",
    "def create_clusters(row):\n",
    "    Marker(\n",
    "        [row['lat'], row['lng']],\n",
    "        popup=f\"{row['name']} {row['rating']}\",\n",
    "    ).add_to(marker_cluster)\n",
    "\n",
    "# применяем функцию create_clusters() к каждой строке датафрейма\n",
    "df_coffee_house.apply(create_clusters, axis=1)\n",
    "\n",
    "m3"
   ]
  },
  {
   "cell_type": "markdown",
   "metadata": {},
   "source": [
    "Замечаем также, что много кофеен расположены у метро и достопримечательностей, а они размещаются как раз преимущественно в центре."
   ]
  },
  {
   "cell_type": "markdown",
   "metadata": {},
   "source": [
    "#### Есть ли круглосуточные кофейни?"
   ]
  },
  {
   "cell_type": "code",
   "execution_count": null,
   "metadata": {},
   "outputs": [],
   "source": [
    "coffee_shops_24_7 = df_coffee_house['is_24/7'].value_counts().to_frame().reset_index()\n",
    "coffee_shops_24_7['index'] = coffee_shops_24_7['index'].replace({False: 'Не круглосуточно', True: 'Круглосуточно'})\n",
    "print('Всего {} круглосуточных кофеен. Это {}% от всех кофеен.'.format(coffee_shops_24_7['is_24/7'][1], round(coffee_shops_24_7['is_24/7'][1]/coffee_shops_24_7['is_24/7'].sum()*100,3)))"
   ]
  },
  {
   "cell_type": "code",
   "execution_count": null,
   "metadata": {},
   "outputs": [],
   "source": [
    "coffee_shops_24_7"
   ]
  },
  {
   "cell_type": "code",
   "execution_count": null,
   "metadata": {},
   "outputs": [],
   "source": [
    "plt.bar(coffee_shops_24_7['index'], coffee_shops_24_7['is_24/7'], label=coffee_shops_24_7['index'], color='#005EFF')\n",
    "\n",
    "# Настройка осей и подписей\n",
    "plt.ylabel('Количество кофеен')\n",
    "plt.title('Распределение кофеен по режиму работы')\n",
    "\n",
    "# Вычисление общей суммы\n",
    "total_sum = coffee_shops_24_7['is_24/7'].sum()\n",
    "\n",
    "# Добавление процентов на столбцах\n",
    "for i, v in enumerate(coffee_shops_24_7['is_24/7']):\n",
    "    percent = v / total_sum * 100\n",
    "    plt.text(i, v, f'{percent:.1f}%', ha='center', va='bottom', fontsize=13)\n",
    "\n",
    "# Отображение столбчатой диаграммы\n",
    "plt.tight_layout()\n",
    "plt.show()"
   ]
  },
  {
   "cell_type": "markdown",
   "metadata": {},
   "source": [
    "Круглосуточных кофеен более чем в 17 раз меньше, чем некруглосуточных. Возможно, если на рынке существует достаточный спрос на круглосуточные заведенения, то существует неудовлетворенные потребности потребителей. Круглосуточный режим работы может служить маркетинговым и стратегическим преимуществом вашего бизнеса, привлекая больше клиентов и создавая уникальное предложение на рынке."
   ]
  },
  {
   "cell_type": "markdown",
   "metadata": {},
   "source": [
    "#### Какие у кофеен рейтинги? Как они распределяются по районам?"
   ]
  },
  {
   "cell_type": "code",
   "execution_count": null,
   "metadata": {},
   "outputs": [],
   "source": [
    "plt.figure(figsize=(9, 6))  # Устанавливаем размер фигуры\n",
    "sns.stripplot(x='rating', y='name', data=df_coffee_house, color='#005EFF')\n",
    "plt.gca().set_yticklabels([])\n",
    "\n",
    "# Настройка осей и заголовка графика\n",
    "plt.xlabel('Рейтинг')\n",
    "plt.ylabel('Количество кофеен')\n",
    "plt.title('Распределение рейтингов кофеен')\n",
    "\n",
    "plt.show()"
   ]
  },
  {
   "cell_type": "code",
   "execution_count": null,
   "metadata": {},
   "outputs": [],
   "source": [
    "for_bar = df_coffee_house.groupby('rating').agg({'name': 'count'}).reset_index()\n",
    "for_bar['rating'] = for_bar['rating'].astype(str)\n",
    "fig = px.bar(for_bar, x='rating', y='name', color_discrete_sequence=['#005EFF'])\n",
    "\n",
    "# Настройка внешнего вида графика\n",
    "fig.update_layout(\n",
    "    title='Распределение рейтингов кофеен',\n",
    "    yaxis_title='Количество кофеен',\n",
    "    xaxis_title='Рейтинг',\n",
    "    width=600,\n",
    "    height=400\n",
    ")\n",
    "\n",
    "fig.show()"
   ]
  },
  {
   "cell_type": "markdown",
   "metadata": {},
   "source": [
    "У большинства кофеен оценка пользователей находиться около 4.2-4.4. Очень мало кофеен с оценками ниже 3.7 и не так много кофеен с оценками больше 4.8."
   ]
  },
  {
   "cell_type": "code",
   "execution_count": null,
   "metadata": {},
   "outputs": [],
   "source": [
    "median_rat_district = df_coffee_house.groupby('district').agg({'rating': 'median'}).reset_index().sort_values(by='rating',ascending=False)\n",
    "median_rat_district['district'] = median_rat_district['district'].str.replace('административный округ', 'АО')\n",
    "median_rat_district\n",
    "\n",
    "# Создание графика \n",
    "fig = px.bar(median_rat_district, x='district', y='rating', color_discrete_sequence=['#005EFF'])\n",
    "\n",
    "# Настройка внешнего вида графика\n",
    "fig.update_layout(\n",
    "    title='Распределение средних рейтингов кофеен по районам',\n",
    "    yaxis_title='Средний рейтинг',\n",
    "    xaxis_title='Районы',\n",
    "    width=600,\n",
    "    height=400\n",
    ")\n",
    "\n",
    "# Добавление значений над каждым столбцом\n",
    "fig.update_traces(text=round(median_rat_district['rating'], 3), textposition='auto')\n",
    "\n",
    "fig.show()"
   ]
  },
  {
   "cell_type": "markdown",
   "metadata": {},
   "source": [
    "Как мы видим из диаграммы, у всех районов средний (медианный) рейтинг кофеен почти не отличается. Только у Западного АО рейтинг немного ниже остальных."
   ]
  },
  {
   "cell_type": "markdown",
   "metadata": {},
   "source": [
    "#### На какую стоимость чашки капучино стоит ориентироваться при открытии и почему?"
   ]
  },
  {
   "cell_type": "markdown",
   "metadata": {},
   "source": [
    "При условии, что мы не обращаем большое внимаение на сильную конкуренцию, нужно учитывать следующее.\n",
    "Чтобы понять на какую стоимость чашки капучино стоит ориентироваться, нужно проанализировать общую ценовую политику районов Москвы. Чрезмерно низкие цены могут вызвать сомнения в качестве товаров, а слишком высокие цены могут оттолкнуть потенциальных клиентов. Стоит также проанализировать расходы на собственные затраты и вложить их в цену товаров."
   ]
  },
  {
   "cell_type": "code",
   "execution_count": null,
   "metadata": {},
   "outputs": [],
   "source": [
    "# Группировка данных по районам и получение медианы столбца middle_coffee_cup\n",
    "median_price_area_ch = df_coffee_house.groupby('district').agg({'middle_coffee_cup': 'median'}).reset_index().rename(columns={'middle_coffee_cup': 'median_bill'})\n",
    "median_price_area_ch.sort_values(by='median_bill', ascending=False)"
   ]
  },
  {
   "cell_type": "code",
   "execution_count": null,
   "metadata": {},
   "outputs": [],
   "source": [
    "# создаём карту Москвы\n",
    "m4 = Map(location=[moscow_lat, moscow_lng], zoom_start=10)\n",
    "\n",
    "# создаём хороплет с помощью конструктора Choropleth и добавляем его на карту\n",
    "Choropleth(\n",
    "    geo_data=state_geo,\n",
    "    data=median_price_area_ch,\n",
    "    columns=['district', 'median_bill'],\n",
    "    #key_on='feature.name',\n",
    "    key_on='feature.properties.name',\n",
    "    fill_color='PuBu',\n",
    "    fill_opacity=0.8,\n",
    "    legend_name='Медианные значения средних цен чашки капучино по районам',\n",
    ").add_to(m4)\n",
    "\n",
    "# выводим карту\n",
    "m4"
   ]
  },
  {
   "cell_type": "markdown",
   "metadata": {},
   "source": [
    "Самая низкая средняя цена на чашку капучино в Восточный АО (135 руб.), самая высокая - Юго-Западном, Центральном и Западном АО (189-198 руб.). Но скорее всего и аренда помещений в Юго-Западном и Центральном АО тоже будет самая высокая.\n",
    "\n",
    "Рассмотрим цену средней чашки кофе в сетевых и несетевых кофейнях."
   ]
  },
  {
   "cell_type": "code",
   "execution_count": null,
   "metadata": {},
   "outputs": [],
   "source": [
    "# сетевые кофейни\n",
    "top_15_chain = df_coffee_house[df_coffee_house['chain']==1].groupby('name').agg({'middle_coffee_cup': 'median'}).sort_values(by='middle_coffee_cup', ascending=False).reset_index().head(15)\n",
    "top_15_chain\n",
    "\n",
    "# Создание графика \n",
    "fig = px.bar(top_15_chain, x='name', y='middle_coffee_cup', color_discrete_sequence=['#005EFF'])\n",
    "\n",
    "# Настройка внешнего вида графика\n",
    "fig.update_layout(\n",
    "    title='Цена средней чашки кофе в сетевых кофейнях',\n",
    "    xaxis_title='Название кофейни',\n",
    "    yaxis_title='Цена средней чашки кофе'\n",
    ")\n",
    "\n",
    "# Добавление значений над каждым столбцом\n",
    "fig.update_traces(text=top_15_chain['middle_coffee_cup'])\n",
    "\n",
    "# Отображение графика\n",
    "fig.show()"
   ]
  },
  {
   "cell_type": "code",
   "execution_count": null,
   "metadata": {
    "scrolled": false
   },
   "outputs": [],
   "source": [
    "# несетевые кофейни\n",
    "top_15_not_chain = df_coffee_house[df_coffee_house['chain']==0].groupby('name').agg({'middle_coffee_cup': 'median'}).sort_values(by='middle_coffee_cup', ascending=False).reset_index().head(15)\n",
    "top_15_not_chain\n",
    "\n",
    "# Создание графика \n",
    "fig = px.bar(top_15_not_chain, x='name', y='middle_coffee_cup', color_discrete_sequence=['#005EFF'])\n",
    "\n",
    "# Настройка внешнего вида графика\n",
    "fig.update_layout(\n",
    "    title='Цена средней чашки кофе в несетевых кофейнях',\n",
    "    xaxis_title='Название кофейни',\n",
    "    yaxis_title='Цена средней чашки кофе'\n",
    ")\n",
    "\n",
    "# Добавление значений над каждым столбцом\n",
    "fig.update_traces(text=top_15_not_chain['middle_coffee_cup'])\n",
    "\n",
    "fig.show()"
   ]
  },
  {
   "cell_type": "markdown",
   "metadata": {},
   "source": [
    "Из графиков видно, что цена средней чашки кофе в не\n",
    "сетевых кофейнях выше, чем в сетевых. Здесь может работать масштаб экономии: сетевые кофейни могут иметь больший объем закупок, централизованное управление поставками и лучшие условия с поставщиками. Благодаря этому они могут получать скидки на ингредиенты, сырье и оборудование. В результате сетевые кофейни могут иметь более низкие себестоимости и, соответственно, могут установить более низкие цены для привлечения клиентов. \n",
    "\n",
    "Покажем примерные места, где можно разместить кофейню."
   ]
  },
  {
   "cell_type": "code",
   "execution_count": null,
   "metadata": {},
   "outputs": [],
   "source": [
    "# метро Бауманская\n",
    "metro_lat, metro_lng =  55.772411, 37.679044\n",
    "\n",
    "# создаём карту с центром\n",
    "m4 = folium.Map(location=[metro_lat, metro_lng], zoom_start=16)\n",
    "\n",
    "# сохраняем URL-адрес изображения со значком торгового центра с icons8, это путь к файлу на сервере icons8\n",
    "icon_url = 'https://img.icons8.com/?size=512&id=jKUJjH7PuItN&format=png'  \n",
    "# создаём объект с собственной иконкой размером 30x30\n",
    "icon = CustomIcon(icon_url, icon_size=(30, 30))\n",
    "# Добавление иконки на карту для метро Бауманская\n",
    "folium.Marker(\n",
    "    location=[metro_lat, metro_lng],\n",
    "    icon=icon\n",
    ").add_to(m4)\n",
    "\n",
    "coordinates = [\n",
    "    {'name': 'МГТУ им. Н.Э. Баумана', 'lat': 55.769741, 'lng': 37.691157},\n",
    "    {'name': 'Первый профессиональный университет', 'lat': 55.770183, 'lng': 37.686177},\n",
    "    {'name': 'Московский Государственный Областной Университет', 'lat': 55.773175, 'lng': 37.682727}\n",
    "]\n",
    "\n",
    "icon_url_un = 'https://img.icons8.com/?size=512&id=2341&format=png'\n",
    "\n",
    "# Создание иконок для университетов\n",
    "for coordinate in coordinates:\n",
    "    icon = folium.features.CustomIcon(icon_url_un, icon_size=(30, 30))\n",
    "    folium.Marker(\n",
    "        location=[coordinate['lat'], coordinate['lng']],\n",
    "        icon=icon,\n",
    "        tooltip=coordinate['name'],\n",
    "        popup=folium.Popup(coordinate['name'], max_width=200)\n",
    "    ).add_to(m4)\n",
    "       \n",
    "coordinates_ch = [\n",
    "    {'name': 'Место для кофейни 1', 'lat': 55.771626, 'lng': 37.680374},\n",
    "    {'name': 'Место для кофейни 2', 'lat': 55.773358, 'lng': 37.683832},\n",
    "    {'name': 'Место для кофейни 3', 'lat': 55.771798, 'lng': 37.681919}\n",
    "]\n",
    "\n",
    "icon_url_ch = 'https://img.icons8.com/?size=512&id=26396&format=png'\n",
    "\n",
    "# Создание иконок для мест для кофейни\n",
    "for coordinate in coordinates_ch:\n",
    "    icon = folium.features.CustomIcon(icon_url_ch, icon_size=(30, 30))\n",
    "    folium.Marker(\n",
    "        location=[coordinate['lat'], coordinate['lng']],\n",
    "        icon=icon,\n",
    "        tooltip=coordinate['name'],\n",
    "        popup=folium.Popup(coordinate['name'], max_width=200)\n",
    "    ).add_to(m4)\n",
    "# выводим карту\n",
    "m4"
   ]
  },
  {
   "cell_type": "markdown",
   "metadata": {},
   "source": [
    "#### Вывод"
   ]
  },
  {
   "cell_type": "markdown",
   "metadata": {},
   "source": [
    "Всего в данных 1413 кофейни. Это составляет 16.813% от общего количества заведений.\n",
    "\n",
    "Больше всего кофеен находится в Центральном АО, что логично, поскольку там находится основные бизнес центры и университеты, а также там в основном обитают туристы. Меньше всего кофеен в Юго-Западном, Юго-Восточном и Северо-Западном административных округах, а, соответственно, там  меньше конкуренции. Рассмотрев местоположение кофеен на карте, мы заметили, что много кофеен расположены у метро и достопримечательностей.\n",
    "\n",
    "Всего 76 круглосуточных кофеен. Это 5.436% от всех кофеен. Круглосуточных кофеен более чем в 17 раз меньше, чем некруглосуточных. Возможно, если на рынке существует достаточный спрос на круглосуточные заведенения, то существует неудовлетворенные потребности потребителей. Круглосуточный режим работы может служить маркетинговым и стратегическим преимуществом бизнеса, привлекая больше клиентов. Рекомендовано сделать  дополнительное анализирование запросов, например, \"круглосуточные кофейни\". Также можно сделать мониторинг социальных сетей потенциальных конкурентов, чтобы узнать об неудовлетворенности потребителей. Но нужно учитывать, что для работы круглосуточной кофейни потребуются дополнительные затраты и ресурсы потребуются. Если открывать круглосуточную кофейню, то нужно выбрать такую локацию, чтобы кофейня находилаась в районе с высокой активностью или проходом людей круглосуточно.\n",
    "\n",
    "У большинства кофеен оценка пользователей находится около 4.2-4.4. Очень мало кофеен с оценками ниже 3.7 и не так много кофеен с оценками больше 4.8. Как мы заметили из данных, у всех районов средний (медианный) рейтинг кофеен почти не отличается. Только у Западного АО рейтинг немного ниже остальных. Рейтинг аналогичных заведений указывает на то, что уровень качества и предоставляемых ими услуг находится на среднем уровне (высокой считаю рейтинг 4.5 и выше). \n",
    "\n",
    "При условии, что мы не обращаем большое внимаение на сильную конкуренцию, нужно учитывать следующее. Цена чашки кофе зависит от выбор региона. Чтобы понять на какую стоимость чашки капучино стоит ориентироваться, нужно ориентироваться на ценовую политику районов. Чрезмерно низкие цены могут вызвать сомнения в качестве товаров, а слишком высокие цены могут оттолкнуть потенциальных клиентов. Стоит также проанализировать расходы на собственные затраты и вложить их в цену товаров.\n",
    "\n",
    "Самая низкая средняя цена на чашку капучино в Восточном АО (135 руб.), самая высокая - Юго-Западном, Центральном и Западном АО (189-198 руб.). Но скорее всего и аренда помещений в Юго-Западном и Центральном АО тоже будет самая высокая.\n",
    "\n",
    "Как мы выяснили раннее, на рынке уже существуют не мало кофеен, а это может указывать на наличие спроса на такие заведения. Кафе и кофейни часто являются популярным местом для работы или учебы вне офиса или учебных заведений. Пандемия вынудила многие компании и организации перейти на удаленную работу и учебу, поэтому появилось больше потенциальных потребителей.\n",
    "\n",
    "Рекомендовано выбирать места под кофейню с большой проходимостью вблизи оживленных районов, бизнес-центров, университетов, туристических мест и других мест с высоким потоком людей. Например, между м. Бауманская и МГТУ им. Н.Э. Баумана, или Первым профессиональным университетом, или Московским Государственным Областным Университетом. Здесь не такаядорогая аренда как в самом центре, но при этом существует постоянный поток людей. В этом случае целевой аудиторией в основном будут студенты, туристы и люди, проживающие здесь."
   ]
  },
  {
   "cell_type": "markdown",
   "metadata": {},
   "source": [
    "### Шаг – Подготовка презентации"
   ]
  },
  {
   "cell_type": "markdown",
   "metadata": {},
   "source": [
    "Презентация: <https://disk.yandex.ru/i/4LmqdVTRjJMi7w>"
   ]
  },
  {
   "cell_type": "code",
   "execution_count": null,
   "metadata": {},
   "outputs": [],
   "source": []
  }
 ],
 "metadata": {
  "ExecuteTimeLog": [
   {
    "duration": 4,
    "start_time": "2023-05-17T14:39:43.038Z"
   },
   {
    "duration": 47,
    "start_time": "2023-05-17T14:56:03.149Z"
   },
   {
    "duration": 401,
    "start_time": "2023-05-17T14:56:05.841Z"
   },
   {
    "duration": 152,
    "start_time": "2023-05-17T14:56:06.678Z"
   },
   {
    "duration": 3,
    "start_time": "2023-05-17T15:00:40.744Z"
   },
   {
    "duration": 88,
    "start_time": "2023-05-17T15:00:40.947Z"
   },
   {
    "duration": 34,
    "start_time": "2023-05-17T15:08:30.814Z"
   },
   {
    "duration": 51,
    "start_time": "2023-05-18T09:35:13.772Z"
   },
   {
    "duration": 1608,
    "start_time": "2023-05-18T09:35:16.505Z"
   },
   {
    "duration": 265,
    "start_time": "2023-05-18T09:35:18.116Z"
   },
   {
    "duration": 19,
    "start_time": "2023-05-18T09:35:18.382Z"
   },
   {
    "duration": 145,
    "start_time": "2023-05-18T09:35:18.404Z"
   },
   {
    "duration": 11,
    "start_time": "2023-05-18T09:35:24.426Z"
   },
   {
    "duration": 25,
    "start_time": "2023-05-18T09:35:34.880Z"
   },
   {
    "duration": 22,
    "start_time": "2023-05-18T09:41:07.560Z"
   },
   {
    "duration": 34,
    "start_time": "2023-05-18T09:41:20.120Z"
   },
   {
    "duration": 25,
    "start_time": "2023-05-18T09:43:18.640Z"
   },
   {
    "duration": 21,
    "start_time": "2023-05-18T09:43:25.223Z"
   },
   {
    "duration": 91,
    "start_time": "2023-05-18T09:46:21.997Z"
   },
   {
    "duration": 10,
    "start_time": "2023-05-18T09:50:18.656Z"
   },
   {
    "duration": 10,
    "start_time": "2023-05-18T09:50:34.325Z"
   },
   {
    "duration": 20,
    "start_time": "2023-05-18T09:51:06.260Z"
   },
   {
    "duration": 21,
    "start_time": "2023-05-18T09:54:09.721Z"
   },
   {
    "duration": 37,
    "start_time": "2023-05-18T09:57:17.291Z"
   },
   {
    "duration": 13,
    "start_time": "2023-05-18T10:03:07.502Z"
   },
   {
    "duration": 14,
    "start_time": "2023-05-18T10:03:19.851Z"
   },
   {
    "duration": 13,
    "start_time": "2023-05-18T10:04:40.576Z"
   },
   {
    "duration": 14,
    "start_time": "2023-05-18T10:11:01.508Z"
   },
   {
    "duration": 668,
    "start_time": "2023-05-18T10:23:28.992Z"
   },
   {
    "duration": 739,
    "start_time": "2023-05-18T10:24:20.987Z"
   },
   {
    "duration": 677,
    "start_time": "2023-05-18T10:24:42.859Z"
   },
   {
    "duration": 12,
    "start_time": "2023-05-18T10:25:33.953Z"
   },
   {
    "duration": 3,
    "start_time": "2023-05-18T10:25:57.602Z"
   },
   {
    "duration": 92,
    "start_time": "2023-05-18T10:25:57.607Z"
   },
   {
    "duration": 18,
    "start_time": "2023-05-18T10:25:57.701Z"
   },
   {
    "duration": 35,
    "start_time": "2023-05-18T10:25:57.721Z"
   },
   {
    "duration": 10,
    "start_time": "2023-05-18T10:25:57.758Z"
   },
   {
    "duration": 0,
    "start_time": "2023-05-18T10:25:57.770Z"
   },
   {
    "duration": 0,
    "start_time": "2023-05-18T10:25:57.771Z"
   },
   {
    "duration": 0,
    "start_time": "2023-05-18T10:25:57.772Z"
   },
   {
    "duration": 21,
    "start_time": "2023-05-18T10:26:29.685Z"
   },
   {
    "duration": 706,
    "start_time": "2023-05-18T10:26:35.895Z"
   },
   {
    "duration": 3,
    "start_time": "2023-05-18T10:46:20.558Z"
   },
   {
    "duration": 94,
    "start_time": "2023-05-18T10:46:20.563Z"
   },
   {
    "duration": 15,
    "start_time": "2023-05-18T10:46:20.660Z"
   },
   {
    "duration": 26,
    "start_time": "2023-05-18T10:46:20.678Z"
   },
   {
    "duration": 17,
    "start_time": "2023-05-18T10:46:20.727Z"
   },
   {
    "duration": 849,
    "start_time": "2023-05-18T10:46:20.747Z"
   },
   {
    "duration": 33,
    "start_time": "2023-05-18T10:46:21.598Z"
   },
   {
    "duration": 13,
    "start_time": "2023-05-18T10:46:21.634Z"
   },
   {
    "duration": 3,
    "start_time": "2023-05-18T10:47:39.515Z"
   },
   {
    "duration": 95,
    "start_time": "2023-05-18T10:47:39.520Z"
   },
   {
    "duration": 15,
    "start_time": "2023-05-18T10:47:39.617Z"
   },
   {
    "duration": 18,
    "start_time": "2023-05-18T10:47:39.634Z"
   },
   {
    "duration": 15,
    "start_time": "2023-05-18T10:47:39.655Z"
   },
   {
    "duration": 690,
    "start_time": "2023-05-18T10:47:39.672Z"
   },
   {
    "duration": 26,
    "start_time": "2023-05-18T10:47:40.364Z"
   },
   {
    "duration": 15,
    "start_time": "2023-05-18T10:47:40.392Z"
   },
   {
    "duration": 3,
    "start_time": "2023-05-18T10:48:19.703Z"
   },
   {
    "duration": 105,
    "start_time": "2023-05-18T10:48:19.708Z"
   },
   {
    "duration": 14,
    "start_time": "2023-05-18T10:48:19.815Z"
   },
   {
    "duration": 18,
    "start_time": "2023-05-18T10:48:19.830Z"
   },
   {
    "duration": 14,
    "start_time": "2023-05-18T10:48:19.851Z"
   },
   {
    "duration": 805,
    "start_time": "2023-05-18T10:48:19.867Z"
   },
   {
    "duration": 25,
    "start_time": "2023-05-18T10:48:20.674Z"
   },
   {
    "duration": 31,
    "start_time": "2023-05-18T10:48:20.701Z"
   },
   {
    "duration": 17,
    "start_time": "2023-05-18T10:59:41.690Z"
   },
   {
    "duration": 7,
    "start_time": "2023-05-18T11:00:11.493Z"
   },
   {
    "duration": 17,
    "start_time": "2023-05-18T11:10:51.958Z"
   },
   {
    "duration": 12,
    "start_time": "2023-05-18T11:11:29.485Z"
   },
   {
    "duration": 5,
    "start_time": "2023-05-18T11:11:33.814Z"
   },
   {
    "duration": 197,
    "start_time": "2023-05-18T11:11:40.310Z"
   },
   {
    "duration": 6,
    "start_time": "2023-05-18T11:29:11.512Z"
   },
   {
    "duration": 6,
    "start_time": "2023-05-18T11:29:40.409Z"
   },
   {
    "duration": 7,
    "start_time": "2023-05-18T11:29:46.455Z"
   },
   {
    "duration": 1213,
    "start_time": "2023-05-18T11:31:09.752Z"
   },
   {
    "duration": 206,
    "start_time": "2023-05-18T11:31:27.698Z"
   },
   {
    "duration": 11,
    "start_time": "2023-05-18T11:34:16.576Z"
   },
   {
    "duration": 5,
    "start_time": "2023-05-18T11:34:43.259Z"
   },
   {
    "duration": 81,
    "start_time": "2023-05-18T11:34:43.266Z"
   },
   {
    "duration": 13,
    "start_time": "2023-05-18T11:34:43.349Z"
   },
   {
    "duration": 19,
    "start_time": "2023-05-18T11:34:43.363Z"
   },
   {
    "duration": 16,
    "start_time": "2023-05-18T11:34:43.384Z"
   },
   {
    "duration": 605,
    "start_time": "2023-05-18T11:34:43.425Z"
   },
   {
    "duration": 22,
    "start_time": "2023-05-18T11:34:44.032Z"
   },
   {
    "duration": 18,
    "start_time": "2023-05-18T11:34:44.056Z"
   },
   {
    "duration": 35,
    "start_time": "2023-05-18T11:34:44.076Z"
   },
   {
    "duration": 13,
    "start_time": "2023-05-18T11:34:44.113Z"
   },
   {
    "duration": 137,
    "start_time": "2023-05-18T11:34:44.127Z"
   },
   {
    "duration": 22,
    "start_time": "2023-05-18T11:34:44.266Z"
   },
   {
    "duration": 103,
    "start_time": "2023-05-18T11:35:42.303Z"
   },
   {
    "duration": 137,
    "start_time": "2023-05-18T11:50:26.840Z"
   },
   {
    "duration": 12,
    "start_time": "2023-05-18T11:52:12.184Z"
   },
   {
    "duration": 7,
    "start_time": "2023-05-18T11:52:19.847Z"
   },
   {
    "duration": 8,
    "start_time": "2023-05-18T11:53:30.751Z"
   },
   {
    "duration": 8,
    "start_time": "2023-05-18T11:53:38.472Z"
   },
   {
    "duration": 11,
    "start_time": "2023-05-18T11:53:44.972Z"
   },
   {
    "duration": 8,
    "start_time": "2023-05-18T11:53:58.672Z"
   },
   {
    "duration": 159,
    "start_time": "2023-05-18T11:54:01.443Z"
   },
   {
    "duration": 8,
    "start_time": "2023-05-18T11:54:14.888Z"
   },
   {
    "duration": 126,
    "start_time": "2023-05-18T11:54:16.474Z"
   },
   {
    "duration": 13,
    "start_time": "2023-05-18T11:58:13.773Z"
   },
   {
    "duration": 6,
    "start_time": "2023-05-18T11:58:33.374Z"
   },
   {
    "duration": 9,
    "start_time": "2023-05-18T11:58:39.693Z"
   },
   {
    "duration": 5,
    "start_time": "2023-05-18T11:58:50.146Z"
   },
   {
    "duration": 6,
    "start_time": "2023-05-18T11:58:55.979Z"
   },
   {
    "duration": 3,
    "start_time": "2023-05-18T11:58:59.656Z"
   },
   {
    "duration": 96,
    "start_time": "2023-05-18T11:58:59.662Z"
   },
   {
    "duration": 16,
    "start_time": "2023-05-18T11:58:59.761Z"
   },
   {
    "duration": 26,
    "start_time": "2023-05-18T11:58:59.779Z"
   },
   {
    "duration": 31,
    "start_time": "2023-05-18T11:58:59.808Z"
   },
   {
    "duration": 623,
    "start_time": "2023-05-18T11:58:59.840Z"
   },
   {
    "duration": 22,
    "start_time": "2023-05-18T11:59:00.465Z"
   },
   {
    "duration": 52,
    "start_time": "2023-05-18T11:59:00.488Z"
   },
   {
    "duration": 43,
    "start_time": "2023-05-18T11:59:00.541Z"
   },
   {
    "duration": 33,
    "start_time": "2023-05-18T11:59:00.586Z"
   },
   {
    "duration": 289,
    "start_time": "2023-05-18T11:59:00.621Z"
   },
   {
    "duration": 2,
    "start_time": "2023-05-18T11:59:23.391Z"
   },
   {
    "duration": 3,
    "start_time": "2023-05-18T11:59:25.342Z"
   },
   {
    "duration": 12,
    "start_time": "2023-05-18T11:59:33.550Z"
   },
   {
    "duration": 11,
    "start_time": "2023-05-18T12:00:53.358Z"
   },
   {
    "duration": 1218,
    "start_time": "2023-05-18T12:00:56.446Z"
   },
   {
    "duration": 1427,
    "start_time": "2023-05-18T12:01:09.479Z"
   },
   {
    "duration": 8,
    "start_time": "2023-05-18T12:01:26.146Z"
   },
   {
    "duration": 3,
    "start_time": "2023-05-18T12:01:40.847Z"
   },
   {
    "duration": 107,
    "start_time": "2023-05-18T12:01:40.852Z"
   },
   {
    "duration": 18,
    "start_time": "2023-05-18T12:01:40.961Z"
   },
   {
    "duration": 18,
    "start_time": "2023-05-18T12:01:40.981Z"
   },
   {
    "duration": 35,
    "start_time": "2023-05-18T12:01:41.001Z"
   },
   {
    "duration": 687,
    "start_time": "2023-05-18T12:01:41.038Z"
   },
   {
    "duration": 20,
    "start_time": "2023-05-18T12:01:41.727Z"
   },
   {
    "duration": 12,
    "start_time": "2023-05-18T12:01:41.748Z"
   },
   {
    "duration": 15,
    "start_time": "2023-05-18T12:01:41.762Z"
   },
   {
    "duration": 6,
    "start_time": "2023-05-18T12:01:41.779Z"
   },
   {
    "duration": 40,
    "start_time": "2023-05-18T12:01:41.787Z"
   },
   {
    "duration": 167,
    "start_time": "2023-05-18T12:01:41.828Z"
   },
   {
    "duration": 6,
    "start_time": "2023-05-18T12:02:36.935Z"
   },
   {
    "duration": 7,
    "start_time": "2023-05-18T12:02:38.578Z"
   },
   {
    "duration": 1387,
    "start_time": "2023-05-18T12:05:33.846Z"
   },
   {
    "duration": 7,
    "start_time": "2023-05-18T12:05:51.183Z"
   },
   {
    "duration": 7,
    "start_time": "2023-05-18T12:05:51.701Z"
   },
   {
    "duration": 1415,
    "start_time": "2023-05-18T12:05:54.769Z"
   },
   {
    "duration": 4,
    "start_time": "2023-05-18T12:06:23.883Z"
   },
   {
    "duration": 18,
    "start_time": "2023-05-18T12:06:32.234Z"
   },
   {
    "duration": 13,
    "start_time": "2023-05-18T12:07:59.534Z"
   },
   {
    "duration": 9,
    "start_time": "2023-05-18T12:08:07.005Z"
   },
   {
    "duration": 7,
    "start_time": "2023-05-18T12:10:21.583Z"
   },
   {
    "duration": 8,
    "start_time": "2023-05-18T12:10:22.145Z"
   },
   {
    "duration": 8,
    "start_time": "2023-05-18T12:10:59.637Z"
   },
   {
    "duration": 9,
    "start_time": "2023-05-18T12:10:59.980Z"
   },
   {
    "duration": 232,
    "start_time": "2023-05-18T12:11:20.753Z"
   },
   {
    "duration": 9,
    "start_time": "2023-05-18T12:12:12.739Z"
   },
   {
    "duration": 151,
    "start_time": "2023-05-18T12:12:34.363Z"
   },
   {
    "duration": 25,
    "start_time": "2023-05-18T12:14:39.726Z"
   },
   {
    "duration": 19,
    "start_time": "2023-05-18T12:15:09.342Z"
   },
   {
    "duration": 13,
    "start_time": "2023-05-18T12:19:59.271Z"
   },
   {
    "duration": 17,
    "start_time": "2023-05-18T12:21:01.687Z"
   },
   {
    "duration": 73,
    "start_time": "2023-05-18T12:23:21.958Z"
   },
   {
    "duration": 25,
    "start_time": "2023-05-18T12:24:00.094Z"
   },
   {
    "duration": 14,
    "start_time": "2023-05-18T12:24:13.258Z"
   },
   {
    "duration": 10,
    "start_time": "2023-05-18T12:24:32.520Z"
   },
   {
    "duration": 0,
    "start_time": "2023-05-18T12:24:32.532Z"
   },
   {
    "duration": 0,
    "start_time": "2023-05-18T12:24:32.533Z"
   },
   {
    "duration": 0,
    "start_time": "2023-05-18T12:24:32.534Z"
   },
   {
    "duration": 0,
    "start_time": "2023-05-18T12:24:32.536Z"
   },
   {
    "duration": 734,
    "start_time": "2023-05-18T12:24:32.538Z"
   },
   {
    "duration": 33,
    "start_time": "2023-05-18T12:24:33.274Z"
   },
   {
    "duration": 15,
    "start_time": "2023-05-18T12:24:33.325Z"
   },
   {
    "duration": 37,
    "start_time": "2023-05-18T12:24:33.342Z"
   },
   {
    "duration": 21,
    "start_time": "2023-05-18T12:24:33.382Z"
   },
   {
    "duration": 31,
    "start_time": "2023-05-18T12:24:33.405Z"
   },
   {
    "duration": 28,
    "start_time": "2023-05-18T12:24:33.438Z"
   },
   {
    "duration": 14,
    "start_time": "2023-05-18T12:24:44.291Z"
   },
   {
    "duration": 0,
    "start_time": "2023-05-18T12:24:44.307Z"
   },
   {
    "duration": 0,
    "start_time": "2023-05-18T12:24:44.308Z"
   },
   {
    "duration": 0,
    "start_time": "2023-05-18T12:24:44.310Z"
   },
   {
    "duration": 0,
    "start_time": "2023-05-18T12:24:44.311Z"
   },
   {
    "duration": 0,
    "start_time": "2023-05-18T12:24:44.313Z"
   },
   {
    "duration": 0,
    "start_time": "2023-05-18T12:24:44.315Z"
   },
   {
    "duration": 0,
    "start_time": "2023-05-18T12:24:44.316Z"
   },
   {
    "duration": 0,
    "start_time": "2023-05-18T12:24:44.317Z"
   },
   {
    "duration": 0,
    "start_time": "2023-05-18T12:24:44.319Z"
   },
   {
    "duration": 7,
    "start_time": "2023-05-18T12:24:44.321Z"
   },
   {
    "duration": 15,
    "start_time": "2023-05-18T12:24:44.330Z"
   },
   {
    "duration": 3112,
    "start_time": "2023-05-18T12:25:23.284Z"
   },
   {
    "duration": 6,
    "start_time": "2023-05-18T12:25:26.980Z"
   },
   {
    "duration": 2486,
    "start_time": "2023-05-18T12:25:29.443Z"
   },
   {
    "duration": 4,
    "start_time": "2023-05-18T12:25:31.933Z"
   },
   {
    "duration": 129,
    "start_time": "2023-05-18T12:25:31.939Z"
   },
   {
    "duration": 27,
    "start_time": "2023-05-18T12:25:32.070Z"
   },
   {
    "duration": 30,
    "start_time": "2023-05-18T12:25:32.100Z"
   },
   {
    "duration": 19,
    "start_time": "2023-05-18T12:25:32.132Z"
   },
   {
    "duration": 837,
    "start_time": "2023-05-18T12:25:32.153Z"
   },
   {
    "duration": 37,
    "start_time": "2023-05-18T12:25:32.992Z"
   },
   {
    "duration": 20,
    "start_time": "2023-05-18T12:25:33.031Z"
   },
   {
    "duration": 22,
    "start_time": "2023-05-18T12:25:33.053Z"
   },
   {
    "duration": 20,
    "start_time": "2023-05-18T12:25:33.077Z"
   },
   {
    "duration": 31,
    "start_time": "2023-05-18T12:25:33.100Z"
   },
   {
    "duration": 15,
    "start_time": "2023-05-18T12:25:33.133Z"
   },
   {
    "duration": 2344,
    "start_time": "2023-05-18T12:26:25.467Z"
   },
   {
    "duration": 5,
    "start_time": "2023-05-18T12:26:27.815Z"
   },
   {
    "duration": 91,
    "start_time": "2023-05-18T12:26:27.823Z"
   },
   {
    "duration": 22,
    "start_time": "2023-05-18T12:26:27.915Z"
   },
   {
    "duration": 24,
    "start_time": "2023-05-18T12:26:27.940Z"
   },
   {
    "duration": 14,
    "start_time": "2023-05-18T12:26:27.965Z"
   },
   {
    "duration": 659,
    "start_time": "2023-05-18T12:26:27.981Z"
   },
   {
    "duration": 24,
    "start_time": "2023-05-18T12:26:28.641Z"
   },
   {
    "duration": 45,
    "start_time": "2023-05-18T12:26:28.666Z"
   },
   {
    "duration": 33,
    "start_time": "2023-05-18T12:26:28.713Z"
   },
   {
    "duration": 7,
    "start_time": "2023-05-18T12:26:28.747Z"
   },
   {
    "duration": 10,
    "start_time": "2023-05-18T12:26:28.755Z"
   },
   {
    "duration": 18,
    "start_time": "2023-05-18T12:26:28.767Z"
   },
   {
    "duration": 11,
    "start_time": "2023-05-18T12:31:11.447Z"
   },
   {
    "duration": 2204,
    "start_time": "2023-05-18T12:31:34.506Z"
   },
   {
    "duration": 1188,
    "start_time": "2023-05-18T12:31:36.712Z"
   },
   {
    "duration": 85,
    "start_time": "2023-05-18T12:31:37.902Z"
   },
   {
    "duration": 17,
    "start_time": "2023-05-18T12:31:37.989Z"
   },
   {
    "duration": 30,
    "start_time": "2023-05-18T12:31:38.008Z"
   },
   {
    "duration": 15,
    "start_time": "2023-05-18T12:31:38.040Z"
   },
   {
    "duration": 652,
    "start_time": "2023-05-18T12:31:38.057Z"
   },
   {
    "duration": 27,
    "start_time": "2023-05-18T12:31:38.711Z"
   },
   {
    "duration": 13,
    "start_time": "2023-05-18T12:31:38.740Z"
   },
   {
    "duration": 20,
    "start_time": "2023-05-18T12:31:38.755Z"
   },
   {
    "duration": 7,
    "start_time": "2023-05-18T12:31:38.776Z"
   },
   {
    "duration": 9,
    "start_time": "2023-05-18T12:31:38.784Z"
   },
   {
    "duration": 184,
    "start_time": "2023-05-18T12:31:38.794Z"
   },
   {
    "duration": 11,
    "start_time": "2023-05-18T12:32:32.608Z"
   },
   {
    "duration": 12,
    "start_time": "2023-05-18T12:32:54.869Z"
   },
   {
    "duration": 12,
    "start_time": "2023-05-18T12:37:58.204Z"
   },
   {
    "duration": 151,
    "start_time": "2023-05-18T12:47:23.167Z"
   },
   {
    "duration": 13,
    "start_time": "2023-05-18T12:48:03.319Z"
   },
   {
    "duration": 29,
    "start_time": "2023-05-18T12:48:57.730Z"
   },
   {
    "duration": 14,
    "start_time": "2023-05-18T12:49:25.576Z"
   },
   {
    "duration": 15,
    "start_time": "2023-05-18T12:50:05.810Z"
   },
   {
    "duration": 13,
    "start_time": "2023-05-18T12:51:58.457Z"
   },
   {
    "duration": 24,
    "start_time": "2023-05-18T12:52:11.278Z"
   },
   {
    "duration": 12,
    "start_time": "2023-05-18T12:52:37.208Z"
   },
   {
    "duration": 20,
    "start_time": "2023-05-18T12:52:58.181Z"
   },
   {
    "duration": 26,
    "start_time": "2023-05-18T12:53:05.224Z"
   },
   {
    "duration": 18,
    "start_time": "2023-05-18T12:53:11.220Z"
   },
   {
    "duration": 16,
    "start_time": "2023-05-18T12:54:29.260Z"
   },
   {
    "duration": 1498,
    "start_time": "2023-05-18T12:55:29.823Z"
   },
   {
    "duration": 1207,
    "start_time": "2023-05-18T12:56:03.356Z"
   },
   {
    "duration": 20,
    "start_time": "2023-05-18T12:56:24.096Z"
   },
   {
    "duration": 18,
    "start_time": "2023-05-18T12:58:59.676Z"
   },
   {
    "duration": 20,
    "start_time": "2023-05-18T13:00:09.473Z"
   },
   {
    "duration": 13,
    "start_time": "2023-05-18T13:00:17.054Z"
   },
   {
    "duration": 12,
    "start_time": "2023-05-18T13:00:23.073Z"
   },
   {
    "duration": 18,
    "start_time": "2023-05-18T13:00:33.053Z"
   },
   {
    "duration": 17,
    "start_time": "2023-05-18T13:05:17.865Z"
   },
   {
    "duration": 16,
    "start_time": "2023-05-18T13:05:21.657Z"
   },
   {
    "duration": 9,
    "start_time": "2023-05-18T13:08:21.458Z"
   },
   {
    "duration": 12,
    "start_time": "2023-05-18T13:09:24.589Z"
   },
   {
    "duration": 23,
    "start_time": "2023-05-18T13:12:26.772Z"
   },
   {
    "duration": 13,
    "start_time": "2023-05-18T13:13:53.776Z"
   },
   {
    "duration": 205,
    "start_time": "2023-05-18T13:24:03.424Z"
   },
   {
    "duration": 262,
    "start_time": "2023-05-18T13:26:54.787Z"
   },
   {
    "duration": 421,
    "start_time": "2023-05-18T13:28:17.359Z"
   },
   {
    "duration": 514,
    "start_time": "2023-05-18T13:28:42.285Z"
   },
   {
    "duration": 410,
    "start_time": "2023-05-18T13:28:50.215Z"
   },
   {
    "duration": 395,
    "start_time": "2023-05-18T13:31:33.282Z"
   },
   {
    "duration": 4,
    "start_time": "2023-05-18T13:32:30.688Z"
   },
   {
    "duration": 147,
    "start_time": "2023-05-18T13:32:30.695Z"
   },
   {
    "duration": 21,
    "start_time": "2023-05-18T13:32:30.846Z"
   },
   {
    "duration": 88,
    "start_time": "2023-05-18T13:32:30.870Z"
   },
   {
    "duration": 45,
    "start_time": "2023-05-18T13:32:30.962Z"
   },
   {
    "duration": 808,
    "start_time": "2023-05-18T13:32:31.009Z"
   },
   {
    "duration": 44,
    "start_time": "2023-05-18T13:32:31.820Z"
   },
   {
    "duration": 23,
    "start_time": "2023-05-18T13:32:31.866Z"
   },
   {
    "duration": 9,
    "start_time": "2023-05-18T13:32:31.892Z"
   },
   {
    "duration": 45,
    "start_time": "2023-05-18T13:32:31.904Z"
   },
   {
    "duration": 17,
    "start_time": "2023-05-18T13:32:31.956Z"
   },
   {
    "duration": 82,
    "start_time": "2023-05-18T13:32:31.975Z"
   },
   {
    "duration": 431,
    "start_time": "2023-05-18T13:32:32.062Z"
   },
   {
    "duration": 19,
    "start_time": "2023-05-18T15:04:57.324Z"
   },
   {
    "duration": 458,
    "start_time": "2023-05-18T15:05:37.267Z"
   },
   {
    "duration": 127,
    "start_time": "2023-05-18T15:07:53.263Z"
   },
   {
    "duration": 514,
    "start_time": "2023-05-18T15:08:01.662Z"
   },
   {
    "duration": 497,
    "start_time": "2023-05-18T15:10:40.486Z"
   },
   {
    "duration": 607,
    "start_time": "2023-05-18T15:11:06.185Z"
   },
   {
    "duration": 462,
    "start_time": "2023-05-18T15:11:46.611Z"
   },
   {
    "duration": 4,
    "start_time": "2023-05-18T15:12:54.890Z"
   },
   {
    "duration": 99,
    "start_time": "2023-05-18T15:12:54.896Z"
   },
   {
    "duration": 18,
    "start_time": "2023-05-18T15:12:54.997Z"
   },
   {
    "duration": 27,
    "start_time": "2023-05-18T15:12:55.017Z"
   },
   {
    "duration": 40,
    "start_time": "2023-05-18T15:12:55.047Z"
   },
   {
    "duration": 689,
    "start_time": "2023-05-18T15:12:55.089Z"
   },
   {
    "duration": 26,
    "start_time": "2023-05-18T15:12:55.780Z"
   },
   {
    "duration": 51,
    "start_time": "2023-05-18T15:12:55.808Z"
   },
   {
    "duration": 25,
    "start_time": "2023-05-18T15:12:55.861Z"
   },
   {
    "duration": 19,
    "start_time": "2023-05-18T15:12:55.888Z"
   },
   {
    "duration": 36,
    "start_time": "2023-05-18T15:12:55.909Z"
   },
   {
    "duration": 38,
    "start_time": "2023-05-18T15:12:55.947Z"
   },
   {
    "duration": 504,
    "start_time": "2023-05-18T15:12:55.987Z"
   },
   {
    "duration": 450,
    "start_time": "2023-05-18T15:13:45.452Z"
   },
   {
    "duration": 492,
    "start_time": "2023-05-18T15:14:25.590Z"
   },
   {
    "duration": 12,
    "start_time": "2023-05-18T15:17:37.109Z"
   },
   {
    "duration": 7,
    "start_time": "2023-05-18T15:17:51.684Z"
   },
   {
    "duration": 6,
    "start_time": "2023-05-18T15:20:33.081Z"
   },
   {
    "duration": 12,
    "start_time": "2023-05-18T15:20:39.609Z"
   },
   {
    "duration": 14,
    "start_time": "2023-05-18T15:24:16.299Z"
   },
   {
    "duration": 1238,
    "start_time": "2023-05-18T15:24:57.926Z"
   },
   {
    "duration": 1435,
    "start_time": "2023-05-18T15:25:08.488Z"
   },
   {
    "duration": 10,
    "start_time": "2023-05-18T15:25:18.012Z"
   },
   {
    "duration": 14,
    "start_time": "2023-05-18T15:25:27.000Z"
   },
   {
    "duration": 1260,
    "start_time": "2023-05-18T15:25:48.004Z"
   },
   {
    "duration": 1301,
    "start_time": "2023-05-18T15:26:54.186Z"
   },
   {
    "duration": 1285,
    "start_time": "2023-05-18T15:27:23.115Z"
   },
   {
    "duration": 10,
    "start_time": "2023-05-18T15:27:33.693Z"
   },
   {
    "duration": 11,
    "start_time": "2023-05-18T15:32:42.760Z"
   },
   {
    "duration": 11,
    "start_time": "2023-05-18T15:35:16.587Z"
   },
   {
    "duration": 11,
    "start_time": "2023-05-18T15:35:26.985Z"
   },
   {
    "duration": 12,
    "start_time": "2023-05-18T15:35:51.455Z"
   },
   {
    "duration": 19,
    "start_time": "2023-05-18T15:36:43.519Z"
   },
   {
    "duration": 22,
    "start_time": "2023-05-18T15:37:49.880Z"
   },
   {
    "duration": 19,
    "start_time": "2023-05-18T15:38:40.621Z"
   },
   {
    "duration": 12,
    "start_time": "2023-05-18T15:38:55.283Z"
   },
   {
    "duration": 14,
    "start_time": "2023-05-18T15:39:02.017Z"
   },
   {
    "duration": 12,
    "start_time": "2023-05-18T15:39:09.088Z"
   },
   {
    "duration": 11,
    "start_time": "2023-05-18T15:39:14.558Z"
   },
   {
    "duration": 12,
    "start_time": "2023-05-18T15:39:38.987Z"
   },
   {
    "duration": 17,
    "start_time": "2023-05-18T15:39:56.610Z"
   },
   {
    "duration": 14,
    "start_time": "2023-05-18T15:40:09.259Z"
   },
   {
    "duration": 12,
    "start_time": "2023-05-18T15:41:03.792Z"
   },
   {
    "duration": 14,
    "start_time": "2023-05-18T15:41:05.288Z"
   },
   {
    "duration": 28,
    "start_time": "2023-05-18T17:02:30.196Z"
   },
   {
    "duration": 45,
    "start_time": "2023-05-18T17:03:06.087Z"
   },
   {
    "duration": 21,
    "start_time": "2023-05-18T17:03:11.485Z"
   },
   {
    "duration": 7,
    "start_time": "2023-05-18T17:03:35.212Z"
   },
   {
    "duration": 11,
    "start_time": "2023-05-18T17:03:49.301Z"
   },
   {
    "duration": 94,
    "start_time": "2023-05-18T17:04:23.448Z"
   },
   {
    "duration": 13,
    "start_time": "2023-05-18T17:04:30.382Z"
   },
   {
    "duration": 13,
    "start_time": "2023-05-18T17:05:11.140Z"
   },
   {
    "duration": 15,
    "start_time": "2023-05-18T17:10:09.979Z"
   },
   {
    "duration": 79,
    "start_time": "2023-05-18T17:10:37.461Z"
   },
   {
    "duration": 82,
    "start_time": "2023-05-18T17:10:37.543Z"
   },
   {
    "duration": 14,
    "start_time": "2023-05-18T17:10:37.627Z"
   },
   {
    "duration": 17,
    "start_time": "2023-05-18T17:10:37.643Z"
   },
   {
    "duration": 13,
    "start_time": "2023-05-18T17:10:37.661Z"
   },
   {
    "duration": 639,
    "start_time": "2023-05-18T17:10:37.675Z"
   },
   {
    "duration": 29,
    "start_time": "2023-05-18T17:10:38.316Z"
   },
   {
    "duration": 14,
    "start_time": "2023-05-18T17:10:38.346Z"
   },
   {
    "duration": 7,
    "start_time": "2023-05-18T17:10:38.361Z"
   },
   {
    "duration": 10,
    "start_time": "2023-05-18T17:10:38.370Z"
   },
   {
    "duration": 120,
    "start_time": "2023-05-18T17:10:38.382Z"
   },
   {
    "duration": 472,
    "start_time": "2023-05-18T17:10:38.504Z"
   },
   {
    "duration": 11,
    "start_time": "2023-05-18T17:10:38.978Z"
   },
   {
    "duration": 13,
    "start_time": "2023-05-18T17:10:38.990Z"
   },
   {
    "duration": 30,
    "start_time": "2023-05-18T17:10:39.005Z"
   },
   {
    "duration": 240,
    "start_time": "2023-05-18T17:10:39.036Z"
   },
   {
    "duration": 1404,
    "start_time": "2023-05-19T08:52:41.569Z"
   },
   {
    "duration": 239,
    "start_time": "2023-05-19T08:52:42.975Z"
   },
   {
    "duration": 15,
    "start_time": "2023-05-19T08:52:43.215Z"
   },
   {
    "duration": 16,
    "start_time": "2023-05-19T08:52:43.232Z"
   },
   {
    "duration": 16,
    "start_time": "2023-05-19T08:52:43.249Z"
   },
   {
    "duration": 704,
    "start_time": "2023-05-19T08:52:43.266Z"
   },
   {
    "duration": 32,
    "start_time": "2023-05-19T08:52:43.971Z"
   },
   {
    "duration": 31,
    "start_time": "2023-05-19T08:52:44.025Z"
   },
   {
    "duration": 9,
    "start_time": "2023-05-19T08:52:44.058Z"
   },
   {
    "duration": 9,
    "start_time": "2023-05-19T08:52:44.071Z"
   },
   {
    "duration": 188,
    "start_time": "2023-05-19T08:52:44.082Z"
   },
   {
    "duration": 507,
    "start_time": "2023-05-19T08:52:44.272Z"
   },
   {
    "duration": 12,
    "start_time": "2023-05-19T08:52:44.780Z"
   },
   {
    "duration": 37,
    "start_time": "2023-05-19T08:52:44.793Z"
   },
   {
    "duration": 17,
    "start_time": "2023-05-19T08:52:44.832Z"
   },
   {
    "duration": 335,
    "start_time": "2023-05-19T08:52:44.851Z"
   },
   {
    "duration": 188,
    "start_time": "2023-05-19T09:27:36.394Z"
   },
   {
    "duration": 244,
    "start_time": "2023-05-19T09:29:35.830Z"
   },
   {
    "duration": 56,
    "start_time": "2023-05-19T09:31:15.624Z"
   },
   {
    "duration": 48,
    "start_time": "2023-05-19T09:31:29.232Z"
   },
   {
    "duration": 51,
    "start_time": "2023-05-19T09:31:34.925Z"
   },
   {
    "duration": 54,
    "start_time": "2023-05-19T09:31:47.013Z"
   },
   {
    "duration": 51,
    "start_time": "2023-05-19T09:31:54.335Z"
   },
   {
    "duration": 5,
    "start_time": "2023-05-19T09:33:51.513Z"
   },
   {
    "duration": 17,
    "start_time": "2023-05-19T09:36:35.948Z"
   },
   {
    "duration": 181,
    "start_time": "2023-05-19T09:37:06.860Z"
   },
   {
    "duration": 18,
    "start_time": "2023-05-19T09:37:23.316Z"
   },
   {
    "duration": 14,
    "start_time": "2023-05-19T09:38:28.634Z"
   },
   {
    "duration": 24,
    "start_time": "2023-05-19T09:41:07.260Z"
   },
   {
    "duration": 21,
    "start_time": "2023-05-19T09:41:23.641Z"
   },
   {
    "duration": 17,
    "start_time": "2023-05-19T09:41:33.969Z"
   },
   {
    "duration": 17,
    "start_time": "2023-05-19T09:41:51.172Z"
   },
   {
    "duration": 24,
    "start_time": "2023-05-19T09:42:06.009Z"
   },
   {
    "duration": 11,
    "start_time": "2023-05-19T09:45:33.477Z"
   },
   {
    "duration": 16,
    "start_time": "2023-05-19T09:45:41.551Z"
   },
   {
    "duration": 16,
    "start_time": "2023-05-19T09:47:55.408Z"
   },
   {
    "duration": 19,
    "start_time": "2023-05-19T09:48:12.908Z"
   },
   {
    "duration": 19,
    "start_time": "2023-05-19T09:48:42.513Z"
   },
   {
    "duration": 45,
    "start_time": "2023-05-19T09:48:52.376Z"
   },
   {
    "duration": 44,
    "start_time": "2023-05-19T09:50:46.212Z"
   },
   {
    "duration": 18,
    "start_time": "2023-05-19T09:51:46.069Z"
   },
   {
    "duration": 18,
    "start_time": "2023-05-19T09:52:22.964Z"
   },
   {
    "duration": 18,
    "start_time": "2023-05-19T09:52:31.508Z"
   },
   {
    "duration": 10,
    "start_time": "2023-05-19T09:59:33.853Z"
   },
   {
    "duration": 18,
    "start_time": "2023-05-19T09:59:39.541Z"
   },
   {
    "duration": 14,
    "start_time": "2023-05-19T10:00:19.267Z"
   },
   {
    "duration": 15,
    "start_time": "2023-05-19T10:00:29.045Z"
   },
   {
    "duration": 20,
    "start_time": "2023-05-19T10:00:34.967Z"
   },
   {
    "duration": 33,
    "start_time": "2023-05-19T10:00:56.813Z"
   },
   {
    "duration": 28,
    "start_time": "2023-05-19T10:01:04.047Z"
   },
   {
    "duration": 20,
    "start_time": "2023-05-19T10:04:47.401Z"
   },
   {
    "duration": 731,
    "start_time": "2023-05-19T10:09:21.625Z"
   },
   {
    "duration": 672,
    "start_time": "2023-05-19T10:09:35.050Z"
   },
   {
    "duration": 709,
    "start_time": "2023-05-19T10:10:02.301Z"
   },
   {
    "duration": 677,
    "start_time": "2023-05-19T10:11:12.695Z"
   },
   {
    "duration": 34,
    "start_time": "2023-05-19T10:14:59.751Z"
   },
   {
    "duration": 20,
    "start_time": "2023-05-19T10:18:39.864Z"
   },
   {
    "duration": 45,
    "start_time": "2023-05-19T10:19:57.163Z"
   },
   {
    "duration": 119,
    "start_time": "2023-05-19T10:20:33.255Z"
   },
   {
    "duration": 83,
    "start_time": "2023-05-19T10:24:47.661Z"
   },
   {
    "duration": 53,
    "start_time": "2023-05-19T10:24:57.161Z"
   },
   {
    "duration": 76,
    "start_time": "2023-05-19T10:26:00.298Z"
   },
   {
    "duration": 125,
    "start_time": "2023-05-19T10:28:14.158Z"
   },
   {
    "duration": 133,
    "start_time": "2023-05-19T10:28:29.363Z"
   },
   {
    "duration": 13,
    "start_time": "2023-05-19T10:29:17.597Z"
   },
   {
    "duration": 129,
    "start_time": "2023-05-19T10:30:52.706Z"
   },
   {
    "duration": 8,
    "start_time": "2023-05-19T10:30:57.158Z"
   },
   {
    "duration": 9,
    "start_time": "2023-05-19T10:31:48.314Z"
   },
   {
    "duration": 6,
    "start_time": "2023-05-19T10:32:50.269Z"
   },
   {
    "duration": 39,
    "start_time": "2023-05-19T10:34:15.240Z"
   },
   {
    "duration": 75,
    "start_time": "2023-05-19T10:34:24.221Z"
   },
   {
    "duration": 103,
    "start_time": "2023-05-19T10:35:23.341Z"
   },
   {
    "duration": 13,
    "start_time": "2023-05-19T10:36:27.554Z"
   },
   {
    "duration": 13,
    "start_time": "2023-05-19T10:36:57.155Z"
   },
   {
    "duration": 10,
    "start_time": "2023-05-19T10:37:07.749Z"
   },
   {
    "duration": 12,
    "start_time": "2023-05-19T10:37:38.914Z"
   },
   {
    "duration": 15,
    "start_time": "2023-05-19T10:37:49.866Z"
   },
   {
    "duration": 14,
    "start_time": "2023-05-19T10:38:00.049Z"
   },
   {
    "duration": 114,
    "start_time": "2023-05-19T10:38:43.979Z"
   },
   {
    "duration": 15,
    "start_time": "2023-05-19T10:38:54.469Z"
   },
   {
    "duration": 114,
    "start_time": "2023-05-19T10:39:10.244Z"
   },
   {
    "duration": 114,
    "start_time": "2023-05-19T10:40:30.972Z"
   },
   {
    "duration": 162,
    "start_time": "2023-05-19T10:45:02.851Z"
   },
   {
    "duration": 60,
    "start_time": "2023-05-19T10:45:24.110Z"
   },
   {
    "duration": 14,
    "start_time": "2023-05-19T12:18:25.238Z"
   },
   {
    "duration": 12,
    "start_time": "2023-05-19T12:18:51.869Z"
   },
   {
    "duration": 12,
    "start_time": "2023-05-19T12:19:49.393Z"
   },
   {
    "duration": 16,
    "start_time": "2023-05-19T12:23:52.079Z"
   },
   {
    "duration": 19,
    "start_time": "2023-05-19T12:23:59.563Z"
   },
   {
    "duration": 13,
    "start_time": "2023-05-19T12:26:06.083Z"
   },
   {
    "duration": 59,
    "start_time": "2023-05-19T12:34:14.769Z"
   },
   {
    "duration": 48,
    "start_time": "2023-05-19T12:37:45.073Z"
   },
   {
    "duration": 13,
    "start_time": "2023-05-19T12:47:19.065Z"
   },
   {
    "duration": 27,
    "start_time": "2023-05-19T12:47:26.338Z"
   },
   {
    "duration": 36,
    "start_time": "2023-05-19T12:51:58.344Z"
   },
   {
    "duration": 17,
    "start_time": "2023-05-19T12:52:12.189Z"
   },
   {
    "duration": 24,
    "start_time": "2023-05-19T12:53:17.238Z"
   },
   {
    "duration": 37,
    "start_time": "2023-05-19T12:55:08.426Z"
   },
   {
    "duration": 49,
    "start_time": "2023-05-19T12:55:26.452Z"
   },
   {
    "duration": 43,
    "start_time": "2023-05-19T12:56:06.096Z"
   },
   {
    "duration": 468,
    "start_time": "2023-05-19T12:56:16.219Z"
   },
   {
    "duration": 558,
    "start_time": "2023-05-19T12:57:03.737Z"
   },
   {
    "duration": 647,
    "start_time": "2023-05-19T12:58:59.047Z"
   },
   {
    "duration": 606,
    "start_time": "2023-05-19T12:59:23.442Z"
   },
   {
    "duration": 29,
    "start_time": "2023-05-19T13:01:51.913Z"
   },
   {
    "duration": 37,
    "start_time": "2023-05-19T13:02:18.763Z"
   },
   {
    "duration": 94,
    "start_time": "2023-05-19T13:02:35.918Z"
   },
   {
    "duration": 83,
    "start_time": "2023-05-19T13:05:44.080Z"
   },
   {
    "duration": 77,
    "start_time": "2023-05-19T13:06:04.744Z"
   },
   {
    "duration": 81,
    "start_time": "2023-05-19T13:06:16.506Z"
   },
   {
    "duration": 4,
    "start_time": "2023-05-19T13:12:11.708Z"
   },
   {
    "duration": 129,
    "start_time": "2023-05-19T13:12:11.715Z"
   },
   {
    "duration": 14,
    "start_time": "2023-05-19T13:12:11.847Z"
   },
   {
    "duration": 12,
    "start_time": "2023-05-19T13:12:11.862Z"
   },
   {
    "duration": 26,
    "start_time": "2023-05-19T13:12:11.876Z"
   },
   {
    "duration": 28,
    "start_time": "2023-05-19T13:12:11.904Z"
   },
   {
    "duration": 626,
    "start_time": "2023-05-19T13:12:11.938Z"
   },
   {
    "duration": 27,
    "start_time": "2023-05-19T13:12:12.566Z"
   },
   {
    "duration": 19,
    "start_time": "2023-05-19T13:12:12.715Z"
   },
   {
    "duration": 13,
    "start_time": "2023-05-19T13:12:12.739Z"
   },
   {
    "duration": 10,
    "start_time": "2023-05-19T13:12:12.901Z"
   },
   {
    "duration": 39,
    "start_time": "2023-05-19T13:12:12.913Z"
   },
   {
    "duration": 439,
    "start_time": "2023-05-19T13:12:12.955Z"
   },
   {
    "duration": 29,
    "start_time": "2023-05-19T13:12:13.395Z"
   },
   {
    "duration": 123,
    "start_time": "2023-05-19T13:12:13.430Z"
   },
   {
    "duration": 51,
    "start_time": "2023-05-19T13:12:13.555Z"
   },
   {
    "duration": 34,
    "start_time": "2023-05-19T13:12:13.607Z"
   },
   {
    "duration": 89,
    "start_time": "2023-05-19T13:12:13.647Z"
   },
   {
    "duration": 118,
    "start_time": "2023-05-19T13:12:13.742Z"
   },
   {
    "duration": 84,
    "start_time": "2023-05-19T13:12:13.862Z"
   },
   {
    "duration": 16,
    "start_time": "2023-05-19T13:12:13.948Z"
   },
   {
    "duration": 98,
    "start_time": "2023-05-19T13:12:13.968Z"
   },
   {
    "duration": 10,
    "start_time": "2023-05-19T13:15:55.059Z"
   },
   {
    "duration": 17,
    "start_time": "2023-05-19T13:16:06.391Z"
   },
   {
    "duration": 17,
    "start_time": "2023-05-19T13:16:18.811Z"
   },
   {
    "duration": 3,
    "start_time": "2023-05-19T13:16:29.211Z"
   },
   {
    "duration": 79,
    "start_time": "2023-05-19T13:16:29.216Z"
   },
   {
    "duration": 16,
    "start_time": "2023-05-19T13:16:29.297Z"
   },
   {
    "duration": 16,
    "start_time": "2023-05-19T13:16:29.315Z"
   },
   {
    "duration": 27,
    "start_time": "2023-05-19T13:16:29.334Z"
   },
   {
    "duration": 17,
    "start_time": "2023-05-19T13:16:29.364Z"
   },
   {
    "duration": 738,
    "start_time": "2023-05-19T13:16:29.383Z"
   },
   {
    "duration": 36,
    "start_time": "2023-05-19T13:16:30.129Z"
   },
   {
    "duration": 16,
    "start_time": "2023-05-19T13:16:30.168Z"
   },
   {
    "duration": 8,
    "start_time": "2023-05-19T13:16:30.186Z"
   },
   {
    "duration": 17,
    "start_time": "2023-05-19T13:16:30.196Z"
   },
   {
    "duration": 40,
    "start_time": "2023-05-19T13:16:30.214Z"
   },
   {
    "duration": 523,
    "start_time": "2023-05-19T13:16:30.255Z"
   },
   {
    "duration": 11,
    "start_time": "2023-05-19T13:16:30.780Z"
   },
   {
    "duration": 75,
    "start_time": "2023-05-19T13:16:30.793Z"
   },
   {
    "duration": 119,
    "start_time": "2023-05-19T13:16:30.870Z"
   },
   {
    "duration": 15,
    "start_time": "2023-05-19T13:16:30.991Z"
   },
   {
    "duration": 63,
    "start_time": "2023-05-19T13:16:31.009Z"
   },
   {
    "duration": 125,
    "start_time": "2023-05-19T13:16:31.074Z"
   },
   {
    "duration": 70,
    "start_time": "2023-05-19T13:16:31.201Z"
   },
   {
    "duration": 16,
    "start_time": "2023-05-19T13:16:31.272Z"
   },
   {
    "duration": 101,
    "start_time": "2023-05-19T13:16:31.290Z"
   },
   {
    "duration": 91,
    "start_time": "2023-05-19T13:24:53.891Z"
   },
   {
    "duration": 82,
    "start_time": "2023-05-19T13:25:12.249Z"
   },
   {
    "duration": 97,
    "start_time": "2023-05-19T13:33:57.762Z"
   },
   {
    "duration": 89,
    "start_time": "2023-05-19T13:34:11.124Z"
   },
   {
    "duration": 101,
    "start_time": "2023-05-19T13:38:15.113Z"
   },
   {
    "duration": 17,
    "start_time": "2023-05-19T13:40:46.853Z"
   },
   {
    "duration": 104,
    "start_time": "2023-05-19T13:41:36.183Z"
   },
   {
    "duration": 21,
    "start_time": "2023-05-19T13:41:53.025Z"
   },
   {
    "duration": 129,
    "start_time": "2023-05-19T13:42:00.313Z"
   },
   {
    "duration": 287,
    "start_time": "2023-05-19T13:48:11.297Z"
   },
   {
    "duration": 15684,
    "start_time": "2023-05-19T14:02:04.762Z"
   },
   {
    "duration": 18,
    "start_time": "2023-05-19T14:04:52.751Z"
   },
   {
    "duration": 17,
    "start_time": "2023-05-19T14:05:36.329Z"
   },
   {
    "duration": 12,
    "start_time": "2023-05-19T14:05:41.184Z"
   },
   {
    "duration": 16,
    "start_time": "2023-05-19T14:07:25.420Z"
   },
   {
    "duration": 398,
    "start_time": "2023-05-19T14:11:43.187Z"
   },
   {
    "duration": 102,
    "start_time": "2023-05-19T14:13:25.051Z"
   },
   {
    "duration": 26,
    "start_time": "2023-05-19T14:13:49.510Z"
   },
   {
    "duration": 389,
    "start_time": "2023-05-19T14:14:09.860Z"
   },
   {
    "duration": 50,
    "start_time": "2023-05-19T14:18:13.361Z"
   },
   {
    "duration": 86,
    "start_time": "2023-05-19T14:19:51.518Z"
   },
   {
    "duration": 1720,
    "start_time": "2023-05-19T14:22:23.858Z"
   },
   {
    "duration": 2038,
    "start_time": "2023-05-19T14:22:37.444Z"
   },
   {
    "duration": 388,
    "start_time": "2023-05-19T14:22:43.518Z"
   },
   {
    "duration": 450,
    "start_time": "2023-05-19T14:23:09.352Z"
   },
   {
    "duration": 1636,
    "start_time": "2023-05-19T14:24:34.684Z"
   },
   {
    "duration": 51,
    "start_time": "2023-05-19T14:24:57.060Z"
   },
   {
    "duration": 1265,
    "start_time": "2023-05-19T14:25:18.460Z"
   },
   {
    "duration": 78,
    "start_time": "2023-05-19T14:25:32.865Z"
   },
   {
    "duration": 53,
    "start_time": "2023-05-19T14:25:53.646Z"
   },
   {
    "duration": 61,
    "start_time": "2023-05-19T14:31:37.820Z"
   },
   {
    "duration": 4,
    "start_time": "2023-05-19T14:31:41.452Z"
   },
   {
    "duration": 92,
    "start_time": "2023-05-19T14:31:41.459Z"
   },
   {
    "duration": 19,
    "start_time": "2023-05-19T14:31:41.554Z"
   },
   {
    "duration": 10,
    "start_time": "2023-05-19T14:31:41.576Z"
   },
   {
    "duration": 44,
    "start_time": "2023-05-19T14:31:41.588Z"
   },
   {
    "duration": 22,
    "start_time": "2023-05-19T14:31:41.634Z"
   },
   {
    "duration": 714,
    "start_time": "2023-05-19T14:31:41.659Z"
   },
   {
    "duration": 22,
    "start_time": "2023-05-19T14:31:42.375Z"
   },
   {
    "duration": 23,
    "start_time": "2023-05-19T14:31:42.401Z"
   },
   {
    "duration": 7,
    "start_time": "2023-05-19T14:31:42.426Z"
   },
   {
    "duration": 17,
    "start_time": "2023-05-19T14:31:42.435Z"
   },
   {
    "duration": 20,
    "start_time": "2023-05-19T14:31:42.455Z"
   },
   {
    "duration": 532,
    "start_time": "2023-05-19T14:31:42.477Z"
   },
   {
    "duration": 17,
    "start_time": "2023-05-19T14:31:43.011Z"
   },
   {
    "duration": 21,
    "start_time": "2023-05-19T14:31:43.030Z"
   },
   {
    "duration": 77,
    "start_time": "2023-05-19T14:31:43.053Z"
   },
   {
    "duration": 33,
    "start_time": "2023-05-19T14:31:43.132Z"
   },
   {
    "duration": 45,
    "start_time": "2023-05-19T14:31:43.167Z"
   },
   {
    "duration": 144,
    "start_time": "2023-05-19T14:31:43.224Z"
   },
   {
    "duration": 65,
    "start_time": "2023-05-19T14:31:43.371Z"
   },
   {
    "duration": 103,
    "start_time": "2023-05-19T14:31:43.441Z"
   },
   {
    "duration": 23,
    "start_time": "2023-05-19T14:31:43.549Z"
   },
   {
    "duration": 72,
    "start_time": "2023-05-19T14:31:43.575Z"
   },
   {
    "duration": 219,
    "start_time": "2023-05-19T14:31:43.649Z"
   },
   {
    "duration": 400,
    "start_time": "2023-05-19T14:32:46.079Z"
   },
   {
    "duration": 93,
    "start_time": "2023-05-19T14:32:46.482Z"
   },
   {
    "duration": 22,
    "start_time": "2023-05-19T14:32:46.578Z"
   },
   {
    "duration": 41,
    "start_time": "2023-05-19T14:32:46.602Z"
   },
   {
    "duration": 31,
    "start_time": "2023-05-19T14:32:46.651Z"
   },
   {
    "duration": 17,
    "start_time": "2023-05-19T14:32:46.684Z"
   },
   {
    "duration": 763,
    "start_time": "2023-05-19T14:32:46.703Z"
   },
   {
    "duration": 21,
    "start_time": "2023-05-19T14:32:47.468Z"
   },
   {
    "duration": 21,
    "start_time": "2023-05-19T14:32:47.491Z"
   },
   {
    "duration": 18,
    "start_time": "2023-05-19T14:32:47.514Z"
   },
   {
    "duration": 75,
    "start_time": "2023-05-19T14:32:47.535Z"
   },
   {
    "duration": 27,
    "start_time": "2023-05-19T14:32:47.614Z"
   },
   {
    "duration": 479,
    "start_time": "2023-05-19T14:32:47.645Z"
   },
   {
    "duration": 17,
    "start_time": "2023-05-19T14:32:48.132Z"
   },
   {
    "duration": 20,
    "start_time": "2023-05-19T14:32:48.152Z"
   },
   {
    "duration": 114,
    "start_time": "2023-05-19T14:32:48.175Z"
   },
   {
    "duration": 15,
    "start_time": "2023-05-19T14:32:48.291Z"
   },
   {
    "duration": 79,
    "start_time": "2023-05-19T14:32:48.308Z"
   },
   {
    "duration": 153,
    "start_time": "2023-05-19T14:32:48.389Z"
   },
   {
    "duration": 50,
    "start_time": "2023-05-19T14:32:48.550Z"
   },
   {
    "duration": 95,
    "start_time": "2023-05-19T14:32:48.602Z"
   },
   {
    "duration": 34,
    "start_time": "2023-05-19T14:32:48.699Z"
   },
   {
    "duration": 81,
    "start_time": "2023-05-19T14:32:48.736Z"
   },
   {
    "duration": 102,
    "start_time": "2023-05-19T14:32:48.820Z"
   },
   {
    "duration": 4,
    "start_time": "2023-05-19T14:36:49.990Z"
   },
   {
    "duration": 122,
    "start_time": "2023-05-19T14:36:49.996Z"
   },
   {
    "duration": 25,
    "start_time": "2023-05-19T14:36:50.120Z"
   },
   {
    "duration": 14,
    "start_time": "2023-05-19T14:36:50.148Z"
   },
   {
    "duration": 24,
    "start_time": "2023-05-19T14:36:50.166Z"
   },
   {
    "duration": 40,
    "start_time": "2023-05-19T14:36:50.192Z"
   },
   {
    "duration": 746,
    "start_time": "2023-05-19T14:36:50.233Z"
   },
   {
    "duration": 19,
    "start_time": "2023-05-19T14:36:50.981Z"
   },
   {
    "duration": 57,
    "start_time": "2023-05-19T14:36:51.002Z"
   },
   {
    "duration": 7,
    "start_time": "2023-05-19T14:36:51.061Z"
   },
   {
    "duration": 18,
    "start_time": "2023-05-19T14:36:51.071Z"
   },
   {
    "duration": 32,
    "start_time": "2023-05-19T14:36:51.091Z"
   },
   {
    "duration": 486,
    "start_time": "2023-05-19T14:36:51.128Z"
   },
   {
    "duration": 26,
    "start_time": "2023-05-19T14:36:51.616Z"
   },
   {
    "duration": 138,
    "start_time": "2023-05-19T14:36:51.643Z"
   },
   {
    "duration": 90,
    "start_time": "2023-05-19T14:36:51.783Z"
   },
   {
    "duration": 21,
    "start_time": "2023-05-19T14:36:51.875Z"
   },
   {
    "duration": 82,
    "start_time": "2023-05-19T14:36:51.898Z"
   },
   {
    "duration": 174,
    "start_time": "2023-05-19T14:36:51.981Z"
   },
   {
    "duration": 48,
    "start_time": "2023-05-19T14:36:52.156Z"
   },
   {
    "duration": 108,
    "start_time": "2023-05-19T14:36:52.206Z"
   },
   {
    "duration": 33,
    "start_time": "2023-05-19T14:36:52.316Z"
   },
   {
    "duration": 63,
    "start_time": "2023-05-19T14:36:52.354Z"
   },
   {
    "duration": 15,
    "start_time": "2023-05-19T14:36:52.419Z"
   },
   {
    "duration": 167,
    "start_time": "2023-05-19T14:36:52.437Z"
   },
   {
    "duration": 62,
    "start_time": "2023-05-19T14:39:21.554Z"
   },
   {
    "duration": 57,
    "start_time": "2023-05-19T14:40:32.555Z"
   },
   {
    "duration": 80,
    "start_time": "2023-05-19T14:40:47.254Z"
   },
   {
    "duration": 18,
    "start_time": "2023-05-19T14:41:24.848Z"
   },
   {
    "duration": 186,
    "start_time": "2023-05-19T14:41:25.408Z"
   },
   {
    "duration": 3,
    "start_time": "2023-05-19T16:06:16.263Z"
   },
   {
    "duration": 89,
    "start_time": "2023-05-19T16:06:16.271Z"
   },
   {
    "duration": 13,
    "start_time": "2023-05-19T16:06:16.362Z"
   },
   {
    "duration": 2,
    "start_time": "2023-05-19T16:06:16.377Z"
   },
   {
    "duration": 21,
    "start_time": "2023-05-19T16:06:16.381Z"
   },
   {
    "duration": 13,
    "start_time": "2023-05-19T16:06:17.487Z"
   },
   {
    "duration": 666,
    "start_time": "2023-05-19T16:06:17.502Z"
   },
   {
    "duration": 156,
    "start_time": "2023-05-19T16:06:18.170Z"
   },
   {
    "duration": 20,
    "start_time": "2023-05-19T16:06:18.328Z"
   },
   {
    "duration": 7,
    "start_time": "2023-05-19T16:06:18.351Z"
   },
   {
    "duration": 15,
    "start_time": "2023-05-19T16:06:18.360Z"
   },
   {
    "duration": 14,
    "start_time": "2023-05-19T16:06:18.377Z"
   },
   {
    "duration": 485,
    "start_time": "2023-05-19T16:06:18.393Z"
   },
   {
    "duration": 11,
    "start_time": "2023-05-19T16:06:18.880Z"
   },
   {
    "duration": 32,
    "start_time": "2023-05-19T16:06:18.893Z"
   },
   {
    "duration": 56,
    "start_time": "2023-05-19T16:06:18.928Z"
   },
   {
    "duration": 16,
    "start_time": "2023-05-19T16:06:18.986Z"
   },
   {
    "duration": 76,
    "start_time": "2023-05-19T16:06:19.004Z"
   },
   {
    "duration": 137,
    "start_time": "2023-05-19T16:06:19.082Z"
   },
   {
    "duration": 51,
    "start_time": "2023-05-19T16:06:19.221Z"
   },
   {
    "duration": 101,
    "start_time": "2023-05-19T16:06:19.273Z"
   },
   {
    "duration": 66,
    "start_time": "2023-05-19T16:06:19.376Z"
   },
   {
    "duration": 49,
    "start_time": "2023-05-19T16:06:19.444Z"
   },
   {
    "duration": 11,
    "start_time": "2023-05-19T16:06:19.494Z"
   },
   {
    "duration": 173,
    "start_time": "2023-05-19T16:06:19.529Z"
   },
   {
    "duration": 16,
    "start_time": "2023-05-19T16:10:46.587Z"
   },
   {
    "duration": 139,
    "start_time": "2023-05-19T16:10:55.058Z"
   },
   {
    "duration": 12,
    "start_time": "2023-05-19T16:21:50.553Z"
   },
   {
    "duration": 11,
    "start_time": "2023-05-19T16:21:57.943Z"
   },
   {
    "duration": 11,
    "start_time": "2023-05-19T16:22:39.452Z"
   },
   {
    "duration": 21,
    "start_time": "2023-05-19T16:23:19.025Z"
   },
   {
    "duration": 5,
    "start_time": "2023-05-19T16:26:32.098Z"
   },
   {
    "duration": 3,
    "start_time": "2023-05-19T16:29:05.413Z"
   },
   {
    "duration": 13,
    "start_time": "2023-05-19T16:29:10.076Z"
   },
   {
    "duration": 20,
    "start_time": "2023-05-19T16:30:33.500Z"
   },
   {
    "duration": 16,
    "start_time": "2023-05-19T16:30:47.988Z"
   },
   {
    "duration": 19,
    "start_time": "2023-05-19T16:31:22.842Z"
   },
   {
    "duration": 15,
    "start_time": "2023-05-19T16:31:31.439Z"
   },
   {
    "duration": 14,
    "start_time": "2023-05-19T16:31:45.393Z"
   },
   {
    "duration": 16,
    "start_time": "2023-05-19T16:32:32.476Z"
   },
   {
    "duration": 94,
    "start_time": "2023-05-19T16:35:49.250Z"
   },
   {
    "duration": 25,
    "start_time": "2023-05-19T16:37:01.796Z"
   },
   {
    "duration": 20,
    "start_time": "2023-05-19T16:37:52.849Z"
   },
   {
    "duration": 27,
    "start_time": "2023-05-19T16:38:01.510Z"
   },
   {
    "duration": 28,
    "start_time": "2023-05-19T16:38:28.084Z"
   },
   {
    "duration": 159,
    "start_time": "2023-05-19T16:40:23.690Z"
   },
   {
    "duration": 277,
    "start_time": "2023-05-19T16:40:45.313Z"
   },
   {
    "duration": 292,
    "start_time": "2023-05-19T16:44:49.994Z"
   },
   {
    "duration": 417,
    "start_time": "2023-05-19T16:46:31.205Z"
   },
   {
    "duration": 24,
    "start_time": "2023-05-19T16:47:44.919Z"
   },
   {
    "duration": 371,
    "start_time": "2023-05-19T16:49:30.393Z"
   },
   {
    "duration": 20,
    "start_time": "2023-05-19T16:49:55.077Z"
   },
   {
    "duration": 313,
    "start_time": "2023-05-19T16:49:57.272Z"
   },
   {
    "duration": 300,
    "start_time": "2023-05-19T16:50:08.422Z"
   },
   {
    "duration": 287,
    "start_time": "2023-05-19T16:50:20.096Z"
   },
   {
    "duration": 317,
    "start_time": "2023-05-19T16:50:49.417Z"
   },
   {
    "duration": 300,
    "start_time": "2023-05-19T16:50:55.890Z"
   },
   {
    "duration": 294,
    "start_time": "2023-05-19T16:51:18.947Z"
   },
   {
    "duration": 360,
    "start_time": "2023-05-19T16:52:36.639Z"
   },
   {
    "duration": 14,
    "start_time": "2023-05-19T16:55:11.411Z"
   },
   {
    "duration": 14,
    "start_time": "2023-05-19T16:56:02.336Z"
   },
   {
    "duration": 65,
    "start_time": "2023-05-19T16:58:21.669Z"
   },
   {
    "duration": 143,
    "start_time": "2023-05-19T16:58:35.151Z"
   },
   {
    "duration": 204,
    "start_time": "2023-05-19T16:59:17.644Z"
   },
   {
    "duration": 144,
    "start_time": "2023-05-19T17:00:23.918Z"
   },
   {
    "duration": 142,
    "start_time": "2023-05-19T17:01:00.879Z"
   },
   {
    "duration": 139,
    "start_time": "2023-05-19T17:01:30.476Z"
   },
   {
    "duration": 297,
    "start_time": "2023-05-19T17:02:10.495Z"
   },
   {
    "duration": 151,
    "start_time": "2023-05-19T17:02:38.715Z"
   },
   {
    "duration": 140,
    "start_time": "2023-05-19T17:03:03.265Z"
   },
   {
    "duration": 172,
    "start_time": "2023-05-19T17:04:48.327Z"
   },
   {
    "duration": 277,
    "start_time": "2023-05-19T17:15:35.205Z"
   },
   {
    "duration": 85,
    "start_time": "2023-05-19T17:55:57.174Z"
   },
   {
    "duration": 89,
    "start_time": "2023-05-19T17:55:57.261Z"
   },
   {
    "duration": 15,
    "start_time": "2023-05-19T17:55:57.352Z"
   },
   {
    "duration": 5,
    "start_time": "2023-05-19T17:55:57.370Z"
   },
   {
    "duration": 18,
    "start_time": "2023-05-19T17:55:57.377Z"
   },
   {
    "duration": 32,
    "start_time": "2023-05-19T17:55:57.396Z"
   },
   {
    "duration": 648,
    "start_time": "2023-05-19T17:55:57.432Z"
   },
   {
    "duration": 24,
    "start_time": "2023-05-19T17:55:58.082Z"
   },
   {
    "duration": 37,
    "start_time": "2023-05-19T17:55:58.108Z"
   },
   {
    "duration": 8,
    "start_time": "2023-05-19T17:55:58.149Z"
   },
   {
    "duration": 24,
    "start_time": "2023-05-19T17:55:58.159Z"
   },
   {
    "duration": 23,
    "start_time": "2023-05-19T17:55:58.184Z"
   },
   {
    "duration": 481,
    "start_time": "2023-05-19T17:55:58.208Z"
   },
   {
    "duration": 11,
    "start_time": "2023-05-19T17:55:58.690Z"
   },
   {
    "duration": 31,
    "start_time": "2023-05-19T17:55:58.702Z"
   },
   {
    "duration": 51,
    "start_time": "2023-05-19T17:55:58.738Z"
   },
   {
    "duration": 14,
    "start_time": "2023-05-19T17:55:58.792Z"
   },
   {
    "duration": 75,
    "start_time": "2023-05-19T17:55:58.808Z"
   },
   {
    "duration": 126,
    "start_time": "2023-05-19T17:55:58.885Z"
   },
   {
    "duration": 56,
    "start_time": "2023-05-19T17:55:59.013Z"
   },
   {
    "duration": 112,
    "start_time": "2023-05-19T17:55:59.071Z"
   },
   {
    "duration": 67,
    "start_time": "2023-05-19T17:55:59.185Z"
   },
   {
    "duration": 50,
    "start_time": "2023-05-19T17:55:59.254Z"
   },
   {
    "duration": 41,
    "start_time": "2023-05-19T17:55:59.306Z"
   },
   {
    "duration": 19,
    "start_time": "2023-05-19T17:55:59.349Z"
   },
   {
    "duration": 395,
    "start_time": "2023-05-19T17:55:59.370Z"
   },
   {
    "duration": 17,
    "start_time": "2023-05-19T17:55:59.767Z"
   },
   {
    "duration": 146,
    "start_time": "2023-05-19T17:55:59.786Z"
   },
   {
    "duration": 10589,
    "start_time": "2023-05-19T17:57:54.335Z"
   },
   {
    "duration": 16,
    "start_time": "2023-05-19T18:00:53.003Z"
   },
   {
    "duration": 34,
    "start_time": "2023-05-19T18:12:30.916Z"
   },
   {
    "duration": 32,
    "start_time": "2023-05-19T18:13:02.930Z"
   },
   {
    "duration": 22,
    "start_time": "2023-05-19T18:13:43.797Z"
   },
   {
    "duration": 21,
    "start_time": "2023-05-19T18:13:53.669Z"
   },
   {
    "duration": 18,
    "start_time": "2023-05-19T18:14:22.947Z"
   },
   {
    "duration": 19,
    "start_time": "2023-05-19T18:15:23.692Z"
   },
   {
    "duration": 14,
    "start_time": "2023-05-19T18:25:33.983Z"
   },
   {
    "duration": 104,
    "start_time": "2023-05-19T18:29:00.090Z"
   },
   {
    "duration": 12,
    "start_time": "2023-05-19T18:29:13.884Z"
   },
   {
    "duration": 18,
    "start_time": "2023-05-19T18:29:26.705Z"
   },
   {
    "duration": 72,
    "start_time": "2023-05-19T18:31:08.554Z"
   },
   {
    "duration": 666,
    "start_time": "2023-05-19T18:31:55.514Z"
   },
   {
    "duration": 90,
    "start_time": "2023-05-19T18:32:11.367Z"
   },
   {
    "duration": 96,
    "start_time": "2023-05-19T18:32:30.880Z"
   },
   {
    "duration": 120,
    "start_time": "2023-05-19T19:46:35.815Z"
   },
   {
    "duration": 96,
    "start_time": "2023-05-19T19:46:51.853Z"
   },
   {
    "duration": 30,
    "start_time": "2023-05-19T19:47:07.318Z"
   },
   {
    "duration": 25,
    "start_time": "2023-05-19T19:47:37.438Z"
   },
   {
    "duration": 4,
    "start_time": "2023-05-19T19:50:10.492Z"
   },
   {
    "duration": 105,
    "start_time": "2023-05-19T19:50:10.499Z"
   },
   {
    "duration": 17,
    "start_time": "2023-05-19T19:50:10.606Z"
   },
   {
    "duration": 13,
    "start_time": "2023-05-19T19:50:10.629Z"
   },
   {
    "duration": 24,
    "start_time": "2023-05-19T19:50:10.644Z"
   },
   {
    "duration": 15,
    "start_time": "2023-05-19T19:50:10.670Z"
   },
   {
    "duration": 770,
    "start_time": "2023-05-19T19:50:10.686Z"
   },
   {
    "duration": 25,
    "start_time": "2023-05-19T19:50:11.463Z"
   },
   {
    "duration": 14,
    "start_time": "2023-05-19T19:50:11.492Z"
   },
   {
    "duration": 23,
    "start_time": "2023-05-19T19:50:11.508Z"
   },
   {
    "duration": 11,
    "start_time": "2023-05-19T19:50:11.533Z"
   },
   {
    "duration": 20,
    "start_time": "2023-05-19T19:50:11.546Z"
   },
   {
    "duration": 517,
    "start_time": "2023-05-19T19:50:11.569Z"
   },
   {
    "duration": 11,
    "start_time": "2023-05-19T19:50:12.088Z"
   },
   {
    "duration": 55,
    "start_time": "2023-05-19T19:50:12.101Z"
   },
   {
    "duration": 57,
    "start_time": "2023-05-19T19:50:12.161Z"
   },
   {
    "duration": 24,
    "start_time": "2023-05-19T19:50:12.221Z"
   },
   {
    "duration": 55,
    "start_time": "2023-05-19T19:50:12.251Z"
   },
   {
    "duration": 167,
    "start_time": "2023-05-19T19:50:12.308Z"
   },
   {
    "duration": 85,
    "start_time": "2023-05-19T19:50:12.480Z"
   },
   {
    "duration": 138,
    "start_time": "2023-05-19T19:50:12.567Z"
   },
   {
    "duration": 90,
    "start_time": "2023-05-19T19:50:12.707Z"
   },
   {
    "duration": 84,
    "start_time": "2023-05-19T19:50:12.799Z"
   },
   {
    "duration": 23,
    "start_time": "2023-05-19T19:50:12.885Z"
   },
   {
    "duration": 398,
    "start_time": "2023-05-19T19:50:12.910Z"
   },
   {
    "duration": 28,
    "start_time": "2023-05-19T19:50:13.310Z"
   },
   {
    "duration": 516,
    "start_time": "2023-05-19T19:50:13.339Z"
   },
   {
    "duration": 11991,
    "start_time": "2023-05-19T19:50:13.857Z"
   },
   {
    "duration": 17,
    "start_time": "2023-05-19T19:50:25.860Z"
   },
   {
    "duration": 66,
    "start_time": "2023-05-19T19:50:25.879Z"
   },
   {
    "duration": 85,
    "start_time": "2023-05-19T19:50:25.947Z"
   },
   {
    "duration": 31,
    "start_time": "2023-05-19T19:55:06.352Z"
   },
   {
    "duration": 35,
    "start_time": "2023-05-19T20:07:49.578Z"
   },
   {
    "duration": 114,
    "start_time": "2023-05-19T20:07:49.616Z"
   },
   {
    "duration": 17,
    "start_time": "2023-05-19T20:07:49.732Z"
   },
   {
    "duration": 23,
    "start_time": "2023-05-19T20:07:49.752Z"
   },
   {
    "duration": 22,
    "start_time": "2023-05-19T20:07:49.777Z"
   },
   {
    "duration": 22,
    "start_time": "2023-05-19T20:07:49.804Z"
   },
   {
    "duration": 774,
    "start_time": "2023-05-19T20:07:49.834Z"
   },
   {
    "duration": 42,
    "start_time": "2023-05-19T20:07:50.611Z"
   },
   {
    "duration": 22,
    "start_time": "2023-05-19T20:07:50.655Z"
   },
   {
    "duration": 9,
    "start_time": "2023-05-19T20:07:50.679Z"
   },
   {
    "duration": 38,
    "start_time": "2023-05-19T20:07:50.697Z"
   },
   {
    "duration": 29,
    "start_time": "2023-05-19T20:07:50.738Z"
   },
   {
    "duration": 508,
    "start_time": "2023-05-19T20:07:50.769Z"
   },
   {
    "duration": 15,
    "start_time": "2023-05-19T20:07:51.280Z"
   },
   {
    "duration": 34,
    "start_time": "2023-05-19T20:07:51.298Z"
   },
   {
    "duration": 66,
    "start_time": "2023-05-19T20:07:51.334Z"
   },
   {
    "duration": 49,
    "start_time": "2023-05-19T20:07:51.402Z"
   },
   {
    "duration": 45,
    "start_time": "2023-05-19T20:07:51.458Z"
   },
   {
    "duration": 130,
    "start_time": "2023-05-19T20:07:51.505Z"
   },
   {
    "duration": 60,
    "start_time": "2023-05-19T20:07:51.642Z"
   },
   {
    "duration": 173,
    "start_time": "2023-05-19T20:07:51.704Z"
   },
   {
    "duration": 82,
    "start_time": "2023-05-19T20:07:51.881Z"
   },
   {
    "duration": 50,
    "start_time": "2023-05-19T20:07:51.965Z"
   },
   {
    "duration": 33,
    "start_time": "2023-05-19T20:07:52.017Z"
   },
   {
    "duration": 359,
    "start_time": "2023-05-19T20:07:52.060Z"
   },
   {
    "duration": 18,
    "start_time": "2023-05-19T20:07:52.421Z"
   },
   {
    "duration": 169,
    "start_time": "2023-05-19T20:07:52.441Z"
   },
   {
    "duration": 12106,
    "start_time": "2023-05-19T20:07:52.612Z"
   },
   {
    "duration": 34,
    "start_time": "2023-05-19T20:08:04.720Z"
   },
   {
    "duration": 90,
    "start_time": "2023-05-19T20:08:04.756Z"
   },
   {
    "duration": 14,
    "start_time": "2023-05-19T20:08:04.848Z"
   },
   {
    "duration": 1687,
    "start_time": "2023-05-19T20:08:04.863Z"
   },
   {
    "duration": 0,
    "start_time": "2023-05-19T20:08:06.553Z"
   },
   {
    "duration": 45,
    "start_time": "2023-05-19T20:10:16.912Z"
   },
   {
    "duration": 3,
    "start_time": "2023-05-19T20:10:45.375Z"
   },
   {
    "duration": 24,
    "start_time": "2023-05-19T20:11:33.152Z"
   },
   {
    "duration": 32,
    "start_time": "2023-05-19T20:13:06.360Z"
   },
   {
    "duration": 23,
    "start_time": "2023-05-19T20:13:14.541Z"
   },
   {
    "duration": 18,
    "start_time": "2023-05-19T20:14:00.900Z"
   },
   {
    "duration": 25,
    "start_time": "2023-05-19T20:14:21.350Z"
   },
   {
    "duration": 44,
    "start_time": "2023-05-20T16:08:15.096Z"
   },
   {
    "duration": 1555,
    "start_time": "2023-05-20T16:08:34.167Z"
   },
   {
    "duration": 241,
    "start_time": "2023-05-20T16:08:35.723Z"
   },
   {
    "duration": 14,
    "start_time": "2023-05-20T16:08:35.966Z"
   },
   {
    "duration": 2,
    "start_time": "2023-05-20T16:08:35.982Z"
   },
   {
    "duration": 17,
    "start_time": "2023-05-20T16:08:35.986Z"
   },
   {
    "duration": 13,
    "start_time": "2023-05-20T16:08:36.004Z"
   },
   {
    "duration": 580,
    "start_time": "2023-05-20T16:08:36.019Z"
   },
   {
    "duration": 20,
    "start_time": "2023-05-20T16:08:36.607Z"
   },
   {
    "duration": 10,
    "start_time": "2023-05-20T16:08:36.629Z"
   },
   {
    "duration": 5,
    "start_time": "2023-05-20T16:08:36.641Z"
   },
   {
    "duration": 7,
    "start_time": "2023-05-20T16:08:36.647Z"
   },
   {
    "duration": 183,
    "start_time": "2023-05-20T16:08:36.656Z"
   },
   {
    "duration": 547,
    "start_time": "2023-05-20T16:08:36.841Z"
   },
   {
    "duration": 16,
    "start_time": "2023-05-20T16:08:37.392Z"
   },
   {
    "duration": 17,
    "start_time": "2023-05-20T16:08:37.409Z"
   },
   {
    "duration": 220,
    "start_time": "2023-05-20T16:08:37.427Z"
   },
   {
    "duration": 14,
    "start_time": "2023-05-20T16:08:37.649Z"
   },
   {
    "duration": 54,
    "start_time": "2023-05-20T16:08:37.665Z"
   },
   {
    "duration": 106,
    "start_time": "2023-05-20T16:08:37.720Z"
   },
   {
    "duration": 37,
    "start_time": "2023-05-20T16:08:37.827Z"
   },
   {
    "duration": 95,
    "start_time": "2023-05-20T16:08:37.865Z"
   },
   {
    "duration": 52,
    "start_time": "2023-05-20T16:08:37.961Z"
   },
   {
    "duration": 40,
    "start_time": "2023-05-20T16:08:38.014Z"
   },
   {
    "duration": 16,
    "start_time": "2023-05-20T16:08:38.055Z"
   },
   {
    "duration": 294,
    "start_time": "2023-05-20T16:08:38.072Z"
   },
   {
    "duration": 10,
    "start_time": "2023-05-20T16:08:38.367Z"
   },
   {
    "duration": 273,
    "start_time": "2023-05-20T16:08:38.379Z"
   },
   {
    "duration": 8606,
    "start_time": "2023-05-20T16:08:38.653Z"
   },
   {
    "duration": 13,
    "start_time": "2023-05-20T16:08:47.261Z"
   },
   {
    "duration": 39,
    "start_time": "2023-05-20T16:08:47.275Z"
   },
   {
    "duration": 15,
    "start_time": "2023-05-20T16:08:47.315Z"
   },
   {
    "duration": 199,
    "start_time": "2023-05-20T16:08:47.331Z"
   },
   {
    "duration": 100,
    "start_time": "2023-05-20T16:10:17.566Z"
   },
   {
    "duration": 72,
    "start_time": "2023-05-20T16:10:40.266Z"
   },
   {
    "duration": 9,
    "start_time": "2023-05-20T16:11:37.107Z"
   },
   {
    "duration": 13,
    "start_time": "2023-05-20T16:11:45.564Z"
   },
   {
    "duration": 16,
    "start_time": "2023-05-20T16:12:39.735Z"
   },
   {
    "duration": 20,
    "start_time": "2023-05-20T16:18:09.666Z"
   },
   {
    "duration": 19,
    "start_time": "2023-05-20T16:18:22.010Z"
   },
   {
    "duration": 19,
    "start_time": "2023-05-20T16:18:29.928Z"
   },
   {
    "duration": 3,
    "start_time": "2023-05-20T16:18:32.755Z"
   },
   {
    "duration": 68,
    "start_time": "2023-05-20T16:18:32.770Z"
   },
   {
    "duration": 13,
    "start_time": "2023-05-20T16:18:32.840Z"
   },
   {
    "duration": 5,
    "start_time": "2023-05-20T16:18:32.854Z"
   },
   {
    "duration": 24,
    "start_time": "2023-05-20T16:18:32.861Z"
   },
   {
    "duration": 12,
    "start_time": "2023-05-20T16:18:32.887Z"
   },
   {
    "duration": 589,
    "start_time": "2023-05-20T16:18:32.906Z"
   },
   {
    "duration": 29,
    "start_time": "2023-05-20T16:18:33.497Z"
   },
   {
    "duration": 11,
    "start_time": "2023-05-20T16:18:33.528Z"
   },
   {
    "duration": 5,
    "start_time": "2023-05-20T16:18:33.540Z"
   },
   {
    "duration": 14,
    "start_time": "2023-05-20T16:18:33.547Z"
   },
   {
    "duration": 203,
    "start_time": "2023-05-20T16:18:33.563Z"
   },
   {
    "duration": 450,
    "start_time": "2023-05-20T16:18:33.768Z"
   },
   {
    "duration": 11,
    "start_time": "2023-05-20T16:18:34.219Z"
   },
   {
    "duration": 12,
    "start_time": "2023-05-20T16:18:34.232Z"
   },
   {
    "duration": 69,
    "start_time": "2023-05-20T16:18:34.245Z"
   },
   {
    "duration": 13,
    "start_time": "2023-05-20T16:18:34.315Z"
   },
   {
    "duration": 42,
    "start_time": "2023-05-20T16:18:34.330Z"
   },
   {
    "duration": 120,
    "start_time": "2023-05-20T16:18:34.374Z"
   },
   {
    "duration": 45,
    "start_time": "2023-05-20T16:18:34.496Z"
   },
   {
    "duration": 102,
    "start_time": "2023-05-20T16:18:34.542Z"
   },
   {
    "duration": 45,
    "start_time": "2023-05-20T16:18:34.646Z"
   },
   {
    "duration": 47,
    "start_time": "2023-05-20T16:18:34.705Z"
   },
   {
    "duration": 18,
    "start_time": "2023-05-20T16:18:34.753Z"
   },
   {
    "duration": 320,
    "start_time": "2023-05-20T16:18:34.773Z"
   },
   {
    "duration": 17,
    "start_time": "2023-05-20T16:18:35.095Z"
   },
   {
    "duration": 112,
    "start_time": "2023-05-20T16:18:35.114Z"
   },
   {
    "duration": 8600,
    "start_time": "2023-05-20T16:18:35.230Z"
   },
   {
    "duration": 14,
    "start_time": "2023-05-20T16:18:43.832Z"
   },
   {
    "duration": 60,
    "start_time": "2023-05-20T16:18:43.847Z"
   },
   {
    "duration": 23,
    "start_time": "2023-05-20T16:18:43.909Z"
   },
   {
    "duration": 199,
    "start_time": "2023-05-20T16:18:43.933Z"
   },
   {
    "duration": 16,
    "start_time": "2023-05-20T16:18:44.133Z"
   },
   {
    "duration": 14,
    "start_time": "2023-05-20T16:22:15.471Z"
   },
   {
    "duration": 15,
    "start_time": "2023-05-20T16:22:25.466Z"
   },
   {
    "duration": 22,
    "start_time": "2023-05-20T16:23:05.029Z"
   },
   {
    "duration": 22,
    "start_time": "2023-05-20T16:23:26.068Z"
   },
   {
    "duration": 114,
    "start_time": "2023-05-20T17:55:13.204Z"
   },
   {
    "duration": 25,
    "start_time": "2023-05-20T17:55:41.210Z"
   },
   {
    "duration": 19,
    "start_time": "2023-05-20T17:56:34.467Z"
   },
   {
    "duration": 26,
    "start_time": "2023-05-20T17:57:11.882Z"
   },
   {
    "duration": 17,
    "start_time": "2023-05-20T17:58:53.666Z"
   },
   {
    "duration": 27,
    "start_time": "2023-05-20T17:59:11.408Z"
   },
   {
    "duration": 23,
    "start_time": "2023-05-20T17:59:17.792Z"
   },
   {
    "duration": 3,
    "start_time": "2023-05-20T17:59:27.193Z"
   },
   {
    "duration": 69,
    "start_time": "2023-05-20T17:59:27.198Z"
   },
   {
    "duration": 14,
    "start_time": "2023-05-20T17:59:27.268Z"
   },
   {
    "duration": 10,
    "start_time": "2023-05-20T17:59:27.283Z"
   },
   {
    "duration": 21,
    "start_time": "2023-05-20T17:59:27.295Z"
   },
   {
    "duration": 13,
    "start_time": "2023-05-20T17:59:27.317Z"
   },
   {
    "duration": 554,
    "start_time": "2023-05-20T17:59:27.332Z"
   },
   {
    "duration": 27,
    "start_time": "2023-05-20T17:59:27.888Z"
   },
   {
    "duration": 11,
    "start_time": "2023-05-20T17:59:27.917Z"
   },
   {
    "duration": 5,
    "start_time": "2023-05-20T17:59:27.929Z"
   },
   {
    "duration": 6,
    "start_time": "2023-05-20T17:59:27.936Z"
   },
   {
    "duration": 12,
    "start_time": "2023-05-20T17:59:27.943Z"
   },
   {
    "duration": 407,
    "start_time": "2023-05-20T17:59:27.956Z"
   },
   {
    "duration": 10,
    "start_time": "2023-05-20T17:59:28.364Z"
   },
   {
    "duration": 10,
    "start_time": "2023-05-20T17:59:28.375Z"
   },
   {
    "duration": 61,
    "start_time": "2023-05-20T17:59:28.388Z"
   },
   {
    "duration": 14,
    "start_time": "2023-05-20T17:59:28.450Z"
   },
   {
    "duration": 59,
    "start_time": "2023-05-20T17:59:28.465Z"
   },
   {
    "duration": 121,
    "start_time": "2023-05-20T17:59:28.526Z"
   },
   {
    "duration": 43,
    "start_time": "2023-05-20T17:59:28.648Z"
   },
   {
    "duration": 100,
    "start_time": "2023-05-20T17:59:28.706Z"
   },
   {
    "duration": 46,
    "start_time": "2023-05-20T17:59:28.808Z"
   },
   {
    "duration": 51,
    "start_time": "2023-05-20T17:59:28.855Z"
   },
   {
    "duration": 17,
    "start_time": "2023-05-20T17:59:28.908Z"
   },
   {
    "duration": 338,
    "start_time": "2023-05-20T17:59:28.926Z"
   },
   {
    "duration": 11,
    "start_time": "2023-05-20T17:59:29.265Z"
   },
   {
    "duration": 115,
    "start_time": "2023-05-20T17:59:29.278Z"
   },
   {
    "duration": 8897,
    "start_time": "2023-05-20T17:59:29.395Z"
   },
   {
    "duration": 35,
    "start_time": "2023-05-20T17:59:38.294Z"
   },
   {
    "duration": 0,
    "start_time": "2023-05-20T17:59:38.330Z"
   },
   {
    "duration": 0,
    "start_time": "2023-05-20T17:59:38.331Z"
   },
   {
    "duration": 0,
    "start_time": "2023-05-20T17:59:38.332Z"
   },
   {
    "duration": 12,
    "start_time": "2023-05-20T18:00:25.986Z"
   },
   {
    "duration": 13,
    "start_time": "2023-05-20T18:00:35.694Z"
   },
   {
    "duration": 24,
    "start_time": "2023-05-20T18:00:59.886Z"
   },
   {
    "duration": 22,
    "start_time": "2023-05-20T18:10:14.726Z"
   },
   {
    "duration": 30,
    "start_time": "2023-05-20T18:11:02.070Z"
   },
   {
    "duration": 31,
    "start_time": "2023-05-20T18:11:40.408Z"
   },
   {
    "duration": 36,
    "start_time": "2023-05-20T18:11:50.582Z"
   },
   {
    "duration": 28,
    "start_time": "2023-05-20T18:12:33.084Z"
   },
   {
    "duration": 25,
    "start_time": "2023-05-20T18:13:32.189Z"
   },
   {
    "duration": 22,
    "start_time": "2023-05-20T18:14:10.775Z"
   },
   {
    "duration": 21,
    "start_time": "2023-05-20T18:14:28.697Z"
   },
   {
    "duration": 21,
    "start_time": "2023-05-20T18:14:49.258Z"
   },
   {
    "duration": 19,
    "start_time": "2023-05-20T18:15:43.310Z"
   },
   {
    "duration": 23,
    "start_time": "2023-05-20T18:16:11.662Z"
   },
   {
    "duration": 24,
    "start_time": "2023-05-20T18:16:19.273Z"
   },
   {
    "duration": 20,
    "start_time": "2023-05-20T18:16:47.873Z"
   },
   {
    "duration": 20,
    "start_time": "2023-05-20T18:21:03.875Z"
   },
   {
    "duration": 3,
    "start_time": "2023-05-20T18:21:13.954Z"
   },
   {
    "duration": 68,
    "start_time": "2023-05-20T18:21:13.959Z"
   },
   {
    "duration": 12,
    "start_time": "2023-05-20T18:21:14.029Z"
   },
   {
    "duration": 2,
    "start_time": "2023-05-20T18:21:19.413Z"
   },
   {
    "duration": 18,
    "start_time": "2023-05-20T18:21:19.416Z"
   },
   {
    "duration": 11,
    "start_time": "2023-05-20T18:21:19.562Z"
   },
   {
    "duration": 537,
    "start_time": "2023-05-20T18:21:19.574Z"
   },
   {
    "duration": 19,
    "start_time": "2023-05-20T18:21:20.112Z"
   },
   {
    "duration": 20,
    "start_time": "2023-05-20T18:21:20.133Z"
   },
   {
    "duration": 5,
    "start_time": "2023-05-20T18:21:20.155Z"
   },
   {
    "duration": 17,
    "start_time": "2023-05-20T18:21:20.162Z"
   },
   {
    "duration": 12,
    "start_time": "2023-05-20T18:21:20.181Z"
   },
   {
    "duration": 402,
    "start_time": "2023-05-20T18:21:20.194Z"
   },
   {
    "duration": 14,
    "start_time": "2023-05-20T18:21:20.598Z"
   },
   {
    "duration": 10,
    "start_time": "2023-05-20T18:21:20.614Z"
   },
   {
    "duration": 41,
    "start_time": "2023-05-20T18:21:20.625Z"
   },
   {
    "duration": 40,
    "start_time": "2023-05-20T18:21:20.667Z"
   },
   {
    "duration": 38,
    "start_time": "2023-05-20T18:21:20.708Z"
   },
   {
    "duration": 103,
    "start_time": "2023-05-20T18:21:20.748Z"
   },
   {
    "duration": 37,
    "start_time": "2023-05-20T18:21:20.852Z"
   },
   {
    "duration": 454,
    "start_time": "2023-05-20T18:21:20.890Z"
   },
   {
    "duration": 43,
    "start_time": "2023-05-20T18:21:21.345Z"
   },
   {
    "duration": 54,
    "start_time": "2023-05-20T18:21:21.389Z"
   },
   {
    "duration": 15,
    "start_time": "2023-05-20T18:21:21.445Z"
   },
   {
    "duration": 279,
    "start_time": "2023-05-20T18:21:21.462Z"
   },
   {
    "duration": 11,
    "start_time": "2023-05-20T18:21:21.742Z"
   },
   {
    "duration": 106,
    "start_time": "2023-05-20T18:21:21.754Z"
   },
   {
    "duration": 1457,
    "start_time": "2023-05-20T18:22:50.890Z"
   },
   {
    "duration": 79,
    "start_time": "2023-05-20T18:22:52.349Z"
   },
   {
    "duration": 15,
    "start_time": "2023-05-20T18:22:52.430Z"
   },
   {
    "duration": 5,
    "start_time": "2023-05-20T18:22:52.447Z"
   },
   {
    "duration": 17,
    "start_time": "2023-05-20T18:22:52.454Z"
   },
   {
    "duration": 35,
    "start_time": "2023-05-20T18:22:52.473Z"
   },
   {
    "duration": 589,
    "start_time": "2023-05-20T18:22:52.510Z"
   },
   {
    "duration": 22,
    "start_time": "2023-05-20T18:22:53.105Z"
   },
   {
    "duration": 12,
    "start_time": "2023-05-20T18:22:53.128Z"
   },
   {
    "duration": 6,
    "start_time": "2023-05-20T18:22:53.141Z"
   },
   {
    "duration": 8,
    "start_time": "2023-05-20T18:22:53.149Z"
   },
   {
    "duration": 149,
    "start_time": "2023-05-20T18:22:53.158Z"
   },
   {
    "duration": 545,
    "start_time": "2023-05-20T18:22:53.309Z"
   },
   {
    "duration": 12,
    "start_time": "2023-05-20T18:22:53.857Z"
   },
   {
    "duration": 17,
    "start_time": "2023-05-20T18:22:53.871Z"
   },
   {
    "duration": 238,
    "start_time": "2023-05-20T18:22:53.890Z"
   },
   {
    "duration": 13,
    "start_time": "2023-05-20T18:22:54.130Z"
   },
   {
    "duration": 43,
    "start_time": "2023-05-20T18:22:54.145Z"
   },
   {
    "duration": 132,
    "start_time": "2023-05-20T18:22:54.206Z"
   },
   {
    "duration": 43,
    "start_time": "2023-05-20T18:22:54.339Z"
   },
   {
    "duration": 109,
    "start_time": "2023-05-20T18:22:54.383Z"
   },
   {
    "duration": 58,
    "start_time": "2023-05-20T18:22:54.493Z"
   },
   {
    "duration": 59,
    "start_time": "2023-05-20T18:22:54.552Z"
   },
   {
    "duration": 17,
    "start_time": "2023-05-20T18:22:54.613Z"
   },
   {
    "duration": 317,
    "start_time": "2023-05-20T18:22:54.632Z"
   },
   {
    "duration": 12,
    "start_time": "2023-05-20T18:22:54.950Z"
   },
   {
    "duration": 196,
    "start_time": "2023-05-20T18:22:54.963Z"
   },
   {
    "duration": 8546,
    "start_time": "2023-05-20T18:22:55.161Z"
   },
   {
    "duration": 314,
    "start_time": "2023-05-20T18:23:03.709Z"
   },
   {
    "duration": 0,
    "start_time": "2023-05-20T18:23:04.024Z"
   },
   {
    "duration": 20,
    "start_time": "2023-05-20T18:24:11.010Z"
   },
   {
    "duration": 22,
    "start_time": "2023-05-20T18:24:33.558Z"
   },
   {
    "duration": 23,
    "start_time": "2023-05-20T18:24:53.018Z"
   },
   {
    "duration": 20,
    "start_time": "2023-05-20T18:25:58.590Z"
   },
   {
    "duration": 67,
    "start_time": "2023-05-20T18:28:01.670Z"
   },
   {
    "duration": 22,
    "start_time": "2023-05-20T18:29:39.480Z"
   },
   {
    "duration": 99,
    "start_time": "2023-05-20T18:29:40.347Z"
   },
   {
    "duration": 27,
    "start_time": "2023-05-20T19:02:31.188Z"
   },
   {
    "duration": 21,
    "start_time": "2023-05-20T19:03:17.647Z"
   },
   {
    "duration": 30,
    "start_time": "2023-05-20T19:04:57.264Z"
   },
   {
    "duration": 17,
    "start_time": "2023-05-20T19:07:10.255Z"
   },
   {
    "duration": 30,
    "start_time": "2023-05-20T19:07:30.649Z"
   },
   {
    "duration": 29,
    "start_time": "2023-05-20T19:09:45.698Z"
   },
   {
    "duration": 30,
    "start_time": "2023-05-20T19:10:47.366Z"
   },
   {
    "duration": 27,
    "start_time": "2023-05-20T19:15:44.509Z"
   },
   {
    "duration": 62,
    "start_time": "2023-05-20T19:15:51.504Z"
   },
   {
    "duration": 27,
    "start_time": "2023-05-20T19:16:26.547Z"
   },
   {
    "duration": 62,
    "start_time": "2023-05-20T19:16:29.868Z"
   },
   {
    "duration": 62,
    "start_time": "2023-05-20T19:17:11.692Z"
   },
   {
    "duration": 61,
    "start_time": "2023-05-20T19:17:20.370Z"
   },
   {
    "duration": 71,
    "start_time": "2023-05-20T19:17:28.977Z"
   },
   {
    "duration": 63,
    "start_time": "2023-05-20T19:18:14.503Z"
   },
   {
    "duration": 64,
    "start_time": "2023-05-20T19:18:36.996Z"
   },
   {
    "duration": 23,
    "start_time": "2023-05-20T19:19:19.612Z"
   },
   {
    "duration": 63,
    "start_time": "2023-05-20T19:30:46.977Z"
   },
   {
    "duration": 74,
    "start_time": "2023-05-20T19:34:33.614Z"
   },
   {
    "duration": 271,
    "start_time": "2023-05-20T19:35:50.558Z"
   },
   {
    "duration": 72,
    "start_time": "2023-05-20T19:36:31.785Z"
   },
   {
    "duration": 62,
    "start_time": "2023-05-20T19:37:44.385Z"
   },
   {
    "duration": 76,
    "start_time": "2023-05-20T19:37:53.550Z"
   },
   {
    "duration": 62,
    "start_time": "2023-05-20T19:38:09.700Z"
   },
   {
    "duration": 14,
    "start_time": "2023-05-20T19:40:00.005Z"
   },
   {
    "duration": 10,
    "start_time": "2023-05-20T19:40:38.690Z"
   },
   {
    "duration": 13,
    "start_time": "2023-05-20T19:41:15.154Z"
   },
   {
    "duration": 8,
    "start_time": "2023-05-20T19:41:36.666Z"
   },
   {
    "duration": 14,
    "start_time": "2023-05-20T19:41:40.954Z"
   },
   {
    "duration": 11,
    "start_time": "2023-05-20T19:42:30.255Z"
   },
   {
    "duration": 11,
    "start_time": "2023-05-20T19:42:36.678Z"
   },
   {
    "duration": 21,
    "start_time": "2023-05-20T19:43:02.605Z"
   },
   {
    "duration": 25,
    "start_time": "2023-05-20T19:52:20.581Z"
   },
   {
    "duration": 21,
    "start_time": "2023-05-20T19:52:58.758Z"
   },
   {
    "duration": 14,
    "start_time": "2023-05-20T19:53:06.668Z"
   },
   {
    "duration": 22,
    "start_time": "2023-05-20T19:53:10.091Z"
   },
   {
    "duration": 21,
    "start_time": "2023-05-20T19:57:26.664Z"
   },
   {
    "duration": 13,
    "start_time": "2023-05-20T19:57:33.326Z"
   },
   {
    "duration": 19,
    "start_time": "2023-05-20T19:57:45.175Z"
   },
   {
    "duration": 22,
    "start_time": "2023-05-20T19:57:51.763Z"
   },
   {
    "duration": 83,
    "start_time": "2023-05-20T20:00:09.555Z"
   },
   {
    "duration": 81,
    "start_time": "2023-05-20T20:00:57.073Z"
   },
   {
    "duration": 91,
    "start_time": "2023-05-20T20:01:13.292Z"
   },
   {
    "duration": 68,
    "start_time": "2023-05-20T20:02:24.494Z"
   },
   {
    "duration": 18,
    "start_time": "2023-05-20T20:04:43.374Z"
   },
   {
    "duration": 20,
    "start_time": "2023-05-20T20:05:40.820Z"
   },
   {
    "duration": 76,
    "start_time": "2023-05-20T20:06:28.354Z"
   },
   {
    "duration": 23,
    "start_time": "2023-05-20T20:06:53.738Z"
   },
   {
    "duration": 27,
    "start_time": "2023-05-20T20:08:35.500Z"
   },
   {
    "duration": 99,
    "start_time": "2023-05-20T20:08:53.889Z"
   },
   {
    "duration": 1180,
    "start_time": "2023-05-20T20:09:04.517Z"
   },
   {
    "duration": 20,
    "start_time": "2023-05-20T20:09:40.799Z"
   },
   {
    "duration": 19,
    "start_time": "2023-05-20T20:10:56.491Z"
   },
   {
    "duration": 13,
    "start_time": "2023-05-20T20:20:50.657Z"
   },
   {
    "duration": 1174,
    "start_time": "2023-05-20T21:00:39.469Z"
   },
   {
    "duration": 21,
    "start_time": "2023-05-20T21:01:08.597Z"
   },
   {
    "duration": 22,
    "start_time": "2023-05-20T21:02:01.458Z"
   },
   {
    "duration": 20,
    "start_time": "2023-05-20T21:02:19.122Z"
   },
   {
    "duration": 1126,
    "start_time": "2023-05-20T21:04:05.502Z"
   },
   {
    "duration": 23,
    "start_time": "2023-05-20T21:04:43.551Z"
   },
   {
    "duration": 23,
    "start_time": "2023-05-20T21:05:40.872Z"
   },
   {
    "duration": 1715,
    "start_time": "2023-05-21T09:18:25.172Z"
   },
   {
    "duration": 269,
    "start_time": "2023-05-21T09:18:26.889Z"
   },
   {
    "duration": 13,
    "start_time": "2023-05-21T09:18:27.160Z"
   },
   {
    "duration": 2,
    "start_time": "2023-05-21T09:18:27.175Z"
   },
   {
    "duration": 16,
    "start_time": "2023-05-21T09:18:27.179Z"
   },
   {
    "duration": 12,
    "start_time": "2023-05-21T09:18:27.197Z"
   },
   {
    "duration": 748,
    "start_time": "2023-05-21T09:18:27.211Z"
   },
   {
    "duration": 22,
    "start_time": "2023-05-21T09:18:27.960Z"
   },
   {
    "duration": 13,
    "start_time": "2023-05-21T09:18:27.983Z"
   },
   {
    "duration": 5,
    "start_time": "2023-05-21T09:18:27.998Z"
   },
   {
    "duration": 9,
    "start_time": "2023-05-21T09:18:28.005Z"
   },
   {
    "duration": 242,
    "start_time": "2023-05-21T09:18:28.016Z"
   },
   {
    "duration": 643,
    "start_time": "2023-05-21T09:18:28.260Z"
   },
   {
    "duration": 12,
    "start_time": "2023-05-21T09:18:28.907Z"
   },
   {
    "duration": 32,
    "start_time": "2023-05-21T09:18:28.920Z"
   },
   {
    "duration": 240,
    "start_time": "2023-05-21T09:18:28.954Z"
   },
   {
    "duration": 15,
    "start_time": "2023-05-21T09:18:29.196Z"
   },
   {
    "duration": 77,
    "start_time": "2023-05-21T09:18:29.212Z"
   },
   {
    "duration": 128,
    "start_time": "2023-05-21T09:18:29.290Z"
   },
   {
    "duration": 57,
    "start_time": "2023-05-21T09:18:29.420Z"
   },
   {
    "duration": 147,
    "start_time": "2023-05-21T09:18:29.479Z"
   },
   {
    "duration": 72,
    "start_time": "2023-05-21T09:18:29.628Z"
   },
   {
    "duration": 60,
    "start_time": "2023-05-21T09:18:29.702Z"
   },
   {
    "duration": 20,
    "start_time": "2023-05-21T09:18:29.764Z"
   },
   {
    "duration": 341,
    "start_time": "2023-05-21T09:18:29.785Z"
   },
   {
    "duration": 22,
    "start_time": "2023-05-21T09:18:30.128Z"
   },
   {
    "duration": 298,
    "start_time": "2023-05-21T09:18:30.152Z"
   },
   {
    "duration": 9707,
    "start_time": "2023-05-21T09:18:30.452Z"
   },
   {
    "duration": 29,
    "start_time": "2023-05-21T09:18:40.161Z"
   },
   {
    "duration": 184,
    "start_time": "2023-05-21T09:18:40.192Z"
   },
   {
    "duration": 74,
    "start_time": "2023-05-21T09:18:40.377Z"
   },
   {
    "duration": 38,
    "start_time": "2023-05-21T09:18:40.455Z"
   },
   {
    "duration": 22,
    "start_time": "2023-05-21T10:02:39.659Z"
   },
   {
    "duration": 10,
    "start_time": "2023-05-21T10:03:22.765Z"
   },
   {
    "duration": 16,
    "start_time": "2023-05-21T10:03:33.268Z"
   },
   {
    "duration": 14,
    "start_time": "2023-05-21T10:10:57.405Z"
   },
   {
    "duration": 41,
    "start_time": "2023-05-21T10:11:12.675Z"
   },
   {
    "duration": 9,
    "start_time": "2023-05-21T10:12:23.562Z"
   },
   {
    "duration": 8,
    "start_time": "2023-05-21T10:15:09.895Z"
   },
   {
    "duration": 10,
    "start_time": "2023-05-21T10:15:22.818Z"
   },
   {
    "duration": 13,
    "start_time": "2023-05-21T10:17:00.412Z"
   },
   {
    "duration": 186,
    "start_time": "2023-05-21T10:21:00.871Z"
   },
   {
    "duration": 13,
    "start_time": "2023-05-21T10:21:10.187Z"
   },
   {
    "duration": 25,
    "start_time": "2023-05-21T10:22:23.776Z"
   },
   {
    "duration": 33,
    "start_time": "2023-05-21T10:22:46.465Z"
   },
   {
    "duration": 28,
    "start_time": "2023-05-21T10:22:58.349Z"
   },
   {
    "duration": 26,
    "start_time": "2023-05-21T10:24:00.480Z"
   },
   {
    "duration": 20,
    "start_time": "2023-05-21T10:24:45.264Z"
   },
   {
    "duration": 10,
    "start_time": "2023-05-21T10:57:21.410Z"
   },
   {
    "duration": 32,
    "start_time": "2023-05-21T10:59:12.476Z"
   },
   {
    "duration": 18,
    "start_time": "2023-05-21T11:02:47.376Z"
   },
   {
    "duration": 12,
    "start_time": "2023-05-21T11:02:50.658Z"
   },
   {
    "duration": 15,
    "start_time": "2023-05-21T11:04:19.809Z"
   },
   {
    "duration": 9282,
    "start_time": "2023-05-21T11:08:31.287Z"
   },
   {
    "duration": 14,
    "start_time": "2023-05-21T11:10:56.985Z"
   },
   {
    "duration": 9850,
    "start_time": "2023-05-21T11:10:58.241Z"
   },
   {
    "duration": 4,
    "start_time": "2023-05-21T11:13:37.473Z"
   },
   {
    "duration": 72,
    "start_time": "2023-05-21T11:13:37.479Z"
   },
   {
    "duration": 20,
    "start_time": "2023-05-21T11:13:37.552Z"
   },
   {
    "duration": 2,
    "start_time": "2023-05-21T11:13:37.575Z"
   },
   {
    "duration": 17,
    "start_time": "2023-05-21T11:13:37.580Z"
   },
   {
    "duration": 14,
    "start_time": "2023-05-21T11:13:37.599Z"
   },
   {
    "duration": 669,
    "start_time": "2023-05-21T11:13:37.615Z"
   },
   {
    "duration": 30,
    "start_time": "2023-05-21T11:13:38.286Z"
   },
   {
    "duration": 41,
    "start_time": "2023-05-21T11:13:38.319Z"
   },
   {
    "duration": 6,
    "start_time": "2023-05-21T11:13:38.362Z"
   },
   {
    "duration": 9,
    "start_time": "2023-05-21T11:13:38.370Z"
   },
   {
    "duration": 15,
    "start_time": "2023-05-21T11:13:38.380Z"
   },
   {
    "duration": 524,
    "start_time": "2023-05-21T11:13:38.396Z"
   },
   {
    "duration": 12,
    "start_time": "2023-05-21T11:13:38.923Z"
   },
   {
    "duration": 27,
    "start_time": "2023-05-21T11:13:38.937Z"
   },
   {
    "duration": 56,
    "start_time": "2023-05-21T11:13:38.970Z"
   },
   {
    "duration": 37,
    "start_time": "2023-05-21T11:13:39.028Z"
   },
   {
    "duration": 51,
    "start_time": "2023-05-21T11:13:39.067Z"
   },
   {
    "duration": 140,
    "start_time": "2023-05-21T11:13:39.120Z"
   },
   {
    "duration": 42,
    "start_time": "2023-05-21T11:13:39.264Z"
   },
   {
    "duration": 110,
    "start_time": "2023-05-21T11:13:39.308Z"
   },
   {
    "duration": 69,
    "start_time": "2023-05-21T11:13:39.420Z"
   },
   {
    "duration": 78,
    "start_time": "2023-05-21T11:13:39.491Z"
   },
   {
    "duration": 19,
    "start_time": "2023-05-21T11:13:39.571Z"
   },
   {
    "duration": 325,
    "start_time": "2023-05-21T11:13:39.592Z"
   },
   {
    "duration": 13,
    "start_time": "2023-05-21T11:13:39.919Z"
   },
   {
    "duration": 136,
    "start_time": "2023-05-21T11:13:39.933Z"
   },
   {
    "duration": 10260,
    "start_time": "2023-05-21T11:13:40.070Z"
   },
   {
    "duration": 54,
    "start_time": "2023-05-21T11:13:50.336Z"
   },
   {
    "duration": 195,
    "start_time": "2023-05-21T11:13:50.392Z"
   },
   {
    "duration": 86,
    "start_time": "2023-05-21T11:13:50.589Z"
   },
   {
    "duration": 33,
    "start_time": "2023-05-21T11:13:50.677Z"
   },
   {
    "duration": 54,
    "start_time": "2023-05-21T11:13:50.712Z"
   },
   {
    "duration": 16,
    "start_time": "2023-05-21T11:13:50.768Z"
   },
   {
    "duration": 22,
    "start_time": "2023-05-21T11:13:50.786Z"
   },
   {
    "duration": 9950,
    "start_time": "2023-05-21T11:13:50.810Z"
   },
   {
    "duration": 13,
    "start_time": "2023-05-21T11:23:24.749Z"
   },
   {
    "duration": 9551,
    "start_time": "2023-05-21T11:23:34.148Z"
   },
   {
    "duration": 111,
    "start_time": "2023-05-21T11:25:51.830Z"
   },
   {
    "duration": 118,
    "start_time": "2023-05-21T11:29:55.065Z"
   },
   {
    "duration": 120,
    "start_time": "2023-05-21T11:30:15.781Z"
   },
   {
    "duration": 112,
    "start_time": "2023-05-21T11:30:49.646Z"
   },
   {
    "duration": 9485,
    "start_time": "2023-05-21T11:38:35.896Z"
   },
   {
    "duration": 13,
    "start_time": "2023-05-21T11:44:18.983Z"
   },
   {
    "duration": 71,
    "start_time": "2023-05-21T11:49:59.539Z"
   },
   {
    "duration": 17,
    "start_time": "2023-05-21T11:50:17.178Z"
   },
   {
    "duration": 564,
    "start_time": "2023-05-21T11:55:25.203Z"
   },
   {
    "duration": 4,
    "start_time": "2023-05-21T11:56:36.742Z"
   },
   {
    "duration": 78,
    "start_time": "2023-05-21T11:56:36.748Z"
   },
   {
    "duration": 15,
    "start_time": "2023-05-21T11:56:37.396Z"
   },
   {
    "duration": 16,
    "start_time": "2023-05-21T11:56:37.414Z"
   },
   {
    "duration": 14,
    "start_time": "2023-05-21T11:56:37.548Z"
   },
   {
    "duration": 616,
    "start_time": "2023-05-21T11:56:37.564Z"
   },
   {
    "duration": 24,
    "start_time": "2023-05-21T11:56:38.181Z"
   },
   {
    "duration": 17,
    "start_time": "2023-05-21T11:56:38.207Z"
   },
   {
    "duration": 27,
    "start_time": "2023-05-21T11:56:38.226Z"
   },
   {
    "duration": 22,
    "start_time": "2023-05-21T11:56:38.255Z"
   },
   {
    "duration": 31,
    "start_time": "2023-05-21T11:56:38.279Z"
   },
   {
    "duration": 482,
    "start_time": "2023-05-21T11:56:38.312Z"
   },
   {
    "duration": 17,
    "start_time": "2023-05-21T11:56:38.796Z"
   },
   {
    "duration": 14,
    "start_time": "2023-05-21T11:56:38.816Z"
   },
   {
    "duration": 53,
    "start_time": "2023-05-21T11:56:38.851Z"
   },
   {
    "duration": 15,
    "start_time": "2023-05-21T11:56:38.906Z"
   },
   {
    "duration": 57,
    "start_time": "2023-05-21T11:56:38.952Z"
   },
   {
    "duration": 156,
    "start_time": "2023-05-21T11:56:39.014Z"
   },
   {
    "duration": 48,
    "start_time": "2023-05-21T11:56:39.172Z"
   },
   {
    "duration": 115,
    "start_time": "2023-05-21T11:56:39.222Z"
   },
   {
    "duration": 52,
    "start_time": "2023-05-21T11:56:39.350Z"
   },
   {
    "duration": 76,
    "start_time": "2023-05-21T11:56:39.405Z"
   },
   {
    "duration": 21,
    "start_time": "2023-05-21T11:56:39.483Z"
   },
   {
    "duration": 345,
    "start_time": "2023-05-21T11:56:39.506Z"
   },
   {
    "duration": 15,
    "start_time": "2023-05-21T11:56:39.852Z"
   },
   {
    "duration": 141,
    "start_time": "2023-05-21T11:56:39.869Z"
   },
   {
    "duration": 9977,
    "start_time": "2023-05-21T11:56:40.012Z"
   },
   {
    "duration": 68,
    "start_time": "2023-05-21T11:56:49.992Z"
   },
   {
    "duration": 131,
    "start_time": "2023-05-21T11:56:50.062Z"
   },
   {
    "duration": 74,
    "start_time": "2023-05-21T11:56:50.194Z"
   },
   {
    "duration": 24,
    "start_time": "2023-05-21T11:56:50.270Z"
   },
   {
    "duration": 60,
    "start_time": "2023-05-21T11:56:50.296Z"
   },
   {
    "duration": 19,
    "start_time": "2023-05-21T11:56:50.358Z"
   },
   {
    "duration": 17,
    "start_time": "2023-05-21T11:56:50.381Z"
   },
   {
    "duration": 113,
    "start_time": "2023-05-21T11:56:50.400Z"
   },
   {
    "duration": 13,
    "start_time": "2023-05-21T12:07:44.012Z"
   },
   {
    "duration": 14,
    "start_time": "2023-05-21T12:07:51.755Z"
   },
   {
    "duration": 22,
    "start_time": "2023-05-21T12:09:18.076Z"
   },
   {
    "duration": 1185,
    "start_time": "2023-05-21T12:09:55.301Z"
   },
   {
    "duration": 4,
    "start_time": "2023-05-21T12:10:05.963Z"
   },
   {
    "duration": 77,
    "start_time": "2023-05-21T12:10:05.969Z"
   },
   {
    "duration": 16,
    "start_time": "2023-05-21T12:10:06.048Z"
   },
   {
    "duration": 1111,
    "start_time": "2023-05-21T12:10:06.065Z"
   },
   {
    "duration": 0,
    "start_time": "2023-05-21T12:10:07.179Z"
   },
   {
    "duration": 0,
    "start_time": "2023-05-21T12:10:07.180Z"
   },
   {
    "duration": 0,
    "start_time": "2023-05-21T12:10:07.182Z"
   },
   {
    "duration": 0,
    "start_time": "2023-05-21T12:10:07.183Z"
   },
   {
    "duration": 0,
    "start_time": "2023-05-21T12:10:07.184Z"
   },
   {
    "duration": 0,
    "start_time": "2023-05-21T12:10:07.185Z"
   },
   {
    "duration": 0,
    "start_time": "2023-05-21T12:10:07.186Z"
   },
   {
    "duration": 0,
    "start_time": "2023-05-21T12:10:07.187Z"
   },
   {
    "duration": 0,
    "start_time": "2023-05-21T12:10:07.188Z"
   },
   {
    "duration": 0,
    "start_time": "2023-05-21T12:10:07.189Z"
   },
   {
    "duration": 0,
    "start_time": "2023-05-21T12:10:07.191Z"
   },
   {
    "duration": 0,
    "start_time": "2023-05-21T12:10:07.191Z"
   },
   {
    "duration": 0,
    "start_time": "2023-05-21T12:10:07.193Z"
   },
   {
    "duration": 0,
    "start_time": "2023-05-21T12:10:07.194Z"
   },
   {
    "duration": 0,
    "start_time": "2023-05-21T12:10:07.195Z"
   },
   {
    "duration": 0,
    "start_time": "2023-05-21T12:10:07.196Z"
   },
   {
    "duration": 0,
    "start_time": "2023-05-21T12:10:07.197Z"
   },
   {
    "duration": 0,
    "start_time": "2023-05-21T12:10:07.198Z"
   },
   {
    "duration": 0,
    "start_time": "2023-05-21T12:10:07.199Z"
   },
   {
    "duration": 0,
    "start_time": "2023-05-21T12:10:07.200Z"
   },
   {
    "duration": 0,
    "start_time": "2023-05-21T12:10:07.201Z"
   },
   {
    "duration": 0,
    "start_time": "2023-05-21T12:10:07.203Z"
   },
   {
    "duration": 0,
    "start_time": "2023-05-21T12:10:07.203Z"
   },
   {
    "duration": 0,
    "start_time": "2023-05-21T12:10:07.204Z"
   },
   {
    "duration": 0,
    "start_time": "2023-05-21T12:10:07.206Z"
   },
   {
    "duration": 0,
    "start_time": "2023-05-21T12:10:07.207Z"
   },
   {
    "duration": 26,
    "start_time": "2023-05-21T12:10:07.262Z"
   },
   {
    "duration": 1242,
    "start_time": "2023-05-21T12:10:07.290Z"
   },
   {
    "duration": 0,
    "start_time": "2023-05-21T12:10:08.533Z"
   },
   {
    "duration": 0,
    "start_time": "2023-05-21T12:10:08.535Z"
   },
   {
    "duration": 0,
    "start_time": "2023-05-21T12:10:08.536Z"
   },
   {
    "duration": 3,
    "start_time": "2023-05-21T12:10:57.252Z"
   },
   {
    "duration": 77,
    "start_time": "2023-05-21T12:10:57.258Z"
   },
   {
    "duration": 18,
    "start_time": "2023-05-21T12:10:57.337Z"
   },
   {
    "duration": 1190,
    "start_time": "2023-05-21T12:10:57.357Z"
   },
   {
    "duration": 0,
    "start_time": "2023-05-21T12:10:58.550Z"
   },
   {
    "duration": 1,
    "start_time": "2023-05-21T12:10:58.551Z"
   },
   {
    "duration": 0,
    "start_time": "2023-05-21T12:10:58.554Z"
   },
   {
    "duration": 0,
    "start_time": "2023-05-21T12:10:58.555Z"
   },
   {
    "duration": 0,
    "start_time": "2023-05-21T12:10:58.557Z"
   },
   {
    "duration": 0,
    "start_time": "2023-05-21T12:10:58.558Z"
   },
   {
    "duration": 0,
    "start_time": "2023-05-21T12:10:58.560Z"
   },
   {
    "duration": 0,
    "start_time": "2023-05-21T12:10:58.562Z"
   },
   {
    "duration": 0,
    "start_time": "2023-05-21T12:10:58.563Z"
   },
   {
    "duration": 0,
    "start_time": "2023-05-21T12:10:58.565Z"
   },
   {
    "duration": 0,
    "start_time": "2023-05-21T12:10:58.567Z"
   },
   {
    "duration": 0,
    "start_time": "2023-05-21T12:10:58.568Z"
   },
   {
    "duration": 0,
    "start_time": "2023-05-21T12:10:58.570Z"
   },
   {
    "duration": 0,
    "start_time": "2023-05-21T12:10:58.571Z"
   },
   {
    "duration": 0,
    "start_time": "2023-05-21T12:10:58.573Z"
   },
   {
    "duration": 0,
    "start_time": "2023-05-21T12:10:58.575Z"
   },
   {
    "duration": 0,
    "start_time": "2023-05-21T12:10:58.576Z"
   },
   {
    "duration": 0,
    "start_time": "2023-05-21T12:10:58.578Z"
   },
   {
    "duration": 0,
    "start_time": "2023-05-21T12:10:58.580Z"
   },
   {
    "duration": 0,
    "start_time": "2023-05-21T12:10:58.581Z"
   },
   {
    "duration": 0,
    "start_time": "2023-05-21T12:10:58.583Z"
   },
   {
    "duration": 0,
    "start_time": "2023-05-21T12:10:58.584Z"
   },
   {
    "duration": 0,
    "start_time": "2023-05-21T12:10:58.585Z"
   },
   {
    "duration": 0,
    "start_time": "2023-05-21T12:10:58.587Z"
   },
   {
    "duration": 0,
    "start_time": "2023-05-21T12:10:58.589Z"
   },
   {
    "duration": 0,
    "start_time": "2023-05-21T12:10:58.590Z"
   },
   {
    "duration": 0,
    "start_time": "2023-05-21T12:10:58.591Z"
   },
   {
    "duration": 0,
    "start_time": "2023-05-21T12:10:58.652Z"
   },
   {
    "duration": 0,
    "start_time": "2023-05-21T12:10:58.654Z"
   },
   {
    "duration": 0,
    "start_time": "2023-05-21T12:10:58.655Z"
   },
   {
    "duration": 0,
    "start_time": "2023-05-21T12:10:58.657Z"
   },
   {
    "duration": 39,
    "start_time": "2023-05-21T12:12:08.367Z"
   },
   {
    "duration": 4,
    "start_time": "2023-05-21T12:12:26.542Z"
   },
   {
    "duration": 68,
    "start_time": "2023-05-21T12:12:26.549Z"
   },
   {
    "duration": 20,
    "start_time": "2023-05-21T12:12:26.620Z"
   },
   {
    "duration": 44,
    "start_time": "2023-05-21T12:12:26.656Z"
   },
   {
    "duration": 13,
    "start_time": "2023-05-21T12:12:26.702Z"
   },
   {
    "duration": 649,
    "start_time": "2023-05-21T12:12:26.717Z"
   },
   {
    "duration": 23,
    "start_time": "2023-05-21T12:12:27.369Z"
   },
   {
    "duration": 13,
    "start_time": "2023-05-21T12:12:27.395Z"
   },
   {
    "duration": 7,
    "start_time": "2023-05-21T12:12:27.409Z"
   },
   {
    "duration": 36,
    "start_time": "2023-05-21T12:12:27.417Z"
   },
   {
    "duration": 13,
    "start_time": "2023-05-21T12:12:27.455Z"
   },
   {
    "duration": 430,
    "start_time": "2023-05-21T12:12:27.469Z"
   },
   {
    "duration": 12,
    "start_time": "2023-05-21T12:12:27.900Z"
   },
   {
    "duration": 36,
    "start_time": "2023-05-21T12:12:27.914Z"
   },
   {
    "duration": 54,
    "start_time": "2023-05-21T12:12:27.953Z"
   },
   {
    "duration": 44,
    "start_time": "2023-05-21T12:12:28.009Z"
   },
   {
    "duration": 47,
    "start_time": "2023-05-21T12:12:28.056Z"
   },
   {
    "duration": 179,
    "start_time": "2023-05-21T12:12:28.105Z"
   },
   {
    "duration": 90,
    "start_time": "2023-05-21T12:12:28.287Z"
   },
   {
    "duration": 116,
    "start_time": "2023-05-21T12:12:28.380Z"
   },
   {
    "duration": 61,
    "start_time": "2023-05-21T12:12:28.498Z"
   },
   {
    "duration": 50,
    "start_time": "2023-05-21T12:12:28.561Z"
   },
   {
    "duration": 43,
    "start_time": "2023-05-21T12:12:28.613Z"
   },
   {
    "duration": 368,
    "start_time": "2023-05-21T12:12:28.657Z"
   },
   {
    "duration": 24,
    "start_time": "2023-05-21T12:12:29.028Z"
   },
   {
    "duration": 121,
    "start_time": "2023-05-21T12:12:29.054Z"
   },
   {
    "duration": 10332,
    "start_time": "2023-05-21T12:12:29.179Z"
   },
   {
    "duration": 66,
    "start_time": "2023-05-21T12:12:39.514Z"
   },
   {
    "duration": 188,
    "start_time": "2023-05-21T12:12:39.582Z"
   },
   {
    "duration": 22,
    "start_time": "2023-05-21T12:12:39.772Z"
   },
   {
    "duration": 76,
    "start_time": "2023-05-21T12:12:39.796Z"
   },
   {
    "duration": 18,
    "start_time": "2023-05-21T12:12:39.874Z"
   },
   {
    "duration": 73,
    "start_time": "2023-05-21T12:12:39.893Z"
   },
   {
    "duration": 14,
    "start_time": "2023-05-21T12:12:39.968Z"
   },
   {
    "duration": 140,
    "start_time": "2023-05-21T12:12:39.984Z"
   },
   {
    "duration": 41,
    "start_time": "2023-05-21T12:21:38.627Z"
   },
   {
    "duration": 34,
    "start_time": "2023-05-21T12:22:23.220Z"
   },
   {
    "duration": 41,
    "start_time": "2023-05-21T12:25:39.051Z"
   },
   {
    "duration": 1288,
    "start_time": "2023-05-21T12:26:45.848Z"
   },
   {
    "duration": 44,
    "start_time": "2023-05-21T12:27:29.986Z"
   },
   {
    "duration": 3,
    "start_time": "2023-05-21T12:27:42.750Z"
   },
   {
    "duration": 76,
    "start_time": "2023-05-21T12:27:42.755Z"
   },
   {
    "duration": 13,
    "start_time": "2023-05-21T12:27:42.832Z"
   },
   {
    "duration": 48,
    "start_time": "2023-05-21T12:27:42.983Z"
   },
   {
    "duration": 14,
    "start_time": "2023-05-21T12:27:43.033Z"
   },
   {
    "duration": 585,
    "start_time": "2023-05-21T12:27:43.049Z"
   },
   {
    "duration": 34,
    "start_time": "2023-05-21T12:27:43.636Z"
   },
   {
    "duration": 12,
    "start_time": "2023-05-21T12:27:43.672Z"
   },
   {
    "duration": 11,
    "start_time": "2023-05-21T12:27:43.686Z"
   },
   {
    "duration": 8,
    "start_time": "2023-05-21T12:27:43.699Z"
   },
   {
    "duration": 13,
    "start_time": "2023-05-21T12:27:43.708Z"
   },
   {
    "duration": 467,
    "start_time": "2023-05-21T12:27:43.749Z"
   },
   {
    "duration": 14,
    "start_time": "2023-05-21T12:27:44.219Z"
   },
   {
    "duration": 28,
    "start_time": "2023-05-21T12:27:44.235Z"
   },
   {
    "duration": 52,
    "start_time": "2023-05-21T12:27:44.265Z"
   },
   {
    "duration": 34,
    "start_time": "2023-05-21T12:27:44.318Z"
   },
   {
    "duration": 42,
    "start_time": "2023-05-21T12:27:44.354Z"
   },
   {
    "duration": 137,
    "start_time": "2023-05-21T12:27:44.397Z"
   },
   {
    "duration": 46,
    "start_time": "2023-05-21T12:27:44.535Z"
   },
   {
    "duration": 97,
    "start_time": "2023-05-21T12:27:44.583Z"
   },
   {
    "duration": 47,
    "start_time": "2023-05-21T12:27:44.681Z"
   },
   {
    "duration": 64,
    "start_time": "2023-05-21T12:27:44.730Z"
   },
   {
    "duration": 19,
    "start_time": "2023-05-21T12:27:44.795Z"
   },
   {
    "duration": 330,
    "start_time": "2023-05-21T12:27:44.815Z"
   },
   {
    "duration": 12,
    "start_time": "2023-05-21T12:27:45.150Z"
   },
   {
    "duration": 134,
    "start_time": "2023-05-21T12:27:45.164Z"
   },
   {
    "duration": 9671,
    "start_time": "2023-05-21T12:27:45.299Z"
   },
   {
    "duration": 30,
    "start_time": "2023-05-21T12:27:54.973Z"
   },
   {
    "duration": 169,
    "start_time": "2023-05-21T12:27:55.004Z"
   },
   {
    "duration": 21,
    "start_time": "2023-05-21T12:27:55.174Z"
   },
   {
    "duration": 74,
    "start_time": "2023-05-21T12:27:55.198Z"
   },
   {
    "duration": 18,
    "start_time": "2023-05-21T12:27:55.274Z"
   },
   {
    "duration": 14,
    "start_time": "2023-05-21T12:27:55.294Z"
   },
   {
    "duration": 46,
    "start_time": "2023-05-21T12:27:55.310Z"
   },
   {
    "duration": 110,
    "start_time": "2023-05-21T12:27:55.358Z"
   },
   {
    "duration": 437,
    "start_time": "2023-05-21T12:58:57.495Z"
   },
   {
    "duration": 418,
    "start_time": "2023-05-21T12:59:19.992Z"
   },
   {
    "duration": 56,
    "start_time": "2023-05-21T13:00:41.152Z"
   },
   {
    "duration": 48,
    "start_time": "2023-05-21T13:02:29.968Z"
   },
   {
    "duration": 31,
    "start_time": "2023-05-21T13:04:41.288Z"
   },
   {
    "duration": 0,
    "start_time": "2023-05-21T13:04:41.320Z"
   },
   {
    "duration": 0,
    "start_time": "2023-05-21T13:04:41.321Z"
   },
   {
    "duration": 0,
    "start_time": "2023-05-21T13:04:41.323Z"
   },
   {
    "duration": 0,
    "start_time": "2023-05-21T13:04:41.324Z"
   },
   {
    "duration": 0,
    "start_time": "2023-05-21T13:04:41.325Z"
   },
   {
    "duration": 0,
    "start_time": "2023-05-21T13:04:41.326Z"
   },
   {
    "duration": 14,
    "start_time": "2023-05-21T13:04:41.328Z"
   },
   {
    "duration": 7,
    "start_time": "2023-05-21T13:04:41.344Z"
   },
   {
    "duration": 9,
    "start_time": "2023-05-21T13:04:41.353Z"
   },
   {
    "duration": 23,
    "start_time": "2023-05-21T13:04:41.539Z"
   },
   {
    "duration": 542,
    "start_time": "2023-05-21T13:04:41.565Z"
   },
   {
    "duration": 14,
    "start_time": "2023-05-21T13:04:42.109Z"
   },
   {
    "duration": 901,
    "start_time": "2023-05-21T13:04:42.126Z"
   },
   {
    "duration": 66,
    "start_time": "2023-05-21T13:04:43.029Z"
   },
   {
    "duration": 15,
    "start_time": "2023-05-21T13:04:43.097Z"
   },
   {
    "duration": 58,
    "start_time": "2023-05-21T13:04:43.114Z"
   },
   {
    "duration": 128,
    "start_time": "2023-05-21T13:04:43.174Z"
   },
   {
    "duration": 56,
    "start_time": "2023-05-21T13:04:43.303Z"
   },
   {
    "duration": 108,
    "start_time": "2023-05-21T13:04:43.373Z"
   },
   {
    "duration": 51,
    "start_time": "2023-05-21T13:04:43.483Z"
   },
   {
    "duration": 53,
    "start_time": "2023-05-21T13:04:43.551Z"
   },
   {
    "duration": 20,
    "start_time": "2023-05-21T13:04:43.605Z"
   },
   {
    "duration": 359,
    "start_time": "2023-05-21T13:04:43.627Z"
   },
   {
    "duration": 13,
    "start_time": "2023-05-21T13:04:43.988Z"
   },
   {
    "duration": 149,
    "start_time": "2023-05-21T13:04:44.003Z"
   },
   {
    "duration": 9451,
    "start_time": "2023-05-21T13:04:44.155Z"
   },
   {
    "duration": 55,
    "start_time": "2023-05-21T13:04:53.608Z"
   },
   {
    "duration": 218,
    "start_time": "2023-05-21T13:04:53.665Z"
   },
   {
    "duration": 83,
    "start_time": "2023-05-21T13:04:53.885Z"
   },
   {
    "duration": 28,
    "start_time": "2023-05-21T13:04:53.970Z"
   },
   {
    "duration": 70,
    "start_time": "2023-05-21T13:04:54.000Z"
   },
   {
    "duration": 21,
    "start_time": "2023-05-21T13:04:54.086Z"
   },
   {
    "duration": 21,
    "start_time": "2023-05-21T13:04:54.109Z"
   },
   {
    "duration": 55,
    "start_time": "2023-05-21T13:04:54.132Z"
   },
   {
    "duration": 60,
    "start_time": "2023-05-21T13:10:14.386Z"
   },
   {
    "duration": 6,
    "start_time": "2023-05-21T13:11:29.847Z"
   },
   {
    "duration": 83,
    "start_time": "2023-05-21T13:11:29.856Z"
   },
   {
    "duration": 21,
    "start_time": "2023-05-21T13:11:29.942Z"
   },
   {
    "duration": 102,
    "start_time": "2023-05-21T13:11:29.966Z"
   },
   {
    "duration": 28,
    "start_time": "2023-05-21T13:11:30.073Z"
   },
   {
    "duration": 767,
    "start_time": "2023-05-21T13:11:30.103Z"
   },
   {
    "duration": 33,
    "start_time": "2023-05-21T13:11:30.872Z"
   },
   {
    "duration": 49,
    "start_time": "2023-05-21T13:11:30.907Z"
   },
   {
    "duration": 32,
    "start_time": "2023-05-21T13:11:30.959Z"
   },
   {
    "duration": 40,
    "start_time": "2023-05-21T13:11:30.993Z"
   },
   {
    "duration": 50,
    "start_time": "2023-05-21T13:11:31.035Z"
   },
   {
    "duration": 556,
    "start_time": "2023-05-21T13:11:31.088Z"
   },
   {
    "duration": 16,
    "start_time": "2023-05-21T13:11:31.646Z"
   },
   {
    "duration": 51,
    "start_time": "2023-05-21T13:11:31.665Z"
   },
   {
    "duration": 89,
    "start_time": "2023-05-21T13:11:31.718Z"
   },
   {
    "duration": 19,
    "start_time": "2023-05-21T13:11:31.809Z"
   },
   {
    "duration": 90,
    "start_time": "2023-05-21T13:11:31.830Z"
   },
   {
    "duration": 228,
    "start_time": "2023-05-21T13:11:31.923Z"
   },
   {
    "duration": 50,
    "start_time": "2023-05-21T13:11:32.153Z"
   },
   {
    "duration": 148,
    "start_time": "2023-05-21T13:11:32.204Z"
   },
   {
    "duration": 68,
    "start_time": "2023-05-21T13:11:32.354Z"
   },
   {
    "duration": 92,
    "start_time": "2023-05-21T13:11:32.424Z"
   },
   {
    "duration": 45,
    "start_time": "2023-05-21T13:11:32.519Z"
   },
   {
    "duration": 377,
    "start_time": "2023-05-21T13:11:32.569Z"
   },
   {
    "duration": 20,
    "start_time": "2023-05-21T13:11:32.950Z"
   },
   {
    "duration": 161,
    "start_time": "2023-05-21T13:11:32.973Z"
   },
   {
    "duration": 12076,
    "start_time": "2023-05-21T13:11:33.136Z"
   },
   {
    "duration": 68,
    "start_time": "2023-05-21T13:11:45.214Z"
   },
   {
    "duration": 277,
    "start_time": "2023-05-21T13:11:45.284Z"
   },
   {
    "duration": 35,
    "start_time": "2023-05-21T13:11:45.564Z"
   },
   {
    "duration": 85,
    "start_time": "2023-05-21T13:11:45.601Z"
   },
   {
    "duration": 27,
    "start_time": "2023-05-21T13:11:45.688Z"
   },
   {
    "duration": 47,
    "start_time": "2023-05-21T13:11:45.718Z"
   },
   {
    "duration": 22,
    "start_time": "2023-05-21T13:11:45.768Z"
   },
   {
    "duration": 63,
    "start_time": "2023-05-21T13:11:45.792Z"
   },
   {
    "duration": 63,
    "start_time": "2023-05-21T13:12:07.452Z"
   },
   {
    "duration": 47,
    "start_time": "2023-05-21T13:13:12.759Z"
   },
   {
    "duration": 64,
    "start_time": "2023-05-21T13:13:37.709Z"
   },
   {
    "duration": 119,
    "start_time": "2023-05-21T13:14:26.625Z"
   },
   {
    "duration": 52,
    "start_time": "2023-05-21T13:15:11.901Z"
   },
   {
    "duration": 4,
    "start_time": "2023-05-21T13:15:57.850Z"
   },
   {
    "duration": 75,
    "start_time": "2023-05-21T13:15:57.856Z"
   },
   {
    "duration": 14,
    "start_time": "2023-05-21T13:15:57.932Z"
   },
   {
    "duration": 55,
    "start_time": "2023-05-21T13:15:57.950Z"
   },
   {
    "duration": 13,
    "start_time": "2023-05-21T13:15:58.007Z"
   },
   {
    "duration": 645,
    "start_time": "2023-05-21T13:15:58.022Z"
   },
   {
    "duration": 32,
    "start_time": "2023-05-21T13:15:58.669Z"
   },
   {
    "duration": 13,
    "start_time": "2023-05-21T13:15:58.703Z"
   },
   {
    "duration": 9,
    "start_time": "2023-05-21T13:15:58.718Z"
   },
   {
    "duration": 10,
    "start_time": "2023-05-21T13:15:58.751Z"
   },
   {
    "duration": 22,
    "start_time": "2023-05-21T13:15:58.762Z"
   },
   {
    "duration": 515,
    "start_time": "2023-05-21T13:15:58.787Z"
   },
   {
    "duration": 11,
    "start_time": "2023-05-21T13:15:59.305Z"
   },
   {
    "duration": 55,
    "start_time": "2023-05-21T13:15:59.317Z"
   },
   {
    "duration": 55,
    "start_time": "2023-05-21T13:15:59.374Z"
   },
   {
    "duration": 20,
    "start_time": "2023-05-21T13:15:59.431Z"
   },
   {
    "duration": 60,
    "start_time": "2023-05-21T13:15:59.453Z"
   },
   {
    "duration": 142,
    "start_time": "2023-05-21T13:15:59.515Z"
   },
   {
    "duration": 49,
    "start_time": "2023-05-21T13:15:59.659Z"
   },
   {
    "duration": 110,
    "start_time": "2023-05-21T13:15:59.710Z"
   },
   {
    "duration": 65,
    "start_time": "2023-05-21T13:15:59.822Z"
   },
   {
    "duration": 66,
    "start_time": "2023-05-21T13:15:59.889Z"
   },
   {
    "duration": 26,
    "start_time": "2023-05-21T13:15:59.957Z"
   },
   {
    "duration": 340,
    "start_time": "2023-05-21T13:15:59.984Z"
   },
   {
    "duration": 25,
    "start_time": "2023-05-21T13:16:00.326Z"
   },
   {
    "duration": 133,
    "start_time": "2023-05-21T13:16:00.353Z"
   },
   {
    "duration": 9474,
    "start_time": "2023-05-21T13:16:00.488Z"
   },
   {
    "duration": 29,
    "start_time": "2023-05-21T13:16:09.963Z"
   },
   {
    "duration": 172,
    "start_time": "2023-05-21T13:16:09.994Z"
   },
   {
    "duration": 23,
    "start_time": "2023-05-21T13:16:10.168Z"
   },
   {
    "duration": 78,
    "start_time": "2023-05-21T13:16:10.194Z"
   },
   {
    "duration": 24,
    "start_time": "2023-05-21T13:16:10.274Z"
   },
   {
    "duration": 23,
    "start_time": "2023-05-21T13:16:10.299Z"
   },
   {
    "duration": 28,
    "start_time": "2023-05-21T13:16:10.323Z"
   },
   {
    "duration": 111,
    "start_time": "2023-05-21T13:16:10.353Z"
   },
   {
    "duration": 31,
    "start_time": "2023-05-21T13:16:10.467Z"
   },
   {
    "duration": 13,
    "start_time": "2023-05-21T13:17:36.197Z"
   },
   {
    "duration": 18,
    "start_time": "2023-05-21T13:18:21.457Z"
   },
   {
    "duration": 7464,
    "start_time": "2023-05-21T13:19:25.468Z"
   },
   {
    "duration": 124,
    "start_time": "2023-05-21T13:19:35.271Z"
   },
   {
    "duration": 24,
    "start_time": "2023-05-21T13:23:36.422Z"
   },
   {
    "duration": 25,
    "start_time": "2023-05-21T13:26:06.388Z"
   },
   {
    "duration": 9,
    "start_time": "2023-05-21T13:26:17.604Z"
   },
   {
    "duration": 6,
    "start_time": "2023-05-21T13:31:15.937Z"
   },
   {
    "duration": 9,
    "start_time": "2023-05-21T14:43:27.524Z"
   },
   {
    "duration": 10,
    "start_time": "2023-05-21T17:08:49.066Z"
   },
   {
    "duration": 8,
    "start_time": "2023-05-21T17:09:38.893Z"
   },
   {
    "duration": 20,
    "start_time": "2023-05-21T17:10:08.266Z"
   },
   {
    "duration": 8,
    "start_time": "2023-05-21T17:10:15.320Z"
   },
   {
    "duration": 8,
    "start_time": "2023-05-21T17:14:10.662Z"
   },
   {
    "duration": 8,
    "start_time": "2023-05-21T17:14:46.858Z"
   },
   {
    "duration": 7,
    "start_time": "2023-05-21T17:15:04.559Z"
   },
   {
    "duration": 9,
    "start_time": "2023-05-21T17:16:20.715Z"
   },
   {
    "duration": 11,
    "start_time": "2023-05-21T17:16:26.060Z"
   },
   {
    "duration": 11,
    "start_time": "2023-05-21T17:16:32.476Z"
   },
   {
    "duration": 7,
    "start_time": "2023-05-21T17:19:52.312Z"
   },
   {
    "duration": 8,
    "start_time": "2023-05-21T17:21:05.106Z"
   },
   {
    "duration": 70,
    "start_time": "2023-05-21T17:21:52.374Z"
   },
   {
    "duration": 8,
    "start_time": "2023-05-21T17:22:09.565Z"
   },
   {
    "duration": 13,
    "start_time": "2023-05-21T17:23:10.472Z"
   },
   {
    "duration": 10,
    "start_time": "2023-05-21T17:23:42.473Z"
   },
   {
    "duration": 12,
    "start_time": "2023-05-21T17:23:48.978Z"
   },
   {
    "duration": 6,
    "start_time": "2023-05-21T17:30:09.225Z"
   },
   {
    "duration": 12,
    "start_time": "2023-05-21T17:30:09.674Z"
   },
   {
    "duration": 15,
    "start_time": "2023-05-21T17:43:19.467Z"
   },
   {
    "duration": 6,
    "start_time": "2023-05-21T17:43:29.691Z"
   },
   {
    "duration": 11,
    "start_time": "2023-05-21T17:43:30.194Z"
   },
   {
    "duration": 12,
    "start_time": "2023-05-21T17:43:30.723Z"
   },
   {
    "duration": 142,
    "start_time": "2023-05-21T17:44:29.376Z"
   },
   {
    "duration": 140,
    "start_time": "2023-05-21T17:44:49.302Z"
   },
   {
    "duration": 3,
    "start_time": "2023-05-21T17:59:54.167Z"
   },
   {
    "duration": 18,
    "start_time": "2023-05-21T18:01:27.056Z"
   },
   {
    "duration": 14,
    "start_time": "2023-05-21T18:02:10.681Z"
   },
   {
    "duration": 17,
    "start_time": "2023-05-21T18:04:52.573Z"
   },
   {
    "duration": 14,
    "start_time": "2023-05-21T18:04:56.049Z"
   },
   {
    "duration": 8,
    "start_time": "2023-05-21T18:06:22.082Z"
   },
   {
    "duration": 13,
    "start_time": "2023-05-21T18:06:45.371Z"
   },
   {
    "duration": 12,
    "start_time": "2023-05-21T18:07:04.870Z"
   },
   {
    "duration": 14,
    "start_time": "2023-05-21T18:19:21.104Z"
   },
   {
    "duration": 14,
    "start_time": "2023-05-21T18:19:47.416Z"
   },
   {
    "duration": 14,
    "start_time": "2023-05-21T18:19:58.784Z"
   },
   {
    "duration": 1292,
    "start_time": "2023-05-21T18:26:55.375Z"
   },
   {
    "duration": 7,
    "start_time": "2023-05-21T18:31:12.526Z"
   },
   {
    "duration": 6,
    "start_time": "2023-05-21T18:31:38.959Z"
   },
   {
    "duration": 47,
    "start_time": "2023-05-21T18:34:12.163Z"
   },
   {
    "duration": 46,
    "start_time": "2023-05-21T18:34:58.799Z"
   },
   {
    "duration": 11,
    "start_time": "2023-05-21T18:37:44.475Z"
   },
   {
    "duration": 14,
    "start_time": "2023-05-21T18:37:45.918Z"
   },
   {
    "duration": 13,
    "start_time": "2023-05-21T18:40:14.489Z"
   },
   {
    "duration": 9,
    "start_time": "2023-05-21T18:41:51.563Z"
   },
   {
    "duration": 14,
    "start_time": "2023-05-21T18:41:55.162Z"
   },
   {
    "duration": 8,
    "start_time": "2023-05-21T18:42:17.531Z"
   },
   {
    "duration": 14,
    "start_time": "2023-05-21T18:42:18.442Z"
   },
   {
    "duration": 4,
    "start_time": "2023-05-21T18:42:22.170Z"
   },
   {
    "duration": 78,
    "start_time": "2023-05-21T18:42:22.176Z"
   },
   {
    "duration": 13,
    "start_time": "2023-05-21T18:42:22.256Z"
   },
   {
    "duration": 51,
    "start_time": "2023-05-21T18:42:22.272Z"
   },
   {
    "duration": 27,
    "start_time": "2023-05-21T18:42:22.325Z"
   },
   {
    "duration": 638,
    "start_time": "2023-05-21T18:42:22.354Z"
   },
   {
    "duration": 23,
    "start_time": "2023-05-21T18:42:22.994Z"
   },
   {
    "duration": 13,
    "start_time": "2023-05-21T18:42:23.019Z"
   },
   {
    "duration": 6,
    "start_time": "2023-05-21T18:42:23.050Z"
   },
   {
    "duration": 16,
    "start_time": "2023-05-21T18:42:23.058Z"
   },
   {
    "duration": 31,
    "start_time": "2023-05-21T18:42:23.075Z"
   },
   {
    "duration": 461,
    "start_time": "2023-05-21T18:42:23.108Z"
   },
   {
    "duration": 10,
    "start_time": "2023-05-21T18:42:23.571Z"
   },
   {
    "duration": 11,
    "start_time": "2023-05-21T18:42:23.583Z"
   },
   {
    "duration": 68,
    "start_time": "2023-05-21T18:42:23.596Z"
   },
   {
    "duration": 15,
    "start_time": "2023-05-21T18:42:23.665Z"
   },
   {
    "duration": 43,
    "start_time": "2023-05-21T18:42:23.681Z"
   },
   {
    "duration": 135,
    "start_time": "2023-05-21T18:42:23.725Z"
   },
   {
    "duration": 43,
    "start_time": "2023-05-21T18:42:23.863Z"
   },
   {
    "duration": 110,
    "start_time": "2023-05-21T18:42:23.907Z"
   },
   {
    "duration": 81,
    "start_time": "2023-05-21T18:42:24.019Z"
   },
   {
    "duration": 76,
    "start_time": "2023-05-21T18:42:24.102Z"
   },
   {
    "duration": 24,
    "start_time": "2023-05-21T18:42:24.179Z"
   },
   {
    "duration": 338,
    "start_time": "2023-05-21T18:42:24.205Z"
   },
   {
    "duration": 15,
    "start_time": "2023-05-21T18:42:24.545Z"
   },
   {
    "duration": 1276,
    "start_time": "2023-05-21T18:42:24.561Z"
   },
   {
    "duration": 8650,
    "start_time": "2023-05-21T18:42:25.839Z"
   },
   {
    "duration": 64,
    "start_time": "2023-05-21T18:42:34.491Z"
   },
   {
    "duration": 196,
    "start_time": "2023-05-21T18:42:34.558Z"
   },
   {
    "duration": 23,
    "start_time": "2023-05-21T18:42:34.756Z"
   },
   {
    "duration": 27,
    "start_time": "2023-05-21T18:42:34.781Z"
   },
   {
    "duration": 54,
    "start_time": "2023-05-21T18:42:34.810Z"
   },
   {
    "duration": 15,
    "start_time": "2023-05-21T18:42:34.866Z"
   },
   {
    "duration": 15,
    "start_time": "2023-05-21T18:42:34.883Z"
   },
   {
    "duration": 109,
    "start_time": "2023-05-21T18:42:34.900Z"
   },
   {
    "duration": 14,
    "start_time": "2023-05-21T18:42:35.011Z"
   },
   {
    "duration": 24,
    "start_time": "2023-05-21T18:42:35.027Z"
   },
   {
    "duration": 3,
    "start_time": "2023-05-21T18:42:35.052Z"
   },
   {
    "duration": 16,
    "start_time": "2023-05-21T18:42:35.057Z"
   },
   {
    "duration": 15,
    "start_time": "2023-05-21T18:42:35.074Z"
   },
   {
    "duration": 62,
    "start_time": "2023-05-21T18:42:35.091Z"
   },
   {
    "duration": 1290,
    "start_time": "2023-05-21T18:42:35.155Z"
   },
   {
    "duration": 8,
    "start_time": "2023-05-21T18:58:05.971Z"
   },
   {
    "duration": 13,
    "start_time": "2023-05-21T18:58:10.940Z"
   },
   {
    "duration": 48,
    "start_time": "2023-05-21T18:58:22.291Z"
   },
   {
    "duration": 16,
    "start_time": "2023-05-21T19:08:09.766Z"
   },
   {
    "duration": 4,
    "start_time": "2023-05-21T19:10:27.506Z"
   },
   {
    "duration": 72,
    "start_time": "2023-05-21T19:10:27.512Z"
   },
   {
    "duration": 14,
    "start_time": "2023-05-21T19:10:27.587Z"
   },
   {
    "duration": 67,
    "start_time": "2023-05-21T19:10:27.602Z"
   },
   {
    "duration": 12,
    "start_time": "2023-05-21T19:10:27.671Z"
   },
   {
    "duration": 687,
    "start_time": "2023-05-21T19:10:27.685Z"
   },
   {
    "duration": 22,
    "start_time": "2023-05-21T19:10:28.374Z"
   },
   {
    "duration": 14,
    "start_time": "2023-05-21T19:10:28.398Z"
   },
   {
    "duration": 7,
    "start_time": "2023-05-21T19:10:28.413Z"
   },
   {
    "duration": 8,
    "start_time": "2023-05-21T19:10:28.421Z"
   },
   {
    "duration": 15,
    "start_time": "2023-05-21T19:10:28.452Z"
   },
   {
    "duration": 470,
    "start_time": "2023-05-21T19:10:28.470Z"
   },
   {
    "duration": 16,
    "start_time": "2023-05-21T19:10:28.942Z"
   },
   {
    "duration": 17,
    "start_time": "2023-05-21T19:10:28.960Z"
   },
   {
    "duration": 75,
    "start_time": "2023-05-21T19:10:28.979Z"
   },
   {
    "duration": 18,
    "start_time": "2023-05-21T19:10:29.056Z"
   },
   {
    "duration": 42,
    "start_time": "2023-05-21T19:10:29.075Z"
   },
   {
    "duration": 135,
    "start_time": "2023-05-21T19:10:29.119Z"
   },
   {
    "duration": 48,
    "start_time": "2023-05-21T19:10:29.255Z"
   },
   {
    "duration": 125,
    "start_time": "2023-05-21T19:10:29.305Z"
   },
   {
    "duration": 59,
    "start_time": "2023-05-21T19:10:29.432Z"
   },
   {
    "duration": 67,
    "start_time": "2023-05-21T19:10:29.493Z"
   },
   {
    "duration": 19,
    "start_time": "2023-05-21T19:10:29.561Z"
   },
   {
    "duration": 347,
    "start_time": "2023-05-21T19:10:29.582Z"
   },
   {
    "duration": 11,
    "start_time": "2023-05-21T19:10:29.931Z"
   },
   {
    "duration": 123,
    "start_time": "2023-05-21T19:10:29.951Z"
   },
   {
    "duration": 9108,
    "start_time": "2023-05-21T19:10:30.076Z"
   },
   {
    "duration": 66,
    "start_time": "2023-05-21T19:10:39.186Z"
   },
   {
    "duration": 137,
    "start_time": "2023-05-21T19:10:39.255Z"
   },
   {
    "duration": 74,
    "start_time": "2023-05-21T19:10:39.394Z"
   },
   {
    "duration": 23,
    "start_time": "2023-05-21T19:10:39.470Z"
   },
   {
    "duration": 24,
    "start_time": "2023-05-21T19:10:39.494Z"
   },
   {
    "duration": 45,
    "start_time": "2023-05-21T19:10:39.519Z"
   },
   {
    "duration": 19,
    "start_time": "2023-05-21T19:10:39.566Z"
   },
   {
    "duration": 111,
    "start_time": "2023-05-21T19:10:39.586Z"
   },
   {
    "duration": 15,
    "start_time": "2023-05-21T19:10:39.699Z"
   },
   {
    "duration": 68,
    "start_time": "2023-05-21T19:10:39.715Z"
   },
   {
    "duration": 22,
    "start_time": "2023-05-21T19:10:39.785Z"
   },
   {
    "duration": 9,
    "start_time": "2023-05-21T19:10:39.809Z"
   },
   {
    "duration": 13,
    "start_time": "2023-05-21T19:10:39.819Z"
   },
   {
    "duration": 45,
    "start_time": "2023-05-21T19:10:39.834Z"
   },
   {
    "duration": 13,
    "start_time": "2023-05-21T19:10:39.881Z"
   },
   {
    "duration": 0,
    "start_time": "2023-05-21T19:10:39.896Z"
   },
   {
    "duration": 28,
    "start_time": "2023-05-21T19:13:42.843Z"
   },
   {
    "duration": 56,
    "start_time": "2023-05-21T19:39:28.724Z"
   },
   {
    "duration": 4,
    "start_time": "2023-05-21T20:28:40.958Z"
   },
   {
    "duration": 75,
    "start_time": "2023-05-21T20:28:40.964Z"
   },
   {
    "duration": 14,
    "start_time": "2023-05-21T20:28:41.041Z"
   },
   {
    "duration": 52,
    "start_time": "2023-05-21T20:28:41.058Z"
   },
   {
    "duration": 43,
    "start_time": "2023-05-21T20:28:41.112Z"
   },
   {
    "duration": 577,
    "start_time": "2023-05-21T20:28:41.157Z"
   },
   {
    "duration": 35,
    "start_time": "2023-05-21T20:28:41.736Z"
   },
   {
    "duration": 20,
    "start_time": "2023-05-21T20:28:41.774Z"
   },
   {
    "duration": 28,
    "start_time": "2023-05-21T20:28:41.796Z"
   },
   {
    "duration": 16,
    "start_time": "2023-05-21T20:28:41.826Z"
   },
   {
    "duration": 24,
    "start_time": "2023-05-21T20:28:41.844Z"
   },
   {
    "duration": 437,
    "start_time": "2023-05-21T20:28:41.869Z"
   },
   {
    "duration": 11,
    "start_time": "2023-05-21T20:28:42.308Z"
   },
   {
    "duration": 12,
    "start_time": "2023-05-21T20:28:42.321Z"
   },
   {
    "duration": 50,
    "start_time": "2023-05-21T20:28:42.349Z"
   },
   {
    "duration": 15,
    "start_time": "2023-05-21T20:28:42.401Z"
   },
   {
    "duration": 84,
    "start_time": "2023-05-21T20:28:42.417Z"
   },
   {
    "duration": 146,
    "start_time": "2023-05-21T20:28:42.505Z"
   },
   {
    "duration": 53,
    "start_time": "2023-05-21T20:28:42.653Z"
   },
   {
    "duration": 126,
    "start_time": "2023-05-21T20:28:42.707Z"
   },
   {
    "duration": 61,
    "start_time": "2023-05-21T20:28:42.835Z"
   },
   {
    "duration": 69,
    "start_time": "2023-05-21T20:28:42.897Z"
   },
   {
    "duration": 19,
    "start_time": "2023-05-21T20:28:42.967Z"
   },
   {
    "duration": 315,
    "start_time": "2023-05-21T20:28:42.988Z"
   },
   {
    "duration": 13,
    "start_time": "2023-05-21T20:28:43.304Z"
   },
   {
    "duration": 114,
    "start_time": "2023-05-21T20:28:43.318Z"
   },
   {
    "duration": 10329,
    "start_time": "2023-05-21T20:28:43.434Z"
   },
   {
    "duration": 29,
    "start_time": "2023-05-21T20:28:53.766Z"
   },
   {
    "duration": 175,
    "start_time": "2023-05-21T20:28:53.797Z"
   },
   {
    "duration": 86,
    "start_time": "2023-05-21T20:28:53.974Z"
   },
   {
    "duration": 34,
    "start_time": "2023-05-21T20:28:54.062Z"
   },
   {
    "duration": 31,
    "start_time": "2023-05-21T20:28:54.098Z"
   },
   {
    "duration": 20,
    "start_time": "2023-05-21T20:28:54.152Z"
   },
   {
    "duration": 21,
    "start_time": "2023-05-21T20:28:54.174Z"
   },
   {
    "duration": 143,
    "start_time": "2023-05-21T20:28:54.197Z"
   },
   {
    "duration": 19,
    "start_time": "2023-05-21T20:28:54.343Z"
   },
   {
    "duration": 35,
    "start_time": "2023-05-21T20:28:54.364Z"
   },
   {
    "duration": 24,
    "start_time": "2023-05-21T20:28:54.401Z"
   },
   {
    "duration": 26,
    "start_time": "2023-05-21T20:28:54.427Z"
   },
   {
    "duration": 47,
    "start_time": "2023-05-21T20:28:54.455Z"
   },
   {
    "duration": 79,
    "start_time": "2023-05-21T20:28:54.504Z"
   },
   {
    "duration": 30,
    "start_time": "2023-05-21T20:28:54.584Z"
   },
   {
    "duration": 1159,
    "start_time": "2023-05-21T20:28:54.616Z"
   },
   {
    "duration": 5,
    "start_time": "2023-05-21T20:30:08.787Z"
   },
   {
    "duration": 87,
    "start_time": "2023-05-21T20:30:08.795Z"
   },
   {
    "duration": 15,
    "start_time": "2023-05-21T20:30:08.884Z"
   },
   {
    "duration": 63,
    "start_time": "2023-05-21T20:30:08.901Z"
   },
   {
    "duration": 13,
    "start_time": "2023-05-21T20:30:08.966Z"
   },
   {
    "duration": 624,
    "start_time": "2023-05-21T20:30:08.981Z"
   },
   {
    "duration": 23,
    "start_time": "2023-05-21T20:30:09.607Z"
   },
   {
    "duration": 25,
    "start_time": "2023-05-21T20:30:09.632Z"
   },
   {
    "duration": 7,
    "start_time": "2023-05-21T20:30:09.660Z"
   },
   {
    "duration": 8,
    "start_time": "2023-05-21T20:30:09.668Z"
   },
   {
    "duration": 14,
    "start_time": "2023-05-21T20:30:09.678Z"
   },
   {
    "duration": 481,
    "start_time": "2023-05-21T20:30:09.694Z"
   },
   {
    "duration": 10,
    "start_time": "2023-05-21T20:30:10.177Z"
   },
   {
    "duration": 11,
    "start_time": "2023-05-21T20:30:10.188Z"
   },
   {
    "duration": 76,
    "start_time": "2023-05-21T20:30:10.201Z"
   },
   {
    "duration": 14,
    "start_time": "2023-05-21T20:30:10.279Z"
   },
   {
    "duration": 70,
    "start_time": "2023-05-21T20:30:10.294Z"
   },
   {
    "duration": 125,
    "start_time": "2023-05-21T20:30:10.366Z"
   },
   {
    "duration": 51,
    "start_time": "2023-05-21T20:30:10.499Z"
   },
   {
    "duration": 106,
    "start_time": "2023-05-21T20:30:10.552Z"
   },
   {
    "duration": 48,
    "start_time": "2023-05-21T20:30:10.660Z"
   },
   {
    "duration": 68,
    "start_time": "2023-05-21T20:30:10.710Z"
   },
   {
    "duration": 19,
    "start_time": "2023-05-21T20:30:10.780Z"
   },
   {
    "duration": 335,
    "start_time": "2023-05-21T20:30:10.801Z"
   },
   {
    "duration": 20,
    "start_time": "2023-05-21T20:30:11.138Z"
   },
   {
    "duration": 117,
    "start_time": "2023-05-21T20:30:11.160Z"
   },
   {
    "duration": 1443,
    "start_time": "2023-05-21T20:30:20.864Z"
   },
   {
    "duration": 76,
    "start_time": "2023-05-21T20:30:22.309Z"
   },
   {
    "duration": 13,
    "start_time": "2023-05-21T20:30:22.387Z"
   },
   {
    "duration": 69,
    "start_time": "2023-05-21T20:30:22.403Z"
   },
   {
    "duration": 17,
    "start_time": "2023-05-21T20:30:22.474Z"
   },
   {
    "duration": 676,
    "start_time": "2023-05-21T20:30:22.493Z"
   },
   {
    "duration": 21,
    "start_time": "2023-05-21T20:30:23.171Z"
   },
   {
    "duration": 14,
    "start_time": "2023-05-21T20:30:23.194Z"
   },
   {
    "duration": 9,
    "start_time": "2023-05-21T20:30:23.209Z"
   },
   {
    "duration": 32,
    "start_time": "2023-05-21T20:30:23.221Z"
   },
   {
    "duration": 138,
    "start_time": "2023-05-21T20:30:23.255Z"
   },
   {
    "duration": 592,
    "start_time": "2023-05-21T20:30:23.395Z"
   },
   {
    "duration": 11,
    "start_time": "2023-05-21T20:30:23.989Z"
   },
   {
    "duration": 13,
    "start_time": "2023-05-21T20:30:24.001Z"
   },
   {
    "duration": 291,
    "start_time": "2023-05-21T20:30:24.016Z"
   },
   {
    "duration": 15,
    "start_time": "2023-05-21T20:30:24.309Z"
   },
   {
    "duration": 56,
    "start_time": "2023-05-21T20:30:24.326Z"
   },
   {
    "duration": 123,
    "start_time": "2023-05-21T20:30:24.384Z"
   },
   {
    "duration": 55,
    "start_time": "2023-05-21T20:30:24.509Z"
   },
   {
    "duration": 107,
    "start_time": "2023-05-21T20:30:24.566Z"
   },
   {
    "duration": 50,
    "start_time": "2023-05-21T20:30:24.675Z"
   },
   {
    "duration": 66,
    "start_time": "2023-05-21T20:30:24.727Z"
   },
   {
    "duration": 20,
    "start_time": "2023-05-21T20:30:24.795Z"
   },
   {
    "duration": 336,
    "start_time": "2023-05-21T20:30:24.817Z"
   },
   {
    "duration": 13,
    "start_time": "2023-05-21T20:30:25.155Z"
   },
   {
    "duration": 208,
    "start_time": "2023-05-21T20:30:25.170Z"
   },
   {
    "duration": 9419,
    "start_time": "2023-05-21T20:30:25.379Z"
   },
   {
    "duration": 60,
    "start_time": "2023-05-21T20:30:34.804Z"
   },
   {
    "duration": 128,
    "start_time": "2023-05-21T20:30:34.865Z"
   },
   {
    "duration": 22,
    "start_time": "2023-05-21T20:30:35.049Z"
   },
   {
    "duration": 26,
    "start_time": "2023-05-21T20:30:35.073Z"
   },
   {
    "duration": 55,
    "start_time": "2023-05-21T20:30:35.102Z"
   },
   {
    "duration": 15,
    "start_time": "2023-05-21T20:30:35.159Z"
   },
   {
    "duration": 30,
    "start_time": "2023-05-21T20:30:35.176Z"
   },
   {
    "duration": 115,
    "start_time": "2023-05-21T20:30:35.207Z"
   },
   {
    "duration": 14,
    "start_time": "2023-05-21T20:30:35.324Z"
   },
   {
    "duration": 8,
    "start_time": "2023-05-21T20:30:35.351Z"
   },
   {
    "duration": 2,
    "start_time": "2023-05-21T20:30:35.361Z"
   },
   {
    "duration": 10,
    "start_time": "2023-05-21T20:30:35.365Z"
   },
   {
    "duration": 24,
    "start_time": "2023-05-21T20:30:35.377Z"
   },
   {
    "duration": 267,
    "start_time": "2023-05-21T20:30:35.402Z"
   },
   {
    "duration": 28,
    "start_time": "2023-05-21T20:30:35.670Z"
   },
   {
    "duration": 1313,
    "start_time": "2023-05-21T20:30:35.699Z"
   },
   {
    "duration": 1682,
    "start_time": "2023-05-22T09:33:31.657Z"
   },
   {
    "duration": 240,
    "start_time": "2023-05-22T09:33:33.341Z"
   },
   {
    "duration": 16,
    "start_time": "2023-05-22T09:33:33.583Z"
   },
   {
    "duration": 56,
    "start_time": "2023-05-22T09:33:33.601Z"
   },
   {
    "duration": 11,
    "start_time": "2023-05-22T09:33:33.659Z"
   },
   {
    "duration": 760,
    "start_time": "2023-05-22T09:33:33.672Z"
   },
   {
    "duration": 26,
    "start_time": "2023-05-22T09:33:34.434Z"
   },
   {
    "duration": 12,
    "start_time": "2023-05-22T09:33:34.462Z"
   },
   {
    "duration": 8,
    "start_time": "2023-05-22T09:33:34.476Z"
   },
   {
    "duration": 9,
    "start_time": "2023-05-22T09:33:34.486Z"
   },
   {
    "duration": 205,
    "start_time": "2023-05-22T09:33:34.497Z"
   },
   {
    "duration": 574,
    "start_time": "2023-05-22T09:33:34.704Z"
   },
   {
    "duration": 10,
    "start_time": "2023-05-22T09:33:35.280Z"
   },
   {
    "duration": 23,
    "start_time": "2023-05-22T09:33:35.293Z"
   },
   {
    "duration": 239,
    "start_time": "2023-05-22T09:33:35.318Z"
   },
   {
    "duration": 13,
    "start_time": "2023-05-22T09:33:35.559Z"
   },
   {
    "duration": 51,
    "start_time": "2023-05-22T09:33:35.574Z"
   },
   {
    "duration": 132,
    "start_time": "2023-05-22T09:33:35.627Z"
   },
   {
    "duration": 43,
    "start_time": "2023-05-22T09:33:35.761Z"
   },
   {
    "duration": 116,
    "start_time": "2023-05-22T09:33:35.806Z"
   },
   {
    "duration": 58,
    "start_time": "2023-05-22T09:33:35.923Z"
   },
   {
    "duration": 49,
    "start_time": "2023-05-22T09:33:35.983Z"
   },
   {
    "duration": 18,
    "start_time": "2023-05-22T09:33:36.050Z"
   },
   {
    "duration": 308,
    "start_time": "2023-05-22T09:33:36.070Z"
   },
   {
    "duration": 12,
    "start_time": "2023-05-22T09:33:36.380Z"
   },
   {
    "duration": 290,
    "start_time": "2023-05-22T09:33:36.394Z"
   },
   {
    "duration": 9334,
    "start_time": "2023-05-22T09:33:36.686Z"
   },
   {
    "duration": 47,
    "start_time": "2023-05-22T09:33:46.021Z"
   },
   {
    "duration": 125,
    "start_time": "2023-05-22T09:33:46.069Z"
   },
   {
    "duration": 74,
    "start_time": "2023-05-22T09:33:46.195Z"
   },
   {
    "duration": 28,
    "start_time": "2023-05-22T09:33:46.271Z"
   },
   {
    "duration": 57,
    "start_time": "2023-05-22T09:33:46.301Z"
   },
   {
    "duration": 14,
    "start_time": "2023-05-22T09:33:46.360Z"
   },
   {
    "duration": 13,
    "start_time": "2023-05-22T09:33:46.376Z"
   },
   {
    "duration": 112,
    "start_time": "2023-05-22T09:33:46.391Z"
   },
   {
    "duration": 13,
    "start_time": "2023-05-22T09:33:46.505Z"
   },
   {
    "duration": 30,
    "start_time": "2023-05-22T09:33:46.520Z"
   },
   {
    "duration": 2,
    "start_time": "2023-05-22T09:33:46.552Z"
   },
   {
    "duration": 12,
    "start_time": "2023-05-22T09:33:46.555Z"
   },
   {
    "duration": 27,
    "start_time": "2023-05-22T09:33:46.568Z"
   },
   {
    "duration": 61,
    "start_time": "2023-05-22T09:33:46.598Z"
   },
   {
    "duration": 28,
    "start_time": "2023-05-22T09:33:46.660Z"
   },
   {
    "duration": 1386,
    "start_time": "2023-05-22T09:33:46.690Z"
   },
   {
    "duration": 87,
    "start_time": "2023-05-22T09:36:30.040Z"
   },
   {
    "duration": 223,
    "start_time": "2023-05-22T09:36:54.786Z"
   },
   {
    "duration": 13,
    "start_time": "2023-05-22T09:37:25.234Z"
   },
   {
    "duration": 28,
    "start_time": "2023-05-22T09:42:59.505Z"
   },
   {
    "duration": 27,
    "start_time": "2023-05-22T09:45:36.325Z"
   },
   {
    "duration": 110,
    "start_time": "2023-05-22T09:46:08.961Z"
   },
   {
    "duration": 240,
    "start_time": "2023-05-22T09:52:39.672Z"
   },
   {
    "duration": 250,
    "start_time": "2023-05-22T09:59:55.560Z"
   },
   {
    "duration": 254,
    "start_time": "2023-05-22T10:03:29.749Z"
   },
   {
    "duration": 228,
    "start_time": "2023-05-22T10:04:05.443Z"
   },
   {
    "duration": 246,
    "start_time": "2023-05-22T10:05:06.648Z"
   },
   {
    "duration": 242,
    "start_time": "2023-05-22T10:05:49.408Z"
   },
   {
    "duration": 248,
    "start_time": "2023-05-22T10:06:20.822Z"
   },
   {
    "duration": 237,
    "start_time": "2023-05-22T10:06:33.095Z"
   },
   {
    "duration": 279,
    "start_time": "2023-05-22T10:11:31.905Z"
   },
   {
    "duration": 271,
    "start_time": "2023-05-22T10:11:42.655Z"
   },
   {
    "duration": 276,
    "start_time": "2023-05-22T10:14:48.522Z"
   },
   {
    "duration": 281,
    "start_time": "2023-05-22T10:16:35.397Z"
   },
   {
    "duration": 278,
    "start_time": "2023-05-22T10:16:44.743Z"
   },
   {
    "duration": 269,
    "start_time": "2023-05-22T10:16:57.912Z"
   },
   {
    "duration": 278,
    "start_time": "2023-05-22T10:17:18.622Z"
   },
   {
    "duration": 323,
    "start_time": "2023-05-22T10:17:30.174Z"
   },
   {
    "duration": 263,
    "start_time": "2023-05-22T10:17:54.820Z"
   },
   {
    "duration": 270,
    "start_time": "2023-05-22T10:21:47.461Z"
   },
   {
    "duration": 26,
    "start_time": "2023-05-22T10:50:19.067Z"
   },
   {
    "duration": 83,
    "start_time": "2023-05-22T10:53:26.975Z"
   },
   {
    "duration": 87,
    "start_time": "2023-05-22T10:54:01.077Z"
   },
   {
    "duration": 84,
    "start_time": "2023-05-22T10:54:09.611Z"
   },
   {
    "duration": 84,
    "start_time": "2023-05-22T10:54:20.555Z"
   },
   {
    "duration": 82,
    "start_time": "2023-05-22T10:57:46.406Z"
   },
   {
    "duration": 82,
    "start_time": "2023-05-22T10:58:02.250Z"
   },
   {
    "duration": 4,
    "start_time": "2023-05-22T11:02:24.254Z"
   },
   {
    "duration": 85,
    "start_time": "2023-05-22T11:02:24.262Z"
   },
   {
    "duration": 13,
    "start_time": "2023-05-22T11:02:24.349Z"
   },
   {
    "duration": 45,
    "start_time": "2023-05-22T11:02:24.363Z"
   },
   {
    "duration": 11,
    "start_time": "2023-05-22T11:02:24.411Z"
   },
   {
    "duration": 614,
    "start_time": "2023-05-22T11:02:24.423Z"
   },
   {
    "duration": 25,
    "start_time": "2023-05-22T11:02:25.038Z"
   },
   {
    "duration": 22,
    "start_time": "2023-05-22T11:02:25.064Z"
   },
   {
    "duration": 15,
    "start_time": "2023-05-22T11:02:25.087Z"
   },
   {
    "duration": 16,
    "start_time": "2023-05-22T11:02:25.104Z"
   },
   {
    "duration": 18,
    "start_time": "2023-05-22T11:02:25.122Z"
   },
   {
    "duration": 444,
    "start_time": "2023-05-22T11:02:25.141Z"
   },
   {
    "duration": 11,
    "start_time": "2023-05-22T11:02:25.587Z"
   },
   {
    "duration": 15,
    "start_time": "2023-05-22T11:02:25.600Z"
   },
   {
    "duration": 72,
    "start_time": "2023-05-22T11:02:25.617Z"
   },
   {
    "duration": 14,
    "start_time": "2023-05-22T11:02:25.691Z"
   },
   {
    "duration": 56,
    "start_time": "2023-05-22T11:02:25.706Z"
   },
   {
    "duration": 127,
    "start_time": "2023-05-22T11:02:25.763Z"
   },
   {
    "duration": 276,
    "start_time": "2023-05-22T11:02:25.892Z"
   },
   {
    "duration": 108,
    "start_time": "2023-05-22T11:02:26.170Z"
   },
   {
    "duration": 51,
    "start_time": "2023-05-22T11:02:26.279Z"
   },
   {
    "duration": 63,
    "start_time": "2023-05-22T11:02:26.331Z"
   },
   {
    "duration": 19,
    "start_time": "2023-05-22T11:02:26.395Z"
   },
   {
    "duration": 329,
    "start_time": "2023-05-22T11:02:26.415Z"
   },
   {
    "duration": 12,
    "start_time": "2023-05-22T11:02:26.746Z"
   },
   {
    "duration": 118,
    "start_time": "2023-05-22T11:02:26.759Z"
   },
   {
    "duration": 10232,
    "start_time": "2023-05-22T11:02:26.879Z"
   },
   {
    "duration": 47,
    "start_time": "2023-05-22T11:02:37.116Z"
   },
   {
    "duration": 132,
    "start_time": "2023-05-22T11:02:37.165Z"
   },
   {
    "duration": 71,
    "start_time": "2023-05-22T11:02:37.298Z"
   },
   {
    "duration": 25,
    "start_time": "2023-05-22T11:02:37.371Z"
   },
   {
    "duration": 57,
    "start_time": "2023-05-22T11:02:37.397Z"
   },
   {
    "duration": 15,
    "start_time": "2023-05-22T11:02:37.456Z"
   },
   {
    "duration": 13,
    "start_time": "2023-05-22T11:02:37.474Z"
   },
   {
    "duration": 118,
    "start_time": "2023-05-22T11:02:37.489Z"
   },
   {
    "duration": 6,
    "start_time": "2023-05-22T11:02:37.609Z"
   },
   {
    "duration": 16,
    "start_time": "2023-05-22T11:02:37.617Z"
   },
   {
    "duration": 28,
    "start_time": "2023-05-22T11:02:37.634Z"
   },
   {
    "duration": 277,
    "start_time": "2023-05-22T11:02:37.664Z"
   },
   {
    "duration": 92,
    "start_time": "2023-05-22T11:02:37.943Z"
   },
   {
    "duration": 15,
    "start_time": "2023-05-22T11:06:08.165Z"
   },
   {
    "duration": 29,
    "start_time": "2023-05-22T11:06:35.458Z"
   },
   {
    "duration": 7,
    "start_time": "2023-05-22T11:32:56.303Z"
   },
   {
    "duration": 9,
    "start_time": "2023-05-22T11:33:20.073Z"
   },
   {
    "duration": 7,
    "start_time": "2023-05-22T11:33:27.985Z"
   },
   {
    "duration": 9,
    "start_time": "2023-05-22T11:36:24.110Z"
   },
   {
    "duration": 13,
    "start_time": "2023-05-22T11:37:52.382Z"
   },
   {
    "duration": 13,
    "start_time": "2023-05-22T11:38:34.602Z"
   },
   {
    "duration": 12,
    "start_time": "2023-05-22T11:40:09.785Z"
   },
   {
    "duration": 6,
    "start_time": "2023-05-22T11:40:31.871Z"
   },
   {
    "duration": 6,
    "start_time": "2023-05-22T11:40:50.853Z"
   },
   {
    "duration": 11,
    "start_time": "2023-05-22T11:46:12.722Z"
   },
   {
    "duration": 13,
    "start_time": "2023-05-22T11:46:23.948Z"
   },
   {
    "duration": 13,
    "start_time": "2023-05-22T11:46:39.712Z"
   },
   {
    "duration": 14,
    "start_time": "2023-05-22T11:47:02.653Z"
   },
   {
    "duration": 14,
    "start_time": "2023-05-22T11:47:12.630Z"
   },
   {
    "duration": 12,
    "start_time": "2023-05-22T11:47:53.046Z"
   },
   {
    "duration": 34,
    "start_time": "2023-05-22T11:51:17.806Z"
   },
   {
    "duration": 32,
    "start_time": "2023-05-22T11:52:11.551Z"
   },
   {
    "duration": 36,
    "start_time": "2023-05-22T11:56:24.882Z"
   },
   {
    "duration": 32,
    "start_time": "2023-05-22T11:58:36.302Z"
   },
   {
    "duration": 1543,
    "start_time": "2023-05-22T12:07:33.159Z"
   },
   {
    "duration": 23,
    "start_time": "2023-05-22T12:18:50.799Z"
   },
   {
    "duration": 7,
    "start_time": "2023-05-22T12:21:06.449Z"
   },
   {
    "duration": 6,
    "start_time": "2023-05-22T12:22:31.469Z"
   },
   {
    "duration": 8,
    "start_time": "2023-05-22T12:23:48.754Z"
   },
   {
    "duration": 4,
    "start_time": "2023-05-22T12:44:29.300Z"
   },
   {
    "duration": 90,
    "start_time": "2023-05-22T12:45:19.745Z"
   },
   {
    "duration": 15,
    "start_time": "2023-05-22T12:45:53.196Z"
   },
   {
    "duration": 18,
    "start_time": "2023-05-22T12:46:18.674Z"
   },
   {
    "duration": 8,
    "start_time": "2023-05-22T12:46:27.456Z"
   },
   {
    "duration": 9,
    "start_time": "2023-05-22T12:47:12.017Z"
   },
   {
    "duration": 4,
    "start_time": "2023-05-22T12:53:15.400Z"
   },
   {
    "duration": 85,
    "start_time": "2023-05-22T12:53:15.406Z"
   },
   {
    "duration": 12,
    "start_time": "2023-05-22T12:53:15.493Z"
   },
   {
    "duration": 50,
    "start_time": "2023-05-22T12:53:15.524Z"
   },
   {
    "duration": 12,
    "start_time": "2023-05-22T12:53:15.576Z"
   },
   {
    "duration": 638,
    "start_time": "2023-05-22T12:53:15.590Z"
   },
   {
    "duration": 32,
    "start_time": "2023-05-22T12:53:16.230Z"
   },
   {
    "duration": 13,
    "start_time": "2023-05-22T12:53:16.263Z"
   },
   {
    "duration": 7,
    "start_time": "2023-05-22T12:53:16.278Z"
   },
   {
    "duration": 8,
    "start_time": "2023-05-22T12:53:16.346Z"
   },
   {
    "duration": 16,
    "start_time": "2023-05-22T12:53:16.358Z"
   },
   {
    "duration": 498,
    "start_time": "2023-05-22T12:53:16.377Z"
   },
   {
    "duration": 12,
    "start_time": "2023-05-22T12:53:16.876Z"
   },
   {
    "duration": 14,
    "start_time": "2023-05-22T12:53:16.889Z"
   },
   {
    "duration": 81,
    "start_time": "2023-05-22T12:53:16.905Z"
   },
   {
    "duration": 16,
    "start_time": "2023-05-22T12:53:16.988Z"
   },
   {
    "duration": 68,
    "start_time": "2023-05-22T12:53:17.006Z"
   },
   {
    "duration": 123,
    "start_time": "2023-05-22T12:53:17.076Z"
   },
   {
    "duration": 61,
    "start_time": "2023-05-22T12:53:17.202Z"
   },
   {
    "duration": 106,
    "start_time": "2023-05-22T12:53:17.264Z"
   },
   {
    "duration": 48,
    "start_time": "2023-05-22T12:53:17.372Z"
   },
   {
    "duration": 69,
    "start_time": "2023-05-22T12:53:17.422Z"
   },
   {
    "duration": 18,
    "start_time": "2023-05-22T12:53:17.493Z"
   },
   {
    "duration": 315,
    "start_time": "2023-05-22T12:53:17.512Z"
   },
   {
    "duration": 12,
    "start_time": "2023-05-22T12:53:17.828Z"
   },
   {
    "duration": 129,
    "start_time": "2023-05-22T12:53:17.842Z"
   },
   {
    "duration": 9737,
    "start_time": "2023-05-22T12:53:17.973Z"
   },
   {
    "duration": 1553,
    "start_time": "2023-05-22T12:54:34.641Z"
   },
   {
    "duration": 88,
    "start_time": "2023-05-22T12:54:36.197Z"
   },
   {
    "duration": 14,
    "start_time": "2023-05-22T12:54:36.286Z"
   },
   {
    "duration": 60,
    "start_time": "2023-05-22T12:54:36.303Z"
   },
   {
    "duration": 12,
    "start_time": "2023-05-22T12:54:36.365Z"
   },
   {
    "duration": 666,
    "start_time": "2023-05-22T12:54:36.379Z"
   },
   {
    "duration": 22,
    "start_time": "2023-05-22T12:54:37.046Z"
   },
   {
    "duration": 14,
    "start_time": "2023-05-22T12:54:37.069Z"
   },
   {
    "duration": 7,
    "start_time": "2023-05-22T12:54:37.084Z"
   },
   {
    "duration": 12,
    "start_time": "2023-05-22T12:54:37.093Z"
   },
   {
    "duration": 159,
    "start_time": "2023-05-22T12:54:37.107Z"
   },
   {
    "duration": 619,
    "start_time": "2023-05-22T12:54:37.268Z"
   },
   {
    "duration": 11,
    "start_time": "2023-05-22T12:54:37.888Z"
   },
   {
    "duration": 16,
    "start_time": "2023-05-22T12:54:37.901Z"
   },
   {
    "duration": 242,
    "start_time": "2023-05-22T12:54:37.920Z"
   },
   {
    "duration": 15,
    "start_time": "2023-05-22T12:54:38.163Z"
   },
   {
    "duration": 46,
    "start_time": "2023-05-22T12:54:38.179Z"
   },
   {
    "duration": 135,
    "start_time": "2023-05-22T12:54:38.226Z"
   },
   {
    "duration": 39,
    "start_time": "2023-05-22T12:54:38.362Z"
   },
   {
    "duration": 113,
    "start_time": "2023-05-22T12:54:38.403Z"
   },
   {
    "duration": 63,
    "start_time": "2023-05-22T12:54:38.519Z"
   },
   {
    "duration": 48,
    "start_time": "2023-05-22T12:54:38.584Z"
   },
   {
    "duration": 36,
    "start_time": "2023-05-22T12:54:38.633Z"
   },
   {
    "duration": 327,
    "start_time": "2023-05-22T12:54:38.671Z"
   },
   {
    "duration": 13,
    "start_time": "2023-05-22T12:54:39.000Z"
   },
   {
    "duration": 210,
    "start_time": "2023-05-22T12:54:39.015Z"
   },
   {
    "duration": 9927,
    "start_time": "2023-05-22T12:54:39.226Z"
   },
   {
    "duration": 29,
    "start_time": "2023-05-22T12:54:49.158Z"
   },
   {
    "duration": 181,
    "start_time": "2023-05-22T12:54:49.189Z"
   },
   {
    "duration": 21,
    "start_time": "2023-05-22T12:54:49.372Z"
   },
   {
    "duration": 79,
    "start_time": "2023-05-22T12:54:49.395Z"
   },
   {
    "duration": 16,
    "start_time": "2023-05-22T12:54:49.476Z"
   },
   {
    "duration": 14,
    "start_time": "2023-05-22T12:54:49.493Z"
   },
   {
    "duration": 19,
    "start_time": "2023-05-22T12:54:49.509Z"
   },
   {
    "duration": 111,
    "start_time": "2023-05-22T12:54:49.549Z"
   },
   {
    "duration": 6,
    "start_time": "2023-05-22T12:54:49.662Z"
   },
   {
    "duration": 9,
    "start_time": "2023-05-22T12:54:49.670Z"
   },
   {
    "duration": 14,
    "start_time": "2023-05-22T12:54:49.681Z"
   },
   {
    "duration": 498,
    "start_time": "2023-05-22T12:54:49.696Z"
   },
   {
    "duration": 95,
    "start_time": "2023-05-22T12:54:50.196Z"
   },
   {
    "duration": 7,
    "start_time": "2023-05-22T12:54:50.293Z"
   },
   {
    "duration": 45,
    "start_time": "2023-05-22T12:54:50.301Z"
   },
   {
    "duration": 35,
    "start_time": "2023-05-22T12:54:50.348Z"
   },
   {
    "duration": 1573,
    "start_time": "2023-05-22T12:54:50.384Z"
   },
   {
    "duration": 7,
    "start_time": "2023-05-22T12:54:51.959Z"
   },
   {
    "duration": 42,
    "start_time": "2023-05-22T12:54:51.968Z"
   },
   {
    "duration": 6,
    "start_time": "2023-05-22T12:57:48.822Z"
   },
   {
    "duration": 6,
    "start_time": "2023-05-22T12:58:10.944Z"
   },
   {
    "duration": 7,
    "start_time": "2023-05-22T13:02:41.265Z"
   },
   {
    "duration": 9,
    "start_time": "2023-05-22T13:06:01.460Z"
   },
   {
    "duration": 167,
    "start_time": "2023-05-22T13:06:57.885Z"
   },
   {
    "duration": 7,
    "start_time": "2023-05-22T13:07:05.859Z"
   },
   {
    "duration": 7,
    "start_time": "2023-05-22T13:07:23.751Z"
   },
   {
    "duration": 7,
    "start_time": "2023-05-22T13:08:07.132Z"
   },
   {
    "duration": 12,
    "start_time": "2023-05-22T13:09:00.333Z"
   },
   {
    "duration": 103,
    "start_time": "2023-05-22T13:09:16.120Z"
   },
   {
    "duration": 209,
    "start_time": "2023-05-22T14:15:27.490Z"
   },
   {
    "duration": 241,
    "start_time": "2023-05-22T14:16:52.157Z"
   },
   {
    "duration": 266,
    "start_time": "2023-05-22T14:17:02.211Z"
   },
   {
    "duration": 257,
    "start_time": "2023-05-22T14:17:09.230Z"
   },
   {
    "duration": 8,
    "start_time": "2023-05-22T14:33:37.792Z"
   },
   {
    "duration": 4,
    "start_time": "2023-05-22T14:34:03.212Z"
   },
   {
    "duration": 7,
    "start_time": "2023-05-22T15:04:08.795Z"
   },
   {
    "duration": 13,
    "start_time": "2023-05-22T15:05:20.760Z"
   },
   {
    "duration": 175,
    "start_time": "2023-05-22T15:06:20.365Z"
   },
   {
    "duration": 173,
    "start_time": "2023-05-22T15:07:10.905Z"
   },
   {
    "duration": 13,
    "start_time": "2023-05-22T15:07:52.844Z"
   },
   {
    "duration": 62,
    "start_time": "2023-05-22T15:09:40.140Z"
   },
   {
    "duration": 12,
    "start_time": "2023-05-22T15:09:52.825Z"
   },
   {
    "duration": 8,
    "start_time": "2023-05-22T15:20:21.474Z"
   },
   {
    "duration": 30,
    "start_time": "2023-05-22T15:20:34.209Z"
   },
   {
    "duration": 10,
    "start_time": "2023-05-22T15:21:06.225Z"
   },
   {
    "duration": 12,
    "start_time": "2023-05-22T15:22:08.013Z"
   },
   {
    "duration": 47,
    "start_time": "2023-05-22T15:23:14.763Z"
   },
   {
    "duration": 57,
    "start_time": "2023-05-22T15:23:51.282Z"
   },
   {
    "duration": 52,
    "start_time": "2023-05-22T15:24:32.220Z"
   },
   {
    "duration": 12,
    "start_time": "2023-05-22T15:24:54.307Z"
   },
   {
    "duration": 51,
    "start_time": "2023-05-22T15:24:54.493Z"
   },
   {
    "duration": 12,
    "start_time": "2023-05-22T15:25:32.697Z"
   },
   {
    "duration": 5,
    "start_time": "2023-05-22T15:25:49.662Z"
   },
   {
    "duration": 4,
    "start_time": "2023-05-22T15:25:56.125Z"
   },
   {
    "duration": 100,
    "start_time": "2023-05-22T15:26:59.617Z"
   },
   {
    "duration": 11,
    "start_time": "2023-05-22T15:27:06.033Z"
   },
   {
    "duration": 13,
    "start_time": "2023-05-22T15:27:28.661Z"
   },
   {
    "duration": 13,
    "start_time": "2023-05-22T15:27:39.468Z"
   },
   {
    "duration": 50,
    "start_time": "2023-05-22T15:28:12.028Z"
   },
   {
    "duration": 47,
    "start_time": "2023-05-22T15:28:29.365Z"
   },
   {
    "duration": 23,
    "start_time": "2023-05-22T15:29:50.649Z"
   },
   {
    "duration": 17,
    "start_time": "2023-05-22T15:31:46.044Z"
   },
   {
    "duration": 57,
    "start_time": "2023-05-22T15:31:58.528Z"
   },
   {
    "duration": 53,
    "start_time": "2023-05-22T15:32:31.025Z"
   },
   {
    "duration": 56,
    "start_time": "2023-05-22T15:33:55.937Z"
   },
   {
    "duration": 50,
    "start_time": "2023-05-22T15:34:13.444Z"
   },
   {
    "duration": 1590,
    "start_time": "2023-05-22T15:42:41.676Z"
   },
   {
    "duration": 79,
    "start_time": "2023-05-22T15:42:43.268Z"
   },
   {
    "duration": 21,
    "start_time": "2023-05-22T15:42:43.349Z"
   },
   {
    "duration": 53,
    "start_time": "2023-05-22T15:42:43.372Z"
   },
   {
    "duration": 32,
    "start_time": "2023-05-22T15:42:43.427Z"
   },
   {
    "duration": 624,
    "start_time": "2023-05-22T15:42:43.461Z"
   },
   {
    "duration": 25,
    "start_time": "2023-05-22T15:42:44.087Z"
   },
   {
    "duration": 15,
    "start_time": "2023-05-22T15:42:44.113Z"
   },
   {
    "duration": 11,
    "start_time": "2023-05-22T15:42:44.152Z"
   },
   {
    "duration": 14,
    "start_time": "2023-05-22T15:42:44.167Z"
   },
   {
    "duration": 162,
    "start_time": "2023-05-22T15:42:44.183Z"
   },
   {
    "duration": 603,
    "start_time": "2023-05-22T15:42:44.355Z"
   },
   {
    "duration": 11,
    "start_time": "2023-05-22T15:42:44.963Z"
   },
   {
    "duration": 16,
    "start_time": "2023-05-22T15:42:44.976Z"
   },
   {
    "duration": 271,
    "start_time": "2023-05-22T15:42:44.994Z"
   },
   {
    "duration": 18,
    "start_time": "2023-05-22T15:42:45.267Z"
   },
   {
    "duration": 58,
    "start_time": "2023-05-22T15:42:45.286Z"
   },
   {
    "duration": 123,
    "start_time": "2023-05-22T15:42:45.346Z"
   },
   {
    "duration": 42,
    "start_time": "2023-05-22T15:42:45.471Z"
   },
   {
    "duration": 121,
    "start_time": "2023-05-22T15:42:45.514Z"
   },
   {
    "duration": 67,
    "start_time": "2023-05-22T15:42:45.637Z"
   },
   {
    "duration": 8,
    "start_time": "2023-05-22T15:42:45.706Z"
   },
   {
    "duration": 68,
    "start_time": "2023-05-22T15:42:45.715Z"
   },
   {
    "duration": 20,
    "start_time": "2023-05-22T15:42:45.784Z"
   },
   {
    "duration": 359,
    "start_time": "2023-05-22T15:42:45.805Z"
   },
   {
    "duration": 12,
    "start_time": "2023-05-22T15:42:46.166Z"
   },
   {
    "duration": 224,
    "start_time": "2023-05-22T15:42:46.180Z"
   },
   {
    "duration": 9834,
    "start_time": "2023-05-22T15:42:46.409Z"
   },
   {
    "duration": 42,
    "start_time": "2023-05-22T15:42:56.245Z"
   },
   {
    "duration": 185,
    "start_time": "2023-05-22T15:42:56.288Z"
   },
   {
    "duration": 90,
    "start_time": "2023-05-22T15:42:56.474Z"
   },
   {
    "duration": 29,
    "start_time": "2023-05-22T15:42:56.566Z"
   },
   {
    "duration": 16,
    "start_time": "2023-05-22T15:42:56.597Z"
   },
   {
    "duration": 13,
    "start_time": "2023-05-22T15:42:56.615Z"
   },
   {
    "duration": 36,
    "start_time": "2023-05-22T15:42:56.629Z"
   },
   {
    "duration": 117,
    "start_time": "2023-05-22T15:42:56.667Z"
   },
   {
    "duration": 6,
    "start_time": "2023-05-22T15:42:56.786Z"
   },
   {
    "duration": 11,
    "start_time": "2023-05-22T15:42:56.794Z"
   },
   {
    "duration": 32,
    "start_time": "2023-05-22T15:42:56.806Z"
   },
   {
    "duration": 297,
    "start_time": "2023-05-22T15:42:56.839Z"
   },
   {
    "duration": 289,
    "start_time": "2023-05-22T15:42:57.138Z"
   },
   {
    "duration": 5,
    "start_time": "2023-05-22T15:42:57.428Z"
   },
   {
    "duration": 29,
    "start_time": "2023-05-22T15:42:57.435Z"
   },
   {
    "duration": 33,
    "start_time": "2023-05-22T15:42:57.465Z"
   },
   {
    "duration": 1625,
    "start_time": "2023-05-22T15:42:57.499Z"
   },
   {
    "duration": 8,
    "start_time": "2023-05-22T15:42:59.125Z"
   },
   {
    "duration": 11,
    "start_time": "2023-05-22T15:42:59.152Z"
   },
   {
    "duration": 244,
    "start_time": "2023-05-22T15:42:59.165Z"
   },
   {
    "duration": 93295,
    "start_time": "2023-05-22T15:42:59.411Z"
   },
   {
    "duration": 0,
    "start_time": "2023-05-22T15:44:32.707Z"
   },
   {
    "duration": 0,
    "start_time": "2023-05-22T15:44:32.708Z"
   },
   {
    "duration": 0,
    "start_time": "2023-05-22T15:44:32.709Z"
   },
   {
    "duration": 94741,
    "start_time": "2023-05-22T15:48:33.349Z"
   },
   {
    "duration": 0,
    "start_time": "2023-05-22T15:51:42.713Z"
   },
   {
    "duration": 0,
    "start_time": "2023-05-22T15:51:42.715Z"
   },
   {
    "duration": 0,
    "start_time": "2023-05-22T15:51:42.716Z"
   },
   {
    "duration": 0,
    "start_time": "2023-05-22T15:51:42.717Z"
   },
   {
    "duration": 0,
    "start_time": "2023-05-22T15:51:42.718Z"
   },
   {
    "duration": 0,
    "start_time": "2023-05-22T15:51:42.720Z"
   },
   {
    "duration": 0,
    "start_time": "2023-05-22T15:51:42.720Z"
   },
   {
    "duration": 0,
    "start_time": "2023-05-22T15:51:42.721Z"
   },
   {
    "duration": 0,
    "start_time": "2023-05-22T15:51:42.723Z"
   },
   {
    "duration": 0,
    "start_time": "2023-05-22T15:51:42.724Z"
   },
   {
    "duration": 0,
    "start_time": "2023-05-22T15:51:42.725Z"
   },
   {
    "duration": 0,
    "start_time": "2023-05-22T15:51:42.726Z"
   },
   {
    "duration": 0,
    "start_time": "2023-05-22T15:51:42.750Z"
   },
   {
    "duration": 0,
    "start_time": "2023-05-22T15:51:42.750Z"
   },
   {
    "duration": 0,
    "start_time": "2023-05-22T15:51:42.751Z"
   },
   {
    "duration": 0,
    "start_time": "2023-05-22T15:51:42.752Z"
   },
   {
    "duration": 0,
    "start_time": "2023-05-22T15:51:42.752Z"
   },
   {
    "duration": 0,
    "start_time": "2023-05-22T15:51:42.753Z"
   },
   {
    "duration": 0,
    "start_time": "2023-05-22T15:51:42.756Z"
   },
   {
    "duration": 0,
    "start_time": "2023-05-22T15:51:42.757Z"
   },
   {
    "duration": 0,
    "start_time": "2023-05-22T15:51:42.758Z"
   },
   {
    "duration": 0,
    "start_time": "2023-05-22T15:51:42.759Z"
   },
   {
    "duration": 0,
    "start_time": "2023-05-22T15:51:42.760Z"
   },
   {
    "duration": 0,
    "start_time": "2023-05-22T15:51:42.761Z"
   },
   {
    "duration": 0,
    "start_time": "2023-05-22T15:51:42.763Z"
   },
   {
    "duration": 0,
    "start_time": "2023-05-22T15:51:42.764Z"
   },
   {
    "duration": 0,
    "start_time": "2023-05-22T15:51:42.764Z"
   },
   {
    "duration": 0,
    "start_time": "2023-05-22T15:51:42.767Z"
   },
   {
    "duration": 0,
    "start_time": "2023-05-22T15:51:42.768Z"
   },
   {
    "duration": 0,
    "start_time": "2023-05-22T15:51:42.769Z"
   },
   {
    "duration": 0,
    "start_time": "2023-05-22T15:51:42.770Z"
   },
   {
    "duration": 0,
    "start_time": "2023-05-22T15:51:42.771Z"
   },
   {
    "duration": 0,
    "start_time": "2023-05-22T15:51:42.772Z"
   },
   {
    "duration": 0,
    "start_time": "2023-05-22T15:51:42.773Z"
   },
   {
    "duration": 0,
    "start_time": "2023-05-22T15:51:42.774Z"
   },
   {
    "duration": 0,
    "start_time": "2023-05-22T15:51:42.775Z"
   },
   {
    "duration": 0,
    "start_time": "2023-05-22T15:51:42.776Z"
   },
   {
    "duration": 0,
    "start_time": "2023-05-22T15:51:42.777Z"
   },
   {
    "duration": 0,
    "start_time": "2023-05-22T15:51:42.778Z"
   },
   {
    "duration": 0,
    "start_time": "2023-05-22T15:51:42.780Z"
   },
   {
    "duration": 0,
    "start_time": "2023-05-22T15:51:42.780Z"
   },
   {
    "duration": 0,
    "start_time": "2023-05-22T15:51:42.781Z"
   },
   {
    "duration": 0,
    "start_time": "2023-05-22T15:51:42.782Z"
   },
   {
    "duration": 0,
    "start_time": "2023-05-22T15:51:42.783Z"
   },
   {
    "duration": 0,
    "start_time": "2023-05-22T15:51:42.784Z"
   },
   {
    "duration": 0,
    "start_time": "2023-05-22T15:51:42.786Z"
   },
   {
    "duration": 0,
    "start_time": "2023-05-22T15:51:42.787Z"
   },
   {
    "duration": 0,
    "start_time": "2023-05-22T15:51:42.788Z"
   },
   {
    "duration": 0,
    "start_time": "2023-05-22T15:51:42.788Z"
   },
   {
    "duration": 0,
    "start_time": "2023-05-22T15:51:42.789Z"
   },
   {
    "duration": 0,
    "start_time": "2023-05-22T15:51:42.790Z"
   },
   {
    "duration": 0,
    "start_time": "2023-05-22T15:51:42.791Z"
   },
   {
    "duration": 1544,
    "start_time": "2023-05-22T15:52:23.999Z"
   },
   {
    "duration": 86,
    "start_time": "2023-05-22T15:52:25.545Z"
   },
   {
    "duration": 14,
    "start_time": "2023-05-22T15:52:25.633Z"
   },
   {
    "duration": 68,
    "start_time": "2023-05-22T15:52:25.650Z"
   },
   {
    "duration": 13,
    "start_time": "2023-05-22T15:52:25.720Z"
   },
   {
    "duration": 626,
    "start_time": "2023-05-22T15:52:25.735Z"
   },
   {
    "duration": 22,
    "start_time": "2023-05-22T15:52:26.363Z"
   },
   {
    "duration": 14,
    "start_time": "2023-05-22T15:52:26.387Z"
   },
   {
    "duration": 5,
    "start_time": "2023-05-22T15:52:26.403Z"
   },
   {
    "duration": 12,
    "start_time": "2023-05-22T15:52:26.410Z"
   },
   {
    "duration": 166,
    "start_time": "2023-05-22T15:52:26.423Z"
   },
   {
    "duration": 609,
    "start_time": "2023-05-22T15:52:26.591Z"
   },
   {
    "duration": 11,
    "start_time": "2023-05-22T15:52:27.202Z"
   },
   {
    "duration": 12,
    "start_time": "2023-05-22T15:52:27.215Z"
   },
   {
    "duration": 256,
    "start_time": "2023-05-22T15:52:27.229Z"
   },
   {
    "duration": 14,
    "start_time": "2023-05-22T15:52:27.486Z"
   },
   {
    "duration": 69,
    "start_time": "2023-05-22T15:52:27.502Z"
   },
   {
    "duration": 125,
    "start_time": "2023-05-22T15:52:27.573Z"
   },
   {
    "duration": 50,
    "start_time": "2023-05-22T15:52:27.700Z"
   },
   {
    "duration": 115,
    "start_time": "2023-05-22T15:52:27.752Z"
   },
   {
    "duration": 50,
    "start_time": "2023-05-22T15:52:27.869Z"
   },
   {
    "duration": 8,
    "start_time": "2023-05-22T15:52:27.921Z"
   },
   {
    "duration": 73,
    "start_time": "2023-05-22T15:52:27.930Z"
   },
   {
    "duration": 20,
    "start_time": "2023-05-22T15:52:28.005Z"
   },
   {
    "duration": 357,
    "start_time": "2023-05-22T15:52:28.027Z"
   },
   {
    "duration": 12,
    "start_time": "2023-05-22T15:52:28.385Z"
   },
   {
    "duration": 221,
    "start_time": "2023-05-22T15:52:28.399Z"
   },
   {
    "duration": 9806,
    "start_time": "2023-05-22T15:52:28.623Z"
   },
   {
    "duration": 49,
    "start_time": "2023-05-22T15:52:38.431Z"
   },
   {
    "duration": 184,
    "start_time": "2023-05-22T15:52:38.482Z"
   },
   {
    "duration": 87,
    "start_time": "2023-05-22T15:52:38.668Z"
   },
   {
    "duration": 28,
    "start_time": "2023-05-22T15:52:38.765Z"
   },
   {
    "duration": 18,
    "start_time": "2023-05-22T15:52:38.794Z"
   },
   {
    "duration": 40,
    "start_time": "2023-05-22T15:52:38.813Z"
   },
   {
    "duration": 15,
    "start_time": "2023-05-22T15:52:38.856Z"
   },
   {
    "duration": 118,
    "start_time": "2023-05-22T15:52:38.873Z"
   },
   {
    "duration": 8,
    "start_time": "2023-05-22T15:52:38.993Z"
   },
   {
    "duration": 21,
    "start_time": "2023-05-22T15:52:39.003Z"
   },
   {
    "duration": 33,
    "start_time": "2023-05-22T15:52:39.025Z"
   },
   {
    "duration": 278,
    "start_time": "2023-05-22T15:52:39.059Z"
   },
   {
    "duration": 291,
    "start_time": "2023-05-22T15:52:39.339Z"
   },
   {
    "duration": 29,
    "start_time": "2023-05-22T15:52:39.632Z"
   },
   {
    "duration": 18,
    "start_time": "2023-05-22T15:52:39.664Z"
   },
   {
    "duration": 31,
    "start_time": "2023-05-22T15:52:39.683Z"
   },
   {
    "duration": 1564,
    "start_time": "2023-05-22T15:52:39.716Z"
   },
   {
    "duration": 8,
    "start_time": "2023-05-22T15:52:41.282Z"
   },
   {
    "duration": 13,
    "start_time": "2023-05-22T15:52:41.291Z"
   },
   {
    "duration": 274,
    "start_time": "2023-05-22T15:52:41.306Z"
   },
   {
    "duration": 84302,
    "start_time": "2023-05-22T15:52:41.582Z"
   },
   {
    "duration": 0,
    "start_time": "2023-05-22T15:54:05.886Z"
   },
   {
    "duration": 0,
    "start_time": "2023-05-22T15:54:05.887Z"
   },
   {
    "duration": 0,
    "start_time": "2023-05-22T15:54:05.889Z"
   },
   {
    "duration": 4,
    "start_time": "2023-05-22T15:57:43.799Z"
   },
   {
    "duration": 91,
    "start_time": "2023-05-22T15:57:43.804Z"
   },
   {
    "duration": 13,
    "start_time": "2023-05-22T15:57:43.896Z"
   },
   {
    "duration": 65,
    "start_time": "2023-05-22T15:57:43.911Z"
   },
   {
    "duration": 13,
    "start_time": "2023-05-22T15:57:43.978Z"
   },
   {
    "duration": 674,
    "start_time": "2023-05-22T15:57:43.992Z"
   },
   {
    "duration": 22,
    "start_time": "2023-05-22T15:57:44.668Z"
   },
   {
    "duration": 14,
    "start_time": "2023-05-22T15:57:44.691Z"
   },
   {
    "duration": 6,
    "start_time": "2023-05-22T15:57:44.706Z"
   },
   {
    "duration": 7,
    "start_time": "2023-05-22T15:57:44.714Z"
   },
   {
    "duration": 42,
    "start_time": "2023-05-22T15:57:44.722Z"
   },
   {
    "duration": 422,
    "start_time": "2023-05-22T15:57:44.766Z"
   },
   {
    "duration": 11,
    "start_time": "2023-05-22T15:57:45.189Z"
   },
   {
    "duration": 11,
    "start_time": "2023-05-22T15:57:45.202Z"
   },
   {
    "duration": 79,
    "start_time": "2023-05-22T15:57:45.215Z"
   },
   {
    "duration": 15,
    "start_time": "2023-05-22T15:57:45.296Z"
   },
   {
    "duration": 69,
    "start_time": "2023-05-22T15:57:45.312Z"
   },
   {
    "duration": 112,
    "start_time": "2023-05-22T15:57:45.382Z"
   },
   {
    "duration": 64,
    "start_time": "2023-05-22T15:57:45.496Z"
   },
   {
    "duration": 96,
    "start_time": "2023-05-22T15:57:45.564Z"
   },
   {
    "duration": 56,
    "start_time": "2023-05-22T15:57:45.662Z"
   },
   {
    "duration": 9,
    "start_time": "2023-05-22T15:57:45.719Z"
   },
   {
    "duration": 72,
    "start_time": "2023-05-22T15:57:45.730Z"
   },
   {
    "duration": 18,
    "start_time": "2023-05-22T15:57:45.804Z"
   },
   {
    "duration": 347,
    "start_time": "2023-05-22T15:57:45.824Z"
   },
   {
    "duration": 12,
    "start_time": "2023-05-22T15:57:46.172Z"
   },
   {
    "duration": 125,
    "start_time": "2023-05-22T15:57:46.186Z"
   },
   {
    "duration": 10321,
    "start_time": "2023-05-22T15:57:46.313Z"
   },
   {
    "duration": 56,
    "start_time": "2023-05-22T15:57:56.636Z"
   },
   {
    "duration": 280,
    "start_time": "2023-05-22T15:57:56.695Z"
   },
   {
    "duration": 23,
    "start_time": "2023-05-22T15:57:56.976Z"
   },
   {
    "duration": 49,
    "start_time": "2023-05-22T15:57:57.001Z"
   },
   {
    "duration": 24,
    "start_time": "2023-05-22T15:57:57.052Z"
   },
   {
    "duration": 14,
    "start_time": "2023-05-22T15:57:57.078Z"
   },
   {
    "duration": 23,
    "start_time": "2023-05-22T15:57:57.094Z"
   },
   {
    "duration": 114,
    "start_time": "2023-05-22T15:57:57.119Z"
   },
   {
    "duration": 28,
    "start_time": "2023-05-22T15:57:57.235Z"
   },
   {
    "duration": 10,
    "start_time": "2023-05-22T15:57:57.264Z"
   },
   {
    "duration": 16,
    "start_time": "2023-05-22T15:57:57.276Z"
   },
   {
    "duration": 301,
    "start_time": "2023-05-22T15:57:57.294Z"
   },
   {
    "duration": 101,
    "start_time": "2023-05-22T15:57:57.597Z"
   },
   {
    "duration": 6,
    "start_time": "2023-05-22T15:57:57.700Z"
   },
   {
    "duration": 35,
    "start_time": "2023-05-22T15:57:57.707Z"
   },
   {
    "duration": 36,
    "start_time": "2023-05-22T15:57:57.744Z"
   },
   {
    "duration": 1620,
    "start_time": "2023-05-22T15:57:57.781Z"
   },
   {
    "duration": 8,
    "start_time": "2023-05-22T15:57:59.403Z"
   },
   {
    "duration": 9,
    "start_time": "2023-05-22T15:57:59.412Z"
   },
   {
    "duration": 269,
    "start_time": "2023-05-22T15:57:59.423Z"
   },
   {
    "duration": 84177,
    "start_time": "2023-05-22T15:57:59.694Z"
   },
   {
    "duration": 51,
    "start_time": "2023-05-22T15:59:23.872Z"
   },
   {
    "duration": 66,
    "start_time": "2023-05-22T15:59:23.925Z"
   },
   {
    "duration": 26,
    "start_time": "2023-05-22T15:59:23.992Z"
   },
   {
    "duration": 24,
    "start_time": "2023-05-22T16:06:57.193Z"
   },
   {
    "duration": 60,
    "start_time": "2023-05-22T16:08:57.312Z"
   },
   {
    "duration": 54,
    "start_time": "2023-05-22T16:09:09.427Z"
   },
   {
    "duration": 12,
    "start_time": "2023-05-22T16:24:59.284Z"
   },
   {
    "duration": 15,
    "start_time": "2023-05-22T16:25:28.867Z"
   },
   {
    "duration": 102,
    "start_time": "2023-05-22T16:26:17.079Z"
   },
   {
    "duration": 7,
    "start_time": "2023-05-22T16:26:21.674Z"
   },
   {
    "duration": 18,
    "start_time": "2023-05-22T16:26:35.944Z"
   },
   {
    "duration": 7,
    "start_time": "2023-05-22T16:26:39.852Z"
   },
   {
    "duration": 52,
    "start_time": "2023-05-22T16:29:51.379Z"
   },
   {
    "duration": 53,
    "start_time": "2023-05-22T16:30:01.398Z"
   },
   {
    "duration": 52,
    "start_time": "2023-05-22T16:30:08.987Z"
   },
   {
    "duration": 53,
    "start_time": "2023-05-22T16:31:11.658Z"
   },
   {
    "duration": 13,
    "start_time": "2023-05-22T17:16:02.833Z"
   },
   {
    "duration": 121,
    "start_time": "2023-05-22T17:21:00.381Z"
   },
   {
    "duration": 50,
    "start_time": "2023-05-22T17:51:11.944Z"
   },
   {
    "duration": 45,
    "start_time": "2023-05-22T17:51:30.613Z"
   },
   {
    "duration": 10,
    "start_time": "2023-05-22T17:55:05.300Z"
   },
   {
    "duration": 15,
    "start_time": "2023-05-22T17:56:31.679Z"
   },
   {
    "duration": 13,
    "start_time": "2023-05-22T17:56:49.600Z"
   },
   {
    "duration": 13,
    "start_time": "2023-05-22T17:58:04.782Z"
   },
   {
    "duration": 22,
    "start_time": "2023-05-22T17:59:00.139Z"
   },
   {
    "duration": 13,
    "start_time": "2023-05-22T18:02:14.538Z"
   },
   {
    "duration": 23,
    "start_time": "2023-05-22T19:00:19.411Z"
   },
   {
    "duration": 14,
    "start_time": "2023-05-22T19:00:28.104Z"
   },
   {
    "duration": 1181,
    "start_time": "2023-05-22T19:01:55.208Z"
   },
   {
    "duration": 12,
    "start_time": "2023-05-22T19:02:04.343Z"
   },
   {
    "duration": 13,
    "start_time": "2023-05-22T19:05:46.496Z"
   },
   {
    "duration": 10,
    "start_time": "2023-05-22T19:06:07.247Z"
   },
   {
    "duration": 25,
    "start_time": "2023-05-22T19:09:21.716Z"
   },
   {
    "duration": 16,
    "start_time": "2023-05-22T19:12:50.257Z"
   },
   {
    "duration": 13,
    "start_time": "2023-05-22T19:22:27.036Z"
   },
   {
    "duration": 13,
    "start_time": "2023-05-22T19:23:47.728Z"
   },
   {
    "duration": 13,
    "start_time": "2023-05-22T19:24:29.841Z"
   },
   {
    "duration": 16,
    "start_time": "2023-05-22T19:24:53.195Z"
   },
   {
    "duration": 14,
    "start_time": "2023-05-22T19:25:03.846Z"
   },
   {
    "duration": 14,
    "start_time": "2023-05-22T19:25:25.201Z"
   },
   {
    "duration": 81,
    "start_time": "2023-05-22T19:27:24.099Z"
   },
   {
    "duration": 15,
    "start_time": "2023-05-22T19:27:29.229Z"
   },
   {
    "duration": 13,
    "start_time": "2023-05-22T19:29:23.377Z"
   },
   {
    "duration": 16,
    "start_time": "2023-05-22T19:29:37.551Z"
   },
   {
    "duration": 9,
    "start_time": "2023-05-22T19:31:15.707Z"
   },
   {
    "duration": 16,
    "start_time": "2023-05-22T19:31:24.354Z"
   },
   {
    "duration": 15,
    "start_time": "2023-05-22T19:32:46.998Z"
   },
   {
    "duration": 482,
    "start_time": "2023-05-22T19:48:38.146Z"
   },
   {
    "duration": 506,
    "start_time": "2023-05-22T19:49:54.877Z"
   },
   {
    "duration": 504,
    "start_time": "2023-05-22T19:51:20.357Z"
   },
   {
    "duration": 527,
    "start_time": "2023-05-22T19:51:40.791Z"
   },
   {
    "duration": 427,
    "start_time": "2023-05-22T19:52:37.387Z"
   },
   {
    "duration": 444,
    "start_time": "2023-05-22T19:53:09.993Z"
   },
   {
    "duration": 442,
    "start_time": "2023-05-22T19:53:47.261Z"
   },
   {
    "duration": 455,
    "start_time": "2023-05-22T19:54:33.117Z"
   },
   {
    "duration": 487,
    "start_time": "2023-05-22T19:55:11.685Z"
   },
   {
    "duration": 513,
    "start_time": "2023-05-22T19:55:19.824Z"
   },
   {
    "duration": 498,
    "start_time": "2023-05-22T19:55:39.178Z"
   },
   {
    "duration": 566,
    "start_time": "2023-05-22T19:55:53.696Z"
   },
   {
    "duration": 466,
    "start_time": "2023-05-22T19:56:02.060Z"
   },
   {
    "duration": 421,
    "start_time": "2023-05-22T20:17:05.684Z"
   },
   {
    "duration": 440,
    "start_time": "2023-05-22T20:17:10.066Z"
   },
   {
    "duration": 504,
    "start_time": "2023-05-22T20:25:22.679Z"
   },
   {
    "duration": 456,
    "start_time": "2023-05-22T20:25:41.519Z"
   },
   {
    "duration": 461,
    "start_time": "2023-05-22T20:26:23.874Z"
   },
   {
    "duration": 441,
    "start_time": "2023-05-22T20:27:05.479Z"
   },
   {
    "duration": 456,
    "start_time": "2023-05-22T20:28:10.983Z"
   },
   {
    "duration": 68,
    "start_time": "2023-05-22T20:29:49.337Z"
   },
   {
    "duration": 451,
    "start_time": "2023-05-22T20:29:59.513Z"
   },
   {
    "duration": 424,
    "start_time": "2023-05-22T20:31:17.691Z"
   },
   {
    "duration": 17,
    "start_time": "2023-05-22T20:35:10.708Z"
   },
   {
    "duration": 15,
    "start_time": "2023-05-22T20:35:27.663Z"
   },
   {
    "duration": 54,
    "start_time": "2023-05-22T20:47:32.050Z"
   },
   {
    "duration": 1941,
    "start_time": "2023-05-23T07:59:18.032Z"
   },
   {
    "duration": 152,
    "start_time": "2023-05-23T07:59:19.977Z"
   },
   {
    "duration": 21,
    "start_time": "2023-05-23T07:59:20.132Z"
   },
   {
    "duration": 75,
    "start_time": "2023-05-23T07:59:20.156Z"
   },
   {
    "duration": 17,
    "start_time": "2023-05-23T07:59:20.234Z"
   },
   {
    "duration": 763,
    "start_time": "2023-05-23T07:59:20.253Z"
   },
   {
    "duration": 25,
    "start_time": "2023-05-23T07:59:21.018Z"
   },
   {
    "duration": 22,
    "start_time": "2023-05-23T07:59:21.045Z"
   },
   {
    "duration": 18,
    "start_time": "2023-05-23T07:59:21.069Z"
   },
   {
    "duration": 193,
    "start_time": "2023-05-23T07:59:21.090Z"
   },
   {
    "duration": 672,
    "start_time": "2023-05-23T07:59:21.285Z"
   },
   {
    "duration": 529,
    "start_time": "2023-05-23T07:59:21.959Z"
   },
   {
    "duration": 30,
    "start_time": "2023-05-23T07:59:22.490Z"
   },
   {
    "duration": 1205,
    "start_time": "2023-05-23T07:59:22.522Z"
   },
   {
    "duration": 0,
    "start_time": "2023-05-23T07:59:23.729Z"
   },
   {
    "duration": 0,
    "start_time": "2023-05-23T07:59:23.730Z"
   },
   {
    "duration": 0,
    "start_time": "2023-05-23T07:59:23.731Z"
   },
   {
    "duration": 0,
    "start_time": "2023-05-23T07:59:23.732Z"
   },
   {
    "duration": 0,
    "start_time": "2023-05-23T07:59:23.734Z"
   },
   {
    "duration": 0,
    "start_time": "2023-05-23T07:59:23.735Z"
   },
   {
    "duration": 0,
    "start_time": "2023-05-23T07:59:23.736Z"
   },
   {
    "duration": 1,
    "start_time": "2023-05-23T07:59:23.737Z"
   },
   {
    "duration": 0,
    "start_time": "2023-05-23T07:59:23.738Z"
   },
   {
    "duration": 0,
    "start_time": "2023-05-23T07:59:23.740Z"
   },
   {
    "duration": 0,
    "start_time": "2023-05-23T07:59:23.741Z"
   },
   {
    "duration": 0,
    "start_time": "2023-05-23T07:59:23.742Z"
   },
   {
    "duration": 0,
    "start_time": "2023-05-23T07:59:23.743Z"
   },
   {
    "duration": 0,
    "start_time": "2023-05-23T07:59:23.746Z"
   },
   {
    "duration": 0,
    "start_time": "2023-05-23T07:59:23.747Z"
   },
   {
    "duration": 0,
    "start_time": "2023-05-23T07:59:23.748Z"
   },
   {
    "duration": 0,
    "start_time": "2023-05-23T07:59:23.750Z"
   },
   {
    "duration": 0,
    "start_time": "2023-05-23T07:59:23.751Z"
   },
   {
    "duration": 0,
    "start_time": "2023-05-23T07:59:23.752Z"
   },
   {
    "duration": 0,
    "start_time": "2023-05-23T07:59:23.755Z"
   },
   {
    "duration": 0,
    "start_time": "2023-05-23T07:59:23.756Z"
   },
   {
    "duration": 0,
    "start_time": "2023-05-23T07:59:23.757Z"
   },
   {
    "duration": 0,
    "start_time": "2023-05-23T07:59:23.758Z"
   },
   {
    "duration": 0,
    "start_time": "2023-05-23T07:59:23.760Z"
   },
   {
    "duration": 0,
    "start_time": "2023-05-23T07:59:23.761Z"
   },
   {
    "duration": 0,
    "start_time": "2023-05-23T07:59:23.762Z"
   },
   {
    "duration": 0,
    "start_time": "2023-05-23T07:59:23.763Z"
   },
   {
    "duration": 0,
    "start_time": "2023-05-23T07:59:23.764Z"
   },
   {
    "duration": 0,
    "start_time": "2023-05-23T07:59:23.799Z"
   },
   {
    "duration": 0,
    "start_time": "2023-05-23T07:59:23.800Z"
   },
   {
    "duration": 0,
    "start_time": "2023-05-23T07:59:23.804Z"
   },
   {
    "duration": 0,
    "start_time": "2023-05-23T07:59:23.805Z"
   },
   {
    "duration": 0,
    "start_time": "2023-05-23T07:59:23.806Z"
   },
   {
    "duration": 0,
    "start_time": "2023-05-23T07:59:23.808Z"
   },
   {
    "duration": 0,
    "start_time": "2023-05-23T07:59:23.809Z"
   },
   {
    "duration": 0,
    "start_time": "2023-05-23T07:59:23.810Z"
   },
   {
    "duration": 1,
    "start_time": "2023-05-23T07:59:23.815Z"
   },
   {
    "duration": 0,
    "start_time": "2023-05-23T07:59:23.816Z"
   },
   {
    "duration": 0,
    "start_time": "2023-05-23T07:59:23.817Z"
   },
   {
    "duration": 0,
    "start_time": "2023-05-23T07:59:23.818Z"
   },
   {
    "duration": 0,
    "start_time": "2023-05-23T07:59:23.819Z"
   },
   {
    "duration": 13,
    "start_time": "2023-05-23T13:05:29.777Z"
   },
   {
    "duration": 18,
    "start_time": "2023-05-23T13:10:17.674Z"
   },
   {
    "duration": 21,
    "start_time": "2023-05-23T13:10:23.301Z"
   },
   {
    "duration": 33,
    "start_time": "2023-05-23T13:14:04.625Z"
   },
   {
    "duration": 20,
    "start_time": "2023-05-23T13:17:05.157Z"
   },
   {
    "duration": 20,
    "start_time": "2023-05-23T13:17:12.061Z"
   },
   {
    "duration": 271,
    "start_time": "2023-05-23T13:17:33.145Z"
   },
   {
    "duration": 63,
    "start_time": "2023-05-23T13:17:49.009Z"
   },
   {
    "duration": 50,
    "start_time": "2023-05-23T13:17:54.853Z"
   },
   {
    "duration": 53,
    "start_time": "2023-05-23T13:19:25.886Z"
   },
   {
    "duration": 20,
    "start_time": "2023-05-23T13:20:42.882Z"
   },
   {
    "duration": 5,
    "start_time": "2023-05-23T13:54:46.615Z"
   },
   {
    "duration": 108,
    "start_time": "2023-05-23T13:54:46.623Z"
   },
   {
    "duration": 20,
    "start_time": "2023-05-23T13:54:47.215Z"
   },
   {
    "duration": 49,
    "start_time": "2023-05-23T13:54:47.238Z"
   },
   {
    "duration": 18,
    "start_time": "2023-05-23T13:54:47.288Z"
   },
   {
    "duration": 637,
    "start_time": "2023-05-23T13:54:47.307Z"
   },
   {
    "duration": 25,
    "start_time": "2023-05-23T13:54:47.947Z"
   },
   {
    "duration": 31,
    "start_time": "2023-05-23T13:54:47.974Z"
   },
   {
    "duration": 13,
    "start_time": "2023-05-23T13:54:48.007Z"
   },
   {
    "duration": 127,
    "start_time": "2023-05-23T13:54:48.023Z"
   },
   {
    "duration": 565,
    "start_time": "2023-05-23T13:54:48.152Z"
   },
   {
    "duration": 490,
    "start_time": "2023-05-23T13:54:48.719Z"
   },
   {
    "duration": 17,
    "start_time": "2023-05-23T13:54:49.211Z"
   },
   {
    "duration": 23,
    "start_time": "2023-05-23T13:54:49.230Z"
   },
   {
    "duration": 76,
    "start_time": "2023-05-23T13:54:49.255Z"
   },
   {
    "duration": 2,
    "start_time": "2023-05-23T13:54:49.336Z"
   },
   {
    "duration": 25,
    "start_time": "2023-05-23T13:54:49.340Z"
   },
   {
    "duration": 81,
    "start_time": "2023-05-23T13:54:49.368Z"
   },
   {
    "duration": 129,
    "start_time": "2023-05-23T13:54:49.451Z"
   },
   {
    "duration": 54,
    "start_time": "2023-05-23T13:54:49.583Z"
   },
   {
    "duration": 136,
    "start_time": "2023-05-23T13:54:49.639Z"
   },
   {
    "duration": 76,
    "start_time": "2023-05-23T13:54:49.777Z"
   },
   {
    "duration": 8,
    "start_time": "2023-05-23T13:54:49.856Z"
   },
   {
    "duration": 90,
    "start_time": "2023-05-23T13:54:49.866Z"
   },
   {
    "duration": 20,
    "start_time": "2023-05-23T13:54:49.958Z"
   },
   {
    "duration": 359,
    "start_time": "2023-05-23T13:54:49.980Z"
   },
   {
    "duration": 13,
    "start_time": "2023-05-23T13:54:50.341Z"
   },
   {
    "duration": 250,
    "start_time": "2023-05-23T13:54:50.356Z"
   },
   {
    "duration": 11011,
    "start_time": "2023-05-23T13:54:50.608Z"
   },
   {
    "duration": 89,
    "start_time": "2023-05-23T13:55:01.622Z"
   },
   {
    "duration": 210,
    "start_time": "2023-05-23T13:55:01.713Z"
   },
   {
    "duration": 170,
    "start_time": "2023-05-23T13:55:01.927Z"
   },
   {
    "duration": 37,
    "start_time": "2023-05-23T13:55:02.100Z"
   },
   {
    "duration": 31,
    "start_time": "2023-05-23T13:55:02.139Z"
   },
   {
    "duration": 34,
    "start_time": "2023-05-23T13:55:02.171Z"
   },
   {
    "duration": 54,
    "start_time": "2023-05-23T13:55:02.206Z"
   },
   {
    "duration": 168,
    "start_time": "2023-05-23T13:55:02.263Z"
   },
   {
    "duration": 10,
    "start_time": "2023-05-23T13:55:02.434Z"
   },
   {
    "duration": 27,
    "start_time": "2023-05-23T13:55:02.447Z"
   },
   {
    "duration": 36,
    "start_time": "2023-05-23T13:55:02.476Z"
   },
   {
    "duration": 308,
    "start_time": "2023-05-23T13:55:02.514Z"
   },
   {
    "duration": 122,
    "start_time": "2023-05-23T13:55:02.824Z"
   },
   {
    "duration": 6,
    "start_time": "2023-05-23T13:55:02.950Z"
   },
   {
    "duration": 32,
    "start_time": "2023-05-23T13:55:02.958Z"
   },
   {
    "duration": 46,
    "start_time": "2023-05-23T13:55:02.991Z"
   },
   {
    "duration": 2022,
    "start_time": "2023-05-23T13:55:03.039Z"
   },
   {
    "duration": 8,
    "start_time": "2023-05-23T13:55:05.062Z"
   },
   {
    "duration": 31,
    "start_time": "2023-05-23T13:55:05.071Z"
   },
   {
    "duration": 245,
    "start_time": "2023-05-23T13:55:05.103Z"
   },
   {
    "duration": 91839,
    "start_time": "2023-05-23T13:55:05.350Z"
   },
   {
    "duration": 60,
    "start_time": "2023-05-23T13:56:37.191Z"
   },
   {
    "duration": 78,
    "start_time": "2023-05-23T13:56:37.253Z"
   },
   {
    "duration": 14,
    "start_time": "2023-05-23T13:56:37.334Z"
   },
   {
    "duration": 132,
    "start_time": "2023-05-23T13:56:37.350Z"
   },
   {
    "duration": 22,
    "start_time": "2023-05-23T13:56:37.484Z"
   },
   {
    "duration": 20,
    "start_time": "2023-05-23T13:56:37.508Z"
   },
   {
    "duration": 15,
    "start_time": "2023-05-23T13:56:37.530Z"
   },
   {
    "duration": 17,
    "start_time": "2023-05-23T14:12:02.348Z"
   },
   {
    "duration": 1284,
    "start_time": "2023-05-23T14:13:49.083Z"
   },
   {
    "duration": 20,
    "start_time": "2023-05-23T14:14:06.556Z"
   },
   {
    "duration": 22,
    "start_time": "2023-05-23T14:14:17.960Z"
   },
   {
    "duration": 68,
    "start_time": "2023-05-23T14:16:47.075Z"
   },
   {
    "duration": 19,
    "start_time": "2023-05-23T14:19:46.968Z"
   },
   {
    "duration": 76,
    "start_time": "2023-05-23T14:20:25.347Z"
   },
   {
    "duration": 117,
    "start_time": "2023-05-23T14:21:41.394Z"
   },
   {
    "duration": 66,
    "start_time": "2023-05-23T14:21:48.343Z"
   },
   {
    "duration": 72,
    "start_time": "2023-05-23T14:22:13.155Z"
   },
   {
    "duration": 71,
    "start_time": "2023-05-23T14:23:13.542Z"
   },
   {
    "duration": 72,
    "start_time": "2023-05-23T14:35:45.312Z"
   },
   {
    "duration": 77,
    "start_time": "2023-05-23T14:37:02.155Z"
   },
   {
    "duration": 83,
    "start_time": "2023-05-23T14:37:10.495Z"
   },
   {
    "duration": 83,
    "start_time": "2023-05-23T14:43:29.346Z"
   },
   {
    "duration": 4,
    "start_time": "2023-05-23T14:47:49.648Z"
   },
   {
    "duration": 79,
    "start_time": "2023-05-23T14:47:49.655Z"
   },
   {
    "duration": 19,
    "start_time": "2023-05-23T14:47:49.741Z"
   },
   {
    "duration": 64,
    "start_time": "2023-05-23T14:47:49.762Z"
   },
   {
    "duration": 14,
    "start_time": "2023-05-23T14:47:49.828Z"
   },
   {
    "duration": 702,
    "start_time": "2023-05-23T14:47:49.844Z"
   },
   {
    "duration": 25,
    "start_time": "2023-05-23T14:47:50.548Z"
   },
   {
    "duration": 32,
    "start_time": "2023-05-23T14:47:50.575Z"
   },
   {
    "duration": 12,
    "start_time": "2023-05-23T14:47:50.609Z"
   },
   {
    "duration": 16,
    "start_time": "2023-05-23T14:47:50.623Z"
   },
   {
    "duration": 540,
    "start_time": "2023-05-23T14:47:50.642Z"
   },
   {
    "duration": 481,
    "start_time": "2023-05-23T14:47:51.196Z"
   },
   {
    "duration": 25,
    "start_time": "2023-05-23T14:47:51.679Z"
   },
   {
    "duration": 73,
    "start_time": "2023-05-23T14:47:51.706Z"
   },
   {
    "duration": 72,
    "start_time": "2023-05-23T14:47:51.797Z"
   },
   {
    "duration": 85,
    "start_time": "2023-05-23T14:47:51.871Z"
   },
   {
    "duration": 14,
    "start_time": "2023-05-23T14:47:51.958Z"
   },
   {
    "duration": 76,
    "start_time": "2023-05-23T14:47:51.974Z"
   },
   {
    "duration": 109,
    "start_time": "2023-05-23T14:47:52.052Z"
   },
   {
    "duration": 51,
    "start_time": "2023-05-23T14:47:52.163Z"
   },
   {
    "duration": 113,
    "start_time": "2023-05-23T14:47:52.216Z"
   },
   {
    "duration": 49,
    "start_time": "2023-05-23T14:47:52.331Z"
   },
   {
    "duration": 8,
    "start_time": "2023-05-23T14:47:52.396Z"
   },
   {
    "duration": 52,
    "start_time": "2023-05-23T14:47:52.406Z"
   },
   {
    "duration": 36,
    "start_time": "2023-05-23T14:47:52.461Z"
   },
   {
    "duration": 306,
    "start_time": "2023-05-23T14:47:52.499Z"
   },
   {
    "duration": 14,
    "start_time": "2023-05-23T14:47:52.807Z"
   },
   {
    "duration": 130,
    "start_time": "2023-05-23T14:47:52.822Z"
   },
   {
    "duration": 10240,
    "start_time": "2023-05-23T14:47:52.955Z"
   },
   {
    "duration": 36,
    "start_time": "2023-05-23T14:48:03.197Z"
   },
   {
    "duration": 266,
    "start_time": "2023-05-23T14:48:03.236Z"
   },
   {
    "duration": 30,
    "start_time": "2023-05-23T14:48:03.504Z"
   },
   {
    "duration": 112,
    "start_time": "2023-05-23T14:48:03.536Z"
   },
   {
    "duration": 26,
    "start_time": "2023-05-23T14:48:03.650Z"
   },
   {
    "duration": 36,
    "start_time": "2023-05-23T14:48:03.677Z"
   },
   {
    "duration": 29,
    "start_time": "2023-05-23T14:48:03.716Z"
   },
   {
    "duration": 113,
    "start_time": "2023-05-23T14:48:03.747Z"
   },
   {
    "duration": 8,
    "start_time": "2023-05-23T14:48:03.861Z"
   },
   {
    "duration": 30,
    "start_time": "2023-05-23T14:48:03.871Z"
   },
   {
    "duration": 29,
    "start_time": "2023-05-23T14:48:03.903Z"
   },
   {
    "duration": 279,
    "start_time": "2023-05-23T14:48:03.934Z"
   },
   {
    "duration": 99,
    "start_time": "2023-05-23T14:48:04.215Z"
   },
   {
    "duration": 8,
    "start_time": "2023-05-23T14:48:04.316Z"
   },
   {
    "duration": 20,
    "start_time": "2023-05-23T14:48:04.326Z"
   },
   {
    "duration": 31,
    "start_time": "2023-05-23T14:48:04.348Z"
   },
   {
    "duration": 1585,
    "start_time": "2023-05-23T14:48:04.398Z"
   },
   {
    "duration": 18,
    "start_time": "2023-05-23T14:48:05.985Z"
   },
   {
    "duration": 13,
    "start_time": "2023-05-23T14:48:06.005Z"
   },
   {
    "duration": 307,
    "start_time": "2023-05-23T14:48:06.020Z"
   },
   {
    "duration": 89472,
    "start_time": "2023-05-23T14:48:06.329Z"
   },
   {
    "duration": 50,
    "start_time": "2023-05-23T14:49:35.803Z"
   },
   {
    "duration": 77,
    "start_time": "2023-05-23T14:49:35.855Z"
   },
   {
    "duration": 11,
    "start_time": "2023-05-23T14:49:35.934Z"
   },
   {
    "duration": 132,
    "start_time": "2023-05-23T14:49:35.946Z"
   },
   {
    "duration": 19,
    "start_time": "2023-05-23T14:49:36.080Z"
   },
   {
    "duration": 31,
    "start_time": "2023-05-23T14:49:36.101Z"
   },
   {
    "duration": 21,
    "start_time": "2023-05-23T14:49:36.134Z"
   },
   {
    "duration": 62,
    "start_time": "2023-05-23T14:51:29.167Z"
   },
   {
    "duration": 73,
    "start_time": "2023-05-23T14:54:20.920Z"
   },
   {
    "duration": 78,
    "start_time": "2023-05-23T14:54:32.909Z"
   },
   {
    "duration": 82,
    "start_time": "2023-05-23T14:57:19.319Z"
   },
   {
    "duration": 70,
    "start_time": "2023-05-23T14:57:44.185Z"
   },
   {
    "duration": 62,
    "start_time": "2023-05-23T15:00:05.991Z"
   },
   {
    "duration": 59,
    "start_time": "2023-05-23T15:02:17.877Z"
   },
   {
    "duration": 62,
    "start_time": "2023-05-23T15:02:38.630Z"
   },
   {
    "duration": 69,
    "start_time": "2023-05-23T15:02:50.897Z"
   },
   {
    "duration": 64,
    "start_time": "2023-05-23T15:03:00.402Z"
   },
   {
    "duration": 59,
    "start_time": "2023-05-23T15:03:34.816Z"
   },
   {
    "duration": 70,
    "start_time": "2023-05-23T15:03:41.455Z"
   },
   {
    "duration": 61,
    "start_time": "2023-05-23T15:04:00.736Z"
   },
   {
    "duration": 108,
    "start_time": "2023-05-23T15:22:21.686Z"
   },
   {
    "duration": 92,
    "start_time": "2023-05-23T15:23:56.043Z"
   },
   {
    "duration": 92,
    "start_time": "2023-05-23T15:29:32.060Z"
   },
   {
    "duration": 8,
    "start_time": "2023-05-23T15:34:43.977Z"
   },
   {
    "duration": 49,
    "start_time": "2023-05-23T15:34:55.134Z"
   },
   {
    "duration": 76217,
    "start_time": "2023-05-23T15:36:48.536Z"
   },
   {
    "duration": 10159,
    "start_time": "2023-05-23T15:46:48.640Z"
   },
   {
    "duration": 10666,
    "start_time": "2023-05-23T15:47:44.271Z"
   },
   {
    "duration": 254,
    "start_time": "2023-05-23T15:48:45.377Z"
   },
   {
    "duration": 223,
    "start_time": "2023-05-23T15:48:58.483Z"
   },
   {
    "duration": 325,
    "start_time": "2023-05-23T15:51:05.408Z"
   },
   {
    "duration": 353,
    "start_time": "2023-05-23T15:56:31.480Z"
   },
   {
    "duration": 292,
    "start_time": "2023-05-23T15:56:42.153Z"
   },
   {
    "duration": 25,
    "start_time": "2023-05-23T16:35:22.089Z"
   },
   {
    "duration": 23,
    "start_time": "2023-05-23T16:41:51.413Z"
   },
   {
    "duration": 32,
    "start_time": "2023-05-23T16:42:08.603Z"
   },
   {
    "duration": 294,
    "start_time": "2023-05-23T16:54:25.922Z"
   },
   {
    "duration": 396,
    "start_time": "2023-05-23T16:58:31.402Z"
   },
   {
    "duration": 300,
    "start_time": "2023-05-23T17:00:14.813Z"
   },
   {
    "duration": 18,
    "start_time": "2023-05-23T17:23:34.100Z"
   },
   {
    "duration": 17,
    "start_time": "2023-05-23T17:24:30.689Z"
   },
   {
    "duration": 16,
    "start_time": "2023-05-23T17:24:42.051Z"
   },
   {
    "duration": 45,
    "start_time": "2023-05-23T19:21:29.292Z"
   },
   {
    "duration": 47,
    "start_time": "2023-05-23T19:21:58.211Z"
   },
   {
    "duration": 86,
    "start_time": "2023-05-23T19:22:07.714Z"
   },
   {
    "duration": 49,
    "start_time": "2023-05-23T19:22:22.784Z"
   },
   {
    "duration": 47,
    "start_time": "2023-05-23T19:22:44.736Z"
   },
   {
    "duration": 45,
    "start_time": "2023-05-23T19:22:56.429Z"
   },
   {
    "duration": 57,
    "start_time": "2023-05-23T19:23:24.047Z"
   },
   {
    "duration": 57,
    "start_time": "2023-05-23T19:23:54.609Z"
   },
   {
    "duration": 7,
    "start_time": "2023-05-23T20:15:44.537Z"
   },
   {
    "duration": 6,
    "start_time": "2023-05-23T20:15:49.017Z"
   },
   {
    "duration": 1759,
    "start_time": "2023-05-24T09:08:57.985Z"
   },
   {
    "duration": 245,
    "start_time": "2023-05-24T09:08:59.746Z"
   },
   {
    "duration": 16,
    "start_time": "2023-05-24T09:08:59.993Z"
   },
   {
    "duration": 79,
    "start_time": "2023-05-24T09:09:00.011Z"
   },
   {
    "duration": 13,
    "start_time": "2023-05-24T09:09:00.092Z"
   },
   {
    "duration": 701,
    "start_time": "2023-05-24T09:09:00.107Z"
   },
   {
    "duration": 21,
    "start_time": "2023-05-24T09:09:00.810Z"
   },
   {
    "duration": 49,
    "start_time": "2023-05-24T09:09:00.833Z"
   },
   {
    "duration": 53,
    "start_time": "2023-05-24T09:09:00.884Z"
   },
   {
    "duration": 226,
    "start_time": "2023-05-24T09:09:00.938Z"
   },
   {
    "duration": 648,
    "start_time": "2023-05-24T09:09:01.165Z"
   },
   {
    "duration": 522,
    "start_time": "2023-05-24T09:09:01.815Z"
   },
   {
    "duration": 25,
    "start_time": "2023-05-24T09:09:02.339Z"
   },
   {
    "duration": 289,
    "start_time": "2023-05-24T09:09:02.369Z"
   },
   {
    "duration": 67,
    "start_time": "2023-05-24T09:09:02.660Z"
   },
   {
    "duration": 30,
    "start_time": "2023-05-24T09:09:02.729Z"
   },
   {
    "duration": 44,
    "start_time": "2023-05-24T09:09:02.761Z"
   },
   {
    "duration": 148,
    "start_time": "2023-05-24T09:09:02.806Z"
   },
   {
    "duration": 47,
    "start_time": "2023-05-24T09:09:02.955Z"
   },
   {
    "duration": 115,
    "start_time": "2023-05-24T09:09:03.004Z"
   },
   {
    "duration": 319,
    "start_time": "2023-05-24T09:09:03.120Z"
   },
   {
    "duration": 68,
    "start_time": "2023-05-24T09:09:03.442Z"
   },
   {
    "duration": 22,
    "start_time": "2023-05-24T09:09:03.512Z"
   },
   {
    "duration": 437,
    "start_time": "2023-05-24T09:09:03.536Z"
   },
   {
    "duration": 12,
    "start_time": "2023-05-24T09:09:03.974Z"
   },
   {
    "duration": 246,
    "start_time": "2023-05-24T09:09:03.988Z"
   },
   {
    "duration": 9985,
    "start_time": "2023-05-24T09:09:04.236Z"
   },
   {
    "duration": 54,
    "start_time": "2023-05-24T09:09:14.223Z"
   },
   {
    "duration": 193,
    "start_time": "2023-05-24T09:09:14.280Z"
   },
   {
    "duration": 85,
    "start_time": "2023-05-24T09:09:14.475Z"
   },
   {
    "duration": 38,
    "start_time": "2023-05-24T09:09:14.563Z"
   },
   {
    "duration": 18,
    "start_time": "2023-05-24T09:09:14.602Z"
   },
   {
    "duration": 52,
    "start_time": "2023-05-24T09:09:14.622Z"
   },
   {
    "duration": 156,
    "start_time": "2023-05-24T09:09:14.676Z"
   },
   {
    "duration": 18,
    "start_time": "2023-05-24T09:09:14.834Z"
   },
   {
    "duration": 12,
    "start_time": "2023-05-24T09:09:14.854Z"
   },
   {
    "duration": 25,
    "start_time": "2023-05-24T09:09:14.868Z"
   },
   {
    "duration": 314,
    "start_time": "2023-05-24T09:09:14.895Z"
   },
   {
    "duration": 98,
    "start_time": "2023-05-24T09:09:15.211Z"
   },
   {
    "duration": 6,
    "start_time": "2023-05-24T09:09:15.310Z"
   },
   {
    "duration": 45,
    "start_time": "2023-05-24T09:09:15.320Z"
   },
   {
    "duration": 1621,
    "start_time": "2023-05-24T09:09:15.367Z"
   },
   {
    "duration": 8,
    "start_time": "2023-05-24T09:09:16.990Z"
   },
   {
    "duration": 9,
    "start_time": "2023-05-24T09:09:16.999Z"
   },
   {
    "duration": 290,
    "start_time": "2023-05-24T09:09:17.010Z"
   },
   {
    "duration": 84613,
    "start_time": "2023-05-24T09:09:17.301Z"
   },
   {
    "duration": 62,
    "start_time": "2023-05-24T09:10:41.916Z"
   },
   {
    "duration": 54,
    "start_time": "2023-05-24T09:10:41.980Z"
   },
   {
    "duration": 28,
    "start_time": "2023-05-24T09:10:42.036Z"
   },
   {
    "duration": 132,
    "start_time": "2023-05-24T09:10:42.066Z"
   },
   {
    "duration": 71,
    "start_time": "2023-05-24T09:10:42.200Z"
   },
   {
    "duration": 52,
    "start_time": "2023-05-24T09:10:42.272Z"
   },
   {
    "duration": 90,
    "start_time": "2023-05-24T09:39:04.566Z"
   },
   {
    "duration": 178,
    "start_time": "2023-05-24T09:39:10.257Z"
   },
   {
    "duration": 4,
    "start_time": "2023-05-24T09:39:51.496Z"
   },
   {
    "duration": 82,
    "start_time": "2023-05-24T09:39:51.502Z"
   },
   {
    "duration": 14,
    "start_time": "2023-05-24T09:39:51.586Z"
   },
   {
    "duration": 66,
    "start_time": "2023-05-24T09:39:51.602Z"
   },
   {
    "duration": 17,
    "start_time": "2023-05-24T09:39:51.670Z"
   },
   {
    "duration": 681,
    "start_time": "2023-05-24T09:39:51.689Z"
   },
   {
    "duration": 23,
    "start_time": "2023-05-24T09:39:52.374Z"
   },
   {
    "duration": 16,
    "start_time": "2023-05-24T09:39:52.399Z"
   },
   {
    "duration": 34,
    "start_time": "2023-05-24T09:39:52.416Z"
   },
   {
    "duration": 18,
    "start_time": "2023-05-24T09:39:52.452Z"
   },
   {
    "duration": 553,
    "start_time": "2023-05-24T09:39:52.472Z"
   },
   {
    "duration": 505,
    "start_time": "2023-05-24T09:39:53.026Z"
   },
   {
    "duration": 32,
    "start_time": "2023-05-24T09:39:53.536Z"
   },
   {
    "duration": 83,
    "start_time": "2023-05-24T09:39:53.570Z"
   },
   {
    "duration": 66,
    "start_time": "2023-05-24T09:39:53.655Z"
   },
   {
    "duration": 39,
    "start_time": "2023-05-24T09:39:53.722Z"
   },
   {
    "duration": 46,
    "start_time": "2023-05-24T09:39:53.763Z"
   },
   {
    "duration": 122,
    "start_time": "2023-05-24T09:39:53.811Z"
   },
   {
    "duration": 50,
    "start_time": "2023-05-24T09:39:53.935Z"
   },
   {
    "duration": 109,
    "start_time": "2023-05-24T09:39:53.987Z"
   },
   {
    "duration": 348,
    "start_time": "2023-05-24T09:39:54.098Z"
   },
   {
    "duration": 67,
    "start_time": "2023-05-24T09:39:54.450Z"
   },
   {
    "duration": 41,
    "start_time": "2023-05-24T09:39:54.519Z"
   },
   {
    "duration": 326,
    "start_time": "2023-05-24T09:39:54.563Z"
   },
   {
    "duration": 12,
    "start_time": "2023-05-24T09:39:54.891Z"
   },
   {
    "duration": 123,
    "start_time": "2023-05-24T09:39:54.904Z"
   },
   {
    "duration": 9983,
    "start_time": "2023-05-24T09:39:55.028Z"
   },
   {
    "duration": 54,
    "start_time": "2023-05-24T09:40:05.013Z"
   },
   {
    "duration": 181,
    "start_time": "2023-05-24T09:40:05.069Z"
   },
   {
    "duration": 26,
    "start_time": "2023-05-24T09:40:05.252Z"
   },
   {
    "duration": 72,
    "start_time": "2023-05-24T09:40:05.281Z"
   },
   {
    "duration": 18,
    "start_time": "2023-05-24T09:40:05.355Z"
   },
   {
    "duration": 28,
    "start_time": "2023-05-24T09:40:05.374Z"
   },
   {
    "duration": 121,
    "start_time": "2023-05-24T09:40:05.404Z"
   },
   {
    "duration": 7,
    "start_time": "2023-05-24T09:40:05.527Z"
   },
   {
    "duration": 24,
    "start_time": "2023-05-24T09:40:05.550Z"
   },
   {
    "duration": 37,
    "start_time": "2023-05-24T09:40:05.576Z"
   },
   {
    "duration": 291,
    "start_time": "2023-05-24T09:40:05.615Z"
   },
   {
    "duration": 94,
    "start_time": "2023-05-24T09:40:05.909Z"
   },
   {
    "duration": 7,
    "start_time": "2023-05-24T09:40:06.006Z"
   },
   {
    "duration": 54,
    "start_time": "2023-05-24T09:40:06.016Z"
   },
   {
    "duration": 1888,
    "start_time": "2023-05-24T09:40:06.072Z"
   },
   {
    "duration": 10,
    "start_time": "2023-05-24T09:40:07.962Z"
   },
   {
    "duration": 12,
    "start_time": "2023-05-24T09:40:07.974Z"
   },
   {
    "duration": 317,
    "start_time": "2023-05-24T09:40:07.989Z"
   },
   {
    "duration": 84381,
    "start_time": "2023-05-24T09:40:08.308Z"
   },
   {
    "duration": 65,
    "start_time": "2023-05-24T09:41:32.690Z"
   },
   {
    "duration": 53,
    "start_time": "2023-05-24T09:41:32.757Z"
   },
   {
    "duration": 38,
    "start_time": "2023-05-24T09:41:32.812Z"
   },
   {
    "duration": 114,
    "start_time": "2023-05-24T09:41:32.852Z"
   },
   {
    "duration": 49,
    "start_time": "2023-05-24T09:41:32.968Z"
   },
   {
    "duration": 77,
    "start_time": "2023-05-24T09:41:33.019Z"
   },
   {
    "duration": 10,
    "start_time": "2023-05-24T09:41:33.098Z"
   },
   {
    "duration": 4,
    "start_time": "2023-05-24T10:59:19.080Z"
   },
   {
    "duration": 12,
    "start_time": "2023-05-24T11:00:06.755Z"
   },
   {
    "duration": 11,
    "start_time": "2023-05-24T11:00:39.568Z"
   },
   {
    "duration": 12,
    "start_time": "2023-05-24T11:00:48.602Z"
   },
   {
    "duration": 11,
    "start_time": "2023-05-24T11:00:57.966Z"
   },
   {
    "duration": 11,
    "start_time": "2023-05-24T11:01:04.713Z"
   },
   {
    "duration": 12,
    "start_time": "2023-05-24T11:01:11.607Z"
   },
   {
    "duration": 13,
    "start_time": "2023-05-24T11:03:21.254Z"
   },
   {
    "duration": 6,
    "start_time": "2023-05-24T12:52:52.459Z"
   },
   {
    "duration": 100,
    "start_time": "2023-05-24T12:52:52.467Z"
   },
   {
    "duration": 16,
    "start_time": "2023-05-24T12:52:52.569Z"
   },
   {
    "duration": 50,
    "start_time": "2023-05-24T12:52:52.995Z"
   },
   {
    "duration": 12,
    "start_time": "2023-05-24T12:52:53.047Z"
   },
   {
    "duration": 611,
    "start_time": "2023-05-24T12:52:53.061Z"
   },
   {
    "duration": 21,
    "start_time": "2023-05-24T12:52:53.674Z"
   },
   {
    "duration": 13,
    "start_time": "2023-05-24T12:52:53.696Z"
   },
   {
    "duration": 9,
    "start_time": "2023-05-24T12:52:53.711Z"
   },
   {
    "duration": 33,
    "start_time": "2023-05-24T12:52:53.722Z"
   },
   {
    "duration": 494,
    "start_time": "2023-05-24T12:52:53.757Z"
   },
   {
    "duration": 474,
    "start_time": "2023-05-24T12:52:54.253Z"
   },
   {
    "duration": 23,
    "start_time": "2023-05-24T12:52:54.730Z"
   },
   {
    "duration": 61,
    "start_time": "2023-05-24T12:52:54.754Z"
   },
   {
    "duration": 85,
    "start_time": "2023-05-24T12:52:54.816Z"
   },
   {
    "duration": 14,
    "start_time": "2023-05-24T12:52:54.902Z"
   },
   {
    "duration": 63,
    "start_time": "2023-05-24T12:52:54.918Z"
   },
   {
    "duration": 124,
    "start_time": "2023-05-24T12:52:54.983Z"
   },
   {
    "duration": 52,
    "start_time": "2023-05-24T12:52:55.108Z"
   },
   {
    "duration": 111,
    "start_time": "2023-05-24T12:52:55.161Z"
   },
   {
    "duration": 299,
    "start_time": "2023-05-24T12:52:55.274Z"
   },
   {
    "duration": 51,
    "start_time": "2023-05-24T12:52:55.575Z"
   },
   {
    "duration": 35,
    "start_time": "2023-05-24T12:52:55.627Z"
   },
   {
    "duration": 315,
    "start_time": "2023-05-24T12:52:55.664Z"
   },
   {
    "duration": 14,
    "start_time": "2023-05-24T12:52:55.981Z"
   },
   {
    "duration": 119,
    "start_time": "2023-05-24T12:52:55.997Z"
   },
   {
    "duration": 9718,
    "start_time": "2023-05-24T12:52:56.118Z"
   },
   {
    "duration": 36,
    "start_time": "2023-05-24T12:53:05.838Z"
   },
   {
    "duration": 183,
    "start_time": "2023-05-24T12:53:05.876Z"
   },
   {
    "duration": 24,
    "start_time": "2023-05-24T12:53:06.061Z"
   },
   {
    "duration": 66,
    "start_time": "2023-05-24T12:53:06.089Z"
   },
   {
    "duration": 19,
    "start_time": "2023-05-24T12:53:06.157Z"
   },
   {
    "duration": 15,
    "start_time": "2023-05-24T12:53:06.178Z"
   },
   {
    "duration": 128,
    "start_time": "2023-05-24T12:53:06.195Z"
   },
   {
    "duration": 7,
    "start_time": "2023-05-24T12:53:06.325Z"
   },
   {
    "duration": 9,
    "start_time": "2023-05-24T12:53:06.350Z"
   },
   {
    "duration": 21,
    "start_time": "2023-05-24T12:53:06.361Z"
   },
   {
    "duration": 299,
    "start_time": "2023-05-24T12:53:06.384Z"
   },
   {
    "duration": 104,
    "start_time": "2023-05-24T12:53:06.685Z"
   },
   {
    "duration": 6,
    "start_time": "2023-05-24T12:53:06.791Z"
   },
   {
    "duration": 40,
    "start_time": "2023-05-24T12:53:06.798Z"
   },
   {
    "duration": 1996,
    "start_time": "2023-05-24T12:53:06.849Z"
   },
   {
    "duration": 8,
    "start_time": "2023-05-24T12:53:08.846Z"
   },
   {
    "duration": 10,
    "start_time": "2023-05-24T12:53:08.856Z"
   },
   {
    "duration": 297,
    "start_time": "2023-05-24T12:53:08.868Z"
   },
   {
    "duration": 80319,
    "start_time": "2023-05-24T12:53:09.166Z"
   },
   {
    "duration": 63,
    "start_time": "2023-05-24T12:54:29.487Z"
   },
   {
    "duration": 50,
    "start_time": "2023-05-24T12:54:29.552Z"
   },
   {
    "duration": 15,
    "start_time": "2023-05-24T12:54:29.604Z"
   },
   {
    "duration": 133,
    "start_time": "2023-05-24T12:54:29.621Z"
   },
   {
    "duration": 51,
    "start_time": "2023-05-24T12:54:29.756Z"
   },
   {
    "duration": 89,
    "start_time": "2023-05-24T12:54:29.809Z"
   },
   {
    "duration": 11,
    "start_time": "2023-05-24T12:54:29.900Z"
   },
   {
    "duration": 56,
    "start_time": "2023-05-24T14:35:57.312Z"
   },
   {
    "duration": 15,
    "start_time": "2023-05-24T15:17:01.816Z"
   },
   {
    "duration": 87,
    "start_time": "2023-05-24T15:24:34.242Z"
   },
   {
    "duration": 19,
    "start_time": "2023-05-24T15:24:59.352Z"
   },
   {
    "duration": 5,
    "start_time": "2023-05-24T15:25:04.571Z"
   },
   {
    "duration": 90,
    "start_time": "2023-05-24T15:25:04.577Z"
   },
   {
    "duration": 13,
    "start_time": "2023-05-24T15:25:04.670Z"
   },
   {
    "duration": 79,
    "start_time": "2023-05-24T15:25:04.685Z"
   },
   {
    "duration": 13,
    "start_time": "2023-05-24T15:25:04.766Z"
   },
   {
    "duration": 674,
    "start_time": "2023-05-24T15:25:04.780Z"
   },
   {
    "duration": 28,
    "start_time": "2023-05-24T15:25:05.456Z"
   },
   {
    "duration": 18,
    "start_time": "2023-05-24T15:25:05.485Z"
   },
   {
    "duration": 22,
    "start_time": "2023-05-24T15:25:05.505Z"
   },
   {
    "duration": 42,
    "start_time": "2023-05-24T15:25:05.528Z"
   },
   {
    "duration": 461,
    "start_time": "2023-05-24T15:25:05.573Z"
   },
   {
    "duration": 491,
    "start_time": "2023-05-24T15:25:06.036Z"
   },
   {
    "duration": 36,
    "start_time": "2023-05-24T15:25:06.528Z"
   },
   {
    "duration": 62,
    "start_time": "2023-05-24T15:25:06.565Z"
   },
   {
    "duration": 78,
    "start_time": "2023-05-24T15:25:06.629Z"
   },
   {
    "duration": 14,
    "start_time": "2023-05-24T15:25:06.709Z"
   },
   {
    "duration": 64,
    "start_time": "2023-05-24T15:25:06.725Z"
   },
   {
    "duration": 120,
    "start_time": "2023-05-24T15:25:06.791Z"
   },
   {
    "duration": 61,
    "start_time": "2023-05-24T15:25:06.913Z"
   },
   {
    "duration": 120,
    "start_time": "2023-05-24T15:25:06.975Z"
   },
   {
    "duration": 290,
    "start_time": "2023-05-24T15:25:07.096Z"
   },
   {
    "duration": 50,
    "start_time": "2023-05-24T15:25:07.387Z"
   },
   {
    "duration": 37,
    "start_time": "2023-05-24T15:25:07.439Z"
   },
   {
    "duration": 354,
    "start_time": "2023-05-24T15:25:07.478Z"
   },
   {
    "duration": 29,
    "start_time": "2023-05-24T15:25:07.834Z"
   },
   {
    "duration": 148,
    "start_time": "2023-05-24T15:25:07.866Z"
   },
   {
    "duration": 10141,
    "start_time": "2023-05-24T15:25:08.016Z"
   },
   {
    "duration": 38,
    "start_time": "2023-05-24T15:25:18.160Z"
   },
   {
    "duration": 137,
    "start_time": "2023-05-24T15:25:18.250Z"
   },
   {
    "duration": 83,
    "start_time": "2023-05-24T15:25:18.389Z"
   },
   {
    "duration": 28,
    "start_time": "2023-05-24T15:25:18.473Z"
   },
   {
    "duration": 61,
    "start_time": "2023-05-24T15:25:18.504Z"
   },
   {
    "duration": 12,
    "start_time": "2023-05-24T15:25:18.568Z"
   },
   {
    "duration": 115,
    "start_time": "2023-05-24T15:25:18.582Z"
   },
   {
    "duration": 7,
    "start_time": "2023-05-24T15:25:18.699Z"
   },
   {
    "duration": 11,
    "start_time": "2023-05-24T15:25:18.707Z"
   },
   {
    "duration": 40,
    "start_time": "2023-05-24T15:25:18.720Z"
   },
   {
    "duration": 298,
    "start_time": "2023-05-24T15:25:18.764Z"
   },
   {
    "duration": 98,
    "start_time": "2023-05-24T15:25:19.064Z"
   },
   {
    "duration": 6,
    "start_time": "2023-05-24T15:25:19.166Z"
   },
   {
    "duration": 42,
    "start_time": "2023-05-24T15:25:19.174Z"
   },
   {
    "duration": 2115,
    "start_time": "2023-05-24T15:25:19.217Z"
   },
   {
    "duration": 21,
    "start_time": "2023-05-24T15:25:21.335Z"
   },
   {
    "duration": 17,
    "start_time": "2023-05-24T15:25:21.358Z"
   },
   {
    "duration": 279,
    "start_time": "2023-05-24T15:25:21.376Z"
   },
   {
    "duration": 84745,
    "start_time": "2023-05-24T15:25:21.656Z"
   },
   {
    "duration": 63,
    "start_time": "2023-05-24T15:26:46.402Z"
   },
   {
    "duration": 55,
    "start_time": "2023-05-24T15:26:46.467Z"
   },
   {
    "duration": 28,
    "start_time": "2023-05-24T15:26:46.524Z"
   },
   {
    "duration": 128,
    "start_time": "2023-05-24T15:26:46.554Z"
   },
   {
    "duration": 48,
    "start_time": "2023-05-24T15:26:46.684Z"
   },
   {
    "duration": 67,
    "start_time": "2023-05-24T15:26:46.733Z"
   },
   {
    "duration": 15,
    "start_time": "2023-05-24T15:26:46.801Z"
   },
   {
    "duration": 25,
    "start_time": "2023-05-24T15:38:42.441Z"
   },
   {
    "duration": 16,
    "start_time": "2023-05-24T15:40:17.297Z"
   },
   {
    "duration": 39,
    "start_time": "2023-05-24T15:42:08.440Z"
   },
   {
    "duration": 18,
    "start_time": "2023-05-24T15:44:47.642Z"
   },
   {
    "duration": 16,
    "start_time": "2023-05-24T15:45:53.688Z"
   },
   {
    "duration": 23,
    "start_time": "2023-05-24T15:47:48.139Z"
   },
   {
    "duration": 16,
    "start_time": "2023-05-24T15:51:32.380Z"
   },
   {
    "duration": 21,
    "start_time": "2023-05-24T16:27:01.978Z"
   },
   {
    "duration": 26,
    "start_time": "2023-05-24T16:28:06.981Z"
   },
   {
    "duration": 24,
    "start_time": "2023-05-24T16:33:18.564Z"
   },
   {
    "duration": 28,
    "start_time": "2023-05-24T16:35:40.913Z"
   },
   {
    "duration": 28,
    "start_time": "2023-05-24T16:37:56.560Z"
   },
   {
    "duration": 25,
    "start_time": "2023-05-24T16:39:36.765Z"
   },
   {
    "duration": 123,
    "start_time": "2023-05-24T16:40:24.676Z"
   },
   {
    "duration": 76,
    "start_time": "2023-05-24T16:45:59.532Z"
   },
   {
    "duration": 78,
    "start_time": "2023-05-24T16:46:06.442Z"
   },
   {
    "duration": 31,
    "start_time": "2023-05-24T16:46:13.711Z"
   },
   {
    "duration": 35,
    "start_time": "2023-05-24T16:46:58.212Z"
   },
   {
    "duration": 30,
    "start_time": "2023-05-24T16:47:11.724Z"
   },
   {
    "duration": 26,
    "start_time": "2023-05-24T16:47:19.395Z"
   },
   {
    "duration": 32,
    "start_time": "2023-05-24T16:50:48.919Z"
   },
   {
    "duration": 30,
    "start_time": "2023-05-24T16:51:07.636Z"
   },
   {
    "duration": 28,
    "start_time": "2023-05-24T16:51:25.358Z"
   },
   {
    "duration": 2253,
    "start_time": "2023-05-24T18:02:45.162Z"
   },
   {
    "duration": 837,
    "start_time": "2023-05-24T18:02:47.418Z"
   },
   {
    "duration": 28,
    "start_time": "2023-05-24T18:02:48.266Z"
   },
   {
    "duration": 99,
    "start_time": "2023-05-24T18:02:48.295Z"
   },
   {
    "duration": 18,
    "start_time": "2023-05-24T18:02:48.397Z"
   },
   {
    "duration": 805,
    "start_time": "2023-05-24T18:02:48.417Z"
   },
   {
    "duration": 40,
    "start_time": "2023-05-24T18:02:49.224Z"
   },
   {
    "duration": 25,
    "start_time": "2023-05-24T18:02:49.266Z"
   },
   {
    "duration": 24,
    "start_time": "2023-05-24T18:02:49.295Z"
   },
   {
    "duration": 405,
    "start_time": "2023-05-24T18:02:49.321Z"
   },
   {
    "duration": 875,
    "start_time": "2023-05-24T18:02:49.730Z"
   },
   {
    "duration": 526,
    "start_time": "2023-05-24T18:02:50.608Z"
   },
   {
    "duration": 24,
    "start_time": "2023-05-24T18:02:51.136Z"
   },
   {
    "duration": 347,
    "start_time": "2023-05-24T18:02:51.164Z"
   },
   {
    "duration": 176,
    "start_time": "2023-05-24T18:02:51.513Z"
   },
   {
    "duration": 21,
    "start_time": "2023-05-24T18:02:51.691Z"
   },
   {
    "duration": 74,
    "start_time": "2023-05-24T18:02:51.714Z"
   },
   {
    "duration": 236,
    "start_time": "2023-05-24T18:02:51.791Z"
   },
   {
    "duration": 75,
    "start_time": "2023-05-24T18:02:52.029Z"
   },
   {
    "duration": 187,
    "start_time": "2023-05-24T18:02:52.110Z"
   },
   {
    "duration": 477,
    "start_time": "2023-05-24T18:02:52.299Z"
   },
   {
    "duration": 98,
    "start_time": "2023-05-24T18:02:52.784Z"
   },
   {
    "duration": 31,
    "start_time": "2023-05-24T18:02:52.888Z"
   },
   {
    "duration": 595,
    "start_time": "2023-05-24T18:02:52.922Z"
   },
   {
    "duration": 18,
    "start_time": "2023-05-24T18:02:53.518Z"
   },
   {
    "duration": 413,
    "start_time": "2023-05-24T18:02:53.546Z"
   },
   {
    "duration": 13432,
    "start_time": "2023-05-24T18:02:53.961Z"
   },
   {
    "duration": 68,
    "start_time": "2023-05-24T18:03:07.399Z"
   },
   {
    "duration": 176,
    "start_time": "2023-05-24T18:03:07.469Z"
   },
   {
    "duration": 110,
    "start_time": "2023-05-24T18:03:07.651Z"
   },
   {
    "duration": 114,
    "start_time": "2023-05-24T18:03:07.763Z"
   },
   {
    "duration": 21,
    "start_time": "2023-05-24T18:03:07.879Z"
   },
   {
    "duration": 43,
    "start_time": "2023-05-24T18:03:07.903Z"
   },
   {
    "duration": 181,
    "start_time": "2023-05-24T18:03:07.962Z"
   },
   {
    "duration": 26,
    "start_time": "2023-05-24T18:03:08.145Z"
   },
   {
    "duration": 13,
    "start_time": "2023-05-24T18:03:08.173Z"
   },
   {
    "duration": 24,
    "start_time": "2023-05-24T18:03:08.188Z"
   },
   {
    "duration": 376,
    "start_time": "2023-05-24T18:03:08.235Z"
   },
   {
    "duration": 110,
    "start_time": "2023-05-24T18:03:08.613Z"
   },
   {
    "duration": 12,
    "start_time": "2023-05-24T18:03:08.733Z"
   },
   {
    "duration": 55,
    "start_time": "2023-05-24T18:03:08.749Z"
   },
   {
    "duration": 2108,
    "start_time": "2023-05-24T18:03:08.806Z"
   },
   {
    "duration": 28,
    "start_time": "2023-05-24T18:03:10.916Z"
   },
   {
    "duration": 26,
    "start_time": "2023-05-24T18:03:10.946Z"
   },
   {
    "duration": 290,
    "start_time": "2023-05-24T18:03:10.974Z"
   },
   {
    "duration": 117747,
    "start_time": "2023-05-24T18:03:11.266Z"
   },
   {
    "duration": 77,
    "start_time": "2023-05-24T18:05:09.015Z"
   },
   {
    "duration": 92,
    "start_time": "2023-05-24T18:05:09.094Z"
   },
   {
    "duration": 18,
    "start_time": "2023-05-24T18:05:09.187Z"
   },
   {
    "duration": 206,
    "start_time": "2023-05-24T18:05:09.207Z"
   },
   {
    "duration": 111,
    "start_time": "2023-05-24T18:05:09.416Z"
   },
   {
    "duration": 94,
    "start_time": "2023-05-24T18:05:09.537Z"
   },
   {
    "duration": 264,
    "start_time": "2023-05-24T18:05:09.638Z"
   },
   {
    "duration": 54,
    "start_time": "2023-05-25T09:17:50.988Z"
   },
   {
    "duration": 1787,
    "start_time": "2023-05-25T09:17:57.491Z"
   },
   {
    "duration": 136,
    "start_time": "2023-05-25T09:17:59.280Z"
   },
   {
    "duration": 15,
    "start_time": "2023-05-25T09:17:59.419Z"
   },
   {
    "duration": 60,
    "start_time": "2023-05-25T09:17:59.436Z"
   },
   {
    "duration": 50,
    "start_time": "2023-05-25T09:20:11.405Z"
   },
   {
    "duration": 40,
    "start_time": "2023-05-25T09:20:41.548Z"
   },
   {
    "duration": 4,
    "start_time": "2023-05-25T09:20:46.374Z"
   },
   {
    "duration": 93,
    "start_time": "2023-05-25T09:20:46.380Z"
   },
   {
    "duration": 14,
    "start_time": "2023-05-25T09:20:46.475Z"
   },
   {
    "duration": 65,
    "start_time": "2023-05-25T09:20:46.491Z"
   },
   {
    "duration": 48,
    "start_time": "2023-05-25T09:22:17.480Z"
   },
   {
    "duration": 5,
    "start_time": "2023-05-25T09:22:22.191Z"
   },
   {
    "duration": 96,
    "start_time": "2023-05-25T09:22:22.198Z"
   },
   {
    "duration": 14,
    "start_time": "2023-05-25T09:22:22.296Z"
   },
   {
    "duration": 75,
    "start_time": "2023-05-25T09:22:22.312Z"
   },
   {
    "duration": 212,
    "start_time": "2023-05-25T09:28:09.528Z"
   },
   {
    "duration": 4,
    "start_time": "2023-05-25T09:29:02.480Z"
   },
   {
    "duration": 126,
    "start_time": "2023-05-25T09:29:02.486Z"
   },
   {
    "duration": 18,
    "start_time": "2023-05-25T09:29:02.614Z"
   },
   {
    "duration": 94,
    "start_time": "2023-05-25T09:29:02.635Z"
   },
   {
    "duration": 15,
    "start_time": "2023-05-25T09:29:02.852Z"
   },
   {
    "duration": 757,
    "start_time": "2023-05-25T09:29:02.869Z"
   },
   {
    "duration": 35,
    "start_time": "2023-05-25T09:29:03.628Z"
   },
   {
    "duration": 31,
    "start_time": "2023-05-25T09:29:03.665Z"
   },
   {
    "duration": 36,
    "start_time": "2023-05-25T09:29:03.698Z"
   },
   {
    "duration": 292,
    "start_time": "2023-05-25T09:29:03.736Z"
   },
   {
    "duration": 582,
    "start_time": "2023-05-25T09:29:04.029Z"
   },
   {
    "duration": 511,
    "start_time": "2023-05-25T09:29:04.613Z"
   },
   {
    "duration": 434,
    "start_time": "2023-05-25T09:29:05.126Z"
   },
   {
    "duration": 17,
    "start_time": "2023-05-25T09:29:05.562Z"
   },
   {
    "duration": 275,
    "start_time": "2023-05-25T09:29:05.581Z"
   },
   {
    "duration": 91,
    "start_time": "2023-05-25T09:29:05.858Z"
   },
   {
    "duration": 16,
    "start_time": "2023-05-25T09:29:05.951Z"
   },
   {
    "duration": 49,
    "start_time": "2023-05-25T09:29:05.970Z"
   },
   {
    "duration": 142,
    "start_time": "2023-05-25T09:29:06.021Z"
   },
   {
    "duration": 48,
    "start_time": "2023-05-25T09:29:06.165Z"
   },
   {
    "duration": 238,
    "start_time": "2023-05-25T09:29:06.215Z"
   },
   {
    "duration": 336,
    "start_time": "2023-05-25T09:29:06.455Z"
   },
   {
    "duration": 72,
    "start_time": "2023-05-25T09:29:06.793Z"
   },
   {
    "duration": 22,
    "start_time": "2023-05-25T09:29:06.866Z"
   },
   {
    "duration": 367,
    "start_time": "2023-05-25T09:29:06.890Z"
   },
   {
    "duration": 14,
    "start_time": "2023-05-25T09:29:07.259Z"
   },
   {
    "duration": 207,
    "start_time": "2023-05-25T09:29:07.275Z"
   },
   {
    "duration": 10900,
    "start_time": "2023-05-25T09:29:07.484Z"
   },
   {
    "duration": 66,
    "start_time": "2023-05-25T09:29:18.387Z"
   },
   {
    "duration": 134,
    "start_time": "2023-05-25T09:29:18.455Z"
   },
   {
    "duration": 82,
    "start_time": "2023-05-25T09:29:18.590Z"
   },
   {
    "duration": 80,
    "start_time": "2023-05-25T09:29:18.674Z"
   },
   {
    "duration": 20,
    "start_time": "2023-05-25T09:29:18.755Z"
   },
   {
    "duration": 17,
    "start_time": "2023-05-25T09:29:18.777Z"
   },
   {
    "duration": 130,
    "start_time": "2023-05-25T09:29:18.796Z"
   },
   {
    "duration": 19,
    "start_time": "2023-05-25T09:29:18.928Z"
   },
   {
    "duration": 17,
    "start_time": "2023-05-25T09:29:18.948Z"
   },
   {
    "duration": 28,
    "start_time": "2023-05-25T09:29:18.966Z"
   },
   {
    "duration": 314,
    "start_time": "2023-05-25T09:29:18.995Z"
   },
   {
    "duration": 101,
    "start_time": "2023-05-25T09:29:19.311Z"
   },
   {
    "duration": 6,
    "start_time": "2023-05-25T09:29:19.414Z"
   },
   {
    "duration": 53,
    "start_time": "2023-05-25T09:29:19.422Z"
   },
   {
    "duration": 1640,
    "start_time": "2023-05-25T09:29:19.477Z"
   },
   {
    "duration": 8,
    "start_time": "2023-05-25T09:29:21.119Z"
   },
   {
    "duration": 7,
    "start_time": "2023-05-25T09:29:21.149Z"
   },
   {
    "duration": 296,
    "start_time": "2023-05-25T09:29:21.158Z"
   },
   {
    "duration": 85163,
    "start_time": "2023-05-25T09:29:21.456Z"
   },
   {
    "duration": 62,
    "start_time": "2023-05-25T09:30:46.621Z"
   },
   {
    "duration": 72,
    "start_time": "2023-05-25T09:30:46.685Z"
   },
   {
    "duration": 14,
    "start_time": "2023-05-25T09:30:46.759Z"
   },
   {
    "duration": 134,
    "start_time": "2023-05-25T09:30:46.777Z"
   },
   {
    "duration": 69,
    "start_time": "2023-05-25T09:30:46.912Z"
   },
   {
    "duration": 66,
    "start_time": "2023-05-25T09:30:46.983Z"
   },
   {
    "duration": 69,
    "start_time": "2023-05-25T09:30:47.051Z"
   },
   {
    "duration": 407,
    "start_time": "2023-05-25T09:31:30.363Z"
   },
   {
    "duration": 82,
    "start_time": "2023-05-25T09:32:53.290Z"
   },
   {
    "duration": 21,
    "start_time": "2023-05-25T09:38:59.980Z"
   },
   {
    "duration": 47,
    "start_time": "2023-05-25T09:39:17.720Z"
   },
   {
    "duration": 15,
    "start_time": "2023-05-25T09:41:58.973Z"
   },
   {
    "duration": 22,
    "start_time": "2023-05-25T09:44:22.952Z"
   },
   {
    "duration": 42,
    "start_time": "2023-05-25T09:44:31.266Z"
   },
   {
    "duration": 31,
    "start_time": "2023-05-25T09:48:09.284Z"
   },
   {
    "duration": 41,
    "start_time": "2023-05-25T09:50:29.170Z"
   },
   {
    "duration": 20,
    "start_time": "2023-05-25T09:52:26.291Z"
   },
   {
    "duration": 72,
    "start_time": "2023-05-25T09:52:59.233Z"
   },
   {
    "duration": 129,
    "start_time": "2023-05-25T09:53:46.918Z"
   },
   {
    "duration": 46,
    "start_time": "2023-05-25T09:53:49.806Z"
   },
   {
    "duration": 66,
    "start_time": "2023-05-25T09:55:54.034Z"
   },
   {
    "duration": 54,
    "start_time": "2023-05-25T09:59:07.922Z"
   },
   {
    "duration": 297,
    "start_time": "2023-05-25T10:02:21.404Z"
   },
   {
    "duration": 294,
    "start_time": "2023-05-25T10:07:44.683Z"
   },
   {
    "duration": 436,
    "start_time": "2023-05-25T10:08:24.945Z"
   },
   {
    "duration": 417,
    "start_time": "2023-05-25T10:09:08.968Z"
   },
   {
    "duration": 444,
    "start_time": "2023-05-25T10:09:21.324Z"
   },
   {
    "duration": 49,
    "start_time": "2023-05-25T10:09:57.137Z"
   },
   {
    "duration": 50,
    "start_time": "2023-05-25T10:10:02.894Z"
   },
   {
    "duration": 50,
    "start_time": "2023-05-25T10:10:15.296Z"
   },
   {
    "duration": 51,
    "start_time": "2023-05-25T10:10:27.424Z"
   },
   {
    "duration": 388,
    "start_time": "2023-05-25T10:10:59.480Z"
   },
   {
    "duration": 393,
    "start_time": "2023-05-25T10:11:10.496Z"
   },
   {
    "duration": 435,
    "start_time": "2023-05-25T10:11:21.143Z"
   },
   {
    "duration": 342,
    "start_time": "2023-05-25T10:11:41.473Z"
   },
   {
    "duration": 428,
    "start_time": "2023-05-25T10:12:38.871Z"
   },
   {
    "duration": 465,
    "start_time": "2023-05-25T10:13:32.440Z"
   },
   {
    "duration": 454,
    "start_time": "2023-05-25T10:14:18.525Z"
   },
   {
    "duration": 505,
    "start_time": "2023-05-25T10:14:39.905Z"
   },
   {
    "duration": 12,
    "start_time": "2023-05-25T10:15:15.307Z"
   },
   {
    "duration": 510,
    "start_time": "2023-05-25T10:15:18.629Z"
   },
   {
    "duration": 92,
    "start_time": "2023-05-25T10:24:42.797Z"
   },
   {
    "duration": 38,
    "start_time": "2023-05-25T10:26:12.144Z"
   },
   {
    "duration": 29,
    "start_time": "2023-05-25T10:26:26.463Z"
   },
   {
    "duration": 26,
    "start_time": "2023-05-25T10:26:33.596Z"
   },
   {
    "duration": 95415,
    "start_time": "2023-05-25T10:32:54.446Z"
   },
   {
    "duration": 32,
    "start_time": "2023-05-25T10:34:29.864Z"
   },
   {
    "duration": 252,
    "start_time": "2023-05-25T10:52:44.326Z"
   },
   {
    "duration": 23,
    "start_time": "2023-05-25T10:55:09.368Z"
   },
   {
    "duration": 67,
    "start_time": "2023-05-25T10:55:47.188Z"
   },
   {
    "duration": 55,
    "start_time": "2023-05-25T10:56:06.803Z"
   },
   {
    "duration": 52,
    "start_time": "2023-05-25T10:56:28.979Z"
   },
   {
    "duration": 55,
    "start_time": "2023-05-25T10:56:38.759Z"
   },
   {
    "duration": 32,
    "start_time": "2023-05-25T10:57:04.486Z"
   },
   {
    "duration": 725,
    "start_time": "2023-05-25T10:57:12.428Z"
   },
   {
    "duration": 660,
    "start_time": "2023-05-25T10:57:26.348Z"
   },
   {
    "duration": 74,
    "start_time": "2023-05-25T10:59:49.745Z"
   },
   {
    "duration": 64,
    "start_time": "2023-05-25T11:00:45.458Z"
   },
   {
    "duration": 183,
    "start_time": "2023-05-25T11:01:17.667Z"
   },
   {
    "duration": 429,
    "start_time": "2023-05-25T11:01:32.155Z"
   },
   {
    "duration": 55,
    "start_time": "2023-05-25T11:02:46.929Z"
   },
   {
    "duration": 465,
    "start_time": "2023-05-25T11:03:19.720Z"
   },
   {
    "duration": 48,
    "start_time": "2023-05-25T11:05:27.246Z"
   },
   {
    "duration": 19,
    "start_time": "2023-05-25T11:05:55.097Z"
   },
   {
    "duration": 28,
    "start_time": "2023-05-25T11:06:07.123Z"
   },
   {
    "duration": 19,
    "start_time": "2023-05-25T11:06:31.585Z"
   },
   {
    "duration": 17,
    "start_time": "2023-05-25T11:06:40.549Z"
   },
   {
    "duration": 21,
    "start_time": "2023-05-25T11:06:47.377Z"
   },
   {
    "duration": 165,
    "start_time": "2023-05-25T11:12:29.837Z"
   },
   {
    "duration": 310,
    "start_time": "2023-05-25T11:12:42.904Z"
   },
   {
    "duration": 283,
    "start_time": "2023-05-25T11:13:16.453Z"
   },
   {
    "duration": 433,
    "start_time": "2023-05-25T11:17:06.521Z"
   },
   {
    "duration": 421,
    "start_time": "2023-05-25T11:17:18.700Z"
   },
   {
    "duration": 81,
    "start_time": "2023-05-25T11:18:53.018Z"
   },
   {
    "duration": 26,
    "start_time": "2023-05-25T11:21:59.644Z"
   },
   {
    "duration": 29,
    "start_time": "2023-05-25T11:22:25.886Z"
   },
   {
    "duration": 34,
    "start_time": "2023-05-25T11:22:48.720Z"
   },
   {
    "duration": 1525,
    "start_time": "2023-05-25T11:28:37.004Z"
   },
   {
    "duration": 79,
    "start_time": "2023-05-25T11:28:38.530Z"
   },
   {
    "duration": 15,
    "start_time": "2023-05-25T11:28:38.610Z"
   },
   {
    "duration": 55,
    "start_time": "2023-05-25T11:28:38.628Z"
   },
   {
    "duration": 14,
    "start_time": "2023-05-25T11:28:38.685Z"
   },
   {
    "duration": 652,
    "start_time": "2023-05-25T11:28:38.700Z"
   },
   {
    "duration": 22,
    "start_time": "2023-05-25T11:28:39.354Z"
   },
   {
    "duration": 18,
    "start_time": "2023-05-25T11:28:39.378Z"
   },
   {
    "duration": 14,
    "start_time": "2023-05-25T11:28:39.398Z"
   },
   {
    "duration": 172,
    "start_time": "2023-05-25T11:28:39.415Z"
   },
   {
    "duration": 315,
    "start_time": "2023-05-25T11:28:39.589Z"
   },
   {
    "duration": 0,
    "start_time": "2023-05-25T11:28:39.907Z"
   },
   {
    "duration": 0,
    "start_time": "2023-05-25T11:28:39.908Z"
   },
   {
    "duration": 0,
    "start_time": "2023-05-25T11:28:39.910Z"
   },
   {
    "duration": 0,
    "start_time": "2023-05-25T11:28:39.910Z"
   },
   {
    "duration": 0,
    "start_time": "2023-05-25T11:28:39.912Z"
   },
   {
    "duration": 0,
    "start_time": "2023-05-25T11:28:39.913Z"
   },
   {
    "duration": 0,
    "start_time": "2023-05-25T11:28:39.914Z"
   },
   {
    "duration": 0,
    "start_time": "2023-05-25T11:28:39.915Z"
   },
   {
    "duration": 0,
    "start_time": "2023-05-25T11:28:39.916Z"
   },
   {
    "duration": 0,
    "start_time": "2023-05-25T11:28:39.917Z"
   },
   {
    "duration": 0,
    "start_time": "2023-05-25T11:28:39.918Z"
   },
   {
    "duration": 0,
    "start_time": "2023-05-25T11:28:39.919Z"
   },
   {
    "duration": 0,
    "start_time": "2023-05-25T11:28:39.920Z"
   },
   {
    "duration": 0,
    "start_time": "2023-05-25T11:28:39.921Z"
   },
   {
    "duration": 0,
    "start_time": "2023-05-25T11:28:39.922Z"
   },
   {
    "duration": 0,
    "start_time": "2023-05-25T11:28:39.946Z"
   },
   {
    "duration": 0,
    "start_time": "2023-05-25T11:28:39.947Z"
   },
   {
    "duration": 0,
    "start_time": "2023-05-25T11:28:40.021Z"
   },
   {
    "duration": 0,
    "start_time": "2023-05-25T11:28:40.046Z"
   },
   {
    "duration": 0,
    "start_time": "2023-05-25T11:28:40.048Z"
   },
   {
    "duration": 0,
    "start_time": "2023-05-25T11:28:40.049Z"
   },
   {
    "duration": 0,
    "start_time": "2023-05-25T11:28:40.050Z"
   },
   {
    "duration": 0,
    "start_time": "2023-05-25T11:28:40.051Z"
   },
   {
    "duration": 0,
    "start_time": "2023-05-25T11:28:40.052Z"
   },
   {
    "duration": 0,
    "start_time": "2023-05-25T11:28:40.053Z"
   },
   {
    "duration": 0,
    "start_time": "2023-05-25T11:28:40.054Z"
   },
   {
    "duration": 0,
    "start_time": "2023-05-25T11:28:40.055Z"
   },
   {
    "duration": 0,
    "start_time": "2023-05-25T11:28:40.056Z"
   },
   {
    "duration": 0,
    "start_time": "2023-05-25T11:28:40.057Z"
   },
   {
    "duration": 0,
    "start_time": "2023-05-25T11:28:40.058Z"
   },
   {
    "duration": 0,
    "start_time": "2023-05-25T11:28:40.059Z"
   },
   {
    "duration": 0,
    "start_time": "2023-05-25T11:28:40.060Z"
   },
   {
    "duration": 0,
    "start_time": "2023-05-25T11:28:40.061Z"
   },
   {
    "duration": 0,
    "start_time": "2023-05-25T11:28:40.062Z"
   },
   {
    "duration": 0,
    "start_time": "2023-05-25T11:28:40.063Z"
   },
   {
    "duration": 0,
    "start_time": "2023-05-25T11:28:40.064Z"
   },
   {
    "duration": 0,
    "start_time": "2023-05-25T11:28:40.065Z"
   },
   {
    "duration": 0,
    "start_time": "2023-05-25T11:28:40.066Z"
   },
   {
    "duration": 0,
    "start_time": "2023-05-25T11:28:40.067Z"
   },
   {
    "duration": 0,
    "start_time": "2023-05-25T11:28:40.069Z"
   },
   {
    "duration": 0,
    "start_time": "2023-05-25T11:28:40.071Z"
   },
   {
    "duration": 448,
    "start_time": "2023-05-25T11:43:47.884Z"
   },
   {
    "duration": 217,
    "start_time": "2023-05-25T11:44:06.978Z"
   },
   {
    "duration": 552,
    "start_time": "2023-05-25T11:44:14.168Z"
   },
   {
    "duration": 486,
    "start_time": "2023-05-25T11:45:36.605Z"
   },
   {
    "duration": 443,
    "start_time": "2023-05-25T12:01:48.067Z"
   },
   {
    "duration": 444,
    "start_time": "2023-05-25T12:01:49.266Z"
   },
   {
    "duration": 430,
    "start_time": "2023-05-25T12:01:57.368Z"
   },
   {
    "duration": 483,
    "start_time": "2023-05-25T12:02:40.208Z"
   },
   {
    "duration": 525,
    "start_time": "2023-05-25T12:02:53.093Z"
   },
   {
    "duration": 5,
    "start_time": "2023-05-25T12:03:06.219Z"
   },
   {
    "duration": 122,
    "start_time": "2023-05-25T12:03:06.226Z"
   },
   {
    "duration": 30,
    "start_time": "2023-05-25T12:03:06.353Z"
   },
   {
    "duration": 74,
    "start_time": "2023-05-25T12:03:06.385Z"
   },
   {
    "duration": 21,
    "start_time": "2023-05-25T12:03:06.461Z"
   },
   {
    "duration": 709,
    "start_time": "2023-05-25T12:03:06.484Z"
   },
   {
    "duration": 25,
    "start_time": "2023-05-25T12:03:07.195Z"
   },
   {
    "duration": 37,
    "start_time": "2023-05-25T12:03:07.222Z"
   },
   {
    "duration": 38,
    "start_time": "2023-05-25T12:03:07.265Z"
   },
   {
    "duration": 45,
    "start_time": "2023-05-25T12:03:07.305Z"
   },
   {
    "duration": 461,
    "start_time": "2023-05-25T12:03:07.358Z"
   },
   {
    "duration": 467,
    "start_time": "2023-05-25T12:03:07.821Z"
   },
   {
    "duration": 16,
    "start_time": "2023-05-25T12:03:08.289Z"
   },
   {
    "duration": 438,
    "start_time": "2023-05-25T12:03:08.307Z"
   },
   {
    "duration": 74,
    "start_time": "2023-05-25T12:03:08.757Z"
   },
   {
    "duration": 37,
    "start_time": "2023-05-25T12:03:08.833Z"
   },
   {
    "duration": 21,
    "start_time": "2023-05-25T12:03:08.872Z"
   },
   {
    "duration": 84,
    "start_time": "2023-05-25T12:03:08.894Z"
   },
   {
    "duration": 120,
    "start_time": "2023-05-25T12:03:08.979Z"
   },
   {
    "duration": 504,
    "start_time": "2023-05-25T12:03:09.101Z"
   },
   {
    "duration": 74,
    "start_time": "2023-05-25T12:03:09.607Z"
   },
   {
    "duration": 19,
    "start_time": "2023-05-25T12:03:09.683Z"
   },
   {
    "duration": 489,
    "start_time": "2023-05-25T12:03:09.704Z"
   },
   {
    "duration": 14,
    "start_time": "2023-05-25T12:03:10.195Z"
   },
   {
    "duration": 176,
    "start_time": "2023-05-25T12:03:10.212Z"
   },
   {
    "duration": 11682,
    "start_time": "2023-05-25T12:03:10.390Z"
   },
   {
    "duration": 74,
    "start_time": "2023-05-25T12:03:22.075Z"
   },
   {
    "duration": 141,
    "start_time": "2023-05-25T12:03:22.150Z"
   },
   {
    "duration": 36,
    "start_time": "2023-05-25T12:03:22.345Z"
   },
   {
    "duration": 175,
    "start_time": "2023-05-25T12:03:22.383Z"
   },
   {
    "duration": 34,
    "start_time": "2023-05-25T12:03:22.560Z"
   },
   {
    "duration": 37,
    "start_time": "2023-05-25T12:03:22.596Z"
   },
   {
    "duration": 190,
    "start_time": "2023-05-25T12:03:22.636Z"
   },
   {
    "duration": 29,
    "start_time": "2023-05-25T12:03:22.828Z"
   },
   {
    "duration": 45,
    "start_time": "2023-05-25T12:03:22.859Z"
   },
   {
    "duration": 26,
    "start_time": "2023-05-25T12:03:22.906Z"
   },
   {
    "duration": 375,
    "start_time": "2023-05-25T12:03:22.934Z"
   },
   {
    "duration": 111,
    "start_time": "2023-05-25T12:03:23.311Z"
   },
   {
    "duration": 6,
    "start_time": "2023-05-25T12:03:23.424Z"
   },
   {
    "duration": 44,
    "start_time": "2023-05-25T12:03:23.448Z"
   },
   {
    "duration": 2038,
    "start_time": "2023-05-25T12:03:23.494Z"
   },
   {
    "duration": 21,
    "start_time": "2023-05-25T12:03:25.534Z"
   },
   {
    "duration": 49,
    "start_time": "2023-05-25T12:03:25.557Z"
   },
   {
    "duration": 289,
    "start_time": "2023-05-25T12:03:25.608Z"
   },
   {
    "duration": 93396,
    "start_time": "2023-05-25T12:03:25.899Z"
   },
   {
    "duration": 67,
    "start_time": "2023-05-25T12:04:59.297Z"
   },
   {
    "duration": 59,
    "start_time": "2023-05-25T12:04:59.370Z"
   },
   {
    "duration": 30,
    "start_time": "2023-05-25T12:04:59.430Z"
   },
   {
    "duration": 159,
    "start_time": "2023-05-25T12:04:59.461Z"
   },
   {
    "duration": 74,
    "start_time": "2023-05-25T12:04:59.622Z"
   },
   {
    "duration": 85,
    "start_time": "2023-05-25T12:04:59.698Z"
   },
   {
    "duration": 29,
    "start_time": "2023-05-25T12:04:59.785Z"
   },
   {
    "duration": 23,
    "start_time": "2023-05-25T12:04:59.867Z"
   },
   {
    "duration": 18,
    "start_time": "2023-05-25T12:05:32.383Z"
   },
   {
    "duration": 17,
    "start_time": "2023-05-25T12:06:14.478Z"
   },
   {
    "duration": 27,
    "start_time": "2023-05-25T12:07:15.496Z"
   },
   {
    "duration": 41,
    "start_time": "2023-05-25T12:07:22.535Z"
   },
   {
    "duration": 305,
    "start_time": "2023-05-25T12:08:20.521Z"
   },
   {
    "duration": 328,
    "start_time": "2023-05-25T12:19:24.871Z"
   },
   {
    "duration": 356,
    "start_time": "2023-05-25T12:19:36.016Z"
   },
   {
    "duration": 312,
    "start_time": "2023-05-25T12:20:03.202Z"
   },
   {
    "duration": 360,
    "start_time": "2023-05-25T12:20:30.738Z"
   },
   {
    "duration": 46,
    "start_time": "2023-05-25T12:29:47.470Z"
   },
   {
    "duration": 324,
    "start_time": "2023-05-25T12:30:00.529Z"
   },
   {
    "duration": 320,
    "start_time": "2023-05-25T12:30:13.113Z"
   },
   {
    "duration": 306,
    "start_time": "2023-05-25T12:30:47.216Z"
   },
   {
    "duration": 326,
    "start_time": "2023-05-25T12:31:06.828Z"
   },
   {
    "duration": 337,
    "start_time": "2023-05-25T12:31:26.575Z"
   },
   {
    "duration": 65,
    "start_time": "2023-05-25T12:38:18.421Z"
   },
   {
    "duration": 35,
    "start_time": "2023-05-25T12:39:32.032Z"
   },
   {
    "duration": 32,
    "start_time": "2023-05-25T12:40:04.244Z"
   },
   {
    "duration": 584,
    "start_time": "2023-05-25T12:46:00.218Z"
   },
   {
    "duration": 152,
    "start_time": "2023-05-25T13:13:03.038Z"
   },
   {
    "duration": 606,
    "start_time": "2023-05-25T13:15:25.743Z"
   },
   {
    "duration": 117,
    "start_time": "2023-05-25T13:19:11.778Z"
   },
   {
    "duration": 4,
    "start_time": "2023-05-25T13:19:47.255Z"
   },
   {
    "duration": 138,
    "start_time": "2023-05-25T13:19:47.260Z"
   },
   {
    "duration": 15,
    "start_time": "2023-05-25T13:19:47.400Z"
   },
   {
    "duration": 83,
    "start_time": "2023-05-25T13:19:47.417Z"
   },
   {
    "duration": 18,
    "start_time": "2023-05-25T13:19:47.503Z"
   },
   {
    "duration": 642,
    "start_time": "2023-05-25T13:19:47.523Z"
   },
   {
    "duration": 23,
    "start_time": "2023-05-25T13:19:48.168Z"
   },
   {
    "duration": 22,
    "start_time": "2023-05-25T13:19:48.193Z"
   },
   {
    "duration": 40,
    "start_time": "2023-05-25T13:19:48.217Z"
   },
   {
    "duration": 43,
    "start_time": "2023-05-25T13:19:48.259Z"
   },
   {
    "duration": 461,
    "start_time": "2023-05-25T13:19:48.306Z"
   },
   {
    "duration": 428,
    "start_time": "2023-05-25T13:19:48.769Z"
   },
   {
    "duration": 22,
    "start_time": "2023-05-25T13:19:49.200Z"
   },
   {
    "duration": 91,
    "start_time": "2023-05-25T13:19:49.225Z"
   },
   {
    "duration": 114,
    "start_time": "2023-05-25T13:19:49.318Z"
   },
   {
    "duration": 18,
    "start_time": "2023-05-25T13:19:49.446Z"
   },
   {
    "duration": 32,
    "start_time": "2023-05-25T13:19:49.465Z"
   },
   {
    "duration": 78,
    "start_time": "2023-05-25T13:19:49.499Z"
   },
   {
    "duration": 121,
    "start_time": "2023-05-25T13:19:49.579Z"
   },
   {
    "duration": 476,
    "start_time": "2023-05-25T13:19:49.701Z"
   },
   {
    "duration": 55,
    "start_time": "2023-05-25T13:19:50.178Z"
   },
   {
    "duration": 23,
    "start_time": "2023-05-25T13:19:50.247Z"
   },
   {
    "duration": 527,
    "start_time": "2023-05-25T13:19:50.274Z"
   },
   {
    "duration": 13,
    "start_time": "2023-05-25T13:19:50.804Z"
   },
   {
    "duration": 158,
    "start_time": "2023-05-25T13:19:50.819Z"
   },
   {
    "duration": 11691,
    "start_time": "2023-05-25T13:19:50.980Z"
   },
   {
    "duration": 78,
    "start_time": "2023-05-25T13:20:02.674Z"
   },
   {
    "duration": 195,
    "start_time": "2023-05-25T13:20:02.754Z"
   },
   {
    "duration": 37,
    "start_time": "2023-05-25T13:20:02.951Z"
   },
   {
    "duration": 99,
    "start_time": "2023-05-25T13:20:02.990Z"
   },
   {
    "duration": 26,
    "start_time": "2023-05-25T13:20:03.091Z"
   },
   {
    "duration": 28,
    "start_time": "2023-05-25T13:20:03.119Z"
   },
   {
    "duration": 121,
    "start_time": "2023-05-25T13:20:03.149Z"
   },
   {
    "duration": 8,
    "start_time": "2023-05-25T13:20:03.272Z"
   },
   {
    "duration": 32,
    "start_time": "2023-05-25T13:20:03.282Z"
   },
   {
    "duration": 21,
    "start_time": "2023-05-25T13:20:03.315Z"
   },
   {
    "duration": 333,
    "start_time": "2023-05-25T13:20:03.338Z"
   },
   {
    "duration": 93,
    "start_time": "2023-05-25T13:20:03.673Z"
   },
   {
    "duration": 6,
    "start_time": "2023-05-25T13:20:03.768Z"
   },
   {
    "duration": 107,
    "start_time": "2023-05-25T13:20:03.776Z"
   },
   {
    "duration": 1689,
    "start_time": "2023-05-25T13:20:03.885Z"
   },
   {
    "duration": 11,
    "start_time": "2023-05-25T13:20:05.576Z"
   },
   {
    "duration": 59,
    "start_time": "2023-05-25T13:20:05.589Z"
   },
   {
    "duration": 295,
    "start_time": "2023-05-25T13:20:05.651Z"
   },
   {
    "duration": 89553,
    "start_time": "2023-05-25T13:20:05.949Z"
   },
   {
    "duration": 94,
    "start_time": "2023-05-25T13:21:35.504Z"
   },
   {
    "duration": 78,
    "start_time": "2023-05-25T13:21:35.599Z"
   },
   {
    "duration": 16,
    "start_time": "2023-05-25T13:21:35.679Z"
   },
   {
    "duration": 158,
    "start_time": "2023-05-25T13:21:35.697Z"
   },
   {
    "duration": 55,
    "start_time": "2023-05-25T13:21:35.858Z"
   },
   {
    "duration": 78,
    "start_time": "2023-05-25T13:21:35.915Z"
   },
   {
    "duration": 33,
    "start_time": "2023-05-25T13:21:35.995Z"
   },
   {
    "duration": 213,
    "start_time": "2023-05-25T13:21:57.091Z"
   },
   {
    "duration": 39,
    "start_time": "2023-05-25T13:31:30.685Z"
   },
   {
    "duration": 79,
    "start_time": "2023-05-25T13:32:11.878Z"
   },
   {
    "duration": 1790,
    "start_time": "2023-05-25T14:21:09.538Z"
   },
   {
    "duration": 96,
    "start_time": "2023-05-25T14:21:11.330Z"
   },
   {
    "duration": 29,
    "start_time": "2023-05-25T14:21:11.429Z"
   },
   {
    "duration": 57,
    "start_time": "2023-05-25T14:21:11.462Z"
   },
   {
    "duration": 51,
    "start_time": "2023-05-25T14:21:11.521Z"
   },
   {
    "duration": 770,
    "start_time": "2023-05-25T14:21:11.574Z"
   },
   {
    "duration": 50,
    "start_time": "2023-05-25T14:21:12.346Z"
   },
   {
    "duration": 86,
    "start_time": "2023-05-25T14:21:12.399Z"
   },
   {
    "duration": 19,
    "start_time": "2023-05-25T14:21:12.487Z"
   },
   {
    "duration": 222,
    "start_time": "2023-05-25T14:21:12.511Z"
   },
   {
    "duration": 767,
    "start_time": "2023-05-25T14:21:12.752Z"
   },
   {
    "duration": 538,
    "start_time": "2023-05-25T14:21:13.520Z"
   },
   {
    "duration": 22,
    "start_time": "2023-05-25T14:21:14.061Z"
   },
   {
    "duration": 312,
    "start_time": "2023-05-25T14:21:14.085Z"
   },
   {
    "duration": 94,
    "start_time": "2023-05-25T14:21:14.399Z"
   },
   {
    "duration": 17,
    "start_time": "2023-05-25T14:21:14.495Z"
   },
   {
    "duration": 55,
    "start_time": "2023-05-25T14:21:14.514Z"
   },
   {
    "duration": 79,
    "start_time": "2023-05-25T14:21:14.572Z"
   },
   {
    "duration": 134,
    "start_time": "2023-05-25T14:21:14.653Z"
   },
   {
    "duration": 535,
    "start_time": "2023-05-25T14:21:14.790Z"
   },
   {
    "duration": 176,
    "start_time": "2023-05-25T14:21:15.327Z"
   },
   {
    "duration": 20,
    "start_time": "2023-05-25T14:21:15.505Z"
   },
   {
    "duration": 560,
    "start_time": "2023-05-25T14:21:15.526Z"
   },
   {
    "duration": 14,
    "start_time": "2023-05-25T14:21:16.088Z"
   },
   {
    "duration": 170,
    "start_time": "2023-05-25T14:21:16.104Z"
   },
   {
    "duration": 11659,
    "start_time": "2023-05-25T14:21:16.276Z"
   },
   {
    "duration": 41,
    "start_time": "2023-05-25T14:21:27.946Z"
   },
   {
    "duration": 262,
    "start_time": "2023-05-25T14:21:27.992Z"
   },
   {
    "duration": 34,
    "start_time": "2023-05-25T14:21:28.257Z"
   },
   {
    "duration": 96,
    "start_time": "2023-05-25T14:21:28.293Z"
   },
   {
    "duration": 75,
    "start_time": "2023-05-25T14:21:28.391Z"
   },
   {
    "duration": 24,
    "start_time": "2023-05-25T14:21:28.476Z"
   },
   {
    "duration": 170,
    "start_time": "2023-05-25T14:21:28.502Z"
   },
   {
    "duration": 189,
    "start_time": "2023-05-25T14:21:28.674Z"
   },
   {
    "duration": 8,
    "start_time": "2023-05-25T14:21:28.866Z"
   },
   {
    "duration": 13,
    "start_time": "2023-05-25T14:21:28.875Z"
   },
   {
    "duration": 23,
    "start_time": "2023-05-25T14:21:28.890Z"
   },
   {
    "duration": 384,
    "start_time": "2023-05-25T14:21:28.915Z"
   },
   {
    "duration": 110,
    "start_time": "2023-05-25T14:21:29.301Z"
   },
   {
    "duration": 6,
    "start_time": "2023-05-25T14:21:29.412Z"
   },
   {
    "duration": 63,
    "start_time": "2023-05-25T14:21:29.420Z"
   },
   {
    "duration": 1808,
    "start_time": "2023-05-25T14:21:29.486Z"
   },
   {
    "duration": 8,
    "start_time": "2023-05-25T14:21:31.296Z"
   },
   {
    "duration": 73,
    "start_time": "2023-05-25T14:21:31.305Z"
   },
   {
    "duration": 320,
    "start_time": "2023-05-25T14:21:31.380Z"
   },
   {
    "duration": 96082,
    "start_time": "2023-05-25T14:21:31.702Z"
   },
   {
    "duration": 85,
    "start_time": "2023-05-25T14:23:07.785Z"
   },
   {
    "duration": 78,
    "start_time": "2023-05-25T14:23:07.873Z"
   },
   {
    "duration": 21,
    "start_time": "2023-05-25T14:23:07.958Z"
   },
   {
    "duration": 186,
    "start_time": "2023-05-25T14:23:07.982Z"
   },
   {
    "duration": 91,
    "start_time": "2023-05-25T14:23:08.170Z"
   },
   {
    "duration": 103,
    "start_time": "2023-05-25T14:23:08.263Z"
   },
   {
    "duration": 32,
    "start_time": "2023-05-25T14:23:08.373Z"
   },
   {
    "duration": 200,
    "start_time": "2023-05-25T14:28:43.704Z"
   },
   {
    "duration": 19,
    "start_time": "2023-05-25T14:28:49.487Z"
   },
   {
    "duration": 9540,
    "start_time": "2023-05-25T14:29:59.284Z"
   },
   {
    "duration": 127,
    "start_time": "2023-05-25T14:30:08.827Z"
   },
   {
    "duration": 67,
    "start_time": "2023-05-25T14:34:51.161Z"
   },
   {
    "duration": 54,
    "start_time": "2023-05-25T14:34:58.569Z"
   },
   {
    "duration": 80,
    "start_time": "2023-05-29T09:15:13.202Z"
   }
  ],
  "kernelspec": {
   "display_name": "Python 3 (ipykernel)",
   "language": "python",
   "name": "python3"
  },
  "language_info": {
   "codemirror_mode": {
    "name": "ipython",
    "version": 3
   },
   "file_extension": ".py",
   "mimetype": "text/x-python",
   "name": "python",
   "nbconvert_exporter": "python",
   "pygments_lexer": "ipython3",
   "version": "3.10.9"
  },
  "toc": {
   "base_numbering": 1,
   "nav_menu": {},
   "number_sections": true,
   "sideBar": true,
   "skip_h1_title": true,
   "title_cell": "Table of Contents",
   "title_sidebar": "Contents",
   "toc_cell": false,
   "toc_position": {
    "height": "calc(100% - 180px)",
    "left": "10px",
    "top": "150px",
    "width": "315.625px"
   },
   "toc_section_display": true,
   "toc_window_display": true
  }
 },
 "nbformat": 4,
 "nbformat_minor": 2
}
